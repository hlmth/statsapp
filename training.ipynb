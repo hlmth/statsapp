{
 "cells": [
  {
   "cell_type": "code",
   "execution_count": 1,
   "metadata": {},
   "outputs": [
    {
     "name": "stderr",
     "output_type": "stream",
     "text": [
      "c:\\Users\\arman\\AppData\\Local\\Programs\\Python\\Python310\\lib\\site-packages\\tqdm\\auto.py:22: TqdmWarning: IProgress not found. Please update jupyter and ipywidgets. See https://ipywidgets.readthedocs.io/en/stable/user_install.html\n",
      "  from .autonotebook import tqdm as notebook_tqdm\n"
     ]
    }
   ],
   "source": [
    "import torch\n",
    "import torch.nn as nn\n",
    "import torch.optim as optim\n",
    "from torch.utils.data import DataLoader, Dataset\n",
    "from transformers import VisualBertForPreTraining, BertTokenizer, VisualBertModel\n",
    "import pickle\n",
    "import pandas as pd\n"
   ]
  },
  {
   "cell_type": "code",
   "execution_count": 2,
   "metadata": {},
   "outputs": [],
   "source": [
    "# Define the training dataset\n",
    "class MyDataset(Dataset):\n",
    "    def __init__(self, data):\n",
    "        self.data = data\n",
    "        self.indices = list(range(len(data)))  # set indices attribute\n",
    "        print(self.data.keys())  \n",
    "        print(f\"Number of indices: {len(self.indices)}\")\n",
    "\n",
    "\n",
    "    def __getitem__(self, index):\n",
    "        index = self.indices[index]  # get the actual index from self.indices\n",
    "        text = self.data['text'][index]\n",
    "        label = self.data['label'][index]\n",
    "        embedded = self.data['embedded'][index]\n",
    "        \n",
    "        return text, label, embedded\n",
    "\n",
    "    def __len__(self):\n",
    "        return len(self.data)\n",
    "\n"
   ]
  },
  {
   "cell_type": "code",
   "execution_count": 3,
   "metadata": {},
   "outputs": [
    {
     "name": "stderr",
     "output_type": "stream",
     "text": [
      "Some weights of the model checkpoint at uclanlp/visualbert-vqa-coco-pre were not used when initializing VisualBertModel: ['cls.seq_relationship.weight', 'cls.predictions.transform.dense.bias', 'cls.predictions.decoder.weight', 'cls.seq_relationship.bias', 'cls.predictions.transform.LayerNorm.bias', 'cls.predictions.decoder.bias', 'cls.predictions.transform.LayerNorm.weight', 'cls.predictions.bias', 'cls.predictions.transform.dense.weight']\n",
      "- This IS expected if you are initializing VisualBertModel from the checkpoint of a model trained on another task or with another architecture (e.g. initializing a BertForSequenceClassification model from a BertForPreTraining model).\n",
      "- This IS NOT expected if you are initializing VisualBertModel from the checkpoint of a model that you expect to be exactly identical (initializing a BertForSequenceClassification model from a BertForSequenceClassification model).\n"
     ]
    }
   ],
   "source": [
    "# Define the pre-trained Visual-Bert model\n",
    "model = VisualBertModel.from_pretrained('uclanlp/visualbert-vqa-coco-pre', num_labels=2)\n",
    "tokenizer = BertTokenizer.from_pretrained('bert-base-uncased')"
   ]
  },
  {
   "cell_type": "code",
   "execution_count": 4,
   "metadata": {},
   "outputs": [],
   "source": [
    "device = torch.device('cuda' if torch.cuda.is_available() else 'cpu')\n"
   ]
  },
  {
   "cell_type": "code",
   "execution_count": 5,
   "metadata": {},
   "outputs": [],
   "source": [
    "\n",
    "# Define the pre-trained Visual-Bert model\n",
    "model = VisualBertForPreTraining.from_pretrained('uclanlp/visualbert-vqa-coco-pre', num_labels=2)\n",
    "#tokenizer = VisualBertTokenizer.from_pretrained('uclanlp/visualbert-vqa-coco-pre')\n",
    "tokenizer = BertTokenizer.from_pretrained('bert-base-uncased')\n",
    "\n",
    "#possiblement a changer le VQA "
   ]
  },
  {
   "cell_type": "code",
   "execution_count": 6,
   "metadata": {},
   "outputs": [],
   "source": [
    "# Define the training loop\n",
    "\n",
    "def train(model, tokenizer, train_dataset, optimizer, criterion, device, batch_size, epochs):\n",
    "    model.to(device)\n",
    "    train_loader = DataLoader(train_dataset, batch_size=batch_size, shuffle=True, drop_last=False)\n",
    "    for epoch in range(epochs):\n",
    "        running_loss = 0.0\n",
    "        for text,label,embedded in train_loader:\n",
    "            optimizer.zero_grad()\n",
    "            text_encoded = tokenizer(text, return_tensors='pt', padding=True, truncation=True)\n",
    "            #image = embedded.to(device)\n",
    "    \n",
    "            text_encoded = {k: v.to(device) for k, v in text_encoded.items()}\n",
    "            label = label.to(device)\n",
    "            outputs = model(inputs_ids=text_encoded['input_ids'], visual_embeds=torch.from_numpy(embedded), labels=label)\n",
    "            loss = criterion(outputs.logits, label)\n",
    "            loss.backward()\n",
    "            optimizer.step()\n",
    "            running_loss += loss.item()\n",
    "            \n",
    "        print('Epoch [%d] - loss: %.4f' % (epoch+1, running_loss/len(train_loader)))\n",
    "\n",
    "\n"
   ]
  },
  {
   "cell_type": "code",
   "execution_count": 8,
   "metadata": {},
   "outputs": [],
   "source": [
    "\n",
    "# Define the optimizer and loss function\n",
    "optimizer = optim.AdamW(model.parameters(), lr=2e-5)\n",
    "criterion = nn.CrossEntropyLoss()\n"
   ]
  },
  {
   "cell_type": "code",
   "execution_count": 9,
   "metadata": {},
   "outputs": [],
   "source": [
    "df=pd.read_json(\"data/train.jsonl\",lines=True)\n",
    "\n",
    "l = []\n",
    "\n",
    "with open(r\"C:\\Users\\arman\\OneDrive\\Bureau\\data\\file.pkl\",\"rb\") as f:\n",
    "    l = pickle.load(f)\n",
    "f.close()\n",
    "df.loc[:, 'embedded'] = l"
   ]
  },
  {
   "cell_type": "code",
   "execution_count": 10,
   "metadata": {},
   "outputs": [],
   "source": [
    "essai=df.head(20)"
   ]
  },
  {
   "cell_type": "code",
   "execution_count": 11,
   "metadata": {},
   "outputs": [
    {
     "name": "stdout",
     "output_type": "stream",
     "text": [
      "Index(['id', 'img', 'label', 'text', 'embedded'], dtype='object')\n",
      "Number of indices: 20\n",
      "20\n"
     ]
    }
   ],
   "source": [
    "train_dataset = MyDataset(essai)\n",
    "print(len(train_dataset))  # should print the length of your train data\n"
   ]
  },
  {
   "cell_type": "code",
   "execution_count": 12,
   "metadata": {},
   "outputs": [
    {
     "ename": "TypeError",
     "evalue": "expected np.ndarray (got Tensor)",
     "output_type": "error",
     "traceback": [
      "\u001b[1;31m---------------------------------------------------------------------------\u001b[0m",
      "\u001b[1;31mTypeError\u001b[0m                                 Traceback (most recent call last)",
      "Cell \u001b[1;32mIn[12], line 1\u001b[0m\n\u001b[1;32m----> 1\u001b[0m train(model, tokenizer, train_dataset, optimizer, criterion, device, batch_size\u001b[39m=\u001b[39;49m\u001b[39m1\u001b[39;49m, epochs\u001b[39m=\u001b[39;49m\u001b[39m10\u001b[39;49m)\n",
      "Cell \u001b[1;32mIn[6], line 15\u001b[0m, in \u001b[0;36mtrain\u001b[1;34m(model, tokenizer, train_dataset, optimizer, criterion, device, batch_size, epochs)\u001b[0m\n\u001b[0;32m     13\u001b[0m text_encoded \u001b[39m=\u001b[39m {k: v\u001b[39m.\u001b[39mto(device) \u001b[39mfor\u001b[39;00m k, v \u001b[39min\u001b[39;00m text_encoded\u001b[39m.\u001b[39mitems()}\n\u001b[0;32m     14\u001b[0m label \u001b[39m=\u001b[39m label\u001b[39m.\u001b[39mto(device)\n\u001b[1;32m---> 15\u001b[0m outputs \u001b[39m=\u001b[39m model(inputs_ids\u001b[39m=\u001b[39mtext_encoded[\u001b[39m'\u001b[39m\u001b[39minput_ids\u001b[39m\u001b[39m'\u001b[39m], visual_embeds\u001b[39m=\u001b[39mtorch\u001b[39m.\u001b[39;49mfrom_numpy(embedded), labels\u001b[39m=\u001b[39mlabel)\n\u001b[0;32m     16\u001b[0m loss \u001b[39m=\u001b[39m criterion(outputs\u001b[39m.\u001b[39mlogits, label)\n\u001b[0;32m     17\u001b[0m loss\u001b[39m.\u001b[39mbackward()\n",
      "\u001b[1;31mTypeError\u001b[0m: expected np.ndarray (got Tensor)"
     ]
    }
   ],
   "source": [
    "train(model, tokenizer, train_dataset, optimizer, criterion, device, batch_size=1, epochs=10)"
   ]
  }
 ],
 "metadata": {
  "kernelspec": {
   "display_name": "Python 3",
   "language": "python",
   "name": "python3"
  },
  "language_info": {
   "codemirror_mode": {
    "name": "ipython",
    "version": 3
   },
   "file_extension": ".py",
   "mimetype": "text/x-python",
   "name": "python",
   "nbconvert_exporter": "python",
   "pygments_lexer": "ipython3",
   "version": "3.10.0"
  },
  "orig_nbformat": 4,
  "vscode": {
   "interpreter": {
    "hash": "ee4c60ed9f2d143d855c3de7cdf8e81ef9399a07140d5084c19be7d5d534dff2"
   }
  }
 },
 "nbformat": 4,
 "nbformat_minor": 2
}
