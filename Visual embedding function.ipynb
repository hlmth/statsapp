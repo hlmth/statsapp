{
  "cells": [
    {
      "cell_type": "code",
      "source": [
        "from google.colab import drive\n",
        "drive.mount('/content/drive')"
      ],
      "metadata": {
        "id": "hYowsLxSYDht",
        "outputId": "2c0e2cde-4ab5-4a2f-9345-9bc32c58f1c9",
        "colab": {
          "base_uri": "https://localhost:8080/"
        }
      },
      "id": "hYowsLxSYDht",
      "execution_count": 1,
      "outputs": [
        {
          "output_type": "stream",
          "name": "stdout",
          "text": [
            "Drive already mounted at /content/drive; to attempt to forcibly remount, call drive.mount(\"/content/drive\", force_remount=True).\n"
          ]
        }
      ]
    },
    {
      "cell_type": "code",
      "execution_count": 2,
      "id": "250aebbe",
      "metadata": {
        "id": "250aebbe"
      },
      "outputs": [],
      "source": [
        "import json"
      ]
    },
    {
      "cell_type": "code",
      "execution_count": 3,
      "id": "0668339f",
      "metadata": {
        "id": "0668339f"
      },
      "outputs": [],
      "source": [
        "import pprint"
      ]
    },
    {
      "cell_type": "code",
      "source": [
        "\n",
        "pip install 'git+https://github.com/facebookresearch/detectron2.git@v0.5'"
      ],
      "metadata": {
        "id": "UZ3-iYNUYvKw",
        "outputId": "42dabaee-4ea0-4bcc-8c31-1492c2dbcd7d",
        "colab": {
          "base_uri": "https://localhost:8080/"
        }
      },
      "id": "UZ3-iYNUYvKw",
      "execution_count": 4,
      "outputs": [
        {
          "output_type": "stream",
          "name": "stdout",
          "text": [
            "Looking in indexes: https://pypi.org/simple, https://us-python.pkg.dev/colab-wheels/public/simple/\n",
            "Collecting git+https://github.com/facebookresearch/detectron2.git@v0.5\n",
            "  Cloning https://github.com/facebookresearch/detectron2.git (to revision v0.5) to /tmp/pip-req-build-qq5frdml\n",
            "  Running command git clone --filter=blob:none --quiet https://github.com/facebookresearch/detectron2.git /tmp/pip-req-build-qq5frdml\n",
            "  Running command git checkout -q 82a57ce0b70057685962b352535147d9a8118578\n",
            "  Resolved https://github.com/facebookresearch/detectron2.git to commit 82a57ce0b70057685962b352535147d9a8118578\n",
            "  Preparing metadata (setup.py) ... \u001b[?25l\u001b[?25hdone\n",
            "Requirement already satisfied: Pillow>=7.1 in /usr/local/lib/python3.8/dist-packages (from detectron2==0.5) (7.1.2)\n",
            "Requirement already satisfied: matplotlib in /usr/local/lib/python3.8/dist-packages (from detectron2==0.5) (3.5.3)\n",
            "Requirement already satisfied: pycocotools>=2.0.2 in /usr/local/lib/python3.8/dist-packages (from detectron2==0.5) (2.0.6)\n",
            "Requirement already satisfied: termcolor>=1.1 in /usr/local/lib/python3.8/dist-packages (from detectron2==0.5) (2.2.0)\n",
            "Requirement already satisfied: yacs>=0.1.6 in /usr/local/lib/python3.8/dist-packages (from detectron2==0.5) (0.1.8)\n",
            "Requirement already satisfied: tabulate in /usr/local/lib/python3.8/dist-packages (from detectron2==0.5) (0.8.10)\n",
            "Requirement already satisfied: cloudpickle in /usr/local/lib/python3.8/dist-packages (from detectron2==0.5) (2.2.1)\n",
            "Requirement already satisfied: tqdm>4.29.0 in /usr/local/lib/python3.8/dist-packages (from detectron2==0.5) (4.64.1)\n",
            "Requirement already satisfied: tensorboard in /usr/local/lib/python3.8/dist-packages (from detectron2==0.5) (2.11.2)\n",
            "Requirement already satisfied: fvcore<0.1.6,>=0.1.5 in /usr/local/lib/python3.8/dist-packages (from detectron2==0.5) (0.1.5.post20221221)\n",
            "Requirement already satisfied: iopath<0.1.10,>=0.1.7 in /usr/local/lib/python3.8/dist-packages (from detectron2==0.5) (0.1.9)\n",
            "Requirement already satisfied: future in /usr/local/lib/python3.8/dist-packages (from detectron2==0.5) (0.16.0)\n",
            "Requirement already satisfied: pydot in /usr/local/lib/python3.8/dist-packages (from detectron2==0.5) (1.3.0)\n",
            "Requirement already satisfied: omegaconf>=2.1 in /usr/local/lib/python3.8/dist-packages (from detectron2==0.5) (2.3.0)\n",
            "Requirement already satisfied: hydra-core>=1.1 in /usr/local/lib/python3.8/dist-packages (from detectron2==0.5) (1.3.2)\n",
            "Requirement already satisfied: black==21.4b2 in /usr/local/lib/python3.8/dist-packages (from detectron2==0.5) (21.4b2)\n",
            "Requirement already satisfied: pathspec<1,>=0.8.1 in /usr/local/lib/python3.8/dist-packages (from black==21.4b2->detectron2==0.5) (0.11.0)\n",
            "Requirement already satisfied: click>=7.1.2 in /usr/local/lib/python3.8/dist-packages (from black==21.4b2->detectron2==0.5) (7.1.2)\n",
            "Requirement already satisfied: toml>=0.10.1 in /usr/local/lib/python3.8/dist-packages (from black==21.4b2->detectron2==0.5) (0.10.2)\n",
            "Requirement already satisfied: regex>=2020.1.8 in /usr/local/lib/python3.8/dist-packages (from black==21.4b2->detectron2==0.5) (2022.6.2)\n",
            "Requirement already satisfied: mypy-extensions>=0.4.3 in /usr/local/lib/python3.8/dist-packages (from black==21.4b2->detectron2==0.5) (1.0.0)\n",
            "Requirement already satisfied: appdirs in /usr/local/lib/python3.8/dist-packages (from black==21.4b2->detectron2==0.5) (1.4.4)\n",
            "Requirement already satisfied: numpy in /usr/local/lib/python3.8/dist-packages (from fvcore<0.1.6,>=0.1.5->detectron2==0.5) (1.22.4)\n",
            "Requirement already satisfied: pyyaml>=5.1 in /usr/local/lib/python3.8/dist-packages (from fvcore<0.1.6,>=0.1.5->detectron2==0.5) (6.0)\n",
            "Requirement already satisfied: importlib-resources in /usr/local/lib/python3.8/dist-packages (from hydra-core>=1.1->detectron2==0.5) (5.12.0)\n",
            "Requirement already satisfied: antlr4-python3-runtime==4.9.* in /usr/local/lib/python3.8/dist-packages (from hydra-core>=1.1->detectron2==0.5) (4.9.3)\n",
            "Requirement already satisfied: packaging in /usr/local/lib/python3.8/dist-packages (from hydra-core>=1.1->detectron2==0.5) (23.0)\n",
            "Requirement already satisfied: portalocker in /usr/local/lib/python3.8/dist-packages (from iopath<0.1.10,>=0.1.7->detectron2==0.5) (2.7.0)\n",
            "Requirement already satisfied: cycler>=0.10 in /usr/local/lib/python3.8/dist-packages (from matplotlib->detectron2==0.5) (0.11.0)\n",
            "Requirement already satisfied: python-dateutil>=2.7 in /usr/local/lib/python3.8/dist-packages (from matplotlib->detectron2==0.5) (2.8.2)\n",
            "Requirement already satisfied: kiwisolver>=1.0.1 in /usr/local/lib/python3.8/dist-packages (from matplotlib->detectron2==0.5) (1.4.4)\n",
            "Requirement already satisfied: pyparsing>=2.2.1 in /usr/local/lib/python3.8/dist-packages (from matplotlib->detectron2==0.5) (3.0.9)\n",
            "Requirement already satisfied: fonttools>=4.22.0 in /usr/local/lib/python3.8/dist-packages (from matplotlib->detectron2==0.5) (4.38.0)\n",
            "Requirement already satisfied: markdown>=2.6.8 in /usr/local/lib/python3.8/dist-packages (from tensorboard->detectron2==0.5) (3.4.1)\n",
            "Requirement already satisfied: setuptools>=41.0.0 in /usr/local/lib/python3.8/dist-packages (from tensorboard->detectron2==0.5) (57.4.0)\n",
            "Requirement already satisfied: tensorboard-data-server<0.7.0,>=0.6.0 in /usr/local/lib/python3.8/dist-packages (from tensorboard->detectron2==0.5) (0.6.1)\n",
            "Requirement already satisfied: google-auth<3,>=1.6.3 in /usr/local/lib/python3.8/dist-packages (from tensorboard->detectron2==0.5) (2.16.1)\n",
            "Requirement already satisfied: grpcio>=1.24.3 in /usr/local/lib/python3.8/dist-packages (from tensorboard->detectron2==0.5) (1.51.1)\n",
            "Requirement already satisfied: tensorboard-plugin-wit>=1.6.0 in /usr/local/lib/python3.8/dist-packages (from tensorboard->detectron2==0.5) (1.8.1)\n",
            "Requirement already satisfied: werkzeug>=1.0.1 in /usr/local/lib/python3.8/dist-packages (from tensorboard->detectron2==0.5) (1.0.1)\n",
            "Requirement already satisfied: protobuf<4,>=3.9.2 in /usr/local/lib/python3.8/dist-packages (from tensorboard->detectron2==0.5) (3.19.6)\n",
            "Requirement already satisfied: requests<3,>=2.21.0 in /usr/local/lib/python3.8/dist-packages (from tensorboard->detectron2==0.5) (2.25.1)\n",
            "Requirement already satisfied: wheel>=0.26 in /usr/local/lib/python3.8/dist-packages (from tensorboard->detectron2==0.5) (0.38.4)\n",
            "Requirement already satisfied: absl-py>=0.4 in /usr/local/lib/python3.8/dist-packages (from tensorboard->detectron2==0.5) (1.4.0)\n",
            "Requirement already satisfied: google-auth-oauthlib<0.5,>=0.4.1 in /usr/local/lib/python3.8/dist-packages (from tensorboard->detectron2==0.5) (0.4.6)\n",
            "Requirement already satisfied: six>=1.9.0 in /usr/local/lib/python3.8/dist-packages (from google-auth<3,>=1.6.3->tensorboard->detectron2==0.5) (1.15.0)\n",
            "Requirement already satisfied: cachetools<6.0,>=2.0.0 in /usr/local/lib/python3.8/dist-packages (from google-auth<3,>=1.6.3->tensorboard->detectron2==0.5) (5.3.0)\n",
            "Requirement already satisfied: rsa<5,>=3.1.4 in /usr/local/lib/python3.8/dist-packages (from google-auth<3,>=1.6.3->tensorboard->detectron2==0.5) (4.9)\n",
            "Requirement already satisfied: pyasn1-modules>=0.2.1 in /usr/local/lib/python3.8/dist-packages (from google-auth<3,>=1.6.3->tensorboard->detectron2==0.5) (0.2.8)\n",
            "Requirement already satisfied: requests-oauthlib>=0.7.0 in /usr/local/lib/python3.8/dist-packages (from google-auth-oauthlib<0.5,>=0.4.1->tensorboard->detectron2==0.5) (1.3.1)\n",
            "Requirement already satisfied: importlib-metadata>=4.4 in /usr/local/lib/python3.8/dist-packages (from markdown>=2.6.8->tensorboard->detectron2==0.5) (6.0.0)\n",
            "Requirement already satisfied: urllib3<1.27,>=1.21.1 in /usr/local/lib/python3.8/dist-packages (from requests<3,>=2.21.0->tensorboard->detectron2==0.5) (1.24.3)\n",
            "Requirement already satisfied: chardet<5,>=3.0.2 in /usr/local/lib/python3.8/dist-packages (from requests<3,>=2.21.0->tensorboard->detectron2==0.5) (4.0.0)\n",
            "Requirement already satisfied: certifi>=2017.4.17 in /usr/local/lib/python3.8/dist-packages (from requests<3,>=2.21.0->tensorboard->detectron2==0.5) (2022.12.7)\n",
            "Requirement already satisfied: idna<3,>=2.5 in /usr/local/lib/python3.8/dist-packages (from requests<3,>=2.21.0->tensorboard->detectron2==0.5) (2.10)\n",
            "Requirement already satisfied: zipp>=3.1.0 in /usr/local/lib/python3.8/dist-packages (from importlib-resources->hydra-core>=1.1->detectron2==0.5) (3.14.0)\n",
            "Requirement already satisfied: pyasn1<0.5.0,>=0.4.6 in /usr/local/lib/python3.8/dist-packages (from pyasn1-modules>=0.2.1->google-auth<3,>=1.6.3->tensorboard->detectron2==0.5) (0.4.8)\n",
            "Requirement already satisfied: oauthlib>=3.0.0 in /usr/local/lib/python3.8/dist-packages (from requests-oauthlib>=0.7.0->google-auth-oauthlib<0.5,>=0.4.1->tensorboard->detectron2==0.5) (3.2.2)\n"
          ]
        }
      ]
    },
    {
      "cell_type": "code",
      "execution_count": 5,
      "id": "96985431",
      "metadata": {
        "id": "96985431"
      },
      "outputs": [],
      "source": [
        "import pandas as pd\n",
        "import json"
      ]
    },
    {
      "cell_type": "code",
      "execution_count": 6,
      "id": "0e0e0883",
      "metadata": {
        "id": "0e0e0883",
        "outputId": "c1ae9e1a-0880-4818-a7e3-19a5b2d238ed",
        "colab": {
          "base_uri": "https://localhost:8080/",
          "height": 35
        }
      },
      "outputs": [
        {
          "output_type": "execute_result",
          "data": {
            "text/plain": [
              "'1.13.1+cu116'"
            ],
            "application/vnd.google.colaboratory.intrinsic+json": {
              "type": "string"
            }
          },
          "metadata": {},
          "execution_count": 6
        }
      ],
      "source": [
        "import torch\n",
        "torch.__version__"
      ]
    },
    {
      "cell_type": "code",
      "execution_count": 7,
      "id": "beefab89",
      "metadata": {
        "id": "beefab89"
      },
      "outputs": [],
      "source": [
        "#!pip install pyyaml==5.1\n",
        "#!python -m pip install 'git+https://github.com/facebookresearch/detectron2.git'\n"
      ]
    },
    {
      "cell_type": "code",
      "execution_count": 8,
      "id": "b40a770b",
      "metadata": {
        "id": "b40a770b"
      },
      "outputs": [],
      "source": [
        "import torch, torchvision\n",
        "import matplotlib.pyplot as plt\n",
        "import json\n",
        "import cv2\n",
        "import numpy as np\n",
        "from copy import deepcopy"
      ]
    },
    {
      "cell_type": "code",
      "execution_count": 9,
      "id": "07941c59",
      "metadata": {
        "id": "07941c59"
      },
      "outputs": [],
      "source": [
        "from detectron2.modeling import build_model\n",
        "from detectron2.checkpoint import DetectionCheckpointer\n",
        "from detectron2.structures.image_list import ImageList\n",
        "from detectron2.data import transforms as T\n",
        "from detectron2.modeling.box_regression import Box2BoxTransform\n",
        "from detectron2.modeling.roi_heads.fast_rcnn import FastRCNNOutputs\n",
        "from detectron2.structures.boxes import Boxes\n",
        "from detectron2.layers import nms\n",
        "from detectron2 import model_zoo\n",
        "from detectron2.config import get_cfg"
      ]
    },
    {
      "cell_type": "code",
      "execution_count": 10,
      "id": "b36827cb",
      "metadata": {
        "id": "b36827cb"
      },
      "outputs": [],
      "source": [
        "# Load images"
      ]
    },
    {
      "cell_type": "code",
      "execution_count": 11,
      "id": "55393367",
      "metadata": {
        "id": "55393367"
      },
      "outputs": [],
      "source": [
        "df = pd.read_json(\"/content/drive/MyDrive/data/train.jsonl\", lines=True)"
      ]
    },
    {
      "cell_type": "code",
      "execution_count": 12,
      "id": "b92ed2da",
      "metadata": {
        "id": "b92ed2da",
        "outputId": "9e177926-7837-4743-806b-9344913d7850",
        "colab": {
          "base_uri": "https://localhost:8080/",
          "height": 206
        }
      },
      "outputs": [
        {
          "output_type": "execute_result",
          "data": {
            "text/plain": [
              "      id            img  label  \\\n",
              "0  42953  img/42953.png      0   \n",
              "1  23058  img/23058.png      0   \n",
              "2  13894  img/13894.png      0   \n",
              "3  37408  img/37408.png      0   \n",
              "4  82403  img/82403.png      0   \n",
              "\n",
              "                                                text  \n",
              "0   its their character not their color that matters  \n",
              "1  don't be afraid to love again everyone is not ...  \n",
              "2                           putting bows on your pet  \n",
              "3  i love everything and everybody! except for sq...  \n",
              "4  everybody loves chocolate chip cookies, even h...  "
            ],
            "text/html": [
              "\n",
              "  <div id=\"df-df989586-92ea-4143-9b30-a0d3ae81c2d2\">\n",
              "    <div class=\"colab-df-container\">\n",
              "      <div>\n",
              "<style scoped>\n",
              "    .dataframe tbody tr th:only-of-type {\n",
              "        vertical-align: middle;\n",
              "    }\n",
              "\n",
              "    .dataframe tbody tr th {\n",
              "        vertical-align: top;\n",
              "    }\n",
              "\n",
              "    .dataframe thead th {\n",
              "        text-align: right;\n",
              "    }\n",
              "</style>\n",
              "<table border=\"1\" class=\"dataframe\">\n",
              "  <thead>\n",
              "    <tr style=\"text-align: right;\">\n",
              "      <th></th>\n",
              "      <th>id</th>\n",
              "      <th>img</th>\n",
              "      <th>label</th>\n",
              "      <th>text</th>\n",
              "    </tr>\n",
              "  </thead>\n",
              "  <tbody>\n",
              "    <tr>\n",
              "      <th>0</th>\n",
              "      <td>42953</td>\n",
              "      <td>img/42953.png</td>\n",
              "      <td>0</td>\n",
              "      <td>its their character not their color that matters</td>\n",
              "    </tr>\n",
              "    <tr>\n",
              "      <th>1</th>\n",
              "      <td>23058</td>\n",
              "      <td>img/23058.png</td>\n",
              "      <td>0</td>\n",
              "      <td>don't be afraid to love again everyone is not ...</td>\n",
              "    </tr>\n",
              "    <tr>\n",
              "      <th>2</th>\n",
              "      <td>13894</td>\n",
              "      <td>img/13894.png</td>\n",
              "      <td>0</td>\n",
              "      <td>putting bows on your pet</td>\n",
              "    </tr>\n",
              "    <tr>\n",
              "      <th>3</th>\n",
              "      <td>37408</td>\n",
              "      <td>img/37408.png</td>\n",
              "      <td>0</td>\n",
              "      <td>i love everything and everybody! except for sq...</td>\n",
              "    </tr>\n",
              "    <tr>\n",
              "      <th>4</th>\n",
              "      <td>82403</td>\n",
              "      <td>img/82403.png</td>\n",
              "      <td>0</td>\n",
              "      <td>everybody loves chocolate chip cookies, even h...</td>\n",
              "    </tr>\n",
              "  </tbody>\n",
              "</table>\n",
              "</div>\n",
              "      <button class=\"colab-df-convert\" onclick=\"convertToInteractive('df-df989586-92ea-4143-9b30-a0d3ae81c2d2')\"\n",
              "              title=\"Convert this dataframe to an interactive table.\"\n",
              "              style=\"display:none;\">\n",
              "        \n",
              "  <svg xmlns=\"http://www.w3.org/2000/svg\" height=\"24px\"viewBox=\"0 0 24 24\"\n",
              "       width=\"24px\">\n",
              "    <path d=\"M0 0h24v24H0V0z\" fill=\"none\"/>\n",
              "    <path d=\"M18.56 5.44l.94 2.06.94-2.06 2.06-.94-2.06-.94-.94-2.06-.94 2.06-2.06.94zm-11 1L8.5 8.5l.94-2.06 2.06-.94-2.06-.94L8.5 2.5l-.94 2.06-2.06.94zm10 10l.94 2.06.94-2.06 2.06-.94-2.06-.94-.94-2.06-.94 2.06-2.06.94z\"/><path d=\"M17.41 7.96l-1.37-1.37c-.4-.4-.92-.59-1.43-.59-.52 0-1.04.2-1.43.59L10.3 9.45l-7.72 7.72c-.78.78-.78 2.05 0 2.83L4 21.41c.39.39.9.59 1.41.59.51 0 1.02-.2 1.41-.59l7.78-7.78 2.81-2.81c.8-.78.8-2.07 0-2.86zM5.41 20L4 18.59l7.72-7.72 1.47 1.35L5.41 20z\"/>\n",
              "  </svg>\n",
              "      </button>\n",
              "      \n",
              "  <style>\n",
              "    .colab-df-container {\n",
              "      display:flex;\n",
              "      flex-wrap:wrap;\n",
              "      gap: 12px;\n",
              "    }\n",
              "\n",
              "    .colab-df-convert {\n",
              "      background-color: #E8F0FE;\n",
              "      border: none;\n",
              "      border-radius: 50%;\n",
              "      cursor: pointer;\n",
              "      display: none;\n",
              "      fill: #1967D2;\n",
              "      height: 32px;\n",
              "      padding: 0 0 0 0;\n",
              "      width: 32px;\n",
              "    }\n",
              "\n",
              "    .colab-df-convert:hover {\n",
              "      background-color: #E2EBFA;\n",
              "      box-shadow: 0px 1px 2px rgba(60, 64, 67, 0.3), 0px 1px 3px 1px rgba(60, 64, 67, 0.15);\n",
              "      fill: #174EA6;\n",
              "    }\n",
              "\n",
              "    [theme=dark] .colab-df-convert {\n",
              "      background-color: #3B4455;\n",
              "      fill: #D2E3FC;\n",
              "    }\n",
              "\n",
              "    [theme=dark] .colab-df-convert:hover {\n",
              "      background-color: #434B5C;\n",
              "      box-shadow: 0px 1px 3px 1px rgba(0, 0, 0, 0.15);\n",
              "      filter: drop-shadow(0px 1px 2px rgba(0, 0, 0, 0.3));\n",
              "      fill: #FFFFFF;\n",
              "    }\n",
              "  </style>\n",
              "\n",
              "      <script>\n",
              "        const buttonEl =\n",
              "          document.querySelector('#df-df989586-92ea-4143-9b30-a0d3ae81c2d2 button.colab-df-convert');\n",
              "        buttonEl.style.display =\n",
              "          google.colab.kernel.accessAllowed ? 'block' : 'none';\n",
              "\n",
              "        async function convertToInteractive(key) {\n",
              "          const element = document.querySelector('#df-df989586-92ea-4143-9b30-a0d3ae81c2d2');\n",
              "          const dataTable =\n",
              "            await google.colab.kernel.invokeFunction('convertToInteractive',\n",
              "                                                     [key], {});\n",
              "          if (!dataTable) return;\n",
              "\n",
              "          const docLinkHtml = 'Like what you see? Visit the ' +\n",
              "            '<a target=\"_blank\" href=https://colab.research.google.com/notebooks/data_table.ipynb>data table notebook</a>'\n",
              "            + ' to learn more about interactive tables.';\n",
              "          element.innerHTML = '';\n",
              "          dataTable['output_type'] = 'display_data';\n",
              "          await google.colab.output.renderOutput(dataTable, element);\n",
              "          const docLink = document.createElement('div');\n",
              "          docLink.innerHTML = docLinkHtml;\n",
              "          element.appendChild(docLink);\n",
              "        }\n",
              "      </script>\n",
              "    </div>\n",
              "  </div>\n",
              "  "
            ]
          },
          "metadata": {},
          "execution_count": 12
        }
      ],
      "source": [
        "df.head()"
      ]
    },
    {
      "cell_type": "code",
      "execution_count": 13,
      "id": "d0b5f5ac",
      "metadata": {
        "id": "d0b5f5ac",
        "outputId": "3824c5af-d953-48fd-ea8f-9449bd74c16e",
        "colab": {
          "base_uri": "https://localhost:8080/"
        }
      },
      "outputs": [
        {
          "output_type": "execute_result",
          "data": {
            "text/plain": [
              "0       img/42953.png\n",
              "1       img/23058.png\n",
              "2       img/13894.png\n",
              "3       img/37408.png\n",
              "4       img/82403.png\n",
              "            ...      \n",
              "8495    img/10423.png\n",
              "8496    img/98203.png\n",
              "8497    img/36947.png\n",
              "8498    img/16492.png\n",
              "8499    img/15937.png\n",
              "Name: img, Length: 8500, dtype: object"
            ]
          },
          "metadata": {},
          "execution_count": 13
        }
      ],
      "source": [
        "vect_img=df.img\n",
        "vect_img"
      ]
    },
    {
      "cell_type": "code",
      "execution_count": 14,
      "id": "6e9f485d",
      "metadata": {
        "id": "6e9f485d",
        "outputId": "ec25b470-9957-4884-9ad9-12d5958e26ec",
        "colab": {
          "base_uri": "https://localhost:8080/",
          "height": 35
        }
      },
      "outputs": [
        {
          "output_type": "execute_result",
          "data": {
            "text/plain": [
              "'img/23058.png'"
            ],
            "application/vnd.google.colaboratory.intrinsic+json": {
              "type": "string"
            }
          },
          "metadata": {},
          "execution_count": 14
        }
      ],
      "source": [
        "df.img[1]"
      ]
    },
    {
      "cell_type": "code",
      "execution_count": 15,
      "id": "7d67e387",
      "metadata": {
        "id": "7d67e387",
        "outputId": "c2b44f1f-81ba-4c0a-e893-be4e4a5b9cbd",
        "colab": {
          "base_uri": "https://localhost:8080/",
          "height": 269
        }
      },
      "outputs": [
        {
          "output_type": "display_data",
          "data": {
            "text/plain": [
              "<Figure size 432x288 with 1 Axes>"
            ],
            "image/png": "[encoded data removed]"
          },
          "metadata": {
            "needs_background": "light"
          }
        }
      ],
      "source": [
        "img1 = plt.imread(f'/content/drive/MyDrive/data/img/42953.png')\n",
        "\n",
        "# Detectron expects BGR images\n",
        "\n",
        "img_bgr1 = cv2.cvtColor(img1, cv2.COLOR_RGB2BGR)\n",
        "plt.imshow(img1)\n",
        "\n",
        "plt.show()\n"
      ]
    },
    {
      "cell_type": "code",
      "execution_count": 16,
      "id": "16591510",
      "metadata": {
        "id": "16591510",
        "outputId": "166abe8e-c0f7-4e1b-b812-11095fc2e976",
        "colab": {
          "base_uri": "https://localhost:8080/"
        }
      },
      "outputs": [
        {
          "output_type": "execute_result",
          "data": {
            "text/plain": [
              "(400, 265, 3)"
            ]
          },
          "metadata": {},
          "execution_count": 16
        }
      ],
      "source": [
        "img1.shape"
      ]
    },
    {
      "cell_type": "markdown",
      "id": "d76b66e4",
      "metadata": {
        "id": "d76b66e4"
      },
      "source": [
        "# Load and config model "
      ]
    },
    {
      "cell_type": "code",
      "execution_count": 17,
      "id": "eca0eb41",
      "metadata": {
        "id": "eca0eb41"
      },
      "outputs": [],
      "source": [
        "cfg_path = \"COCO-InstanceSegmentation/mask_rcnn_R_101_FPN_3x.yaml\"\n",
        "\n",
        "def load_config_and_model_weights(cfg_path):\n",
        "    cfg = get_cfg()\n",
        "    cfg.merge_from_file(model_zoo.get_config_file(cfg_path))\n",
        "\n",
        "    # ROI HEADS SCORE THRESHOLD\n",
        "    cfg.MODEL.ROI_HEADS.SCORE_THRESH_TEST = 0.5\n",
        "\n",
        "    # Comment the next line if you're using 'cuda'\n",
        "    cfg['MODEL']['DEVICE']='cpu'\n",
        "\n",
        "    cfg.MODEL.WEIGHTS = model_zoo.get_checkpoint_url(cfg_path)\n",
        "\n",
        "    return cfg\n",
        "\n",
        "cfg = load_config_and_model_weights(cfg_path)"
      ]
    },
    {
      "cell_type": "markdown",
      "id": "f09f013b",
      "metadata": {
        "id": "f09f013b"
      },
      "source": [
        "# Load the Object Detection Model"
      ]
    },
    {
      "cell_type": "code",
      "execution_count": 18,
      "id": "930dd7d3",
      "metadata": {
        "id": "930dd7d3",
        "outputId": "7a1c5b95-6de0-4d63-e61e-1f893a797eb9",
        "colab": {
          "base_uri": "https://localhost:8080/"
        }
      },
      "outputs": [
        {
          "output_type": "stream",
          "name": "stderr",
          "text": [
            "WARNING:fvcore.common.checkpoint:The checkpoint state_dict contains keys that are not used by the model:\n",
            "  proposal_generator.anchor_generator.cell_anchors.{0, 1, 2, 3, 4}\n"
          ]
        }
      ],
      "source": [
        "def get_model(cfg):\n",
        "    # build model\n",
        "    model = build_model(cfg)\n",
        "\n",
        "    # load weights\n",
        "    checkpointer = DetectionCheckpointer(model)\n",
        "    checkpointer.load(cfg.MODEL.WEIGHTS)\n",
        "\n",
        "    # eval mode\n",
        "    model.eval()\n",
        "    return model\n",
        "\n",
        "model = get_model(cfg)"
      ]
    },
    {
      "cell_type": "markdown",
      "id": "f982f7b0",
      "metadata": {
        "id": "f982f7b0"
      },
      "source": [
        "# Convert Image to Model Input"
      ]
    },
    {
      "cell_type": "code",
      "execution_count": 19,
      "id": "79ccb788",
      "metadata": {
        "id": "79ccb788"
      },
      "outputs": [],
      "source": [
        "def prepare_image_inputs(cfg, img_list):\n",
        "    # Resizing the image according to the configuration\n",
        "    transform_gen = T.ResizeShortestEdge(\n",
        "                [cfg.INPUT.MIN_SIZE_TEST, cfg.INPUT.MIN_SIZE_TEST], cfg.INPUT.MAX_SIZE_TEST\n",
        "            )\n",
        "    img_list = [transform_gen.get_transform(img).apply_image(img) for img in img_list]\n",
        "\n",
        "    # Convert to C,H,W format\n",
        "    convert_to_tensor = lambda x: torch.Tensor(x.astype(\"float32\").transpose(2, 0, 1))\n",
        "\n",
        "    batched_inputs = [{\"image\":convert_to_tensor(img), \"height\": img.shape[0], \"width\": img.shape[1]} for img in img_list]\n",
        "\n",
        "    # Normalizing the image\n",
        "    num_channels = len(cfg.MODEL.PIXEL_MEAN)\n",
        "    pixel_mean = torch.Tensor(cfg.MODEL.PIXEL_MEAN).view(num_channels, 1, 1)\n",
        "    pixel_std = torch.Tensor(cfg.MODEL.PIXEL_STD).view(num_channels, 1, 1)\n",
        "    normalizer = lambda x: (x - pixel_mean) / pixel_std\n",
        "    images = [normalizer(x[\"image\"]) for x in batched_inputs]\n",
        "\n",
        "    # Convert to ImageList\n",
        "    images =  ImageList.from_tensors(images,model.backbone.size_divisibility)\n",
        "    \n",
        "    return images, batched_inputs\n"
      ]
    },
    {
      "cell_type": "code",
      "execution_count": 20,
      "id": "0d8551d6",
      "metadata": {
        "id": "0d8551d6"
      },
      "outputs": [],
      "source": [
        "images, batched_inputs = prepare_image_inputs(cfg, [img_bgr1])\n",
        "#Batch c'est le vecteur des images"
      ]
    },
    {
      "cell_type": "markdown",
      "id": "04f84a2c",
      "metadata": {
        "id": "04f84a2c"
      },
      "source": [
        "# Get ResNet+FPN features"
      ]
    },
    {
      "cell_type": "code",
      "execution_count": 21,
      "id": "e1fa7241",
      "metadata": {
        "id": "e1fa7241"
      },
      "outputs": [],
      "source": [
        "def get_features(model, images):\n",
        "    features = model.backbone(images.tensor)\n",
        "    return features\n"
      ]
    },
    {
      "cell_type": "code",
      "execution_count": 22,
      "id": "3ba40323",
      "metadata": {
        "id": "3ba40323"
      },
      "outputs": [],
      "source": [
        "features = get_features(model, images)"
      ]
    },
    {
      "cell_type": "code",
      "execution_count": 23,
      "id": "bd57c7a1",
      "metadata": {
        "id": "bd57c7a1",
        "outputId": "b7a8e113-4942-4eec-b0fd-02dbc6a607b5",
        "colab": {
          "base_uri": "https://localhost:8080/"
        }
      },
      "outputs": [
        {
          "output_type": "execute_result",
          "data": {
            "text/plain": [
              "{'p2': tensor([[[[-7.6884e-01,  2.2289e-01,  2.8646e-01,  ...,  2.2229e+00,\n",
              "             3.2982e+00,  3.7129e+00],\n",
              "           [-1.8920e+00, -1.4970e+00, -1.7439e+00,  ...,  6.3898e-01,\n",
              "             1.8191e+00,  3.9280e+00],\n",
              "           [-1.4282e+00, -1.4981e+00, -2.3036e+00,  ..., -1.8273e-01,\n",
              "             1.1391e+00,  3.4744e+00],\n",
              "           ...,\n",
              "           [ 2.7107e+00,  4.6748e+00,  3.7368e+00,  ...,  6.4809e+00,\n",
              "             8.3787e+00,  7.1518e+00],\n",
              "           [-1.1954e+00,  9.6143e-01,  3.5866e-01,  ...,  3.0829e+00,\n",
              "             3.8203e+00,  5.6512e+00],\n",
              "           [-2.6680e+00, -3.3200e+00, -3.1951e+00,  ..., -1.1938e+00,\n",
              "            -1.3392e+00,  1.3153e+00]],\n",
              " \n",
              "          [[-2.1535e+00, -5.3653e-01, -2.1211e-01,  ..., -8.9365e-01,\n",
              "            -8.1875e-01, -4.0931e-01],\n",
              "           [-3.2599e+00, -1.1866e+00, -4.5432e-01,  ..., -4.6835e-01,\n",
              "            -5.6765e-01, -2.3317e-01],\n",
              "           [-2.9666e+00, -1.3972e+00, -3.2839e-01,  ..., -3.8537e-01,\n",
              "            -3.9264e-01, -1.6093e-01],\n",
              "           ...,\n",
              "           [-3.7373e+00, -2.5223e+00, -2.0763e+00,  ..., -1.8814e+00,\n",
              "            -2.6632e+00, -2.1900e+00],\n",
              "           [-2.4888e+00, -4.3048e-01, -4.2069e-01,  ..., -4.6250e-01,\n",
              "            -1.0483e+00, -3.2081e-03],\n",
              "           [-3.2993e+00, -1.9882e+00, -1.8650e+00,  ..., -1.4079e+00,\n",
              "            -1.6903e+00, -2.1909e-01]],\n",
              " \n",
              "          [[ 2.2000e+00,  2.6819e+00,  3.2812e+00,  ...,  1.7970e+00,\n",
              "             2.4801e+00,  1.1363e+00],\n",
              "           [ 4.0756e+00,  4.9556e+00,  5.9837e+00,  ...,  4.7146e+00,\n",
              "             5.4634e+00,  3.4357e+00],\n",
              "           [ 3.8957e+00,  4.7041e+00,  5.3674e+00,  ...,  3.9245e+00,\n",
              "             4.8194e+00,  3.0744e+00],\n",
              "           ...,\n",
              "           [ 3.6172e+00,  4.8367e+00,  4.7003e+00,  ...,  5.2832e+00,\n",
              "             6.4862e+00,  4.2469e+00],\n",
              "           [ 5.1186e+00,  5.3750e+00,  5.5335e+00,  ...,  5.8471e+00,\n",
              "             6.6037e+00,  4.0219e+00],\n",
              "           [ 2.9749e+00,  2.8435e+00,  3.2518e+00,  ...,  4.0686e+00,\n",
              "             4.1363e+00,  2.9381e+00]],\n",
              " \n",
              "          ...,\n",
              " \n",
              "          [[ 3.8662e-01,  2.7691e-01, -4.1329e-01,  ..., -6.0846e-02,\n",
              "             2.0736e-01,  3.2662e-01],\n",
              "           [ 5.0806e-01,  2.6002e-01, -4.9205e-01,  ..., -2.7246e-01,\n",
              "            -7.0131e-02, -1.1352e-01],\n",
              "           [ 1.6540e-01, -2.0990e-01, -9.4967e-01,  ..., -6.8264e-01,\n",
              "            -6.1056e-01, -6.6277e-01],\n",
              "           ...,\n",
              "           [-1.6916e+00, -3.0704e+00, -4.1053e+00,  ..., -1.2760e-01,\n",
              "            -2.0647e-01,  5.1524e-01],\n",
              "           [-1.1941e+00, -2.3905e+00, -2.9764e+00,  ...,  8.1236e-01,\n",
              "             1.1872e+00,  1.1393e+00],\n",
              "           [-1.0538e+00, -2.2593e+00, -2.4987e+00,  ..., -4.7768e-01,\n",
              "            -4.5426e-01, -2.1305e-01]],\n",
              " \n",
              "          [[ 2.3588e+00, -1.1673e+00, -1.3823e+00,  ..., -1.8492e+00,\n",
              "            -1.5103e+00, -1.4902e+00],\n",
              "           [ 3.8059e+00, -7.2338e-01, -9.3487e-01,  ..., -1.8822e+00,\n",
              "            -1.3507e+00, -1.9242e+00],\n",
              "           [ 3.1571e+00, -1.0978e+00, -1.2013e+00,  ..., -2.4076e+00,\n",
              "            -2.1882e+00, -2.2641e+00],\n",
              "           ...,\n",
              "           [ 2.4232e+00, -5.7196e-01, -1.4523e+00,  ..., -3.4732e+00,\n",
              "            -2.5812e+00, -2.3501e+00],\n",
              "           [ 5.1714e+00,  2.4032e+00,  1.1970e+00,  ..., -6.5147e-01,\n",
              "             4.7057e-01, -5.0705e-01],\n",
              "           [ 1.1851e+00, -3.2685e-01, -1.2799e+00,  ..., -2.5238e+00,\n",
              "            -2.2938e+00, -2.6809e+00]],\n",
              " \n",
              "          [[ 2.8908e-01, -1.7574e-01,  1.3687e-01,  ..., -4.2949e-01,\n",
              "            -1.0964e+00, -2.1663e+00],\n",
              "           [-1.3290e+00, -2.1972e+00, -1.6989e+00,  ..., -3.0710e+00,\n",
              "            -3.7917e+00, -4.6563e+00],\n",
              "           [-1.3501e+00, -2.3557e+00, -1.5804e+00,  ..., -2.9523e+00,\n",
              "            -3.6627e+00, -4.4687e+00],\n",
              "           ...,\n",
              "           [ 1.2786e+00,  2.9467e-01,  8.7674e-01,  ..., -3.6970e-01,\n",
              "            -1.5845e+00, -3.8197e+00],\n",
              "           [ 1.3536e-01, -1.3958e+00, -1.0075e+00,  ..., -1.9415e+00,\n",
              "            -2.7758e+00, -4.3608e+00],\n",
              "           [-4.2824e-01, -1.3648e+00, -1.1333e+00,  ..., -1.4543e+00,\n",
              "            -1.1294e+00, -2.5149e+00]]]], grad_fn=<ConvolutionBackward0>),\n",
              " 'p3': tensor([[[[ 1.1697e+00,  1.7548e+00,  2.0091e+00,  ...,  2.7709e+00,\n",
              "             3.2039e+00,  2.9943e+00],\n",
              "           [-9.3395e-02, -7.2118e-01, -5.1130e-01,  ...,  4.5825e-01,\n",
              "             1.0584e+00,  1.6346e+00],\n",
              "           [ 1.1303e-01, -8.9636e-01, -8.5779e-01,  ...,  1.3886e-01,\n",
              "             7.9906e-01,  1.3173e+00],\n",
              "           ...,\n",
              "           [ 1.6621e+00,  1.6457e+00,  1.8474e+00,  ...,  3.1373e+00,\n",
              "             3.9526e+00,  3.5773e+00],\n",
              "           [ 2.2073e+00,  2.4050e+00,  2.6446e+00,  ...,  3.9078e+00,\n",
              "             4.6864e+00,  4.2741e+00],\n",
              "           [ 4.4856e-01,  5.7770e-02,  1.9606e-01,  ...,  9.7667e-01,\n",
              "             1.4693e+00,  1.9022e+00]],\n",
              " \n",
              "          [[-1.8014e+00, -3.5959e-02,  5.6135e-01,  ..., -1.6262e-01,\n",
              "            -3.7826e-01,  1.6611e-01],\n",
              "           [-1.7606e+00,  1.2370e+00,  2.2849e+00,  ...,  2.0182e+00,\n",
              "             1.8543e+00,  1.6673e+00],\n",
              "           [-1.8281e+00,  8.6453e-01,  1.8929e+00,  ...,  1.7740e+00,\n",
              "             1.6247e+00,  1.3967e+00],\n",
              "           ...,\n",
              "           [-4.1913e+00, -3.1786e+00, -2.4220e+00,  ..., -2.4603e+00,\n",
              "            -2.1679e+00, -6.3969e-01],\n",
              "           [-2.9780e+00, -1.4966e+00, -9.4682e-01,  ..., -7.3613e-01,\n",
              "            -6.4431e-01,  3.8298e-01],\n",
              "           [-7.4424e-01,  9.1007e-01,  1.3170e+00,  ...,  1.6276e+00,\n",
              "             1.5908e+00,  1.6062e+00]],\n",
              " \n",
              "          [[ 2.7426e+00,  2.9481e+00,  2.6862e+00,  ...,  2.9055e+00,\n",
              "             2.7910e+00,  1.0315e+00],\n",
              "           [ 4.2652e+00,  4.6959e+00,  4.4373e+00,  ...,  4.9575e+00,\n",
              "             4.8445e+00,  2.1751e+00],\n",
              "           [ 3.7310e+00,  4.1919e+00,  4.0295e+00,  ...,  4.3436e+00,\n",
              "             4.2131e+00,  1.9231e+00],\n",
              "           ...,\n",
              "           [ 2.1119e+00,  2.1672e+00,  1.8874e+00,  ...,  2.4343e+00,\n",
              "             2.4007e+00,  7.5239e-01],\n",
              "           [ 2.7889e+00,  3.3318e+00,  3.0339e+00,  ...,  3.6943e+00,\n",
              "             3.6687e+00,  1.5895e+00],\n",
              "           [ 2.8942e+00,  3.5818e+00,  3.3693e+00,  ...,  3.8915e+00,\n",
              "             3.9206e+00,  2.0663e+00]],\n",
              " \n",
              "          ...,\n",
              " \n",
              "          [[-1.2350e-01, -2.7014e-02, -2.4188e-01,  ...,  1.0562e+00,\n",
              "             7.3340e-01,  1.3445e-01],\n",
              "           [-6.1507e-01, -3.6817e-01, -5.4713e-01,  ...,  8.5871e-01,\n",
              "             2.8102e-01, -3.7667e-01],\n",
              "           [-6.3687e-01, -2.5385e-01, -1.9628e-01,  ...,  1.2188e+00,\n",
              "             4.7665e-01, -3.6307e-01],\n",
              "           ...,\n",
              "           [-1.1880e+00, -9.7839e-01, -7.1988e-01,  ...,  1.5928e+00,\n",
              "             8.8506e-01, -6.9372e-02],\n",
              "           [-1.7539e+00, -1.5184e+00, -1.2215e+00,  ...,  9.1137e-01,\n",
              "             4.6163e-01, -1.3095e-01],\n",
              "           [-1.9969e+00, -2.1435e+00, -1.9648e+00,  ..., -9.4968e-01,\n",
              "            -1.1469e+00, -1.0112e+00]],\n",
              " \n",
              "          [[ 8.2058e-01, -9.1255e-01, -1.2328e+00,  ..., -8.9157e-01,\n",
              "            -1.0510e+00, -1.7938e+00],\n",
              "           [ 2.0844e+00,  3.9950e-01,  9.2759e-02,  ...,  3.1619e-01,\n",
              "            -3.0363e-02, -1.6152e+00],\n",
              "           [ 1.7884e+00,  1.8369e-01, -2.2713e-02,  ..., -5.4516e-02,\n",
              "            -4.7322e-01, -1.8832e+00],\n",
              "           ...,\n",
              "           [ 1.4459e+00, -2.4201e-01, -6.4359e-01,  ..., -1.1798e+00,\n",
              "            -1.3958e+00, -2.2755e+00],\n",
              "           [ 1.7005e+00, -1.0544e-01, -6.1949e-01,  ..., -1.1033e+00,\n",
              "            -1.1558e+00, -1.9883e+00],\n",
              "           [ 2.0990e+00,  1.2489e+00,  7.7131e-01,  ...,  4.2939e-01,\n",
              "             4.6243e-01, -4.0320e-01]],\n",
              " \n",
              "          [[-4.6459e-03, -1.3438e-01, -2.2818e-01,  ..., -6.4474e-01,\n",
              "            -9.5623e-01, -1.2464e+00],\n",
              "           [-6.5518e-01, -7.1778e-01, -8.4383e-01,  ..., -2.3934e+00,\n",
              "            -2.8240e+00, -2.4356e+00],\n",
              "           [-6.2004e-01, -5.7797e-01, -6.5846e-01,  ..., -2.2546e+00,\n",
              "            -2.6547e+00, -2.2237e+00],\n",
              "           ...,\n",
              "           [ 8.4325e-02,  1.9069e-03, -2.5663e-02,  ..., -1.2933e+00,\n",
              "            -2.0119e+00, -2.2284e+00],\n",
              "           [-1.7689e-02, -4.1034e-01, -4.7037e-01,  ..., -1.6764e+00,\n",
              "            -2.3601e+00, -2.5922e+00],\n",
              "           [-7.4942e-01, -1.3375e+00, -1.4828e+00,  ..., -2.5269e+00,\n",
              "            -2.8714e+00, -2.5159e+00]]]], grad_fn=<ConvolutionBackward0>),\n",
              " 'p4': tensor([[[[-0.2386, -0.7621, -0.5494,  ...,  0.2388,  0.8416,  1.1706],\n",
              "           [-1.4620, -2.9511, -2.6880,  ..., -1.5587, -0.8681,  0.0938],\n",
              "           [-1.1450, -2.6051, -2.3389,  ..., -1.2731, -0.5504,  0.2154],\n",
              "           ...,\n",
              "           [-0.3470, -1.6357, -1.3853,  ..., -0.0097,  0.7201,  0.9884],\n",
              "           [-0.0472, -0.9313, -0.5488,  ...,  0.9430,  1.5368,  1.4519],\n",
              "           [-0.6802, -1.4187, -1.1163,  ..., -0.1926,  0.1816,  0.4679]],\n",
              " \n",
              "          [[-2.4354, -1.3438, -0.8452,  ..., -1.3146, -1.3608, -0.7024],\n",
              "           [-2.2697, -0.2312,  0.2783,  ...,  0.1424,  0.2276,  0.5624],\n",
              "           [-2.1142, -0.1511,  0.3196,  ...,  0.1570,  0.1409,  0.5555],\n",
              "           ...,\n",
              "           [-3.0138, -2.3072, -2.0583,  ..., -2.4415, -2.4646, -1.0732],\n",
              "           [-3.0858, -2.1218, -1.9514,  ..., -2.2050, -2.1362, -0.8883],\n",
              "           [-0.6428,  1.0352,  1.1202,  ...,  1.4581,  1.4754,  1.2975]],\n",
              " \n",
              "          [[ 0.3879,  0.8537,  1.1272,  ...,  1.6634,  1.0887,  0.2900],\n",
              "           [ 1.1915,  2.0949,  2.3716,  ...,  3.5623,  2.9136,  1.4242],\n",
              "           [ 0.9151,  1.6089,  1.9556,  ...,  3.1268,  2.3984,  1.0629],\n",
              "           ...,\n",
              "           [ 0.2143,  0.3551,  0.3803,  ...,  1.3852,  0.9004, -0.0706],\n",
              "           [ 0.2601,  0.7064,  0.6597,  ...,  1.9527,  1.3813,  0.1841],\n",
              "           [ 1.0023,  1.6052,  1.5197,  ...,  2.7293,  2.5291,  1.1152]],\n",
              " \n",
              "          ...,\n",
              " \n",
              "          [[-0.2819, -0.3552, -0.3912,  ...,  0.6103,  0.7006, -0.1115],\n",
              "           [-0.5511, -0.4493, -0.4130,  ...,  0.6781,  0.4579, -0.6386],\n",
              "           [-0.6012, -0.4083, -0.2524,  ...,  0.6761,  0.4806, -0.6771],\n",
              "           ...,\n",
              "           [-0.3406, -0.3685, -0.3500,  ...,  0.9566,  0.9956, -0.0771],\n",
              "           [-0.2767, -0.0270,  0.1229,  ...,  1.3532,  1.5230,  0.3737],\n",
              "           [-0.8457, -0.9256, -0.8818,  ..., -0.3591, -0.2004, -0.5970]],\n",
              " \n",
              "          [[-0.1368, -1.7519, -2.0134,  ..., -1.6656, -2.0639, -2.1812],\n",
              "           [ 0.7217, -0.9680, -1.4203,  ..., -1.1445, -1.6784, -2.3157],\n",
              "           [ 0.8496, -0.6534, -1.3210,  ..., -1.2243, -1.7409, -2.3355],\n",
              "           ...,\n",
              "           [ 0.6838, -0.7677, -1.5766,  ..., -2.0063, -2.2766, -2.5033],\n",
              "           [ 0.7548, -0.7986, -1.5273,  ..., -1.8538, -2.1977, -2.3502],\n",
              "           [ 0.9789,  0.1480, -0.3659,  ..., -0.5197, -0.6902, -0.9955]],\n",
              " \n",
              "          [[ 2.3354,  2.7673,  2.6501,  ...,  1.7960,  1.8009,  1.0168],\n",
              "           [ 1.8303,  2.0677,  1.9875,  ...,  0.7199,  0.5938,  0.2156],\n",
              "           [ 1.8211,  1.9905,  2.0098,  ...,  0.6845,  0.6904,  0.4148],\n",
              "           ...,\n",
              "           [ 1.5814,  1.4919,  1.5982,  ...,  0.5606,  0.3247, -0.1125],\n",
              "           [ 1.9576,  1.8913,  2.1081,  ...,  0.9238,  0.7434,  0.0375],\n",
              "           [ 0.3523, -0.1425,  0.0482,  ..., -1.0092, -1.2307, -1.1664]]]],\n",
              "        grad_fn=<ConvolutionBackward0>),\n",
              " 'p5': tensor([[[[-9.1375e-01, -1.0108e+00, -6.5901e-01,  ..., -8.3207e-01,\n",
              "            -6.7800e-01,  2.1983e-01],\n",
              "           [-1.8129e+00, -2.5066e+00, -1.9922e+00,  ..., -2.1937e+00,\n",
              "            -1.9285e+00, -5.0188e-01],\n",
              "           [-1.2235e+00, -1.6499e+00, -1.0898e+00,  ..., -1.3032e+00,\n",
              "            -1.0953e+00, -9.9151e-04],\n",
              "           ...,\n",
              "           [-1.4108e+00, -2.0469e+00, -1.8325e+00,  ..., -1.8559e+00,\n",
              "            -1.4503e+00, -3.3353e-01],\n",
              "           [-1.2950e+00, -1.6440e+00, -1.2098e+00,  ..., -1.4969e+00,\n",
              "            -1.1667e+00, -1.7494e-01],\n",
              "           [-1.1934e+00, -1.5342e+00, -1.1717e+00,  ..., -1.3083e+00,\n",
              "            -1.1441e+00, -3.7073e-01]],\n",
              " \n",
              "          [[-2.0462e+00, -1.6978e+00, -1.2587e+00,  ..., -1.4414e+00,\n",
              "            -1.3996e+00, -1.6649e+00],\n",
              "           [-1.5093e+00, -3.5145e-01,  1.4998e-01,  ..., -1.0722e-01,\n",
              "             1.1600e-01, -8.6665e-01],\n",
              "           [-1.6070e+00, -6.3748e-01, -7.6790e-02,  ..., -3.1470e-01,\n",
              "            -2.1498e-01, -1.0089e+00],\n",
              "           ...,\n",
              "           [-1.9493e+00, -1.5011e+00, -1.3574e+00,  ..., -1.2458e+00,\n",
              "            -8.0822e-01, -1.3485e+00],\n",
              "           [-1.9701e+00, -1.5310e+00, -1.3994e+00,  ..., -1.5599e+00,\n",
              "            -1.0708e+00, -1.4852e+00],\n",
              "           [-7.0200e-01,  4.9270e-02,  1.7373e-01,  ..., -8.3254e-02,\n",
              "             1.9521e-01, -4.2504e-01]],\n",
              " \n",
              "          [[ 8.2171e-01,  1.1352e+00,  1.0567e+00,  ...,  1.3294e+00,\n",
              "             1.0618e+00,  5.3346e-01],\n",
              "           [ 6.1784e-01,  1.0522e+00,  1.3670e+00,  ...,  1.9363e+00,\n",
              "             1.3572e+00,  5.9890e-01],\n",
              "           [ 1.5921e-01,  4.3213e-01,  6.9271e-01,  ...,  1.1929e+00,\n",
              "             5.6016e-01,  4.5768e-02],\n",
              "           ...,\n",
              "           [ 3.3616e-01,  3.6025e-01,  8.2468e-02,  ...,  1.0122e+00,\n",
              "             3.2104e-01, -1.5254e-01],\n",
              "           [ 4.9623e-01,  6.9672e-01,  6.2792e-01,  ...,  1.3665e+00,\n",
              "             7.0575e-01,  8.5114e-02],\n",
              "           [ 8.1302e-01,  1.1728e+00,  1.1604e+00,  ...,  1.6843e+00,\n",
              "             1.3923e+00,  7.3213e-01]],\n",
              " \n",
              "          ...,\n",
              " \n",
              "          [[-3.4313e-01, -2.4533e-01, -1.9191e-01,  ...,  7.8417e-02,\n",
              "            -1.5478e-01, -9.4562e-01],\n",
              "           [-9.3753e-01, -8.0362e-01, -7.0819e-01,  ..., -8.6577e-01,\n",
              "            -1.2288e+00, -1.9146e+00],\n",
              "           [-5.3755e-01, -3.5031e-02,  1.5374e-01,  ..., -3.1899e-01,\n",
              "            -8.2741e-01, -1.6449e+00],\n",
              "           ...,\n",
              "           [-3.8256e-01,  3.4023e-02,  1.1644e-01,  ..., -1.2311e-02,\n",
              "            -5.5307e-01, -1.4949e+00],\n",
              "           [-5.1049e-01, -1.9773e-01, -1.4232e-01,  ..., -2.3328e-01,\n",
              "            -6.5779e-01, -1.4034e+00],\n",
              "           [-1.5347e+00, -1.8078e+00, -1.8138e+00,  ..., -1.9128e+00,\n",
              "            -2.1348e+00, -2.0025e+00]],\n",
              " \n",
              "          [[ 2.4834e-01, -8.0654e-01, -1.5166e+00,  ..., -1.3483e+00,\n",
              "            -1.3856e+00, -1.3373e+00],\n",
              "           [ 3.3040e-01, -9.6218e-01, -1.9210e+00,  ..., -1.8917e+00,\n",
              "            -2.0276e+00, -1.9134e+00],\n",
              "           [ 4.1125e-01, -8.7580e-01, -1.9351e+00,  ..., -1.8941e+00,\n",
              "            -1.9893e+00, -1.8711e+00],\n",
              "           ...,\n",
              "           [ 6.7415e-01, -4.2849e-01, -1.4267e+00,  ..., -1.2145e+00,\n",
              "            -1.3243e+00, -1.2747e+00],\n",
              "           [ 7.4253e-01, -3.8104e-01, -1.3361e+00,  ..., -1.0343e+00,\n",
              "            -1.2149e+00, -1.2537e+00],\n",
              "           [ 7.7495e-01,  2.6113e-01, -3.2546e-01,  ..., -8.3228e-02,\n",
              "            -2.0881e-01, -4.2220e-01]],\n",
              " \n",
              "          [[ 2.5378e+00,  2.7458e+00,  1.9720e+00,  ...,  2.2253e+00,\n",
              "             2.8519e+00,  1.8255e+00],\n",
              "           [ 2.6229e+00,  2.5776e+00,  1.4021e+00,  ...,  1.4928e+00,\n",
              "             2.4715e+00,  1.7866e+00],\n",
              "           [ 2.0370e+00,  1.7173e+00,  5.1716e-01,  ...,  8.4044e-01,\n",
              "             1.9035e+00,  1.4747e+00],\n",
              "           ...,\n",
              "           [ 2.3661e+00,  2.2473e+00,  1.4153e+00,  ...,  1.2132e+00,\n",
              "             2.0868e+00,  1.5904e+00],\n",
              "           [ 2.9733e+00,  3.0884e+00,  2.3264e+00,  ...,  2.3732e+00,\n",
              "             3.0319e+00,  2.1347e+00],\n",
              "           [ 1.6197e+00,  1.5665e+00,  1.0916e+00,  ...,  1.1833e+00,\n",
              "             1.5368e+00,  1.0488e+00]]]], grad_fn=<ConvolutionBackward0>),\n",
              " 'p6': tensor([[[[-9.1375e-01, -6.5901e-01, -4.6634e-01,  ..., -6.9308e-01,\n",
              "            -8.3207e-01,  2.1983e-01],\n",
              "           [-1.2235e+00, -1.0898e+00, -5.2047e-01,  ..., -9.7628e-01,\n",
              "            -1.3032e+00, -9.9151e-04],\n",
              "           [-7.4445e-01, -2.4515e-01,  1.3376e-01,  ..., -4.0086e-01,\n",
              "            -7.3783e-01,  1.4576e-01],\n",
              "           ...,\n",
              "           [-1.0252e+00, -9.1272e-01, -4.6167e-01,  ..., -7.9311e-01,\n",
              "            -1.0968e+00, -1.9408e-02],\n",
              "           [-1.2965e+00, -1.6457e+00, -1.1387e+00,  ..., -1.4127e+00,\n",
              "            -1.5497e+00, -2.0408e-01],\n",
              "           [-1.2950e+00, -1.2098e+00, -8.7904e-01,  ..., -1.3525e+00,\n",
              "            -1.4969e+00, -1.7494e-01]],\n",
              " \n",
              "          [[-2.0462e+00, -1.2587e+00, -1.2687e+00,  ..., -1.4409e+00,\n",
              "            -1.4414e+00, -1.6649e+00],\n",
              "           [-1.6070e+00, -7.6790e-02, -7.7296e-02,  ..., -4.5107e-01,\n",
              "            -3.1470e-01, -1.0089e+00],\n",
              "           [-1.6432e+00, -1.9513e-01, -1.9933e-01,  ..., -5.9887e-01,\n",
              "            -5.6217e-01, -1.0946e+00],\n",
              "           ...,\n",
              "           [-1.4301e+00, -7.6957e-01, -8.6511e-01,  ..., -1.1109e+00,\n",
              "            -8.6772e-01, -1.2050e+00],\n",
              "           [-1.6896e+00, -9.2613e-01, -8.3004e-01,  ..., -1.2541e+00,\n",
              "            -9.7304e-01, -1.2993e+00],\n",
              "           [-1.9701e+00, -1.3994e+00, -1.1630e+00,  ..., -1.9015e+00,\n",
              "            -1.5599e+00, -1.4852e+00]],\n",
              " \n",
              "          [[ 8.2171e-01,  1.0567e+00,  1.2899e+00,  ...,  1.4139e+00,\n",
              "             1.3294e+00,  5.3346e-01],\n",
              "           [ 1.5921e-01,  6.9271e-01,  1.2308e+00,  ...,  1.5041e+00,\n",
              "             1.1929e+00,  4.5768e-02],\n",
              "           [ 4.6331e-01,  1.1757e+00,  1.9213e+00,  ...,  2.1219e+00,\n",
              "             1.9033e+00,  3.8865e-01],\n",
              "           ...,\n",
              "           [ 3.8627e-01,  6.8740e-01,  1.1663e+00,  ...,  1.8851e+00,\n",
              "             1.6004e+00,  2.4619e-01],\n",
              "           [ 2.8447e-01,  1.6144e-01,  4.3609e-01,  ...,  1.5246e+00,\n",
              "             1.1395e+00, -4.1237e-02],\n",
              "           [ 4.9623e-01,  6.2792e-01,  9.5490e-01,  ...,  1.6934e+00,\n",
              "             1.3665e+00,  8.5114e-02]],\n",
              " \n",
              "          ...,\n",
              " \n",
              "          [[-3.4313e-01, -1.9191e-01, -2.0987e-01,  ..., -1.2073e-01,\n",
              "             7.8417e-02, -9.4562e-01],\n",
              "           [-5.3755e-01,  1.5374e-01,  2.2699e-01,  ..., -1.3700e-01,\n",
              "            -3.1899e-01, -1.6449e+00],\n",
              "           [-2.3578e-01,  9.2530e-01,  9.8517e-01,  ...,  4.5131e-01,\n",
              "             2.5884e-01, -1.3013e+00],\n",
              "           ...,\n",
              "           [-4.5069e-01, -3.8447e-01, -3.1395e-01,  ..., -2.2105e-01,\n",
              "            -4.4388e-01, -1.7385e+00],\n",
              "           [-4.5916e-01, -1.3812e-01,  1.4848e-02,  ...,  1.8509e-01,\n",
              "            -1.7608e-01, -1.6516e+00],\n",
              "           [-5.1049e-01, -1.4232e-01, -2.8197e-02,  ..., -1.7372e-01,\n",
              "            -2.3328e-01, -1.4034e+00]],\n",
              " \n",
              "          [[ 2.4834e-01, -1.5166e+00, -1.6897e+00,  ..., -1.3710e+00,\n",
              "            -1.3483e+00, -1.3373e+00],\n",
              "           [ 4.1125e-01, -1.9351e+00, -2.2602e+00,  ..., -1.8088e+00,\n",
              "            -1.8941e+00, -1.8711e+00],\n",
              "           [ 3.3557e-01, -2.3067e+00, -2.7161e+00,  ..., -2.2277e+00,\n",
              "            -2.0730e+00, -1.9065e+00],\n",
              "           ...,\n",
              "           [ 5.5107e-01, -1.5362e+00, -1.9185e+00,  ..., -1.6386e+00,\n",
              "            -1.6098e+00, -1.4658e+00],\n",
              "           [ 6.2704e-01, -1.4627e+00, -1.7599e+00,  ..., -1.1936e+00,\n",
              "            -1.3451e+00, -1.3008e+00],\n",
              "           [ 7.4253e-01, -1.3361e+00, -1.4547e+00,  ..., -6.8262e-01,\n",
              "            -1.0343e+00, -1.2537e+00]],\n",
              " \n",
              "          [[ 2.5378e+00,  1.9720e+00,  1.4078e+00,  ...,  1.5345e+00,\n",
              "             2.2253e+00,  1.8255e+00],\n",
              "           [ 2.0370e+00,  5.1716e-01, -7.9763e-01,  ..., -2.6158e-01,\n",
              "             8.4044e-01,  1.4747e+00],\n",
              "           [ 1.3076e+00, -7.1764e-01, -2.0389e+00,  ..., -1.2671e+00,\n",
              "            -2.1586e-01,  1.0401e+00],\n",
              "           ...,\n",
              "           [ 1.4592e+00, -1.8489e-01, -9.0966e-01,  ..., -8.0572e-01,\n",
              "            -1.8088e-01,  8.1454e-01],\n",
              "           [ 1.8232e+00,  3.6142e-01, -3.9452e-01,  ..., -3.1545e-01,\n",
              "             3.5592e-01,  1.1457e+00],\n",
              "           [ 2.9733e+00,  2.3264e+00,  1.8457e+00,  ...,  1.8945e+00,\n",
              "             2.3732e+00,  2.1347e+00]]]],\n",
              "        grad_fn=<MaxPool2DWithIndicesBackward0>)}"
            ]
          },
          "metadata": {},
          "execution_count": 23
        }
      ],
      "source": [
        "features"
      ]
    },
    {
      "cell_type": "markdown",
      "id": "5c157949",
      "metadata": {
        "id": "5c157949"
      },
      "source": [
        "# Visualizing Image and Image features"
      ]
    },
    {
      "cell_type": "code",
      "execution_count": 24,
      "id": "f8175e7e",
      "metadata": {
        "id": "f8175e7e",
        "outputId": "8fedbfa7-6b3e-4985-f66a-3b78e8bd1cb2",
        "colab": {
          "base_uri": "https://localhost:8080/",
          "height": 1000
        }
      },
      "outputs": [
        {
          "output_type": "display_data",
          "data": {
            "text/plain": [
              "<Figure size 432x288 with 1 Axes>"
            ],
            "image/png": "[encoded data removed]"
          },
          "metadata": {
            "needs_background": "light"
          }
        },
        {
          "output_type": "stream",
          "name": "stdout",
          "text": [
            "torch.Size([1, 256, 304, 200])\n"
          ]
        },
        {
          "output_type": "display_data",
          "data": {
            "text/plain": [
              "<Figure size 432x288 with 1 Axes>"
            ],
            "image/png": "[encoded data removed]"
          },
          "metadata": {
            "needs_background": "light"
          }
        },
        {
          "output_type": "stream",
          "name": "stdout",
          "text": [
            "torch.Size([1, 256, 152, 100])\n"
          ]
        },
        {
          "output_type": "display_data",
          "data": {
            "text/plain": [
              "<Figure size 432x288 with 1 Axes>"
            ],
            "image/png": "[encoded data removed]"
          },
          "metadata": {
            "needs_background": "light"
          }
        },
        {
          "output_type": "stream",
          "name": "stdout",
          "text": [
            "torch.Size([1, 256, 76, 50])\n"
          ]
        },
        {
          "output_type": "display_data",
          "data": {
            "text/plain": [
              "<Figure size 432x288 with 1 Axes>"
            ],
            "image/png": "[encoded data removed]"
          },
          "metadata": {
            "needs_background": "light"
          }
        },
        {
          "output_type": "stream",
          "name": "stdout",
          "text": [
            "torch.Size([1, 256, 38, 25])\n"
          ]
        },
        {
          "output_type": "display_data",
          "data": {
            "text/plain": [
              "<Figure size 432x288 with 1 Axes>"
            ],
            "image/png": "[encoded data removed]"
          },
          "metadata": {
            "needs_background": "light"
          }
        },
        {
          "output_type": "stream",
          "name": "stdout",
          "text": [
            "torch.Size([1, 256, 19, 13])\n"
          ]
        },
        {
          "output_type": "display_data",
          "data": {
            "text/plain": [
              "<Figure size 432x288 with 1 Axes>"
            ],
            "image/png": "[encoded data removed]"
          },
          "metadata": {
            "needs_background": "light"
          }
        }
      ],
      "source": [
        "plt.imshow(cv2.resize(img1, (images.tensor.shape[-2:][::-1])))\n",
        "plt.show()\n",
        "for key in features.keys():\n",
        "    print(features[key].shape)\n",
        "    plt.imshow(features[key][0,0,:,:].squeeze().detach().numpy(), cmap='jet')\n",
        "    plt.show()"
      ]
    },
    {
      "cell_type": "markdown",
      "id": "de92e143",
      "metadata": {
        "id": "de92e143"
      },
      "source": [
        "# Get region proposals from RPN"
      ]
    },
    {
      "cell_type": "code",
      "execution_count": 25,
      "id": "7696540b",
      "metadata": {
        "id": "7696540b",
        "outputId": "a820da4b-0eae-4cea-b8dd-5fcf833934af",
        "colab": {
          "base_uri": "https://localhost:8080/"
        }
      },
      "outputs": [
        {
          "output_type": "stream",
          "name": "stderr",
          "text": [
            "/usr/local/lib/python3.8/dist-packages/torch/functional.py:504: UserWarning: torch.meshgrid: in an upcoming release, it will be required to pass the indexing argument. (Triggered internally at ../aten/src/ATen/native/TensorShape.cpp:3190.)\n",
            "  return _VF.meshgrid(tensors, **kwargs)  # type: ignore[attr-defined]\n"
          ]
        }
      ],
      "source": [
        "def get_proposals(model, images, features):\n",
        "    proposals, _ = model.proposal_generator(images, features)\n",
        "    return proposals\n",
        "\n",
        "proposals = get_proposals(model, images, features)"
      ]
    },
    {
      "cell_type": "markdown",
      "id": "243bec68",
      "metadata": {
        "id": "243bec68"
      },
      "source": [
        "# Get box features\n"
      ]
    },
    {
      "cell_type": "code",
      "execution_count": 26,
      "id": "ed0e4533",
      "metadata": {
        "id": "ed0e4533"
      },
      "outputs": [],
      "source": [
        "def get_box_features(model, features, proposals):\n",
        "    features_list = [features[f] for f in ['p2', 'p3', 'p4', 'p5']]\n",
        "    box_features = model.roi_heads.box_pooler(features_list, [x.proposal_boxes for x in proposals])\n",
        "    box_features = model.roi_heads.box_head.flatten(box_features)\n",
        "    box_features = model.roi_heads.box_head.fc1(box_features)\n",
        "    box_features = model.roi_heads.box_head.fc_relu1(box_features)\n",
        "    box_features = model.roi_heads.box_head.fc2(box_features)\n",
        "\n",
        "    box_features = box_features.reshape(1,1000,1024) # depends on your config and batch size\n",
        "    return box_features, features_list"
      ]
    },
    {
      "cell_type": "code",
      "execution_count": 27,
      "id": "2fccc4a7",
      "metadata": {
        "id": "2fccc4a7"
      },
      "outputs": [],
      "source": [
        "box_features, features_list = get_box_features(model, features, proposals)"
      ]
    },
    {
      "cell_type": "markdown",
      "id": "34500f4b",
      "metadata": {
        "id": "34500f4b"
      },
      "source": [
        "# Get prediction logits and boxes"
      ]
    },
    {
      "cell_type": "code",
      "execution_count": 28,
      "id": "16e7613b",
      "metadata": {
        "id": "16e7613b"
      },
      "outputs": [],
      "source": [
        "def get_prediction_logits(model, features_list, proposals):\n",
        "    cls_features = model.roi_heads.box_pooler(features_list, [x.proposal_boxes for x in proposals])\n",
        "    cls_features = model.roi_heads.box_head(cls_features)\n",
        "    pred_class_logits, pred_proposal_deltas = model.roi_heads.box_predictor(cls_features)\n",
        "    return pred_class_logits, pred_proposal_deltas\n",
        "\n",
        "pred_class_logits, pred_proposal_deltas = get_prediction_logits(model, features_list, proposals)"
      ]
    },
    {
      "cell_type": "markdown",
      "id": "d69f0ac1",
      "metadata": {
        "id": "d69f0ac1"
      },
      "source": [
        "# Get FastRCNN scores and boxes"
      ]
    },
    {
      "cell_type": "code",
      "execution_count": 29,
      "id": "3c801b6f",
      "metadata": {
        "id": "3c801b6f"
      },
      "outputs": [],
      "source": [
        "def get_box_scores(cfg, pred_class_logits, pred_proposal_deltas):\n",
        "    box2box_transform = Box2BoxTransform(weights=cfg.MODEL.ROI_BOX_HEAD.BBOX_REG_WEIGHTS)\n",
        "    smooth_l1_beta = cfg.MODEL.ROI_BOX_HEAD.SMOOTH_L1_BETA\n",
        "\n",
        "    outputs = FastRCNNOutputs(\n",
        "        box2box_transform,\n",
        "        pred_class_logits,\n",
        "        pred_proposal_deltas,\n",
        "        proposals,\n",
        "        smooth_l1_beta,\n",
        "    )\n",
        "\n",
        "    boxes = outputs.predict_boxes()\n",
        "    scores = outputs.predict_probs()\n",
        "    image_shapes = outputs.image_shapes\n",
        "\n",
        "    return boxes, scores, image_shapes\n",
        "\n",
        "boxes, scores, image_shapes = get_box_scores(cfg, pred_class_logits, pred_proposal_deltas)"
      ]
    },
    {
      "cell_type": "markdown",
      "id": "ad50caea",
      "metadata": {
        "id": "ad50caea"
      },
      "source": [
        "# Rescale the boxes to original image size"
      ]
    },
    {
      "cell_type": "code",
      "execution_count": 30,
      "id": "bbcd740d",
      "metadata": {
        "id": "bbcd740d"
      },
      "outputs": [],
      "source": [
        "def get_output_boxes(boxes, batched_inputs, image_size):\n",
        "    proposal_boxes = boxes.reshape(-1, 4).clone()\n",
        "    scale_x, scale_y = (batched_inputs[\"width\"] / image_size[1], batched_inputs[\"height\"] / image_size[0])\n",
        "    output_boxes = Boxes(proposal_boxes)\n",
        "\n",
        "    output_boxes.scale(scale_x, scale_y)\n",
        "    output_boxes.clip(image_size)\n",
        "\n",
        "    return output_boxes\n",
        "\n",
        "output_boxes = [get_output_boxes(boxes[i], batched_inputs[i], proposals[i].image_size) for i in range(len(proposals))]"
      ]
    },
    {
      "cell_type": "markdown",
      "id": "f9e5e839",
      "metadata": {
        "id": "f9e5e839"
      },
      "source": [
        "# Select the Boxes using NMS"
      ]
    },
    {
      "cell_type": "code",
      "execution_count": 31,
      "id": "987bbb91",
      "metadata": {
        "id": "987bbb91"
      },
      "outputs": [],
      "source": [
        "def select_boxes(cfg, output_boxes, scores):\n",
        "    test_score_thresh = cfg.MODEL.ROI_HEADS.SCORE_THRESH_TEST\n",
        "    test_nms_thresh = cfg.MODEL.ROI_HEADS.NMS_THRESH_TEST\n",
        "    cls_prob = scores.detach()\n",
        "    cls_boxes = output_boxes.tensor.detach().reshape(1000,80,4)\n",
        "    max_conf = torch.zeros((cls_boxes.shape[0]))\n",
        "    for cls_ind in range(0, cls_prob.shape[1]-1):\n",
        "        cls_scores = cls_prob[:, cls_ind+1]\n",
        "        det_boxes = cls_boxes[:,cls_ind,:]\n",
        "        keep = np.array(nms(det_boxes, cls_scores, test_nms_thresh))\n",
        "        max_conf[keep] = torch.where(cls_scores[keep] > max_conf[keep], cls_scores[keep], max_conf[keep])\n",
        "    keep_boxes = torch.where(max_conf >= test_score_thresh)[0]\n",
        "    return keep_boxes, max_conf"
      ]
    },
    {
      "cell_type": "code",
      "execution_count": 32,
      "id": "3483db4a",
      "metadata": {
        "id": "3483db4a"
      },
      "outputs": [],
      "source": [
        "temp = [select_boxes(cfg, output_boxes[i], scores[i]) for i in range(len(scores))]\n",
        "keep_boxes, max_conf = [],[]\n",
        "for keep_box, mx_conf in temp:\n",
        "    keep_boxes.append(keep_box)\n",
        "    max_conf.append(mx_conf)"
      ]
    },
    {
      "cell_type": "markdown",
      "id": "300a5ed8",
      "metadata": {
        "id": "300a5ed8"
      },
      "source": [
        "# Limit the total number of boxes"
      ]
    },
    {
      "cell_type": "code",
      "execution_count": 33,
      "id": "8794448d",
      "metadata": {
        "id": "8794448d"
      },
      "outputs": [],
      "source": [
        "MIN_BOXES=10\n",
        "MAX_BOXES=100\n",
        "def filter_boxes(keep_boxes, max_conf, min_boxes, max_boxes):\n",
        "    if len(keep_boxes) < min_boxes:\n",
        "        keep_boxes = np.argsort(max_conf).numpy()[::-1][:min_boxes]\n",
        "    elif len(keep_boxes) > max_boxes:\n",
        "        keep_boxes = np.argsort(max_conf).numpy()[::-1][:max_boxes]\n",
        "    return keep_boxes\n",
        "\n",
        "keep_boxes = [filter_boxes(keep_box, mx_conf, MIN_BOXES, MAX_BOXES) for keep_box, mx_conf in zip(keep_boxes, max_conf)]"
      ]
    },
    {
      "cell_type": "markdown",
      "id": "ca92d96c",
      "metadata": {
        "id": "ca92d96c"
      },
      "source": [
        "# Get the visual embeddings :"
      ]
    },
    {
      "cell_type": "code",
      "execution_count": 34,
      "id": "0cb661d4",
      "metadata": {
        "id": "0cb661d4"
      },
      "outputs": [],
      "source": [
        "def get_visual_embeds(box_features, keep_boxes):\n",
        "    return box_features[keep_boxes.copy()]\n",
        "\n",
        "visual_embeds = [get_visual_embeds(box_feature, keep_box) for box_feature, keep_box in zip(box_features, keep_boxes)]"
      ]
    },
    {
      "cell_type": "code",
      "execution_count": 35,
      "id": "574f0aee",
      "metadata": {
        "id": "574f0aee",
        "outputId": "289dadcf-94d7-4cb7-eda5-2dde85333c7b",
        "colab": {
          "base_uri": "https://localhost:8080/"
        }
      },
      "outputs": [
        {
          "output_type": "execute_result",
          "data": {
            "text/plain": [
              "[tensor([[-1.5151, -1.3061,  0.4343,  ..., -1.0215,  0.6716,  0.3357],\n",
              "         [-1.5709, -1.1686,  0.5398,  ..., -1.6218,  0.0985, -0.2234],\n",
              "         [-1.8066, -1.1910,  0.3168,  ..., -1.1237,  0.5533,  0.1434],\n",
              "         ...,\n",
              "         [-1.7307, -0.8541, -0.9089,  ..., -1.5051, -0.2767, -0.3054],\n",
              "         [ 0.1948, -0.7817,  1.0357,  ..., -0.2046,  0.0073,  0.9983],\n",
              "         [ 1.2156, -1.0004,  0.5880,  ..., -0.4656, -0.0065,  0.9104]],\n",
              "        grad_fn=<IndexBackward0>)]"
            ]
          },
          "metadata": {},
          "execution_count": 35
        }
      ],
      "source": [
        "visual_embeds"
      ]
    },
    {
      "cell_type": "markdown",
      "id": "2b15f226",
      "metadata": {
        "id": "2b15f226"
      },
      "source": [
        "# Generalisation"
      ]
    },
    {
      "cell_type": "code",
      "execution_count": 36,
      "id": "45833572",
      "metadata": {
        "id": "45833572"
      },
      "outputs": [],
      "source": [
        "def concatenation_visual_embeded(img1): \n",
        "    img_bgr1 = cv2.cvtColor(img1, cv2.COLOR_RGB2BGR)\n",
        "    images, batched_inputs = prepare_image_inputs(cfg, [img_bgr1])\n",
        "    features = get_features(model, images)\n",
        "    proposals = get_proposals(model, images, features)\n",
        "    box_features, features_list = get_box_features(model, features, proposals)\n",
        "    pred_class_logits, pred_proposal_deltas = get_prediction_logits(model, features_list, proposals)\n",
        "    boxes, scores, image_shapes = get_box_scores(cfg, pred_class_logits, pred_proposal_deltas)\n",
        "    output_boxes = [get_output_boxes(boxes[i], batched_inputs[i], proposals[i].image_size) for i in range(len(proposals))]\n",
        "    temp = [select_boxes(cfg, output_boxes[i], scores[i]) for i in range(len(scores))]\n",
        "\n",
        "    keep_boxes, max_conf = [],[]\n",
        "    for keep_box, mx_conf in temp:\n",
        "        keep_boxes.append(keep_box)\n",
        "        max_conf.append(mx_conf)\n",
        "        \n",
        "    keep_boxes = [filter_boxes(keep_box, mx_conf, MIN_BOXES, MAX_BOXES) for keep_box, mx_conf in zip(keep_boxes, max_conf)]\n",
        "    \n",
        "    visual_embeds = [get_visual_embeds(box_feature, keep_box) for box_feature, keep_box in zip(box_features, keep_boxes)]\n",
        "    \n",
        "    return visual_embeds"
      ]
    },
    {
      "cell_type": "code",
      "execution_count": 37,
      "id": "23d8cba7",
      "metadata": {
        "id": "23d8cba7"
      },
      "outputs": [],
      "source": [
        "a = concatenation_visual_embeded(img1)"
      ]
    },
    {
      "cell_type": "code",
      "execution_count": 38,
      "id": "33d221cc",
      "metadata": {
        "id": "33d221cc",
        "outputId": "eafb3ce1-a5b0-42a3-b951-8d43d7230098",
        "colab": {
          "base_uri": "https://localhost:8080/"
        }
      },
      "outputs": [
        {
          "output_type": "execute_result",
          "data": {
            "text/plain": [
              "torch.Tensor"
            ]
          },
          "metadata": {},
          "execution_count": 38
        }
      ],
      "source": [
        "type(a[0])"
      ]
    },
    {
      "cell_type": "code",
      "execution_count": 43,
      "id": "475cb520",
      "metadata": {
        "id": "475cb520"
      },
      "outputs": [],
      "source": [
        "import json\n",
        "import pickle\n",
        "df = pd.read_json(\"/content/drive/MyDrive/data/train.jsonl\", lines=True)\n"
      ]
    },
    {
      "cell_type": "code",
      "source": [
        "l1 = []\n",
        "\n",
        "with open(\"/content/drive/MyDrive/data/file.pkl\", \"rb\") as f:\n",
        "    l1 = pickle.load(f)\n",
        "f.close()\n",
        "print(len(l1))"
      ],
      "metadata": {
        "id": "ztlpwotgr9XO",
        "outputId": "f037b4ad-f6db-41cd-d9a3-6e2238d31523",
        "colab": {
          "base_uri": "https://localhost:8080/"
        }
      },
      "id": "ztlpwotgr9XO",
      "execution_count": 44,
      "outputs": [
        {
          "output_type": "stream",
          "name": "stdout",
          "text": [
            "8500\n"
          ]
        }
      ]
    },
    {
      "cell_type": "code",
      "source": [
        "l = l1"
      ],
      "metadata": {
        "id": "FD3PyMbItTD_"
      },
      "id": "FD3PyMbItTD_",
      "execution_count": 45,
      "outputs": []
    },
    {
      "cell_type": "code",
      "source": [
        "i = len(l) "
      ],
      "metadata": {
        "id": "CF_0wGq7yBmr"
      },
      "id": "CF_0wGq7yBmr",
      "execution_count": 47,
      "outputs": []
    },
    {
      "cell_type": "code",
      "execution_count": 48,
      "id": "1ebac27e",
      "metadata": {
        "id": "1ebac27e",
        "outputId": "ca553309-cd5e-4fcd-d3b3-6f8380dd1805",
        "colab": {
          "base_uri": "https://localhost:8080/"
        }
      },
      "outputs": [
        {
          "output_type": "stream",
          "name": "stdout",
          "text": [
            "8498\n"
          ]
        }
      ],
      "source": [
        "\n",
        "print(i)\n",
        "while i < 8500 :  \n",
        "   # if i != 282 and i != 344 and i != 361 and i != 944 and i != 976 and i != 1054 and i != 1454 and i != 1651 and i != 1706 and i != 1962 and i != 2203 and i!= 2299:\n",
        "    if i not in [282, 344, 361, 944, 976, 1054, 1454, 1651, 1706, 1962, 2203, 2299, 2685, 2827, 2986, 3599, 3803,4072, 4122, 4203, 4701, 5245, 5248, 5463, 5567, 5804, 6331, 6413, 6487, 6581, 6610, 7000, 7262, 8182, 8195, 8225]: \n",
        "      img = plt.imread(f'/content/drive/MyDrive/data/' + df.img[i]) \n",
        "      con = concatenation_visual_embeded(img)[0].detach().numpy()\n",
        "      l.append(con)\n",
        "    else:\n",
        "      l.append(0)\n",
        "    i+=1\n"
      ]
    },
    {
      "cell_type": "code",
      "source": [
        "\n",
        "#l.pop()\n",
        "with open(\"/content/drive/MyDrive/data/file.pkl\", \"wb\") as f:\n",
        "    pickle.dump(l, f)\n",
        "f.close()"
      ],
      "metadata": {
        "id": "DlT10LDVpVg1"
      },
      "id": "DlT10LDVpVg1",
      "execution_count": 49,
      "outputs": []
    },
    {
      "cell_type": "code",
      "execution_count": 46,
      "id": "4f68ac9f",
      "metadata": {
        "id": "4f68ac9f"
      },
      "outputs": [],
      "source": [
        "df.loc[:, 'embedded'] = l"
      ]
    },
    {
      "cell_type": "code",
      "execution_count": null,
      "id": "18ec4244",
      "metadata": {
        "id": "18ec4244"
      },
      "outputs": [],
      "source": [
        "df.to_json(path_or_buf = \"D:\\code\\2ème année\\statsapp\\data\\train_embed.jsonl\", orient = 'records', lines = True)"
      ]
    },
    {
      "cell_type": "markdown",
      "id": "88b70bc5",
      "metadata": {
        "id": "88b70bc5"
      },
      "source": [
        "# Entrainement du model "
      ]
    },
    {
      "cell_type": "code",
      "execution_count": null,
      "id": "3e913df7",
      "metadata": {
        "id": "3e913df7"
      },
      "outputs": [],
      "source": [
        "df"
      ]
    }
  ],
  "metadata": {
    "kernelspec": {
      "display_name": "Python 3 (ipykernel)",
      "language": "python",
      "name": "python3"
    },
    "language_info": {
      "codemirror_mode": {
        "name": "ipython",
        "version": 3
      },
      "file_extension": ".py",
      "mimetype": "text/x-python",
      "name": "python",
      "nbconvert_exporter": "python",
      "pygments_lexer": "ipython3",
      "version": "3.9.13"
    },
    "colab": {
      "provenance": []
    },
    "gpuClass": "standard"
  },
  "nbformat": 4,
  "nbformat_minor": 5
}