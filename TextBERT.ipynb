{
  "cells": [
    {
      "cell_type": "code",
      "execution_count": 1,
      "metadata": {
        "colab": {
          "base_uri": "https://localhost:8080/"
        },
        "id": "KC8_C-AmTOH5",
        "outputId": "88dcf8af-944c-45ea-8e4a-80de1e3b9e19"
      },
      "outputs": [
        {
          "output_type": "stream",
          "name": "stdout",
          "text": [
            "Looking in indexes: https://pypi.org/simple, https://us-python.pkg.dev/colab-wheels/public/simple/\n",
            "Collecting transformers\n",
            "  Downloading transformers-4.27.4-py3-none-any.whl (6.8 MB)\n",
            "\u001b[2K     \u001b[90m━━━━━━━━━━━━━━━━━━━━━━━━━━━━━━━━━━━━━━━━\u001b[0m \u001b[32m6.8/6.8 MB\u001b[0m \u001b[31m52.1 MB/s\u001b[0m eta \u001b[36m0:00:00\u001b[0m\n",
            "\u001b[?25hCollecting tokenizers!=0.11.3,<0.14,>=0.11.1\n",
            "  Downloading tokenizers-0.13.3-cp39-cp39-manylinux_2_17_x86_64.manylinux2014_x86_64.whl (7.8 MB)\n",
            "\u001b[2K     \u001b[90m━━━━━━━━━━━━━━━━━━━━━━━━━━━━━━━━━━━━━━━━\u001b[0m \u001b[32m7.8/7.8 MB\u001b[0m \u001b[31m57.8 MB/s\u001b[0m eta \u001b[36m0:00:00\u001b[0m\n",
            "\u001b[?25hRequirement already satisfied: regex!=2019.12.17 in /usr/local/lib/python3.9/dist-packages (from transformers) (2022.10.31)\n",
            "Requirement already satisfied: requests in /usr/local/lib/python3.9/dist-packages (from transformers) (2.27.1)\n",
            "Requirement already satisfied: pyyaml>=5.1 in /usr/local/lib/python3.9/dist-packages (from transformers) (6.0)\n",
            "Collecting huggingface-hub<1.0,>=0.11.0\n",
            "  Downloading huggingface_hub-0.13.3-py3-none-any.whl (199 kB)\n",
            "\u001b[2K     \u001b[90m━━━━━━━━━━━━━━━━━━━━━━━━━━━━━━━━━━━━━━\u001b[0m \u001b[32m199.8/199.8 KB\u001b[0m \u001b[31m14.3 MB/s\u001b[0m eta \u001b[36m0:00:00\u001b[0m\n",
            "\u001b[?25hRequirement already satisfied: numpy>=1.17 in /usr/local/lib/python3.9/dist-packages (from transformers) (1.22.4)\n",
            "Requirement already satisfied: packaging>=20.0 in /usr/local/lib/python3.9/dist-packages (from transformers) (23.0)\n",
            "Requirement already satisfied: filelock in /usr/local/lib/python3.9/dist-packages (from transformers) (3.10.7)\n",
            "Requirement already satisfied: tqdm>=4.27 in /usr/local/lib/python3.9/dist-packages (from transformers) (4.65.0)\n",
            "Requirement already satisfied: typing-extensions>=3.7.4.3 in /usr/local/lib/python3.9/dist-packages (from huggingface-hub<1.0,>=0.11.0->transformers) (4.5.0)\n",
            "Requirement already satisfied: certifi>=2017.4.17 in /usr/local/lib/python3.9/dist-packages (from requests->transformers) (2022.12.7)\n",
            "Requirement already satisfied: idna<4,>=2.5 in /usr/local/lib/python3.9/dist-packages (from requests->transformers) (3.4)\n",
            "Requirement already satisfied: charset-normalizer~=2.0.0 in /usr/local/lib/python3.9/dist-packages (from requests->transformers) (2.0.12)\n",
            "Requirement already satisfied: urllib3<1.27,>=1.21.1 in /usr/local/lib/python3.9/dist-packages (from requests->transformers) (1.26.15)\n",
            "Installing collected packages: tokenizers, huggingface-hub, transformers\n",
            "Successfully installed huggingface-hub-0.13.3 tokenizers-0.13.3 transformers-4.27.4\n"
          ]
        }
      ],
      "source": [
        "! pip install transformers"
      ]
    },
    {
      "cell_type": "code",
      "execution_count": 2,
      "metadata": {
        "colab": {
          "base_uri": "https://localhost:8080/"
        },
        "id": "dvtNfNERHhNy",
        "outputId": "814f638e-2ccd-4042-a2db-c67287d5d008"
      },
      "outputs": [
        {
          "output_type": "stream",
          "name": "stderr",
          "text": [
            "[nltk_data] Downloading package stopwords to /root/nltk_data...\n",
            "[nltk_data]   Unzipping corpora/stopwords.zip.\n"
          ]
        },
        {
          "output_type": "execute_result",
          "data": {
            "text/plain": [
              "True"
            ]
          },
          "metadata": {},
          "execution_count": 2
        }
      ],
      "source": [
        "import tensorflow as tf\n",
        "import matplotlib.pyplot as plt\n",
        "import pandas as pd\n",
        "import string\n",
        "import re\n",
        "import sklearn\n",
        "import numpy as np\n",
        "import nltk\n",
        "from nltk.corpus import stopwords\n",
        "nltk.download('stopwords')"
      ]
    },
    {
      "cell_type": "code",
      "source": [
        "device_name = tf.test.gpu_device_name()\n",
        "if device_name != '/device:GPU:0':\n",
        "  raise SystemError('GPU device not found')\n",
        "print('Found GPU at: {}'.format(device_name))"
      ],
      "metadata": {
        "colab": {
          "base_uri": "https://localhost:8080/"
        },
        "id": "oSkPrRdRllP0",
        "outputId": "fd39190f-f26f-4399-cea4-065dd28c6df2"
      },
      "execution_count": 3,
      "outputs": [
        {
          "output_type": "stream",
          "name": "stdout",
          "text": [
            "Found GPU at: /device:GPU:0\n"
          ]
        }
      ]
    },
    {
      "cell_type": "code",
      "execution_count": 4,
      "metadata": {
        "colab": {
          "base_uri": "https://localhost:8080/",
          "height": 206
        },
        "id": "bzMph8VvFOrb",
        "outputId": "d2547f58-c8b8-470d-a236-25d89d121645"
      },
      "outputs": [
        {
          "output_type": "execute_result",
          "data": {
            "text/plain": [
              "      id            img  label  \\\n",
              "0  42953  img/42953.png      0   \n",
              "1  23058  img/23058.png      0   \n",
              "2  13894  img/13894.png      0   \n",
              "3  37408  img/37408.png      0   \n",
              "4  82403  img/82403.png      0   \n",
              "\n",
              "                                                text  \n",
              "0   its their character not their color that matters  \n",
              "1  don't be afraid to love again everyone is not ...  \n",
              "2                           putting bows on your pet  \n",
              "3  i love everything and everybody! except for sq...  \n",
              "4  everybody loves chocolate chip cookies, even h...  "
            ],
            "text/html": [
              "\n",
              "  <div id=\"df-4e1566a1-95d9-4ac6-8574-203315e5dadb\">\n",
              "    <div class=\"colab-df-container\">\n",
              "      <div>\n",
              "<style scoped>\n",
              "    .dataframe tbody tr th:only-of-type {\n",
              "        vertical-align: middle;\n",
              "    }\n",
              "\n",
              "    .dataframe tbody tr th {\n",
              "        vertical-align: top;\n",
              "    }\n",
              "\n",
              "    .dataframe thead th {\n",
              "        text-align: right;\n",
              "    }\n",
              "</style>\n",
              "<table border=\"1\" class=\"dataframe\">\n",
              "  <thead>\n",
              "    <tr style=\"text-align: right;\">\n",
              "      <th></th>\n",
              "      <th>id</th>\n",
              "      <th>img</th>\n",
              "      <th>label</th>\n",
              "      <th>text</th>\n",
              "    </tr>\n",
              "  </thead>\n",
              "  <tbody>\n",
              "    <tr>\n",
              "      <th>0</th>\n",
              "      <td>42953</td>\n",
              "      <td>img/42953.png</td>\n",
              "      <td>0</td>\n",
              "      <td>its their character not their color that matters</td>\n",
              "    </tr>\n",
              "    <tr>\n",
              "      <th>1</th>\n",
              "      <td>23058</td>\n",
              "      <td>img/23058.png</td>\n",
              "      <td>0</td>\n",
              "      <td>don't be afraid to love again everyone is not ...</td>\n",
              "    </tr>\n",
              "    <tr>\n",
              "      <th>2</th>\n",
              "      <td>13894</td>\n",
              "      <td>img/13894.png</td>\n",
              "      <td>0</td>\n",
              "      <td>putting bows on your pet</td>\n",
              "    </tr>\n",
              "    <tr>\n",
              "      <th>3</th>\n",
              "      <td>37408</td>\n",
              "      <td>img/37408.png</td>\n",
              "      <td>0</td>\n",
              "      <td>i love everything and everybody! except for sq...</td>\n",
              "    </tr>\n",
              "    <tr>\n",
              "      <th>4</th>\n",
              "      <td>82403</td>\n",
              "      <td>img/82403.png</td>\n",
              "      <td>0</td>\n",
              "      <td>everybody loves chocolate chip cookies, even h...</td>\n",
              "    </tr>\n",
              "  </tbody>\n",
              "</table>\n",
              "</div>\n",
              "      <button class=\"colab-df-convert\" onclick=\"convertToInteractive('df-4e1566a1-95d9-4ac6-8574-203315e5dadb')\"\n",
              "              title=\"Convert this dataframe to an interactive table.\"\n",
              "              style=\"display:none;\">\n",
              "        \n",
              "  <svg xmlns=\"http://www.w3.org/2000/svg\" height=\"24px\"viewBox=\"0 0 24 24\"\n",
              "       width=\"24px\">\n",
              "    <path d=\"M0 0h24v24H0V0z\" fill=\"none\"/>\n",
              "    <path d=\"M18.56 5.44l.94 2.06.94-2.06 2.06-.94-2.06-.94-.94-2.06-.94 2.06-2.06.94zm-11 1L8.5 8.5l.94-2.06 2.06-.94-2.06-.94L8.5 2.5l-.94 2.06-2.06.94zm10 10l.94 2.06.94-2.06 2.06-.94-2.06-.94-.94-2.06-.94 2.06-2.06.94z\"/><path d=\"M17.41 7.96l-1.37-1.37c-.4-.4-.92-.59-1.43-.59-.52 0-1.04.2-1.43.59L10.3 9.45l-7.72 7.72c-.78.78-.78 2.05 0 2.83L4 21.41c.39.39.9.59 1.41.59.51 0 1.02-.2 1.41-.59l7.78-7.78 2.81-2.81c.8-.78.8-2.07 0-2.86zM5.41 20L4 18.59l7.72-7.72 1.47 1.35L5.41 20z\"/>\n",
              "  </svg>\n",
              "      </button>\n",
              "      \n",
              "  <style>\n",
              "    .colab-df-container {\n",
              "      display:flex;\n",
              "      flex-wrap:wrap;\n",
              "      gap: 12px;\n",
              "    }\n",
              "\n",
              "    .colab-df-convert {\n",
              "      background-color: #E8F0FE;\n",
              "      border: none;\n",
              "      border-radius: 50%;\n",
              "      cursor: pointer;\n",
              "      display: none;\n",
              "      fill: #1967D2;\n",
              "      height: 32px;\n",
              "      padding: 0 0 0 0;\n",
              "      width: 32px;\n",
              "    }\n",
              "\n",
              "    .colab-df-convert:hover {\n",
              "      background-color: #E2EBFA;\n",
              "      box-shadow: 0px 1px 2px rgba(60, 64, 67, 0.3), 0px 1px 3px 1px rgba(60, 64, 67, 0.15);\n",
              "      fill: #174EA6;\n",
              "    }\n",
              "\n",
              "    [theme=dark] .colab-df-convert {\n",
              "      background-color: #3B4455;\n",
              "      fill: #D2E3FC;\n",
              "    }\n",
              "\n",
              "    [theme=dark] .colab-df-convert:hover {\n",
              "      background-color: #434B5C;\n",
              "      box-shadow: 0px 1px 3px 1px rgba(0, 0, 0, 0.15);\n",
              "      filter: drop-shadow(0px 1px 2px rgba(0, 0, 0, 0.3));\n",
              "      fill: #FFFFFF;\n",
              "    }\n",
              "  </style>\n",
              "\n",
              "      <script>\n",
              "        const buttonEl =\n",
              "          document.querySelector('#df-4e1566a1-95d9-4ac6-8574-203315e5dadb button.colab-df-convert');\n",
              "        buttonEl.style.display =\n",
              "          google.colab.kernel.accessAllowed ? 'block' : 'none';\n",
              "\n",
              "        async function convertToInteractive(key) {\n",
              "          const element = document.querySelector('#df-4e1566a1-95d9-4ac6-8574-203315e5dadb');\n",
              "          const dataTable =\n",
              "            await google.colab.kernel.invokeFunction('convertToInteractive',\n",
              "                                                     [key], {});\n",
              "          if (!dataTable) return;\n",
              "\n",
              "          const docLinkHtml = 'Like what you see? Visit the ' +\n",
              "            '<a target=\"_blank\" href=https://colab.research.google.com/notebooks/data_table.ipynb>data table notebook</a>'\n",
              "            + ' to learn more about interactive tables.';\n",
              "          element.innerHTML = '';\n",
              "          dataTable['output_type'] = 'display_data';\n",
              "          await google.colab.output.renderOutput(dataTable, element);\n",
              "          const docLink = document.createElement('div');\n",
              "          docLink.innerHTML = docLinkHtml;\n",
              "          element.appendChild(docLink);\n",
              "        }\n",
              "      </script>\n",
              "    </div>\n",
              "  </div>\n",
              "  "
            ]
          },
          "metadata": {},
          "execution_count": 4
        }
      ],
      "source": [
        "train = pd.read_json(\"train.jsonl\",lines=True)\n",
        "dev = pd.read_json(\"dev.jsonl\",lines=True)\n",
        "train.head()"
      ]
    },
    {
      "cell_type": "code",
      "execution_count": 5,
      "metadata": {
        "colab": {
          "base_uri": "https://localhost:8080/",
          "height": 206
        },
        "id": "1YiwSL8ZjkZo",
        "outputId": "2c191a53-6853-4e62-b989-b6636d888c3d"
      },
      "outputs": [
        {
          "output_type": "execute_result",
          "data": {
            "text/plain": [
              "   label                                               text\n",
              "0      0   its their character not their color that matters\n",
              "1      0  don't be afraid to love again everyone is not ...\n",
              "2      0                           putting bows on your pet\n",
              "3      0  i love everything and everybody! except for sq...\n",
              "4      0  everybody loves chocolate chip cookies, even h..."
            ],
            "text/html": [
              "\n",
              "  <div id=\"df-35e6bd8d-8a42-4406-8a0a-6894b2574ecb\">\n",
              "    <div class=\"colab-df-container\">\n",
              "      <div>\n",
              "<style scoped>\n",
              "    .dataframe tbody tr th:only-of-type {\n",
              "        vertical-align: middle;\n",
              "    }\n",
              "\n",
              "    .dataframe tbody tr th {\n",
              "        vertical-align: top;\n",
              "    }\n",
              "\n",
              "    .dataframe thead th {\n",
              "        text-align: right;\n",
              "    }\n",
              "</style>\n",
              "<table border=\"1\" class=\"dataframe\">\n",
              "  <thead>\n",
              "    <tr style=\"text-align: right;\">\n",
              "      <th></th>\n",
              "      <th>label</th>\n",
              "      <th>text</th>\n",
              "    </tr>\n",
              "  </thead>\n",
              "  <tbody>\n",
              "    <tr>\n",
              "      <th>0</th>\n",
              "      <td>0</td>\n",
              "      <td>its their character not their color that matters</td>\n",
              "    </tr>\n",
              "    <tr>\n",
              "      <th>1</th>\n",
              "      <td>0</td>\n",
              "      <td>don't be afraid to love again everyone is not ...</td>\n",
              "    </tr>\n",
              "    <tr>\n",
              "      <th>2</th>\n",
              "      <td>0</td>\n",
              "      <td>putting bows on your pet</td>\n",
              "    </tr>\n",
              "    <tr>\n",
              "      <th>3</th>\n",
              "      <td>0</td>\n",
              "      <td>i love everything and everybody! except for sq...</td>\n",
              "    </tr>\n",
              "    <tr>\n",
              "      <th>4</th>\n",
              "      <td>0</td>\n",
              "      <td>everybody loves chocolate chip cookies, even h...</td>\n",
              "    </tr>\n",
              "  </tbody>\n",
              "</table>\n",
              "</div>\n",
              "      <button class=\"colab-df-convert\" onclick=\"convertToInteractive('df-35e6bd8d-8a42-4406-8a0a-6894b2574ecb')\"\n",
              "              title=\"Convert this dataframe to an interactive table.\"\n",
              "              style=\"display:none;\">\n",
              "        \n",
              "  <svg xmlns=\"http://www.w3.org/2000/svg\" height=\"24px\"viewBox=\"0 0 24 24\"\n",
              "       width=\"24px\">\n",
              "    <path d=\"M0 0h24v24H0V0z\" fill=\"none\"/>\n",
              "    <path d=\"M18.56 5.44l.94 2.06.94-2.06 2.06-.94-2.06-.94-.94-2.06-.94 2.06-2.06.94zm-11 1L8.5 8.5l.94-2.06 2.06-.94-2.06-.94L8.5 2.5l-.94 2.06-2.06.94zm10 10l.94 2.06.94-2.06 2.06-.94-2.06-.94-.94-2.06-.94 2.06-2.06.94z\"/><path d=\"M17.41 7.96l-1.37-1.37c-.4-.4-.92-.59-1.43-.59-.52 0-1.04.2-1.43.59L10.3 9.45l-7.72 7.72c-.78.78-.78 2.05 0 2.83L4 21.41c.39.39.9.59 1.41.59.51 0 1.02-.2 1.41-.59l7.78-7.78 2.81-2.81c.8-.78.8-2.07 0-2.86zM5.41 20L4 18.59l7.72-7.72 1.47 1.35L5.41 20z\"/>\n",
              "  </svg>\n",
              "      </button>\n",
              "      \n",
              "  <style>\n",
              "    .colab-df-container {\n",
              "      display:flex;\n",
              "      flex-wrap:wrap;\n",
              "      gap: 12px;\n",
              "    }\n",
              "\n",
              "    .colab-df-convert {\n",
              "      background-color: #E8F0FE;\n",
              "      border: none;\n",
              "      border-radius: 50%;\n",
              "      cursor: pointer;\n",
              "      display: none;\n",
              "      fill: #1967D2;\n",
              "      height: 32px;\n",
              "      padding: 0 0 0 0;\n",
              "      width: 32px;\n",
              "    }\n",
              "\n",
              "    .colab-df-convert:hover {\n",
              "      background-color: #E2EBFA;\n",
              "      box-shadow: 0px 1px 2px rgba(60, 64, 67, 0.3), 0px 1px 3px 1px rgba(60, 64, 67, 0.15);\n",
              "      fill: #174EA6;\n",
              "    }\n",
              "\n",
              "    [theme=dark] .colab-df-convert {\n",
              "      background-color: #3B4455;\n",
              "      fill: #D2E3FC;\n",
              "    }\n",
              "\n",
              "    [theme=dark] .colab-df-convert:hover {\n",
              "      background-color: #434B5C;\n",
              "      box-shadow: 0px 1px 3px 1px rgba(0, 0, 0, 0.15);\n",
              "      filter: drop-shadow(0px 1px 2px rgba(0, 0, 0, 0.3));\n",
              "      fill: #FFFFFF;\n",
              "    }\n",
              "  </style>\n",
              "\n",
              "      <script>\n",
              "        const buttonEl =\n",
              "          document.querySelector('#df-35e6bd8d-8a42-4406-8a0a-6894b2574ecb button.colab-df-convert');\n",
              "        buttonEl.style.display =\n",
              "          google.colab.kernel.accessAllowed ? 'block' : 'none';\n",
              "\n",
              "        async function convertToInteractive(key) {\n",
              "          const element = document.querySelector('#df-35e6bd8d-8a42-4406-8a0a-6894b2574ecb');\n",
              "          const dataTable =\n",
              "            await google.colab.kernel.invokeFunction('convertToInteractive',\n",
              "                                                     [key], {});\n",
              "          if (!dataTable) return;\n",
              "\n",
              "          const docLinkHtml = 'Like what you see? Visit the ' +\n",
              "            '<a target=\"_blank\" href=https://colab.research.google.com/notebooks/data_table.ipynb>data table notebook</a>'\n",
              "            + ' to learn more about interactive tables.';\n",
              "          element.innerHTML = '';\n",
              "          dataTable['output_type'] = 'display_data';\n",
              "          await google.colab.output.renderOutput(dataTable, element);\n",
              "          const docLink = document.createElement('div');\n",
              "          docLink.innerHTML = docLinkHtml;\n",
              "          element.appendChild(docLink);\n",
              "        }\n",
              "      </script>\n",
              "    </div>\n",
              "  </div>\n",
              "  "
            ]
          },
          "metadata": {},
          "execution_count": 5
        }
      ],
      "source": [
        "del train['id']\n",
        "del train['img']\n",
        "train.head()"
      ]
    },
    {
      "cell_type": "code",
      "execution_count": 6,
      "metadata": {
        "colab": {
          "base_uri": "https://localhost:8080/",
          "height": 206
        },
        "id": "VOa6IUn3T7C4",
        "outputId": "74c88ea2-b79d-493c-81aa-cbc14bfd0487"
      },
      "outputs": [
        {
          "output_type": "execute_result",
          "data": {
            "text/plain": [
              "   label                                               text\n",
              "0      1              white people is this a shooting range\n",
              "1      1                              bravery at its finest\n",
              "2      1  your order comes to $37.50 and your white priv...\n",
              "3      1  it is time.. to send these parasites back to t...\n",
              "4      1                             mississippi wind chime"
            ],
            "text/html": [
              "\n",
              "  <div id=\"df-fd750e48-a510-4c2d-9f2f-894a41b26466\">\n",
              "    <div class=\"colab-df-container\">\n",
              "      <div>\n",
              "<style scoped>\n",
              "    .dataframe tbody tr th:only-of-type {\n",
              "        vertical-align: middle;\n",
              "    }\n",
              "\n",
              "    .dataframe tbody tr th {\n",
              "        vertical-align: top;\n",
              "    }\n",
              "\n",
              "    .dataframe thead th {\n",
              "        text-align: right;\n",
              "    }\n",
              "</style>\n",
              "<table border=\"1\" class=\"dataframe\">\n",
              "  <thead>\n",
              "    <tr style=\"text-align: right;\">\n",
              "      <th></th>\n",
              "      <th>label</th>\n",
              "      <th>text</th>\n",
              "    </tr>\n",
              "  </thead>\n",
              "  <tbody>\n",
              "    <tr>\n",
              "      <th>0</th>\n",
              "      <td>1</td>\n",
              "      <td>white people is this a shooting range</td>\n",
              "    </tr>\n",
              "    <tr>\n",
              "      <th>1</th>\n",
              "      <td>1</td>\n",
              "      <td>bravery at its finest</td>\n",
              "    </tr>\n",
              "    <tr>\n",
              "      <th>2</th>\n",
              "      <td>1</td>\n",
              "      <td>your order comes to $37.50 and your white priv...</td>\n",
              "    </tr>\n",
              "    <tr>\n",
              "      <th>3</th>\n",
              "      <td>1</td>\n",
              "      <td>it is time.. to send these parasites back to t...</td>\n",
              "    </tr>\n",
              "    <tr>\n",
              "      <th>4</th>\n",
              "      <td>1</td>\n",
              "      <td>mississippi wind chime</td>\n",
              "    </tr>\n",
              "  </tbody>\n",
              "</table>\n",
              "</div>\n",
              "      <button class=\"colab-df-convert\" onclick=\"convertToInteractive('df-fd750e48-a510-4c2d-9f2f-894a41b26466')\"\n",
              "              title=\"Convert this dataframe to an interactive table.\"\n",
              "              style=\"display:none;\">\n",
              "        \n",
              "  <svg xmlns=\"http://www.w3.org/2000/svg\" height=\"24px\"viewBox=\"0 0 24 24\"\n",
              "       width=\"24px\">\n",
              "    <path d=\"M0 0h24v24H0V0z\" fill=\"none\"/>\n",
              "    <path d=\"M18.56 5.44l.94 2.06.94-2.06 2.06-.94-2.06-.94-.94-2.06-.94 2.06-2.06.94zm-11 1L8.5 8.5l.94-2.06 2.06-.94-2.06-.94L8.5 2.5l-.94 2.06-2.06.94zm10 10l.94 2.06.94-2.06 2.06-.94-2.06-.94-.94-2.06-.94 2.06-2.06.94z\"/><path d=\"M17.41 7.96l-1.37-1.37c-.4-.4-.92-.59-1.43-.59-.52 0-1.04.2-1.43.59L10.3 9.45l-7.72 7.72c-.78.78-.78 2.05 0 2.83L4 21.41c.39.39.9.59 1.41.59.51 0 1.02-.2 1.41-.59l7.78-7.78 2.81-2.81c.8-.78.8-2.07 0-2.86zM5.41 20L4 18.59l7.72-7.72 1.47 1.35L5.41 20z\"/>\n",
              "  </svg>\n",
              "      </button>\n",
              "      \n",
              "  <style>\n",
              "    .colab-df-container {\n",
              "      display:flex;\n",
              "      flex-wrap:wrap;\n",
              "      gap: 12px;\n",
              "    }\n",
              "\n",
              "    .colab-df-convert {\n",
              "      background-color: #E8F0FE;\n",
              "      border: none;\n",
              "      border-radius: 50%;\n",
              "      cursor: pointer;\n",
              "      display: none;\n",
              "      fill: #1967D2;\n",
              "      height: 32px;\n",
              "      padding: 0 0 0 0;\n",
              "      width: 32px;\n",
              "    }\n",
              "\n",
              "    .colab-df-convert:hover {\n",
              "      background-color: #E2EBFA;\n",
              "      box-shadow: 0px 1px 2px rgba(60, 64, 67, 0.3), 0px 1px 3px 1px rgba(60, 64, 67, 0.15);\n",
              "      fill: #174EA6;\n",
              "    }\n",
              "\n",
              "    [theme=dark] .colab-df-convert {\n",
              "      background-color: #3B4455;\n",
              "      fill: #D2E3FC;\n",
              "    }\n",
              "\n",
              "    [theme=dark] .colab-df-convert:hover {\n",
              "      background-color: #434B5C;\n",
              "      box-shadow: 0px 1px 3px 1px rgba(0, 0, 0, 0.15);\n",
              "      filter: drop-shadow(0px 1px 2px rgba(0, 0, 0, 0.3));\n",
              "      fill: #FFFFFF;\n",
              "    }\n",
              "  </style>\n",
              "\n",
              "      <script>\n",
              "        const buttonEl =\n",
              "          document.querySelector('#df-fd750e48-a510-4c2d-9f2f-894a41b26466 button.colab-df-convert');\n",
              "        buttonEl.style.display =\n",
              "          google.colab.kernel.accessAllowed ? 'block' : 'none';\n",
              "\n",
              "        async function convertToInteractive(key) {\n",
              "          const element = document.querySelector('#df-fd750e48-a510-4c2d-9f2f-894a41b26466');\n",
              "          const dataTable =\n",
              "            await google.colab.kernel.invokeFunction('convertToInteractive',\n",
              "                                                     [key], {});\n",
              "          if (!dataTable) return;\n",
              "\n",
              "          const docLinkHtml = 'Like what you see? Visit the ' +\n",
              "            '<a target=\"_blank\" href=https://colab.research.google.com/notebooks/data_table.ipynb>data table notebook</a>'\n",
              "            + ' to learn more about interactive tables.';\n",
              "          element.innerHTML = '';\n",
              "          dataTable['output_type'] = 'display_data';\n",
              "          await google.colab.output.renderOutput(dataTable, element);\n",
              "          const docLink = document.createElement('div');\n",
              "          docLink.innerHTML = docLinkHtml;\n",
              "          element.appendChild(docLink);\n",
              "        }\n",
              "      </script>\n",
              "    </div>\n",
              "  </div>\n",
              "  "
            ]
          },
          "metadata": {},
          "execution_count": 6
        }
      ],
      "source": [
        "del dev['id']\n",
        "del dev['img']\n",
        "dev.head()"
      ]
    },
    {
      "cell_type": "code",
      "execution_count": 7,
      "metadata": {
        "id": "sUixGfvpUVfw"
      },
      "outputs": [],
      "source": [
        "# functions to pre process text data : \n",
        "# 1. remove stopwords\n",
        "# 2. remove punctuation\n",
        "\n",
        "def stop_words(df, column, new_column):\n",
        "  df[new_column]=df[column].apply(lambda x: ' '.join([item for item in x.split() if item not in stopwords.words('english')]))\n",
        "  return df\n",
        "\n",
        "def punctuation(df, column, new_column):\n",
        "  df[new_column]=df[column].apply(lambda x: \"\".join([char for char in x if char not in string.punctuation]))\n",
        "  return df"
      ]
    },
    {
      "cell_type": "code",
      "execution_count": 8,
      "metadata": {
        "colab": {
          "base_uri": "https://localhost:8080/",
          "height": 206
        },
        "id": "MLy5UqpLgzKb",
        "outputId": "d36b53ef-ad00-4304-8f20-c27bf66a0bbb"
      },
      "outputs": [
        {
          "output_type": "execute_result",
          "data": {
            "text/plain": [
              "   label                                               text  \\\n",
              "0      0   its their character not their color that matters   \n",
              "1      0  don't be afraid to love again everyone is not ...   \n",
              "2      0                           putting bows on your pet   \n",
              "3      0  i love everything and everybody! except for sq...   \n",
              "4      0  everybody loves chocolate chip cookies, even h...   \n",
              "\n",
              "                                        cleaned_text  \n",
              "0                            character color matters  \n",
              "1                       afraid love everyone like ex  \n",
              "2                                   putting bows pet  \n",
              "3  love everything everybody except squirrels hat...  \n",
              "4  everybody loves chocolate chip cookies even hi...  "
            ],
            "text/html": [
              "\n",
              "  <div id=\"df-f7aeacd6-3121-41e1-af80-7d3495bfdcc8\">\n",
              "    <div class=\"colab-df-container\">\n",
              "      <div>\n",
              "<style scoped>\n",
              "    .dataframe tbody tr th:only-of-type {\n",
              "        vertical-align: middle;\n",
              "    }\n",
              "\n",
              "    .dataframe tbody tr th {\n",
              "        vertical-align: top;\n",
              "    }\n",
              "\n",
              "    .dataframe thead th {\n",
              "        text-align: right;\n",
              "    }\n",
              "</style>\n",
              "<table border=\"1\" class=\"dataframe\">\n",
              "  <thead>\n",
              "    <tr style=\"text-align: right;\">\n",
              "      <th></th>\n",
              "      <th>label</th>\n",
              "      <th>text</th>\n",
              "      <th>cleaned_text</th>\n",
              "    </tr>\n",
              "  </thead>\n",
              "  <tbody>\n",
              "    <tr>\n",
              "      <th>0</th>\n",
              "      <td>0</td>\n",
              "      <td>its their character not their color that matters</td>\n",
              "      <td>character color matters</td>\n",
              "    </tr>\n",
              "    <tr>\n",
              "      <th>1</th>\n",
              "      <td>0</td>\n",
              "      <td>don't be afraid to love again everyone is not ...</td>\n",
              "      <td>afraid love everyone like ex</td>\n",
              "    </tr>\n",
              "    <tr>\n",
              "      <th>2</th>\n",
              "      <td>0</td>\n",
              "      <td>putting bows on your pet</td>\n",
              "      <td>putting bows pet</td>\n",
              "    </tr>\n",
              "    <tr>\n",
              "      <th>3</th>\n",
              "      <td>0</td>\n",
              "      <td>i love everything and everybody! except for sq...</td>\n",
              "      <td>love everything everybody except squirrels hat...</td>\n",
              "    </tr>\n",
              "    <tr>\n",
              "      <th>4</th>\n",
              "      <td>0</td>\n",
              "      <td>everybody loves chocolate chip cookies, even h...</td>\n",
              "      <td>everybody loves chocolate chip cookies even hi...</td>\n",
              "    </tr>\n",
              "  </tbody>\n",
              "</table>\n",
              "</div>\n",
              "      <button class=\"colab-df-convert\" onclick=\"convertToInteractive('df-f7aeacd6-3121-41e1-af80-7d3495bfdcc8')\"\n",
              "              title=\"Convert this dataframe to an interactive table.\"\n",
              "              style=\"display:none;\">\n",
              "        \n",
              "  <svg xmlns=\"http://www.w3.org/2000/svg\" height=\"24px\"viewBox=\"0 0 24 24\"\n",
              "       width=\"24px\">\n",
              "    <path d=\"M0 0h24v24H0V0z\" fill=\"none\"/>\n",
              "    <path d=\"M18.56 5.44l.94 2.06.94-2.06 2.06-.94-2.06-.94-.94-2.06-.94 2.06-2.06.94zm-11 1L8.5 8.5l.94-2.06 2.06-.94-2.06-.94L8.5 2.5l-.94 2.06-2.06.94zm10 10l.94 2.06.94-2.06 2.06-.94-2.06-.94-.94-2.06-.94 2.06-2.06.94z\"/><path d=\"M17.41 7.96l-1.37-1.37c-.4-.4-.92-.59-1.43-.59-.52 0-1.04.2-1.43.59L10.3 9.45l-7.72 7.72c-.78.78-.78 2.05 0 2.83L4 21.41c.39.39.9.59 1.41.59.51 0 1.02-.2 1.41-.59l7.78-7.78 2.81-2.81c.8-.78.8-2.07 0-2.86zM5.41 20L4 18.59l7.72-7.72 1.47 1.35L5.41 20z\"/>\n",
              "  </svg>\n",
              "      </button>\n",
              "      \n",
              "  <style>\n",
              "    .colab-df-container {\n",
              "      display:flex;\n",
              "      flex-wrap:wrap;\n",
              "      gap: 12px;\n",
              "    }\n",
              "\n",
              "    .colab-df-convert {\n",
              "      background-color: #E8F0FE;\n",
              "      border: none;\n",
              "      border-radius: 50%;\n",
              "      cursor: pointer;\n",
              "      display: none;\n",
              "      fill: #1967D2;\n",
              "      height: 32px;\n",
              "      padding: 0 0 0 0;\n",
              "      width: 32px;\n",
              "    }\n",
              "\n",
              "    .colab-df-convert:hover {\n",
              "      background-color: #E2EBFA;\n",
              "      box-shadow: 0px 1px 2px rgba(60, 64, 67, 0.3), 0px 1px 3px 1px rgba(60, 64, 67, 0.15);\n",
              "      fill: #174EA6;\n",
              "    }\n",
              "\n",
              "    [theme=dark] .colab-df-convert {\n",
              "      background-color: #3B4455;\n",
              "      fill: #D2E3FC;\n",
              "    }\n",
              "\n",
              "    [theme=dark] .colab-df-convert:hover {\n",
              "      background-color: #434B5C;\n",
              "      box-shadow: 0px 1px 3px 1px rgba(0, 0, 0, 0.15);\n",
              "      filter: drop-shadow(0px 1px 2px rgba(0, 0, 0, 0.3));\n",
              "      fill: #FFFFFF;\n",
              "    }\n",
              "  </style>\n",
              "\n",
              "      <script>\n",
              "        const buttonEl =\n",
              "          document.querySelector('#df-f7aeacd6-3121-41e1-af80-7d3495bfdcc8 button.colab-df-convert');\n",
              "        buttonEl.style.display =\n",
              "          google.colab.kernel.accessAllowed ? 'block' : 'none';\n",
              "\n",
              "        async function convertToInteractive(key) {\n",
              "          const element = document.querySelector('#df-f7aeacd6-3121-41e1-af80-7d3495bfdcc8');\n",
              "          const dataTable =\n",
              "            await google.colab.kernel.invokeFunction('convertToInteractive',\n",
              "                                                     [key], {});\n",
              "          if (!dataTable) return;\n",
              "\n",
              "          const docLinkHtml = 'Like what you see? Visit the ' +\n",
              "            '<a target=\"_blank\" href=https://colab.research.google.com/notebooks/data_table.ipynb>data table notebook</a>'\n",
              "            + ' to learn more about interactive tables.';\n",
              "          element.innerHTML = '';\n",
              "          dataTable['output_type'] = 'display_data';\n",
              "          await google.colab.output.renderOutput(dataTable, element);\n",
              "          const docLink = document.createElement('div');\n",
              "          docLink.innerHTML = docLinkHtml;\n",
              "          element.appendChild(docLink);\n",
              "        }\n",
              "      </script>\n",
              "    </div>\n",
              "  </div>\n",
              "  "
            ]
          },
          "metadata": {},
          "execution_count": 8
        }
      ],
      "source": [
        "cleaned_train = stop_words(train, 'text', 'cleaned_text')\n",
        "cleaned_train = punctuation(cleaned_train, 'cleaned_text', 'cleaned_text')\n",
        "cleaned_train.head()"
      ]
    },
    {
      "cell_type": "code",
      "execution_count": 9,
      "metadata": {
        "colab": {
          "base_uri": "https://localhost:8080/",
          "height": 206
        },
        "id": "HZ9AdZXOiuft",
        "outputId": "ce53d9ca-7123-4cf7-dc8d-65f305496ec7"
      },
      "outputs": [
        {
          "output_type": "execute_result",
          "data": {
            "text/plain": [
              "   label                                               text  \\\n",
              "0      1              white people is this a shooting range   \n",
              "1      1                              bravery at its finest   \n",
              "2      1  your order comes to $37.50 and your white priv...   \n",
              "3      1  it is time.. to send these parasites back to t...   \n",
              "4      1                             mississippi wind chime   \n",
              "\n",
              "                                        cleaned_text  \n",
              "0                        white people shooting range  \n",
              "1                                     bravery finest  \n",
              "2  order comes 3750 white privilege discount brin...  \n",
              "3                    time send parasites back desert  \n",
              "4                             mississippi wind chime  "
            ],
            "text/html": [
              "\n",
              "  <div id=\"df-c8129424-fceb-46de-99d3-b16b06645a53\">\n",
              "    <div class=\"colab-df-container\">\n",
              "      <div>\n",
              "<style scoped>\n",
              "    .dataframe tbody tr th:only-of-type {\n",
              "        vertical-align: middle;\n",
              "    }\n",
              "\n",
              "    .dataframe tbody tr th {\n",
              "        vertical-align: top;\n",
              "    }\n",
              "\n",
              "    .dataframe thead th {\n",
              "        text-align: right;\n",
              "    }\n",
              "</style>\n",
              "<table border=\"1\" class=\"dataframe\">\n",
              "  <thead>\n",
              "    <tr style=\"text-align: right;\">\n",
              "      <th></th>\n",
              "      <th>label</th>\n",
              "      <th>text</th>\n",
              "      <th>cleaned_text</th>\n",
              "    </tr>\n",
              "  </thead>\n",
              "  <tbody>\n",
              "    <tr>\n",
              "      <th>0</th>\n",
              "      <td>1</td>\n",
              "      <td>white people is this a shooting range</td>\n",
              "      <td>white people shooting range</td>\n",
              "    </tr>\n",
              "    <tr>\n",
              "      <th>1</th>\n",
              "      <td>1</td>\n",
              "      <td>bravery at its finest</td>\n",
              "      <td>bravery finest</td>\n",
              "    </tr>\n",
              "    <tr>\n",
              "      <th>2</th>\n",
              "      <td>1</td>\n",
              "      <td>your order comes to $37.50 and your white priv...</td>\n",
              "      <td>order comes 3750 white privilege discount brin...</td>\n",
              "    </tr>\n",
              "    <tr>\n",
              "      <th>3</th>\n",
              "      <td>1</td>\n",
              "      <td>it is time.. to send these parasites back to t...</td>\n",
              "      <td>time send parasites back desert</td>\n",
              "    </tr>\n",
              "    <tr>\n",
              "      <th>4</th>\n",
              "      <td>1</td>\n",
              "      <td>mississippi wind chime</td>\n",
              "      <td>mississippi wind chime</td>\n",
              "    </tr>\n",
              "  </tbody>\n",
              "</table>\n",
              "</div>\n",
              "      <button class=\"colab-df-convert\" onclick=\"convertToInteractive('df-c8129424-fceb-46de-99d3-b16b06645a53')\"\n",
              "              title=\"Convert this dataframe to an interactive table.\"\n",
              "              style=\"display:none;\">\n",
              "        \n",
              "  <svg xmlns=\"http://www.w3.org/2000/svg\" height=\"24px\"viewBox=\"0 0 24 24\"\n",
              "       width=\"24px\">\n",
              "    <path d=\"M0 0h24v24H0V0z\" fill=\"none\"/>\n",
              "    <path d=\"M18.56 5.44l.94 2.06.94-2.06 2.06-.94-2.06-.94-.94-2.06-.94 2.06-2.06.94zm-11 1L8.5 8.5l.94-2.06 2.06-.94-2.06-.94L8.5 2.5l-.94 2.06-2.06.94zm10 10l.94 2.06.94-2.06 2.06-.94-2.06-.94-.94-2.06-.94 2.06-2.06.94z\"/><path d=\"M17.41 7.96l-1.37-1.37c-.4-.4-.92-.59-1.43-.59-.52 0-1.04.2-1.43.59L10.3 9.45l-7.72 7.72c-.78.78-.78 2.05 0 2.83L4 21.41c.39.39.9.59 1.41.59.51 0 1.02-.2 1.41-.59l7.78-7.78 2.81-2.81c.8-.78.8-2.07 0-2.86zM5.41 20L4 18.59l7.72-7.72 1.47 1.35L5.41 20z\"/>\n",
              "  </svg>\n",
              "      </button>\n",
              "      \n",
              "  <style>\n",
              "    .colab-df-container {\n",
              "      display:flex;\n",
              "      flex-wrap:wrap;\n",
              "      gap: 12px;\n",
              "    }\n",
              "\n",
              "    .colab-df-convert {\n",
              "      background-color: #E8F0FE;\n",
              "      border: none;\n",
              "      border-radius: 50%;\n",
              "      cursor: pointer;\n",
              "      display: none;\n",
              "      fill: #1967D2;\n",
              "      height: 32px;\n",
              "      padding: 0 0 0 0;\n",
              "      width: 32px;\n",
              "    }\n",
              "\n",
              "    .colab-df-convert:hover {\n",
              "      background-color: #E2EBFA;\n",
              "      box-shadow: 0px 1px 2px rgba(60, 64, 67, 0.3), 0px 1px 3px 1px rgba(60, 64, 67, 0.15);\n",
              "      fill: #174EA6;\n",
              "    }\n",
              "\n",
              "    [theme=dark] .colab-df-convert {\n",
              "      background-color: #3B4455;\n",
              "      fill: #D2E3FC;\n",
              "    }\n",
              "\n",
              "    [theme=dark] .colab-df-convert:hover {\n",
              "      background-color: #434B5C;\n",
              "      box-shadow: 0px 1px 3px 1px rgba(0, 0, 0, 0.15);\n",
              "      filter: drop-shadow(0px 1px 2px rgba(0, 0, 0, 0.3));\n",
              "      fill: #FFFFFF;\n",
              "    }\n",
              "  </style>\n",
              "\n",
              "      <script>\n",
              "        const buttonEl =\n",
              "          document.querySelector('#df-c8129424-fceb-46de-99d3-b16b06645a53 button.colab-df-convert');\n",
              "        buttonEl.style.display =\n",
              "          google.colab.kernel.accessAllowed ? 'block' : 'none';\n",
              "\n",
              "        async function convertToInteractive(key) {\n",
              "          const element = document.querySelector('#df-c8129424-fceb-46de-99d3-b16b06645a53');\n",
              "          const dataTable =\n",
              "            await google.colab.kernel.invokeFunction('convertToInteractive',\n",
              "                                                     [key], {});\n",
              "          if (!dataTable) return;\n",
              "\n",
              "          const docLinkHtml = 'Like what you see? Visit the ' +\n",
              "            '<a target=\"_blank\" href=https://colab.research.google.com/notebooks/data_table.ipynb>data table notebook</a>'\n",
              "            + ' to learn more about interactive tables.';\n",
              "          element.innerHTML = '';\n",
              "          dataTable['output_type'] = 'display_data';\n",
              "          await google.colab.output.renderOutput(dataTable, element);\n",
              "          const docLink = document.createElement('div');\n",
              "          docLink.innerHTML = docLinkHtml;\n",
              "          element.appendChild(docLink);\n",
              "        }\n",
              "      </script>\n",
              "    </div>\n",
              "  </div>\n",
              "  "
            ]
          },
          "metadata": {},
          "execution_count": 9
        }
      ],
      "source": [
        "cleaned_dev = stop_words(dev, 'text', 'cleaned_text')\n",
        "cleaned_dev = punctuation(cleaned_dev, 'cleaned_text', 'cleaned_text')\n",
        "cleaned_dev.head()"
      ]
    },
    {
      "cell_type": "code",
      "execution_count": 10,
      "metadata": {
        "colab": {
          "base_uri": "https://localhost:8080/"
        },
        "id": "sAyzpEDIkGZ4",
        "outputId": "26143dc8-e5ab-45ab-f3ac-915b58a1ac53"
      },
      "outputs": [
        {
          "output_type": "stream",
          "name": "stdout",
          "text": [
            "shape of input (8500,)\n",
            "shape of labels (8500,)\n"
          ]
        }
      ],
      "source": [
        "text_train = cleaned_train.cleaned_text.values\n",
        "labels_train = cleaned_train.label.values\n",
        "\n",
        "print(\"shape of input\", text_train.shape)\n",
        "print(\"shape of labels\", labels_train.shape)"
      ]
    },
    {
      "cell_type": "code",
      "execution_count": 11,
      "metadata": {
        "colab": {
          "base_uri": "https://localhost:8080/"
        },
        "id": "diGYrg_QkoA1",
        "outputId": "acb6f63b-c7c1-470a-e63b-5dce4810d9d5"
      },
      "outputs": [
        {
          "output_type": "stream",
          "name": "stdout",
          "text": [
            "Text input ['character color matters' 'afraid love everyone like ex'\n",
            " 'putting bows pet' ...\n",
            " 'gays social media equality body positivity love love love gays real life place social circle'\n",
            " 'bad day could siamese twin attached gay brother date one ass'\n",
            " 'hate muslims take religion seriously pathetic weaklings']\n",
            "Text labels [0 0 0 ... 1 1 1]\n"
          ]
        }
      ],
      "source": [
        "print(\"Text input\", text_train)\n",
        "print(\"Text labels\", labels_train)"
      ]
    },
    {
      "cell_type": "code",
      "execution_count": 12,
      "metadata": {
        "colab": {
          "base_uri": "https://localhost:8080/"
        },
        "id": "GrUrE44Nk0sT",
        "outputId": "bfdd8659-fd75-4d44-b123-431b4fcfada2"
      },
      "outputs": [
        {
          "output_type": "stream",
          "name": "stdout",
          "text": [
            "shape of input (500,)\n",
            "shape of labels (500,)\n"
          ]
        }
      ],
      "source": [
        "text_dev = cleaned_dev.cleaned_text.values\n",
        "labels_dev = cleaned_dev.label.values\n",
        "\n",
        "print(\"shape of input\", text_dev.shape)\n",
        "print(\"shape of labels\", labels_dev.shape)"
      ]
    },
    {
      "cell_type": "code",
      "execution_count": 13,
      "metadata": {
        "colab": {
          "base_uri": "https://localhost:8080/"
        },
        "id": "aBzEtlRBk9BO",
        "outputId": "1bf75ba6-781a-4100-8925-5f461fa1996d"
      },
      "outputs": [
        {
          "output_type": "stream",
          "name": "stdout",
          "text": [
            "Text input ['white people shooting range' 'bravery finest'\n",
            " 'order comes 3750 white privilege discount brings total 3750'\n",
            " 'time send parasites back desert' 'mississippi wind chime'\n",
            " 'knowing white people  thats probably baby father'\n",
            " 'life hack 23 get stoned weed' 'heard elf shelf get ready'\n",
            " 'cooooooooooooon' 'get choose mental illness' 'dat ass ahmarbkrichd'\n",
            " 'look says right here fuck goats'\n",
            " 'enough enough children important freaks'\n",
            " 'removes polish chemicals nobody bats eye removes polish chemicals everybody loses shit'\n",
            " '80 point iq highest village' 'sense humor dark picks cotton'\n",
            " 'offends might lack toes intolerant'\n",
            " 'yes know trump said mexico pay wall mexicans wall boy good'\n",
            " 'wash ass water eat daughters ass' 'safe sex isis style'\n",
            " 'hurry barack home soon' 'white people cinco de mayo vs every day'\n",
            " 'ww2 jewish prisoner trying escape auchschwitz showers 1943 colorized wwii jew escaping hitlers rath'\n",
            " 'one tranny problems'\n",
            " 'whatsthe difference heroin i cops think twice shooting heroin'\n",
            " 'head teachers given power ban burqa british schools share want full ban britain'\n",
            " 'sharks attack why think whale shit' 'thank god ass needed break'\n",
            " 'barn army enlist bomb ant hills grab pitchfork meet barn'\n",
            " 'black people became christians'\n",
            " 'know chinese eat dogs savages disgusting' 'decide go full gas'\n",
            " 'left kitchen many times'\n",
            " 'finally finding right tutorial need indian accent'\n",
            " 'syrian rape survivor speaks'\n",
            " 'oh addiction disease started choice tell chlamydia crotch disease yet started choice'\n",
            " 'wanna go masturbate fuck yeah masturbating'\n",
            " 'said girls run world told get back kitchen' 'love one eat  get'\n",
            " 'gets 1k likes ill post islam see muslims muslims see us'\n",
            " 'like that sandwich maker doubles ironing board'\n",
            " 'husband always pushing around talking behind back'\n",
            " 'someone added much soap dishwasher' 'head diaper required shit brains'\n",
            " 'mustresisturge to kill whitey'\n",
            " '49 people killed christchurch muslim 49 people killed christchurch mosques muslim'\n",
            " 'money evil give us' 'cat getting raped tonight'\n",
            " 'thats way allah allah like'\n",
            " 'doesnt food water electricity proud nuclear weapons'\n",
            " 'scientist working hard cure'\n",
            " 'feeling kinda cute might steal shit later idk'\n",
            " 'normal day islamic country' 'tranny sale'\n",
            " 'nurse yes sir mashed potatoes today alzheimers patient remember asking god damn thing'\n",
            " 'thats way allah allah like it'\n",
            " 'name multiculturalism let terrorist country' 'meanwhile baltimore'\n",
            " 'wears rag head brother husband doesnt want molest'\n",
            " 'told girlfriend mom deaf speak loud slow told mom girlfriend retarded'\n",
            " 'decide go full gas'\n",
            " '17 half years ago 19 people allowed us years later told answer safety allow everyone'\n",
            " 'different types radicalization' 'time eat hungry'\n",
            " 'stupid basterds thought real shower'\n",
            " 'started business sells landmines disguised prayer mats prophets going roof'\n",
            " 'racist like brown sugar' 'thats way allah allah like it'\n",
            " 'happen eat wheaties 38 years' 'take pics think cumming mouth'\n",
            " 'lebanon muslims muslims worry islam takes therell golden age apparently'\n",
            " 'never going forgive germans holocaust' 'give deserve kill'\n",
            " 'bartender nice 12 yr old him boy girl'\n",
            " 'gonna talk shit someone better make sure crazier'\n",
            " 'potato favorite color alphabet' 'face terrorism us'\n",
            " 'knew country full white trash' 'gods chosen people according book wrote'\n",
            " 'cook turkey usa cook turkey romania' 'book terrorism'\n",
            " 'shot wrong gorilla' 'black woman fight crime'\n",
            " '72 virgins ready get fucked' 'made millions children homeless'\n",
            " 'kids going rob country blind expense people voted me theyre going love it believe me bigly'\n",
            " 'decide go full gas' 'bows here bows there bows everywhere'\n",
            " 'white kid shoots school day planned bomb' 'guys think dope'\n",
            " 'potato favorite color alphabet'\n",
            " 'one bullets dug victim orland gay night club shooting' 'wants ice cream'\n",
            " 'need parachute go skydiving twice need parachute go skydiving twice'\n",
            " 'group men' 'feeling bored lets go mosque'\n",
            " 'stupid basterds thought real shower' 'muslim strip club'\n",
            " 'good night keep butthole tight'\n",
            " 'wears number one hes likely fastes team' 'today making vegetable soup'\n",
            " 'fool bomb' 'white power' 'weve taken country fuck off were taking back'\n",
            " 'cook turkey usa cook turkey romania' 'jamal practicing class sport'\n",
            " 'like lebanon terrorism destroy beautiful country'\n",
            " '72 virgins ready get fucked' 'welcome melbourne'\n",
            " 'hitler jokes rude anne frankly care'\n",
            " 'bartender nice 12 yr old him boy girl' 'people'\n",
            " 'one 5 boyfriends slept another girl ill never trust men again'\n",
            " 'smell reich cooking' 'everybody afraid gangs'\n",
            " 'trump said immigrants come steal wife great example stole speech'\n",
            " 'get loser were invading poland' 'haha pig man peeing standing'\n",
            " 'see rollin hating' 'muslims celebrate new year'\n",
            " 'albanians talking photo porn star' 'best basketball steal shoot run'\n",
            " 'putting bows pet' 'theres reason keep beer bottom cooler'\n",
            " 'started company selling landmines look like prayer mats prophets going roof'\n",
            " 'families hillsborough tragedy denied legal aid shamima begum gets fight uk citizenship system sick joke  martin costello'\n",
            " 'jamal holding gun' 'broke said could still cousins' 'family trip mexico'\n",
            " 'uncircumcised id hide candy dick skin girl suck up pleasant surprise oh god skittles'\n",
            " 'careful call ugly highschool'\n",
            " 'reason mary got pregnant god gay needed surrogate'\n",
            " 'alcoholics necrophiliacs common love crack open cold one'\n",
            " 'abnormal vs normal' 'immigration invasion learn difference'\n",
            " 'illegal aliens welcome' 'shocker rock spock' 'smell disgust hate photo'\n",
            " 'terrorist' 'coffee helping get jumper cables'\n",
            " 'women think men want men really want' 'stupid bitch race'\n",
            " 'next class project' 'im going home im russian'\n",
            " 'brim hat flat sticker automatically assume complete tool'\n",
            " 'maybe think act treated better' 'even dumb jews know that trump racist'\n",
            " 'friday cunts lets get gas' 'heard girlfriend pregnant'\n",
            " 'human dna found ancient goat carcass scientists believe first proof muhammad existed'\n",
            " 'old people weddings always poke say youre next so started thing funerals'\n",
            " 'blood donated could someones boner right' 'condemning shooting gorilla'\n",
            " 'white power' 'know jackoff tonight' 'probably asked wrong question'\n",
            " 'last time im michelle obama'\n",
            " 'weve taken country fuck off were taking back'\n",
            " 'wait mohammad come back mean laugh really size dosent matter lol'\n",
            " 'see rollin hating' 'excoriated harmless tweet my show cancelled'\n",
            " 'islamic extremist planning new project'\n",
            " 'jack jill went hill jack could lick candy jack got shock mouthful cock cause jills real name randy'\n",
            " 'putting bows pet' 'oh cant steal anymore'\n",
            " '4 am everyone asleep perfect time run one end house full speed loudly possible'\n",
            " 'john wilkes booth like yall sure abraham lincoln dead aint'\n",
            " 'im saying im racist im saying muslims terrorists'\n",
            " 'evolution peeling bananas busting caps'\n",
            " 'maybe consistent sources crime wed treated better'\n",
            " 'america 2045 grandpawhy stop them' 'free blanket maybe white man bad'\n",
            " 'everyone afraid dark' 'nice 12 yr old bartender him boy would love'\n",
            " 'kick country' 'want sharia law  well go home'\n",
            " 'reason company safety video'\n",
            " 'said i want ring said bitch take phone silent'\n",
            " 'travel size coffee maker'\n",
            " 'white privilege privilege called racist people see nothing else except color skin'\n",
            " 'worlds wanted terrorist obama bin lying'\n",
            " 'roses red violets blue little stupid ass bitch aint fuckin witchu'\n",
            " 'mohammad contest putting underwear goats'\n",
            " 'maybe consistent sources crime wed treated better'\n",
            " 'wonder pipes working' 'returning broken coffee maker' 'upper downer'\n",
            " 'presidency isis caliphate blm antifa war police built'\n",
            " 'abnormal vs normal' 'could destroy let survive know'\n",
            " 'two common good sucking come bag'\n",
            " 'tuesday november 3 2020 make america great voting nightmare office'\n",
            " 'greatest news manufacturing 20th century'\n",
            " 'old people weddings always poke say youre next so started thing funerals'\n",
            " 'unleash inner beast field' 'irony meter exploded' 'love apes ugly cute'\n",
            " 'burning great public service'\n",
            " 'whats difference refugee et et learned english wanted go home'\n",
            " 'smell reigh cooking' 'like rice crispy please'\n",
            " 'terrorist come country way easy' 'keep thefts' 'give deserve kill'\n",
            " 'give man suicide' 'lunch vlad impaler loved turkey'\n",
            " 'decide stop racism burning symbol' 'muslims isis alqaida rest taliban'\n",
            " 'hes squirter sound sexy gay'\n",
            " 'oh boy sure love muslim new zealand city christchurch march 15'\n",
            " 'hardest part eat vegetable'\n",
            " 'mohammed im pregnant sass me know funny cupcakes'\n",
            " 'black lives matter howwhyand to whom unclear'\n",
            " 'size shuttle bus legroom pinto' 'white stole first bike'\n",
            " 'come dark side weed' 'dad potato farmer'\n",
            " 'girl dies organ body stays warm dick'\n",
            " 'straight outta oven step one turn gas'\n",
            " 'america taught us happy slaves way school teach us happy employees'\n",
            " 'one hour ill 4 hours left work mere 3 hours' 'said a glass juice'\n",
            " 'go see fifty shades darker theaters alone throw mayonnaise couples dark'\n",
            " 'fuck catholics fuck catholic church fuck pope'\n",
            " 'friend insists paying dinner still want contribute  tip come on let'\n",
            " 'extra chromosome probably stole' 'talking ape'\n",
            " 'much trash need garbage collector' 'someone else used kids push agenda'\n",
            " 'house pedophile' 'women ask equal rights give equal lefts aswell'\n",
            " 'like men even gay girls buttholes know' 'upper downer'\n",
            " 'wonder pipes working' 'jamal practicing class sport'\n",
            " 'whenever feel stupid remember people throw stones wall aiming invisible devil told invisible god invisible heaven'\n",
            " 'white stole first bike'\n",
            " 'novaky concentration camp jews claim holocaust pensions'\n",
            " 'finally found girlfriends gspot turns sister whole time'\n",
            " 'took shower morning'\n",
            " 'secret successful marriage keep stomach full balls empty'\n",
            " 'make jokes anything illegals thats crossing border' 'shot wrong gorilla'\n",
            " 'notice kenyan skidmark silent mueller report'\n",
            " 'face make bully got beat girl' 'learn ocean treat refugees'\n",
            " 'incesters built country' 'exs ys like y hell date you'\n",
            " 'im 5th abortion fuck batman im real crime fighter'\n",
            " 'changing every single country touches'\n",
            " 'goat meat popular islamic countries' 'teacher year black community'\n",
            " 'evolution peeling bananas busting caps'\n",
            " 'feeling cute might shoot darkie later idk' 'happy birthday sexy beast'\n",
            " 'last time saw many mentally ill people streat' 'dump pipe ocean'\n",
            " 'common enjoy pushing stairs'\n",
            " 'hello chocolate paradise princess im albert'\n",
            " 'like goat anus smell finger'\n",
            " 'pouting like immediately drop argument  motherfucker gay'\n",
            " 'thank allowing country need talk things need change around accommodate beliefs'\n",
            " 'want whore buy one want queen earn her want nickel bag fifteen bucks little man'\n",
            " 'lebanon islam islam worry islam takes over therell golden age apparently'\n",
            " 'theriously thats methed up' 'white working oil field'\n",
            " 'hell wrong america voting towel heads congress'\n",
            " 'careful call ugly highschool'\n",
            " 'im bird expert im guessing 4 females 1 male'\n",
            " 'wait mohammad come back mean laugh really size dosent matter lol'\n",
            " 'fast sandwich maker' 'waves mexican flag want live mexico'\n",
            " 'im going home im russian' 'late work get protestor plow'\n",
            " 'ask kid misses class lot bald starts crying right keep vour secrets'\n",
            " 'next class project' 'everyone afraid dark'\n",
            " 'west philadelphia born raised anus got aids' 'potato lunch'\n",
            " 'parental opioid use negative effect childrens intelligence'\n",
            " '1979 jimmy carter created department education since us gone 1st 17th education'\n",
            " 'gives look' 'real man loads dishwasher every night'\n",
            " 'time put panic back hispanic' 'share people hurt people'\n",
            " 'everyone celebrates christmas ' 'fight believe fight future'\n",
            " 'bought house were housepoor' 'migrant caravan arrives'\n",
            " 'still making noises hit hard enough' 'asked mom whats dinner'\n",
            " 'definition utter disgust plain black white'\n",
            " 'latest greatest truck comes dishwasher' 'matter smile'\n",
            " 'last time people used oven way' 'someone help take care could happen'\n",
            " 'mr obama honor' 'know turn dishwasher snowblower throw em shovel'\n",
            " 'playing monkeys thailand' 'mr obama honor' 'haters say photoshop'\n",
            " 'forgot fighting again' 'terrible hitler was enjoy watching sports'\n",
            " 'beauty shot girlfriends focusing different thoughts ideas'\n",
            " 'future democratic party'\n",
            " 'treat way treat vacuum cleaner stops sucking change bag'\n",
            " 'last days scoffers ridiculers deniers mockers following lusts'\n",
            " 'imagine disgusting laws try stop normal people hating'\n",
            " 'thanksgiving china' 'ask jewish girl number starts rolling sleeve'\n",
            " 'busy like hive bees controlling family sees edits news hear know think fear till truth is gone unless stand en masse '\n",
            " 'proper way pop blackhead' 'plays uno steals green cards'\n",
            " 'okay okay okay heres serious face look fuhrerious yet'\n",
            " 'support little one every step way' 'dolled rolling gang like'\n",
            " 'could killed them let survive know killed' 'preheat 350 degrees'\n",
            " 'muslim world gay men well hung' 'pretty much sums islam' 'mean pick it'\n",
            " 'learn hunt valuable skill' 'still better mexican' 'mom asks jews went'\n",
            " '94 test positive rh blood type means monkey blood result born tail animal traits'\n",
            " 'hey met crazy heres number camping maybe'\n",
            " 'last time people used oven way' 'terrorists anyone agree idiot'\n",
            " 'treat way treat vacuum cleaner stops sucking change bag'\n",
            " 'original scarecrow' 'nein danke im happy gas supplier'\n",
            " 'busy like hive bees controlling family sees edits news hear know think fear till truth is gone unless stand en masse '\n",
            " 'real man loads dishwasher every night'\n",
            " 'hansel gretel scary childrens story'\n",
            " 'knows you family children everything'\n",
            " 'want know treated illustration man four slaves chained together'\n",
            " 'new muslim girlfriend much look' 'eat meanwhile africa'\n",
            " 'want accepted are yet therent able accept'\n",
            " 'date asian boy trynna get family accept' 'cat pot'\n",
            " 'making quick 3pm snack' 'believe like racism exist'\n",
            " 'proper way pop blackhead' 'cookie kunty seen paris' 'apparently erdogan'\n",
            " 'people people'\n",
            " 'picture great great great grand grandfathers tractors make like used'\n",
            " 'hitting crime time people understood'\n",
            " 'either die hero live long enough become villain'\n",
            " 'jewish friend smells stash coins public'\n",
            " 'voila fresh batch baked goods ' 'rabbi sitting synagogue chillin thing'\n",
            " 'traveling chimney' 'smell cake' 'door crematorium gas chambers closed'\n",
            " 'wife died giving birth daughter alone room naked born daughter'\n",
            " 'like that sandwich maker doubles ironing board'\n",
            " 'ordered dishwasher sent sandwich maker'\n",
            " 'islam religion peace stop criticizing religion'\n",
            " 'still making noises hit hard enough'\n",
            " 'city workers repair statue cover black sheet'\n",
            " 'ask jewish girl number starts rolling sleeve'\n",
            " 'time took guns away put reach children'\n",
            " 'say it say  islam religion peace'\n",
            " 'jewish shop owner wears kippah yarmulke whilst shop tehran'\n",
            " 'moment everything else world melted away'\n",
            " 'taking liberals whole new level' 'terrorist trojan horse enemy state'\n",
            " 'best gamer ever 6 million kills 1 death'\n",
            " 'want accepted are yet therent able accept' 'mean pick it'\n",
            " 'white kids kids dreaming first day school'\n",
            " 'muslim world gay men well hung' 'ordered dishwasher sent sandwich maker'\n",
            " 'countries pakistan' 'countries pakistan'\n",
            " 'lose 15 lbs 1 simple trick photoshop'\n",
            " 'german british danish austrian diversity apparently guys do iraqi pakistani syrian egyptian'\n",
            " 'love love' 'mom asks jews went' 'nein danke im happy gas supplier'\n",
            " 'preheat 350 degrees' 'bed short feed stick'\n",
            " 'know turn dishwasher snowblower throw em shovel' 'asked mom go play'\n",
            " 'treat like java treats generic parameters run time objects'\n",
            " 'definition utter disgust plain black white'\n",
            " 'picture great great great grand grandfathers tractors make like used'\n",
            " 'believe like racism exist' 'eat cookies hungry'\n",
            " 'bitches like weave makeup lashes eyebrows' 'asked mom whats dinner'\n",
            " 'celebrating presidential election' 'many lives lost man'\n",
            " 'love slow cooker' 'boy girl im non binary' 'finishing race passion'\n",
            " 'treat like java treats generic parameters run time objects'\n",
            " 'like that sandwich maker doubles ironing board'\n",
            " 'doesnt let anything stop great day'\n",
            " 'german british danish austrian diversity apparently guys do iraqi pakistani syrian egyptian'\n",
            " 'take third reich first left' 'need cocaine happy'\n",
            " 'dishwasher broken take back walmart get new one'\n",
            " 'weird way spell fat single' 'original scarecrow'\n",
            " 'white kids kids dreaming first day school'\n",
            " 'goat humper looks like bunch pigs walked grave'\n",
            " '1st day 4th grade sandy hook elementary school'\n",
            " 'dog bites bite back assert dominance' 'eat meanwhile africa'\n",
            " 'upper downer' 'no thats daughter thats wife yet world silent'\n",
            " 'love slow cooker' 'militant dressed martyr'\n",
            " 'could killed them let survive know killed' 'pray peace pray wellbeing'\n",
            " 'taking photo family' 'traveling chimney' 'cant get rid stain hate beets'\n",
            " 'randomly deciding bake something'\n",
            " 'whos gonna make sandwiches sandwiches'\n",
            " 'wife died giving birth daughter alone room naked born daughter'\n",
            " 'time play rich vs constitution'\n",
            " 'last days god hating scoffers ridiculers deniers mockers following lusts'\n",
            " 'still parts world people celebrate capital punishment'\n",
            " 'like sperm get millions one works' 'company valuation hits 1 billion'\n",
            " 'nike also sell stones case take off'\n",
            " 'hey met crazy heres number camping maybe'\n",
            " 'say it say  islam religion peace'\n",
            " 'every kitchen needs sandwich maker like one'\n",
            " 'plays uno steals green cards' 'boy girl im non binary'\n",
            " 'terrorist trojan horse enemy state'\n",
            " 'democrats ilhan omar alexandria ocasiocortez ayanna pressley rashida tlais were new bold hate you hate whites jews christians conservatives republicans'\n",
            " 'watching vegetables grow'\n",
            " 'goat humper looks like bunch pigs walked grave' 'pretty much sums islam'\n",
            " 'cotton candy makes theme park wonderful' 'last summer camp lit'\n",
            " 'democrats were new bold hate you alexandria ocasiocortez rashida tlais ilhan omar ayanna pressley hate whites jews christians conservatives republicans'\n",
            " 'randomly deciding bake something'\n",
            " 'jewish friend smells stash coins public' 'os smoke'\n",
            " 'haters say photoshop' 'look sandwich maker club found wish clearance'\n",
            " 'no thats daughter thats wife yet world silent' 'still better mexican'\n",
            " 'like sperm get millions one works' 'represents new wave democrats'\n",
            " 'broken dishwasher' 'el paso shooters father every single time'\n",
            " 'terrorists anyone agree idiot' 'time put panic back hispanic'\n",
            " 'weapons seized isis' 'fashion forward '\n",
            " 'ive driving baby years mileage great still gets job done'\n",
            " 'date asian boy trynna get family accept'\n",
            " 'crimes humanity swiftly forgotten'\n",
            " 'first friday prayers islamic holy day'\n",
            " 'imagine disgusting laws try stop normal people hating'\n",
            " 'im fan color black although rose gold looks pretty good well'\n",
            " 'new muslim girlfriend much look' 'watching vegetables grow'\n",
            " 'shopping boring fun walmart parking lot'\n",
            " 'bitches like weave makeup lashes eyebrows  filter natural'\n",
            " 'finishing race passion' 'os smoke' 'upper downer'\n",
            " 'whos gonna make sandwiches sandwiches'\n",
            " 'best gamer ever 6 million kills 1 death' 'im proud it come me'\n",
            " 'surprise wait everyone' 'nike also sell stones case take off'\n",
            " 'portable dishwasher slash sandwich maker' 'weird way spell fat single'\n",
            " '1st day 4th grade sandy hook elementary school' 'ooof thats gotta hurt'\n",
            " '94 test positive rh blood type means monkey blood result born tail animal traits'\n",
            " '3 days came back life bringing salvation'\n",
            " 'islam religion peace stop criticizing religion' 'look bling prosthetic'\n",
            " 'broken dishwasher' 'jihad squad'\n",
            " 'el paso shooters father every single time' 'thanksgiving china'\n",
            " 'portable dishwasher slash sandwich maker'\n",
            " 'every kitchen needs sandwich maker like one' 'jihad squad'\n",
            " 'last summer camp lit' 'leaving trail death destruction'\n",
            " 'latest greatest truck comes dishwasher'\n",
            " 'father daughter bonding time best like share agree'\n",
            " 'im gonna like phelps one day' 'relaxed feel go next level'\n",
            " 'look sandwich maker club found wish clearance' 'diverse group women'\n",
            " 'when dishwasher broken take back walmart get new one']\n",
            "Text labels [1 1 1 1 1 1 1 1 1 1 1 1 1 1 1 1 1 1 1 1 1 1 1 1 1 1 1 1 1 1 1 1 1 1 1 1 1\n",
            " 1 1 1 1 1 1 1 1 1 1 1 1 1 1 1 0 1 1 1 1 0 0 1 1 1 0 0 1 1 1 0 1 0 1 1 1 1\n",
            " 0 1 1 1 1 0 1 1 1 1 0 0 0 0 1 0 0 1 0 0 1 1 0 1 0 0 1 1 0 0 1 1 0 0 1 1 0\n",
            " 1 1 1 0 1 1 0 0 1 1 1 0 0 1 0 0 1 1 0 0 0 1 0 1 1 0 0 0 0 0 0 1 0 0 0 1 1\n",
            " 1 1 0 0 0 1 0 1 1 1 1 1 0 0 1 1 1 0 0 1 0 1 1 1 1 0 1 1 0 0 1 1 0 0 0 0 0\n",
            " 1 0 0 1 1 1 0 1 0 0 1 0 1 1 0 1 1 1 0 0 0 0 1 1 1 1 1 1 0 1 0 1 1 0 1 0 1\n",
            " 0 1 0 1 1 1 0 1 1 1 1 1 0 1 0 1 0 0 0 1 0 0 0 1 1 0 1 1 0 1 1 1 0 1 0 1 1\n",
            " 1 1 1 0 0 0 0 1 1 1 0 1 0 1 0 1 0 0 1 0 0 0 0 0 1 0 0 0 0 0 0 0 0 0 0 1 0\n",
            " 0 1 0 1 0 0 0 0 0 1 0 0 1 1 0 0 0 0 0 0 0 0 1 0 1 0 0 0 1 1 0 1 0 0 0 1 1\n",
            " 0 0 0 0 1 1 0 0 0 1 1 0 0 0 0 0 0 1 0 0 0 0 0 0 1 0 1 1 0 0 0 1 0 0 0 1 1\n",
            " 0 0 0 0 1 0 1 0 1 0 1 1 1 0 0 0 0 1 1 0 0 1 1 0 0 1 1 1 1 0 0 0 0 0 1 1 1\n",
            " 1 1 1 0 0 1 0 0 0 1 0 0 1 0 1 0 1 0 1 0 0 0 0 0 0 0 1 0 0 0 0 0 1 0 1 1 0\n",
            " 0 1 1 1 1 1 1 0 0 0 0 0 0 0 0 1 0 0 1 0 1 1 0 0 0 0 0 1 0 0 0 1 1 0 0 0 0\n",
            " 0 0 0 1 1 1 0 0 1 0 0 0 1 0 0 0 0 0 0]\n"
          ]
        }
      ],
      "source": [
        "print(\"Text input\", text_dev)\n",
        "print(\"Text labels\", labels_dev)"
      ]
    },
    {
      "cell_type": "code",
      "execution_count": 14,
      "metadata": {
        "id": "a766HzgmlIaM"
      },
      "outputs": [],
      "source": [
        "train_input, val_input = text_train, text_dev\n",
        "train_label, val_label = labels_train, labels_dev"
      ]
    },
    {
      "cell_type": "code",
      "execution_count": 15,
      "metadata": {
        "id": "TQkhktRsluy3"
      },
      "outputs": [],
      "source": [
        "from transformers import BertTokenizer, TFBertModel, BertConfig, TFBertForSequenceClassification"
      ]
    },
    {
      "cell_type": "code",
      "execution_count": 16,
      "metadata": {
        "colab": {
          "base_uri": "https://localhost:8080/",
          "height": 113,
          "referenced_widgets": [
            "59d8621f06a148b4baef78637ada6ec7",
            "fd9233df84d241b8807b6bd87c154eda",
            "3c9ce6bd35004282a3948a2ae49efa13",
            "7d46e0b35df7465f994f1750d6cd508b",
            "c0ceeaebf5cc4cb4aaedf8410f2f2f13",
            "e4668744b54e482fbadd5305036c7d59",
            "bd8ca1f953f24d75b34e469995d02084",
            "3258ce035d8d4efa8af0a0592818f67e",
            "8801dd4c54b74ed594fae4b2ee4e2fd8",
            "70b84938016749bebd41f48db6182778",
            "5a343d9a46d9480f891b3776235fb71b",
            "6040c4b1d34e465e9d6781cb68cc246d",
            "e6aaa3d4412e4684a52c1c86b7101d64",
            "89795b63b682437dba7fb915ad568dc4",
            "37815f23d8264a8e8560cce38138d378",
            "1a2aa55580114bc7a35af233dbe9ad0c",
            "e957343e0ee24a438b3dab45b6d21f05",
            "bcc21ae43ce04ad7be880eea0f17a735",
            "481ef3ffe1fa4589a4a60ea5b80748c6",
            "e07917a45e3d47c38870ee20d65c868b",
            "986f535800294e3682cad8e6555f4d58",
            "bde5ddc9e89c4f5db51dceb697dd8706",
            "2678919cde8f4af48806da00114ccb1a",
            "a90a2ee7f4774f04a6dfed4ee23e1a06",
            "cd1e17891dbd45819688dd6955df5255",
            "9651772c85d44420a3f003f3991305ce",
            "2fbf905d04cb4339b9b982e9ea5cc950",
            "9b7a4bb98b1c42ea9c83c27e6859469f",
            "dadcb8fb4c724f7cac9a21175cbcaf92",
            "7df5e34f195a46cc847cbc3bb86067b3",
            "997bbd41f2a241689235e90b8203eef7",
            "33c8a643bd3f47f0a7bab61adcf2627d",
            "c36f84fa409e44ffb525e81417ccbb4d"
          ]
        },
        "id": "e_tM9tQ_l-YN",
        "outputId": "5af0533a-66e5-48a0-cae5-48af7f8fb085"
      },
      "outputs": [
        {
          "output_type": "display_data",
          "data": {
            "text/plain": [
              "Downloading (…)solve/main/vocab.txt:   0%|          | 0.00/232k [00:00<?, ?B/s]"
            ],
            "application/vnd.jupyter.widget-view+json": {
              "version_major": 2,
              "version_minor": 0,
              "model_id": "59d8621f06a148b4baef78637ada6ec7"
            }
          },
          "metadata": {}
        },
        {
          "output_type": "display_data",
          "data": {
            "text/plain": [
              "Downloading (…)okenizer_config.json:   0%|          | 0.00/28.0 [00:00<?, ?B/s]"
            ],
            "application/vnd.jupyter.widget-view+json": {
              "version_major": 2,
              "version_minor": 0,
              "model_id": "6040c4b1d34e465e9d6781cb68cc246d"
            }
          },
          "metadata": {}
        },
        {
          "output_type": "display_data",
          "data": {
            "text/plain": [
              "Downloading (…)lve/main/config.json:   0%|          | 0.00/570 [00:00<?, ?B/s]"
            ],
            "application/vnd.jupyter.widget-view+json": {
              "version_major": 2,
              "version_minor": 0,
              "model_id": "2678919cde8f4af48806da00114ccb1a"
            }
          },
          "metadata": {}
        }
      ],
      "source": [
        "tokenizer = BertTokenizer.from_pretrained('bert-base-uncased', do_lower_case=True)"
      ]
    },
    {
      "cell_type": "code",
      "execution_count": 17,
      "metadata": {
        "colab": {
          "base_uri": "https://localhost:8080/"
        },
        "id": "NMolVG2fmU42",
        "outputId": "fa1f5b6e-2ab6-456e-d01e-17820af13092"
      },
      "outputs": [
        {
          "output_type": "stream",
          "name": "stdout",
          "text": [
            "Actual text : afraid love everyone like ex\n",
            "Tokens : ['afraid', 'love', 'everyone', 'like', 'ex']\n",
            "Token to ids : [4452, 2293, 3071, 2066, 4654]\n"
          ]
        }
      ],
      "source": [
        "print('Actual text :', text_train[1])\n",
        "print('Tokens :', tokenizer.tokenize(text_train[1]))\n",
        "print('Token to ids :',tokenizer.convert_tokens_to_ids(tokenizer.tokenize(text_train[1])))"
      ]
    },
    {
      "cell_type": "code",
      "execution_count": 18,
      "metadata": {
        "colab": {
          "base_uri": "https://localhost:8080/"
        },
        "id": "06CVpbNYmU2D",
        "outputId": "4dda8782-4a16-4c2e-9867-1c3a76896649"
      },
      "outputs": [
        {
          "output_type": "stream",
          "name": "stdout",
          "text": [
            "Max sentence length : 336\n"
          ]
        }
      ],
      "source": [
        "# Finding the maximum length\n",
        "max_len_train = 0\n",
        "\n",
        "for text in text_train :\n",
        "  max_len_train = max(max_len_train, len(text))\n",
        "\n",
        "print('Max sentence length :', max_len_train)"
      ]
    },
    {
      "cell_type": "code",
      "execution_count": 19,
      "metadata": {
        "colab": {
          "base_uri": "https://localhost:8080/"
        },
        "id": "pKxpr_zCmTIZ",
        "outputId": "32c572e9-4f0b-4c06-f5c2-e9a16219cca5"
      },
      "outputs": [
        {
          "output_type": "stream",
          "name": "stdout",
          "text": [
            "Max sentence length : 151\n"
          ]
        }
      ],
      "source": [
        "# Finding the maximum length\n",
        "max_len_dev = 0\n",
        "\n",
        "for text in text_dev :\n",
        "  max_len_dev = max(max_len_dev, len(text))\n",
        "\n",
        "print('Max sentence length :', max_len_dev)"
      ]
    },
    {
      "cell_type": "code",
      "execution_count": 20,
      "metadata": {
        "id": "Gz-l4djypM7r"
      },
      "outputs": [],
      "source": [
        "def mask_inputs_for_bert(text,max_len):\n",
        "  input_ids = []\n",
        "  attention_masks = []\n",
        "  i = 0\n",
        "  for t in text : \n",
        "    if (i<3):  # on affiche les 3 premiers textes\n",
        "      print(\"text :\", t)\n",
        "    encoded_dict =  tokenizer.encode_plus(t, add_special_tokens = True, max_length = max_len, pad_to_max_length = True, return_attention_mask = True)\n",
        "    if (i<3): # on affiche les 3 premiers textes tokenizés\n",
        "      print('dict :', encoded_dict['input_ids'])\n",
        "      print('attention masks :', encoded_dict['attention_mask'])\n",
        "    input_ids.append(encoded_dict['input_ids'])\n",
        "    attention_masks.append(encoded_dict['attention_mask'])\n",
        "    i += 1\n",
        "  # convert totensor and return\n",
        "  input_ids = tf.convert_to_tensor(input_ids)\n",
        "  attention_masks = tf.convert_to_tensor(attention_masks)\n",
        "  return input_ids,attention_masks"
      ]
    },
    {
      "cell_type": "code",
      "execution_count": 21,
      "metadata": {
        "colab": {
          "base_uri": "https://localhost:8080/"
        },
        "id": "ItTyk9Gor9m_",
        "outputId": "c94de003-63d2-43d3-96b5-28171a06339a"
      },
      "outputs": [
        {
          "output_type": "stream",
          "name": "stderr",
          "text": [
            "Truncation was not explicitly activated but `max_length` is provided a specific value, please use `truncation=True` to explicitly truncate examples to max length. Defaulting to 'longest_first' truncation strategy. If you encode pairs of sequences (GLUE-style) with the tokenizer you can select this strategy more precisely by providing a specific strategy to `truncation`.\n"
          ]
        },
        {
          "output_type": "stream",
          "name": "stdout",
          "text": [
            "text : character color matters\n",
            "dict : [101, 2839, 3609, 5609, 102, 0, 0, 0, 0, 0, 0, 0, 0, 0, 0, 0, 0, 0, 0, 0, 0, 0, 0, 0, 0, 0, 0, 0, 0, 0, 0, 0, 0, 0, 0, 0, 0, 0, 0, 0, 0, 0, 0, 0, 0, 0, 0, 0, 0, 0, 0, 0, 0, 0, 0, 0, 0, 0, 0, 0, 0, 0, 0, 0, 0, 0, 0, 0, 0, 0, 0, 0, 0, 0, 0, 0, 0, 0, 0, 0, 0, 0, 0, 0, 0, 0, 0, 0, 0, 0, 0, 0, 0, 0, 0, 0, 0, 0, 0, 0, 0, 0, 0, 0, 0, 0, 0, 0, 0, 0, 0, 0, 0, 0, 0, 0, 0, 0, 0, 0, 0, 0, 0, 0, 0, 0, 0, 0, 0, 0, 0, 0, 0, 0, 0, 0, 0, 0, 0, 0, 0, 0, 0, 0, 0, 0, 0, 0, 0, 0, 0, 0, 0, 0, 0, 0, 0, 0, 0, 0, 0, 0, 0, 0, 0, 0, 0, 0, 0, 0, 0, 0, 0, 0, 0, 0, 0, 0, 0, 0, 0, 0, 0, 0, 0, 0, 0, 0, 0, 0, 0, 0, 0, 0, 0, 0, 0, 0, 0, 0, 0, 0, 0, 0, 0, 0, 0, 0, 0, 0, 0, 0, 0, 0, 0, 0, 0, 0, 0, 0, 0, 0, 0, 0, 0, 0, 0, 0, 0, 0, 0, 0, 0, 0, 0, 0, 0, 0, 0, 0, 0, 0, 0, 0, 0, 0, 0, 0, 0, 0, 0, 0, 0, 0, 0, 0, 0, 0, 0, 0, 0, 0, 0, 0, 0, 0, 0, 0, 0, 0, 0, 0, 0, 0, 0, 0, 0, 0, 0, 0, 0, 0, 0, 0, 0, 0, 0, 0, 0, 0, 0, 0, 0, 0, 0, 0, 0, 0, 0, 0, 0, 0, 0, 0, 0, 0, 0, 0, 0, 0, 0, 0, 0, 0, 0, 0, 0, 0, 0, 0, 0, 0, 0, 0, 0, 0, 0, 0, 0, 0, 0, 0, 0, 0, 0, 0]\n",
            "attention masks : [1, 1, 1, 1, 1, 0, 0, 0, 0, 0, 0, 0, 0, 0, 0, 0, 0, 0, 0, 0, 0, 0, 0, 0, 0, 0, 0, 0, 0, 0, 0, 0, 0, 0, 0, 0, 0, 0, 0, 0, 0, 0, 0, 0, 0, 0, 0, 0, 0, 0, 0, 0, 0, 0, 0, 0, 0, 0, 0, 0, 0, 0, 0, 0, 0, 0, 0, 0, 0, 0, 0, 0, 0, 0, 0, 0, 0, 0, 0, 0, 0, 0, 0, 0, 0, 0, 0, 0, 0, 0, 0, 0, 0, 0, 0, 0, 0, 0, 0, 0, 0, 0, 0, 0, 0, 0, 0, 0, 0, 0, 0, 0, 0, 0, 0, 0, 0, 0, 0, 0, 0, 0, 0, 0, 0, 0, 0, 0, 0, 0, 0, 0, 0, 0, 0, 0, 0, 0, 0, 0, 0, 0, 0, 0, 0, 0, 0, 0, 0, 0, 0, 0, 0, 0, 0, 0, 0, 0, 0, 0, 0, 0, 0, 0, 0, 0, 0, 0, 0, 0, 0, 0, 0, 0, 0, 0, 0, 0, 0, 0, 0, 0, 0, 0, 0, 0, 0, 0, 0, 0, 0, 0, 0, 0, 0, 0, 0, 0, 0, 0, 0, 0, 0, 0, 0, 0, 0, 0, 0, 0, 0, 0, 0, 0, 0, 0, 0, 0, 0, 0, 0, 0, 0, 0, 0, 0, 0, 0, 0, 0, 0, 0, 0, 0, 0, 0, 0, 0, 0, 0, 0, 0, 0, 0, 0, 0, 0, 0, 0, 0, 0, 0, 0, 0, 0, 0, 0, 0, 0, 0, 0, 0, 0, 0, 0, 0, 0, 0, 0, 0, 0, 0, 0, 0, 0, 0, 0, 0, 0, 0, 0, 0, 0, 0, 0, 0, 0, 0, 0, 0, 0, 0, 0, 0, 0, 0, 0, 0, 0, 0, 0, 0, 0, 0, 0, 0, 0, 0, 0, 0, 0, 0, 0, 0, 0, 0, 0, 0, 0, 0, 0, 0, 0, 0, 0, 0, 0, 0, 0, 0, 0, 0, 0, 0, 0, 0]\n",
            "text : afraid love everyone like ex\n",
            "dict : [101, 4452, 2293, 3071, 2066, 4654, 102, 0, 0, 0, 0, 0, 0, 0, 0, 0, 0, 0, 0, 0, 0, 0, 0, 0, 0, 0, 0, 0, 0, 0, 0, 0, 0, 0, 0, 0, 0, 0, 0, 0, 0, 0, 0, 0, 0, 0, 0, 0, 0, 0, 0, 0, 0, 0, 0, 0, 0, 0, 0, 0, 0, 0, 0, 0, 0, 0, 0, 0, 0, 0, 0, 0, 0, 0, 0, 0, 0, 0, 0, 0, 0, 0, 0, 0, 0, 0, 0, 0, 0, 0, 0, 0, 0, 0, 0, 0, 0, 0, 0, 0, 0, 0, 0, 0, 0, 0, 0, 0, 0, 0, 0, 0, 0, 0, 0, 0, 0, 0, 0, 0, 0, 0, 0, 0, 0, 0, 0, 0, 0, 0, 0, 0, 0, 0, 0, 0, 0, 0, 0, 0, 0, 0, 0, 0, 0, 0, 0, 0, 0, 0, 0, 0, 0, 0, 0, 0, 0, 0, 0, 0, 0, 0, 0, 0, 0, 0, 0, 0, 0, 0, 0, 0, 0, 0, 0, 0, 0, 0, 0, 0, 0, 0, 0, 0, 0, 0, 0, 0, 0, 0, 0, 0, 0, 0, 0, 0, 0, 0, 0, 0, 0, 0, 0, 0, 0, 0, 0, 0, 0, 0, 0, 0, 0, 0, 0, 0, 0, 0, 0, 0, 0, 0, 0, 0, 0, 0, 0, 0, 0, 0, 0, 0, 0, 0, 0, 0, 0, 0, 0, 0, 0, 0, 0, 0, 0, 0, 0, 0, 0, 0, 0, 0, 0, 0, 0, 0, 0, 0, 0, 0, 0, 0, 0, 0, 0, 0, 0, 0, 0, 0, 0, 0, 0, 0, 0, 0, 0, 0, 0, 0, 0, 0, 0, 0, 0, 0, 0, 0, 0, 0, 0, 0, 0, 0, 0, 0, 0, 0, 0, 0, 0, 0, 0, 0, 0, 0, 0, 0, 0, 0, 0, 0, 0, 0, 0, 0, 0, 0, 0, 0, 0, 0, 0, 0, 0, 0, 0, 0, 0, 0, 0, 0, 0, 0, 0, 0]\n",
            "attention masks : [1, 1, 1, 1, 1, 1, 1, 0, 0, 0, 0, 0, 0, 0, 0, 0, 0, 0, 0, 0, 0, 0, 0, 0, 0, 0, 0, 0, 0, 0, 0, 0, 0, 0, 0, 0, 0, 0, 0, 0, 0, 0, 0, 0, 0, 0, 0, 0, 0, 0, 0, 0, 0, 0, 0, 0, 0, 0, 0, 0, 0, 0, 0, 0, 0, 0, 0, 0, 0, 0, 0, 0, 0, 0, 0, 0, 0, 0, 0, 0, 0, 0, 0, 0, 0, 0, 0, 0, 0, 0, 0, 0, 0, 0, 0, 0, 0, 0, 0, 0, 0, 0, 0, 0, 0, 0, 0, 0, 0, 0, 0, 0, 0, 0, 0, 0, 0, 0, 0, 0, 0, 0, 0, 0, 0, 0, 0, 0, 0, 0, 0, 0, 0, 0, 0, 0, 0, 0, 0, 0, 0, 0, 0, 0, 0, 0, 0, 0, 0, 0, 0, 0, 0, 0, 0, 0, 0, 0, 0, 0, 0, 0, 0, 0, 0, 0, 0, 0, 0, 0, 0, 0, 0, 0, 0, 0, 0, 0, 0, 0, 0, 0, 0, 0, 0, 0, 0, 0, 0, 0, 0, 0, 0, 0, 0, 0, 0, 0, 0, 0, 0, 0, 0, 0, 0, 0, 0, 0, 0, 0, 0, 0, 0, 0, 0, 0, 0, 0, 0, 0, 0, 0, 0, 0, 0, 0, 0, 0, 0, 0, 0, 0, 0, 0, 0, 0, 0, 0, 0, 0, 0, 0, 0, 0, 0, 0, 0, 0, 0, 0, 0, 0, 0, 0, 0, 0, 0, 0, 0, 0, 0, 0, 0, 0, 0, 0, 0, 0, 0, 0, 0, 0, 0, 0, 0, 0, 0, 0, 0, 0, 0, 0, 0, 0, 0, 0, 0, 0, 0, 0, 0, 0, 0, 0, 0, 0, 0, 0, 0, 0, 0, 0, 0, 0, 0, 0, 0, 0, 0, 0, 0, 0, 0, 0, 0, 0, 0, 0, 0, 0, 0, 0, 0, 0, 0, 0, 0, 0, 0, 0, 0, 0, 0, 0, 0, 0]\n",
            "text : putting bows pet\n",
            "dict : [101, 5128, 21207, 9004, 102, 0, 0, 0, 0, 0, 0, 0, 0, 0, 0, 0, 0, 0, 0, 0, 0, 0, 0, 0, 0, 0, 0, 0, 0, 0, 0, 0, 0, 0, 0, 0, 0, 0, 0, 0, 0, 0, 0, 0, 0, 0, 0, 0, 0, 0, 0, 0, 0, 0, 0, 0, 0, 0, 0, 0, 0, 0, 0, 0, 0, 0, 0, 0, 0, 0, 0, 0, 0, 0, 0, 0, 0, 0, 0, 0, 0, 0, 0, 0, 0, 0, 0, 0, 0, 0, 0, 0, 0, 0, 0, 0, 0, 0, 0, 0, 0, 0, 0, 0, 0, 0, 0, 0, 0, 0, 0, 0, 0, 0, 0, 0, 0, 0, 0, 0, 0, 0, 0, 0, 0, 0, 0, 0, 0, 0, 0, 0, 0, 0, 0, 0, 0, 0, 0, 0, 0, 0, 0, 0, 0, 0, 0, 0, 0, 0, 0, 0, 0, 0, 0, 0, 0, 0, 0, 0, 0, 0, 0, 0, 0, 0, 0, 0, 0, 0, 0, 0, 0, 0, 0, 0, 0, 0, 0, 0, 0, 0, 0, 0, 0, 0, 0, 0, 0, 0, 0, 0, 0, 0, 0, 0, 0, 0, 0, 0, 0, 0, 0, 0, 0, 0, 0, 0, 0, 0, 0, 0, 0, 0, 0, 0, 0, 0, 0, 0, 0, 0, 0, 0, 0, 0, 0, 0, 0, 0, 0, 0, 0, 0, 0, 0, 0, 0, 0, 0, 0, 0, 0, 0, 0, 0, 0, 0, 0, 0, 0, 0, 0, 0, 0, 0, 0, 0, 0, 0, 0, 0, 0, 0, 0, 0, 0, 0, 0, 0, 0, 0, 0, 0, 0, 0, 0, 0, 0, 0, 0, 0, 0, 0, 0, 0, 0, 0, 0, 0, 0, 0, 0, 0, 0, 0, 0, 0, 0, 0, 0, 0, 0, 0, 0, 0, 0, 0, 0, 0, 0, 0, 0, 0, 0, 0, 0, 0, 0, 0, 0, 0, 0, 0, 0, 0, 0, 0, 0, 0, 0, 0, 0, 0, 0, 0]\n",
            "attention masks : [1, 1, 1, 1, 1, 0, 0, 0, 0, 0, 0, 0, 0, 0, 0, 0, 0, 0, 0, 0, 0, 0, 0, 0, 0, 0, 0, 0, 0, 0, 0, 0, 0, 0, 0, 0, 0, 0, 0, 0, 0, 0, 0, 0, 0, 0, 0, 0, 0, 0, 0, 0, 0, 0, 0, 0, 0, 0, 0, 0, 0, 0, 0, 0, 0, 0, 0, 0, 0, 0, 0, 0, 0, 0, 0, 0, 0, 0, 0, 0, 0, 0, 0, 0, 0, 0, 0, 0, 0, 0, 0, 0, 0, 0, 0, 0, 0, 0, 0, 0, 0, 0, 0, 0, 0, 0, 0, 0, 0, 0, 0, 0, 0, 0, 0, 0, 0, 0, 0, 0, 0, 0, 0, 0, 0, 0, 0, 0, 0, 0, 0, 0, 0, 0, 0, 0, 0, 0, 0, 0, 0, 0, 0, 0, 0, 0, 0, 0, 0, 0, 0, 0, 0, 0, 0, 0, 0, 0, 0, 0, 0, 0, 0, 0, 0, 0, 0, 0, 0, 0, 0, 0, 0, 0, 0, 0, 0, 0, 0, 0, 0, 0, 0, 0, 0, 0, 0, 0, 0, 0, 0, 0, 0, 0, 0, 0, 0, 0, 0, 0, 0, 0, 0, 0, 0, 0, 0, 0, 0, 0, 0, 0, 0, 0, 0, 0, 0, 0, 0, 0, 0, 0, 0, 0, 0, 0, 0, 0, 0, 0, 0, 0, 0, 0, 0, 0, 0, 0, 0, 0, 0, 0, 0, 0, 0, 0, 0, 0, 0, 0, 0, 0, 0, 0, 0, 0, 0, 0, 0, 0, 0, 0, 0, 0, 0, 0, 0, 0, 0, 0, 0, 0, 0, 0, 0, 0, 0, 0, 0, 0, 0, 0, 0, 0, 0, 0, 0, 0, 0, 0, 0, 0, 0, 0, 0, 0, 0, 0, 0, 0, 0, 0, 0, 0, 0, 0, 0, 0, 0, 0, 0, 0, 0, 0, 0, 0, 0, 0, 0, 0, 0, 0, 0, 0, 0, 0, 0, 0, 0, 0, 0, 0, 0, 0, 0, 0]\n"
          ]
        },
        {
          "output_type": "stream",
          "name": "stderr",
          "text": [
            "/usr/local/lib/python3.9/dist-packages/transformers/tokenization_utils_base.py:2346: FutureWarning: The `pad_to_max_length` argument is deprecated and will be removed in a future version, use `padding=True` or `padding='longest'` to pad to the longest sequence in the batch, or use `padding='max_length'` to pad to a max length. In this case, you can give a specific length with `max_length` (e.g. `max_length=45`) or leave max_length to None to pad to the maximal input size of the model (e.g. 512 for Bert).\n",
            "  warnings.warn(\n"
          ]
        },
        {
          "output_type": "stream",
          "name": "stdout",
          "text": [
            "text : white people shooting range\n",
            "dict : [101, 2317, 2111, 5008, 2846, 102, 0, 0, 0, 0, 0, 0, 0, 0, 0, 0, 0, 0, 0, 0, 0, 0, 0, 0, 0, 0, 0, 0, 0, 0, 0, 0, 0, 0, 0, 0, 0, 0, 0, 0, 0, 0, 0, 0, 0, 0, 0, 0, 0, 0, 0, 0, 0, 0, 0, 0, 0, 0, 0, 0, 0, 0, 0, 0, 0, 0, 0, 0, 0, 0, 0, 0, 0, 0, 0, 0, 0, 0, 0, 0, 0, 0, 0, 0, 0, 0, 0, 0, 0, 0, 0, 0, 0, 0, 0, 0, 0, 0, 0, 0, 0, 0, 0, 0, 0, 0, 0, 0, 0, 0, 0, 0, 0, 0, 0, 0, 0, 0, 0, 0, 0, 0, 0, 0, 0, 0, 0, 0, 0, 0, 0, 0, 0, 0, 0, 0, 0, 0, 0, 0, 0, 0, 0, 0, 0, 0, 0, 0, 0, 0, 0]\n",
            "attention masks : [1, 1, 1, 1, 1, 1, 0, 0, 0, 0, 0, 0, 0, 0, 0, 0, 0, 0, 0, 0, 0, 0, 0, 0, 0, 0, 0, 0, 0, 0, 0, 0, 0, 0, 0, 0, 0, 0, 0, 0, 0, 0, 0, 0, 0, 0, 0, 0, 0, 0, 0, 0, 0, 0, 0, 0, 0, 0, 0, 0, 0, 0, 0, 0, 0, 0, 0, 0, 0, 0, 0, 0, 0, 0, 0, 0, 0, 0, 0, 0, 0, 0, 0, 0, 0, 0, 0, 0, 0, 0, 0, 0, 0, 0, 0, 0, 0, 0, 0, 0, 0, 0, 0, 0, 0, 0, 0, 0, 0, 0, 0, 0, 0, 0, 0, 0, 0, 0, 0, 0, 0, 0, 0, 0, 0, 0, 0, 0, 0, 0, 0, 0, 0, 0, 0, 0, 0, 0, 0, 0, 0, 0, 0, 0, 0, 0, 0, 0, 0, 0, 0]\n",
            "text : bravery finest\n",
            "dict : [101, 16534, 10418, 102, 0, 0, 0, 0, 0, 0, 0, 0, 0, 0, 0, 0, 0, 0, 0, 0, 0, 0, 0, 0, 0, 0, 0, 0, 0, 0, 0, 0, 0, 0, 0, 0, 0, 0, 0, 0, 0, 0, 0, 0, 0, 0, 0, 0, 0, 0, 0, 0, 0, 0, 0, 0, 0, 0, 0, 0, 0, 0, 0, 0, 0, 0, 0, 0, 0, 0, 0, 0, 0, 0, 0, 0, 0, 0, 0, 0, 0, 0, 0, 0, 0, 0, 0, 0, 0, 0, 0, 0, 0, 0, 0, 0, 0, 0, 0, 0, 0, 0, 0, 0, 0, 0, 0, 0, 0, 0, 0, 0, 0, 0, 0, 0, 0, 0, 0, 0, 0, 0, 0, 0, 0, 0, 0, 0, 0, 0, 0, 0, 0, 0, 0, 0, 0, 0, 0, 0, 0, 0, 0, 0, 0, 0, 0, 0, 0, 0, 0]\n",
            "attention masks : [1, 1, 1, 1, 0, 0, 0, 0, 0, 0, 0, 0, 0, 0, 0, 0, 0, 0, 0, 0, 0, 0, 0, 0, 0, 0, 0, 0, 0, 0, 0, 0, 0, 0, 0, 0, 0, 0, 0, 0, 0, 0, 0, 0, 0, 0, 0, 0, 0, 0, 0, 0, 0, 0, 0, 0, 0, 0, 0, 0, 0, 0, 0, 0, 0, 0, 0, 0, 0, 0, 0, 0, 0, 0, 0, 0, 0, 0, 0, 0, 0, 0, 0, 0, 0, 0, 0, 0, 0, 0, 0, 0, 0, 0, 0, 0, 0, 0, 0, 0, 0, 0, 0, 0, 0, 0, 0, 0, 0, 0, 0, 0, 0, 0, 0, 0, 0, 0, 0, 0, 0, 0, 0, 0, 0, 0, 0, 0, 0, 0, 0, 0, 0, 0, 0, 0, 0, 0, 0, 0, 0, 0, 0, 0, 0, 0, 0, 0, 0, 0, 0]\n",
            "text : order comes 3750 white privilege discount brings total 3750\n",
            "dict : [101, 2344, 3310, 18034, 2692, 2317, 14293, 19575, 7545, 2561, 18034, 2692, 102, 0, 0, 0, 0, 0, 0, 0, 0, 0, 0, 0, 0, 0, 0, 0, 0, 0, 0, 0, 0, 0, 0, 0, 0, 0, 0, 0, 0, 0, 0, 0, 0, 0, 0, 0, 0, 0, 0, 0, 0, 0, 0, 0, 0, 0, 0, 0, 0, 0, 0, 0, 0, 0, 0, 0, 0, 0, 0, 0, 0, 0, 0, 0, 0, 0, 0, 0, 0, 0, 0, 0, 0, 0, 0, 0, 0, 0, 0, 0, 0, 0, 0, 0, 0, 0, 0, 0, 0, 0, 0, 0, 0, 0, 0, 0, 0, 0, 0, 0, 0, 0, 0, 0, 0, 0, 0, 0, 0, 0, 0, 0, 0, 0, 0, 0, 0, 0, 0, 0, 0, 0, 0, 0, 0, 0, 0, 0, 0, 0, 0, 0, 0, 0, 0, 0, 0, 0, 0]\n",
            "attention masks : [1, 1, 1, 1, 1, 1, 1, 1, 1, 1, 1, 1, 1, 0, 0, 0, 0, 0, 0, 0, 0, 0, 0, 0, 0, 0, 0, 0, 0, 0, 0, 0, 0, 0, 0, 0, 0, 0, 0, 0, 0, 0, 0, 0, 0, 0, 0, 0, 0, 0, 0, 0, 0, 0, 0, 0, 0, 0, 0, 0, 0, 0, 0, 0, 0, 0, 0, 0, 0, 0, 0, 0, 0, 0, 0, 0, 0, 0, 0, 0, 0, 0, 0, 0, 0, 0, 0, 0, 0, 0, 0, 0, 0, 0, 0, 0, 0, 0, 0, 0, 0, 0, 0, 0, 0, 0, 0, 0, 0, 0, 0, 0, 0, 0, 0, 0, 0, 0, 0, 0, 0, 0, 0, 0, 0, 0, 0, 0, 0, 0, 0, 0, 0, 0, 0, 0, 0, 0, 0, 0, 0, 0, 0, 0, 0, 0, 0, 0, 0, 0, 0]\n"
          ]
        }
      ],
      "source": [
        "train_inp, train_mask = mask_inputs_for_bert(train_input,max_len_train)\n",
        "val_inp, val_mask = mask_inputs_for_bert(val_input,max_len_dev)\n",
        "train_label = tf.convert_to_tensor(train_label)\n",
        "val_label = tf.convert_to_tensor(val_label)"
      ]
    },
    {
      "cell_type": "code",
      "execution_count": 22,
      "metadata": {
        "colab": {
          "base_uri": "https://localhost:8080/"
        },
        "id": "n9vo_s3ds_CG",
        "outputId": "d01dd50a-e3b1-40fc-f3cf-135c638f6f1f"
      },
      "outputs": [
        {
          "output_type": "stream",
          "name": "stdout",
          "text": [
            "Train_input_shape :  (8500, 336)\n",
            "Train_mask_shape :  (8500, 336)\n",
            "Validation_input_shape :  (500, 151)\n",
            "Validation_mask_shape :  (500, 151)\n",
            "Train_label_shape :  (8500,)\n",
            "Validation_label_shape :  (500,)\n"
          ]
        }
      ],
      "source": [
        "print(\"Train_input_shape : \", train_inp.shape)\n",
        "print(\"Train_mask_shape : \", train_mask.shape)\n",
        "print(\"Validation_input_shape : \", val_inp.shape)\n",
        "print(\"Validation_mask_shape : \", val_mask.shape)\n",
        "print(\"Train_label_shape : \", train_label.shape)\n",
        "print(\"Validation_label_shape : \", val_label.shape)"
      ]
    },
    {
      "cell_type": "code",
      "execution_count": 23,
      "metadata": {
        "colab": {
          "base_uri": "https://localhost:8080/",
          "height": 118,
          "referenced_widgets": [
            "10fcc7ed0d494899a65b8e29aad10c93",
            "12db2e1d896a4b32a33d8b11d0a33cc8",
            "af07bc001f0b46f2b3e6c608095532fa",
            "110fda9d636a47b1830bd5a8a9f302dc",
            "bac794bd452d452086699be9cf3ef26a",
            "b30bd21fdc2b4dc782a9268aa0f8226c",
            "36df664fbf634cd2849450ce5d9288c5",
            "495cd0d5886447da9c95b59c2768697e",
            "fd474f79816f4dd79e6caa1fdda5e43a",
            "d9529545142a412f81162507d7016a1d",
            "5482fc0394f64053b8d3854f6e35050b"
          ]
        },
        "id": "sS9Y1Si3tl37",
        "outputId": "c5f6531f-ed13-4086-ba59-6c3847656a97"
      },
      "outputs": [
        {
          "output_type": "display_data",
          "data": {
            "text/plain": [
              "Downloading tf_model.h5:   0%|          | 0.00/536M [00:00<?, ?B/s]"
            ],
            "application/vnd.jupyter.widget-view+json": {
              "version_major": 2,
              "version_minor": 0,
              "model_id": "10fcc7ed0d494899a65b8e29aad10c93"
            }
          },
          "metadata": {}
        },
        {
          "output_type": "stream",
          "name": "stderr",
          "text": [
            "All model checkpoint layers were used when initializing TFBertForSequenceClassification.\n",
            "\n",
            "Some layers of TFBertForSequenceClassification were not initialized from the model checkpoint at bert-base-uncased and are newly initialized: ['classifier']\n",
            "You should probably TRAIN this model on a down-stream task to be able to use it for predictions and inference.\n"
          ]
        }
      ],
      "source": [
        "bert_model = TFBertForSequenceClassification.from_pretrained('bert-base-uncased', num_labels = 2, return_dict=True, output_attentions = True,)"
      ]
    },
    {
      "cell_type": "code",
      "execution_count": 26,
      "metadata": {
        "id": "StJ5bZDit5xC"
      },
      "outputs": [],
      "source": [
        "log_dir = 'gdrive/Mydrive/Statapp'\n",
        "model_save_path = 'gdrive/Mydrive/Statapp/bert_model.hdf5'\n",
        "\n",
        "callbacks = [tf.keras.callbacks.ModelCheckpoint(filepath = model_save_path,\\\n",
        "                                                save_weights_only = True,\\\n",
        "                                                monitor = 'val_accuracy',\\\n",
        "                                                mode= 'min',\\\n",
        "                                                save_best_only = True),\\\n",
        "             tf.keras.callbacks.TensorBoard(log_dir = log_dir, histogram_freq=3, write_graph=True, write_images=False, write_steps_per_second=False, update_freq='epoch', profile_batch=0, embeddings_freq=0, embeddings_metadata=None)]\n",
        "\n",
        "\n",
        "loss = tf.keras.losses.SparseCategoricalCrossentropy(from_logits=True)\n",
        "metric = tf.keras.metrics.SparseCategoricalAccuracy('accuracy')\n",
        "metric2 = tf.keras.metrics.Recall(name='recall')\n",
        "metric3 = tf.keras.metrics.Precision(name = 'precision')\n",
        "metric4 = tf.keras.metrics.BinaryAccuracy(name='binary_accuracy', dtype=None, threshold=0.5)\n",
        "optimizer = tf.keras.optimizers.Adam(learning_rate = 1e-6, epsilon = 1e-08, weight_decay=0.1)\n",
        "\n",
        "bert_model.compile(loss = loss, optimizer = optimizer, metrics = [metric, metric4])"
      ]
    },
    {
      "cell_type": "code",
      "source": [
        "bert_model.summary()"
      ],
      "metadata": {
        "id": "RHumcE6vCjBe",
        "outputId": "4f094c5e-1a7e-4b9d-a251-89133c05afd1",
        "colab": {
          "base_uri": "https://localhost:8080/"
        }
      },
      "execution_count": 27,
      "outputs": [
        {
          "output_type": "stream",
          "name": "stdout",
          "text": [
            "Model: \"tf_bert_for_sequence_classification\"\n",
            "_________________________________________________________________\n",
            " Layer (type)                Output Shape              Param #   \n",
            "=================================================================\n",
            " bert (TFBertMainLayer)      multiple                  109482240 \n",
            "                                                                 \n",
            " dropout_37 (Dropout)        multiple                  0         \n",
            "                                                                 \n",
            " classifier (Dense)          multiple                  1538      \n",
            "                                                                 \n",
            "=================================================================\n",
            "Total params: 109,483,778\n",
            "Trainable params: 109,483,778\n",
            "Non-trainable params: 0\n",
            "_________________________________________________________________\n"
          ]
        }
      ]
    },
    {
      "cell_type": "code",
      "source": [],
      "metadata": {
        "id": "FAR-Vpv7g9rF"
      },
      "execution_count": null,
      "outputs": []
    },
    {
      "cell_type": "code",
      "execution_count": 25,
      "metadata": {
        "colab": {
          "base_uri": "https://localhost:8080/"
        },
        "id": "GuJqgjHtwx9I",
        "outputId": "b4307366-f2b4-4418-daed-605af21bf8b9"
      },
      "outputs": [
        {
          "output_type": "stream",
          "name": "stdout",
          "text": [
            "Epoch 1/4\n",
            "532/532 [==============================] - 681s 1s/step - loss: 0.6660 - accuracy: 0.5941 - val_loss: 0.7657 - val_accuracy: 0.5040\n",
            "Epoch 2/4\n",
            "532/532 [==============================] - 608s 1s/step - loss: 0.6084 - accuracy: 0.6796 - val_loss: 0.7581 - val_accuracy: 0.5480\n",
            "Epoch 3/4\n",
            "532/532 [==============================] - 608s 1s/step - loss: 0.5840 - accuracy: 0.7088 - val_loss: 0.7908 - val_accuracy: 0.5660\n",
            "Epoch 4/4\n",
            "532/532 [==============================] - 608s 1s/step - loss: 0.5664 - accuracy: 0.7206 - val_loss: 0.7748 - val_accuracy: 0.5740\n"
          ]
        }
      ],
      "source": [
        "with tf.device('/device:GPU:0'):\n",
        "  history = bert_model.fit([train_inp, train_mask],\\\n",
        "                         train_label,\\\n",
        "                         batch_size = 16,\\\n",
        "                         epochs = 4,\\\n",
        "                         validation_data = ([val_inp, val_mask], val_label))"
      ]
    },
    {
      "cell_type": "code",
      "source": [
        "def display_training_curves(training, validation, title, subplot):\n",
        "  ax = plt.subplot(subplot)\n",
        "  ax.plot(training)\n",
        "  ax.plot(validation)\n",
        "  ax.set_title('model '+ title)\n",
        "  ax.set_ylabel(title)\n",
        "  ax.set_xlabel('epoch')\n",
        "  ax.legend(['training', 'validation'])\n",
        "\n",
        "plt.subplots(figsize=(10,10))\n",
        "plt.tight_layout()\n",
        "display_training_curves(history.history['accuracy'], history.history['val_accuracy'], 'accuracy', 211)\n",
        "display_training_curves(history.history['loss'], history.history['val_loss'], 'loss', 212)"
      ],
      "metadata": {
        "colab": {
          "base_uri": "https://localhost:8080/",
          "height": 1000
        },
        "id": "MYcC9QTHrI3E",
        "outputId": "350483e6-7a03-4e13-975f-54f1c94b87a0"
      },
      "execution_count": 27,
      "outputs": [
        {
          "output_type": "stream",
          "name": "stderr",
          "text": [
            "<ipython-input-27-ff34c960b42d>:3: MatplotlibDeprecationWarning: Auto-removal of overlapping axes is deprecated since 3.6 and will be removed two minor releases later; explicitly call ax.remove() as needed.\n",
            "  ax = plt.subplot(subplot)\n"
          ]
        },
        {
          "output_type": "display_data",
          "data": {
            "text/plain": [
              "<Figure size 1000x1000 with 2 Axes>"
            ],
            "image/png": "[encoded data removed]"
          },
          "metadata": {}
        }
      ]
    },
    {
      "cell_type": "code",
      "source": [
        "bert_model.save_weights('gdrive/Mydrive/Statapp/bert_model.hdf5', overwrite=True)"
      ],
      "metadata": {
        "id": "Hy-l1Fpt1Y34"
      },
      "execution_count": 39,
      "outputs": []
    },
    {
      "cell_type": "code",
      "source": [
        "import h5py\n",
        "filedirectory = \"gdrive/Mydrive/Statapp/bert_model.hdf5\"\n",
        "\n",
        "with h5py.File(filedirectory, \"r\") as f:\n",
        "    # Print all root level object names (aka keys) \n",
        "    # these can be group or dataset names \n",
        "    print(\"Keys: %s\" % f.keys())\n",
        "    print(f['top_level_model_weights'])\n"
      ],
      "metadata": {
        "colab": {
          "base_uri": "https://localhost:8080/"
        },
        "id": "XEGeZmAJ11_Z",
        "outputId": "9ed6a9e5-4752-4694-b09a-4b21ca9ed133"
      },
      "execution_count": 52,
      "outputs": [
        {
          "output_type": "stream",
          "name": "stdout",
          "text": [
            "Keys: <KeysViewHDF5 ['bert', 'classifier', 'dropout_37', 'top_level_model_weights']>\n",
            "<HDF5 group \"/top_level_model_weights\" (0 members)>\n"
          ]
        }
      ]
    },
    {
      "cell_type": "code",
      "source": [
        "    # get first object name/key; may or may NOT be a group\n",
        "    a_group_key = list(f.keys())[0]\n",
        "    # get the object type for a_group_key: usually group or dataset\n",
        "    print(type(f[a_group_key]))\n",
        "    print(f[a_group_key])\n",
        "    # If a_group_key is a group name, \n",
        "    # this gets the object names in the group and returns as a list\n",
        "    data = list(f[a_group_key])\n",
        "    # If a_group_key is a dataset name, \n",
        "    # this gets the dataset values and returns as a list\n",
        "    data = list(f[a_group_key])\n",
        "    # preferred methods to get dataset values:\n",
        "    ds_obj = f[a_group_key]      # returns as a h5py dataset object\n",
        "    #ds_arr = f[a_group_key][()]  # returns as a numpy array  "
      ],
      "metadata": {
        "id": "K_aegrX16SDa"
      },
      "execution_count": null,
      "outputs": []
    },
    {
      "cell_type": "code",
      "source": [
        "with tf.device('/device:GPU:0'):\n",
        "  history = bert_model.fit([train_inp, train_mask],\\\n",
        "                         train_label,\\\n",
        "                         batch_size = 16,\\\n",
        "                         epochs = 5,\\\n",
        "                         validation_data = ([val_inp, val_mask], val_label),\\\n",
        "                         callbacks = callbacks)"
      ],
      "metadata": {
        "colab": {
          "base_uri": "https://localhost:8080/"
        },
        "id": "oSrxQJYK8OZf",
        "outputId": "58c17d46-dfac-41a7-8173-0d3ccba3830a"
      },
      "execution_count": 31,
      "outputs": [
        {
          "output_type": "stream",
          "name": "stdout",
          "text": [
            "Epoch 1/5\n",
            "532/532 [==============================] - 655s 1s/step - loss: 0.7137 - accuracy: 0.4584 - binary_accuracy: 0.6411 - val_loss: 0.6974 - val_accuracy: 0.4780 - val_binary_accuracy: 0.5000\n",
            "Epoch 2/5\n",
            "532/532 [==============================] - 599s 1s/step - loss: 0.6785 - accuracy: 0.5821 - binary_accuracy: 0.6412 - val_loss: 0.7019 - val_accuracy: 0.5020 - val_binary_accuracy: 0.5000\n",
            "Epoch 3/5\n",
            "532/532 [==============================] - 594s 1s/step - loss: 0.6662 - accuracy: 0.6299 - binary_accuracy: 0.6412 - val_loss: 0.7095 - val_accuracy: 0.4940 - val_binary_accuracy: 0.5000\n",
            "Epoch 4/5\n",
            "532/532 [==============================] - 598s 1s/step - loss: 0.6577 - accuracy: 0.6389 - binary_accuracy: 0.6412 - val_loss: 0.7175 - val_accuracy: 0.4940 - val_binary_accuracy: 0.5000\n",
            "Epoch 5/5\n",
            "532/532 [==============================] - 599s 1s/step - loss: 0.6499 - accuracy: 0.6434 - binary_accuracy: 0.6412 - val_loss: 0.7212 - val_accuracy: 0.4980 - val_binary_accuracy: 0.5000\n"
          ]
        }
      ]
    },
    {
      "cell_type": "code",
      "source": [
        "def display_training_curves(training, validation, title, subplot):\n",
        "  ax = plt.subplot(subplot)\n",
        "  ax.plot(training)\n",
        "  ax.plot(validation)\n",
        "  ax.set_title('model '+ title)\n",
        "  ax.set_ylabel(title)\n",
        "  ax.set_xlabel('epoch')\n",
        "  ax.legend(['training', 'validation'])\n",
        "\n",
        "plt.subplots(figsize=(10,10))\n",
        "plt.tight_layout()\n",
        "display_training_curves(history.history['accuracy'], history.history['val_accuracy'], 'accuracy', 211)\n",
        "display_training_curves(history.history['loss'], history.history['val_loss'], 'loss', 212)"
      ],
      "metadata": {
        "colab": {
          "base_uri": "https://localhost:8080/",
          "height": 1000
        },
        "id": "SrHEpU1l8-E6",
        "outputId": "94b24584-8860-45c5-eb6a-d0317ba145ba"
      },
      "execution_count": 32,
      "outputs": [
        {
          "output_type": "stream",
          "name": "stderr",
          "text": [
            "<ipython-input-32-1f93f750d707>:2: MatplotlibDeprecationWarning: Auto-removal of overlapping axes is deprecated since 3.6 and will be removed two minor releases later; explicitly call ax.remove() as needed.\n",
            "  ax = plt.subplot(subplot)\n"
          ]
        },
        {
          "output_type": "display_data",
          "data": {
            "text/plain": [
              "<Figure size 1000x1000 with 2 Axes>"
            ],
            "image/png": "[encoded data removed]"
          },
          "metadata": {}
        }
      ]
    },
    {
      "cell_type": "code",
      "source": [
        "with tf.device('/device:GPU:0'):\n",
        "  history = bert_model.fit([train_inp, train_mask],\\\n",
        "                         train_label,\\\n",
        "                         batch_size = 16,\\\n",
        "                         epochs = 5,\\\n",
        "                         validation_data = ([val_inp, val_mask], val_label),\\\n",
        "                         callbacks = callbacks)"
      ],
      "metadata": {
        "id": "-8expsiTE4zv",
        "outputId": "82e9ad18-1238-4d6a-d9f4-e97ec471b696",
        "colab": {
          "base_uri": "https://localhost:8080/"
        }
      },
      "execution_count": 27,
      "outputs": [
        {
          "output_type": "stream",
          "name": "stdout",
          "text": [
            "Epoch 1/5\n",
            "532/532 [==============================] - 675s 1s/step - loss: 0.6563 - accuracy: 0.6402 - binary_accuracy: 0.6268 - val_loss: 0.8230 - val_accuracy: 0.5000 - val_binary_accuracy: 0.5000\n",
            "Epoch 2/5\n",
            "532/532 [==============================] - 597s 1s/step - loss: 0.6561 - accuracy: 0.6414 - binary_accuracy: 0.6385 - val_loss: 0.7509 - val_accuracy: 0.5000 - val_binary_accuracy: 0.5000\n",
            "Epoch 3/5\n",
            "532/532 [==============================] - 599s 1s/step - loss: 0.6555 - accuracy: 0.6412 - binary_accuracy: 0.6320 - val_loss: 0.7333 - val_accuracy: 0.5000 - val_binary_accuracy: 0.5000\n",
            "Epoch 4/5\n",
            "532/532 [==============================] - 597s 1s/step - loss: 0.6550 - accuracy: 0.6411 - binary_accuracy: 0.6409 - val_loss: 0.7989 - val_accuracy: 0.5000 - val_binary_accuracy: 0.5000\n",
            "Epoch 5/5\n",
            "532/532 [==============================] - 597s 1s/step - loss: 0.6553 - accuracy: 0.6407 - binary_accuracy: 0.6402 - val_loss: 0.7421 - val_accuracy: 0.5000 - val_binary_accuracy: 0.5000\n"
          ]
        }
      ]
    },
    {
      "cell_type": "code",
      "source": [
        "def display_training_curves(training, validation, title, subplot):\n",
        "  ax = plt.subplot(subplot)\n",
        "  ax.plot(training)\n",
        "  ax.plot(validation)\n",
        "  ax.set_title('model '+ title)\n",
        "  ax.set_ylabel(title)\n",
        "  ax.set_xlabel('epoch')\n",
        "  ax.legend(['training', 'validation'])\n",
        "\n",
        "plt.subplots(figsize=(10,10))\n",
        "plt.tight_layout()\n",
        "display_training_curves(history.history['accuracy'], history.history['val_accuracy'], 'accuracy', 211)\n",
        "display_training_curves(history.history['loss'], history.history['val_loss'], 'loss', 212)"
      ],
      "metadata": {
        "id": "KC-9HKeoyfFm",
        "outputId": "4ed2a39a-3a76-4654-bd34-2297ee3e6b70",
        "colab": {
          "base_uri": "https://localhost:8080/",
          "height": 1000
        }
      },
      "execution_count": 28,
      "outputs": [
        {
          "output_type": "stream",
          "name": "stderr",
          "text": [
            "<ipython-input-28-1f93f750d707>:2: MatplotlibDeprecationWarning: Auto-removal of overlapping axes is deprecated since 3.6 and will be removed two minor releases later; explicitly call ax.remove() as needed.\n",
            "  ax = plt.subplot(subplot)\n"
          ]
        },
        {
          "output_type": "display_data",
          "data": {
            "text/plain": [
              "<Figure size 1000x1000 with 2 Axes>"
            ],
            "image/png": "[encoded data removed]"
          },
          "metadata": {}
        }
      ]
    },
    {
      "cell_type": "code",
      "source": [
        "with tf.device('/device:GPU:0'):\n",
        "  history = bert_model.fit([train_inp, train_mask],\\\n",
        "                         train_label,\\\n",
        "                         batch_size = 16,\\\n",
        "                         epochs = 6,\\\n",
        "                         validation_data = ([val_inp, val_mask], val_label),\\\n",
        "                         callbacks = callbacks)"
      ],
      "metadata": {
        "id": "NW3yZG5zvUX-",
        "outputId": "366fc9ed-8c0c-4684-d653-deab24723576",
        "colab": {
          "base_uri": "https://localhost:8080/"
        }
      },
      "execution_count": 28,
      "outputs": [
        {
          "output_type": "stream",
          "name": "stdout",
          "text": [
            "Epoch 1/6\n",
            "532/532 [==============================] - 679s 1s/step - loss: 0.6457 - accuracy: 0.6419 - binary_accuracy: 0.6364 - val_loss: 0.7333 - val_accuracy: 0.5100 - val_binary_accuracy: 0.5000\n",
            "Epoch 2/6\n",
            "532/532 [==============================] - 590s 1s/step - loss: 0.6120 - accuracy: 0.6819 - binary_accuracy: 0.6346 - val_loss: 0.7633 - val_accuracy: 0.5380 - val_binary_accuracy: 0.5020\n",
            "Epoch 3/6\n",
            "532/532 [==============================] - 599s 1s/step - loss: 0.5864 - accuracy: 0.7027 - binary_accuracy: 0.6220 - val_loss: 0.7545 - val_accuracy: 0.5720 - val_binary_accuracy: 0.5020\n",
            "Epoch 4/6\n",
            "532/532 [==============================] - 623s 1s/step - loss: 0.5671 - accuracy: 0.7221 - binary_accuracy: 0.6129 - val_loss: 0.7720 - val_accuracy: 0.5640 - val_binary_accuracy: 0.4960\n",
            "Epoch 5/6\n",
            "532/532 [==============================] - 596s 1s/step - loss: 0.5526 - accuracy: 0.7271 - binary_accuracy: 0.5957 - val_loss: 0.7760 - val_accuracy: 0.5640 - val_binary_accuracy: 0.4830\n",
            "Epoch 6/6\n",
            "532/532 [==============================] - 599s 1s/step - loss: 0.5408 - accuracy: 0.7435 - binary_accuracy: 0.5839 - val_loss: 0.7984 - val_accuracy: 0.5580 - val_binary_accuracy: 0.4830\n"
          ]
        }
      ]
    },
    {
      "cell_type": "code",
      "source": [
        "def display_training_curves(training, validation, title, subplot):\n",
        "  ax = plt.subplot(subplot)\n",
        "  ax.plot(training)\n",
        "  ax.plot(validation)\n",
        "  ax.set_title('model '+ title)\n",
        "  ax.set_ylabel(title)\n",
        "  ax.set_xlabel('epoch')\n",
        "  ax.legend(['training', 'validation'])\n",
        "\n",
        "plt.subplots(figsize=(10,10))\n",
        "plt.tight_layout()\n",
        "display_training_curves(history.history['accuracy'], history.history['val_accuracy'], 'accuracy', 211)\n",
        "display_training_curves(history.history['loss'], history.history['val_loss'], 'loss', 212)"
      ],
      "metadata": {
        "id": "8643UGjTvh78",
        "outputId": "495ee63d-3a3d-43e6-ea5d-24b8e564fdce",
        "colab": {
          "base_uri": "https://localhost:8080/",
          "height": 1000
        }
      },
      "execution_count": 29,
      "outputs": [
        {
          "output_type": "stream",
          "name": "stderr",
          "text": [
            "<ipython-input-29-1f93f750d707>:2: MatplotlibDeprecationWarning: Auto-removal of overlapping axes is deprecated since 3.6 and will be removed two minor releases later; explicitly call ax.remove() as needed.\n",
            "  ax = plt.subplot(subplot)\n"
          ]
        },
        {
          "output_type": "display_data",
          "data": {
            "text/plain": [
              "<Figure size 1000x1000 with 2 Axes>"
            ],
            "image/png": "[encoded data removed]"
          },
          "metadata": {}
        }
      ]
    },
    {
      "cell_type": "code",
      "source": [
        "bert_model.save_weights('bert.hdf5')"
      ],
      "metadata": {
        "id": "d5vWs4p59QOr"
      },
      "execution_count": 30,
      "outputs": []
    }
  ],
  "metadata": {
    "accelerator": "GPU",
    "colab": {
      "provenance": []
    },
    "gpuClass": "standard",
    "kernelspec": {
      "display_name": "Python 3",
      "name": "python3"
    },
    "language_info": {
      "name": "python"
    },
    "widgets": {
      "application/vnd.jupyter.widget-state+json": {
        "59d8621f06a148b4baef78637ada6ec7": {
          "model_module": "@jupyter-widgets/controls",
          "model_name": "HBoxModel",
          "model_module_version": "1.5.0",
          "state": {
            "_dom_classes": [],
            "_model_module": "@jupyter-widgets/controls",
            "_model_module_version": "1.5.0",
            "_model_name": "HBoxModel",
            "_view_count": null,
            "_view_module": "@jupyter-widgets/controls",
            "_view_module_version": "1.5.0",
            "_view_name": "HBoxView",
            "box_style": "",
            "children": [
              "IPY_MODEL_fd9233df84d241b8807b6bd87c154eda",
              "IPY_MODEL_3c9ce6bd35004282a3948a2ae49efa13",
              "IPY_MODEL_7d46e0b35df7465f994f1750d6cd508b"
            ],
            "layout": "IPY_MODEL_c0ceeaebf5cc4cb4aaedf8410f2f2f13"
          }
        },
        "fd9233df84d241b8807b6bd87c154eda": {
          "model_module": "@jupyter-widgets/controls",
          "model_name": "HTMLModel",
          "model_module_version": "1.5.0",
          "state": {
            "_dom_classes": [],
            "_model_module": "@jupyter-widgets/controls",
            "_model_module_version": "1.5.0",
            "_model_name": "HTMLModel",
            "_view_count": null,
            "_view_module": "@jupyter-widgets/controls",
            "_view_module_version": "1.5.0",
            "_view_name": "HTMLView",
            "description": "",
            "description_tooltip": null,
            "layout": "IPY_MODEL_e4668744b54e482fbadd5305036c7d59",
            "placeholder": "​",
            "style": "IPY_MODEL_bd8ca1f953f24d75b34e469995d02084",
            "value": "Downloading (…)solve/main/vocab.txt: 100%"
          }
        },
        "3c9ce6bd35004282a3948a2ae49efa13": {
          "model_module": "@jupyter-widgets/controls",
          "model_name": "FloatProgressModel",
          "model_module_version": "1.5.0",
          "state": {
            "_dom_classes": [],
            "_model_module": "@jupyter-widgets/controls",
            "_model_module_version": "1.5.0",
            "_model_name": "FloatProgressModel",
            "_view_count": null,
            "_view_module": "@jupyter-widgets/controls",
            "_view_module_version": "1.5.0",
            "_view_name": "ProgressView",
            "bar_style": "success",
            "description": "",
            "description_tooltip": null,
            "layout": "IPY_MODEL_3258ce035d8d4efa8af0a0592818f67e",
            "max": 231508,
            "min": 0,
            "orientation": "horizontal",
            "style": "IPY_MODEL_8801dd4c54b74ed594fae4b2ee4e2fd8",
            "value": 231508
          }
        },
        "7d46e0b35df7465f994f1750d6cd508b": {
          "model_module": "@jupyter-widgets/controls",
          "model_name": "HTMLModel",
          "model_module_version": "1.5.0",
          "state": {
            "_dom_classes": [],
            "_model_module": "@jupyter-widgets/controls",
            "_model_module_version": "1.5.0",
            "_model_name": "HTMLModel",
            "_view_count": null,
            "_view_module": "@jupyter-widgets/controls",
            "_view_module_version": "1.5.0",
            "_view_name": "HTMLView",
            "description": "",
            "description_tooltip": null,
            "layout": "IPY_MODEL_70b84938016749bebd41f48db6182778",
            "placeholder": "​",
            "style": "IPY_MODEL_5a343d9a46d9480f891b3776235fb71b",
            "value": " 232k/232k [00:00&lt;00:00, 754kB/s]"
          }
        },
        "c0ceeaebf5cc4cb4aaedf8410f2f2f13": {
          "model_module": "@jupyter-widgets/base",
          "model_name": "LayoutModel",
          "model_module_version": "1.2.0",
          "state": {
            "_model_module": "@jupyter-widgets/base",
            "_model_module_version": "1.2.0",
            "_model_name": "LayoutModel",
            "_view_count": null,
            "_view_module": "@jupyter-widgets/base",
            "_view_module_version": "1.2.0",
            "_view_name": "LayoutView",
            "align_content": null,
            "align_items": null,
            "align_self": null,
            "border": null,
            "bottom": null,
            "display": null,
            "flex": null,
            "flex_flow": null,
            "grid_area": null,
            "grid_auto_columns": null,
            "grid_auto_flow": null,
            "grid_auto_rows": null,
            "grid_column": null,
            "grid_gap": null,
            "grid_row": null,
            "grid_template_areas": null,
            "grid_template_columns": null,
            "grid_template_rows": null,
            "height": null,
            "justify_content": null,
            "justify_items": null,
            "left": null,
            "margin": null,
            "max_height": null,
            "max_width": null,
            "min_height": null,
            "min_width": null,
            "object_fit": null,
            "object_position": null,
            "order": null,
            "overflow": null,
            "overflow_x": null,
            "overflow_y": null,
            "padding": null,
            "right": null,
            "top": null,
            "visibility": null,
            "width": null
          }
        },
        "e4668744b54e482fbadd5305036c7d59": {
          "model_module": "@jupyter-widgets/base",
          "model_name": "LayoutModel",
          "model_module_version": "1.2.0",
          "state": {
            "_model_module": "@jupyter-widgets/base",
            "_model_module_version": "1.2.0",
            "_model_name": "LayoutModel",
            "_view_count": null,
            "_view_module": "@jupyter-widgets/base",
            "_view_module_version": "1.2.0",
            "_view_name": "LayoutView",
            "align_content": null,
            "align_items": null,
            "align_self": null,
            "border": null,
            "bottom": null,
            "display": null,
            "flex": null,
            "flex_flow": null,
            "grid_area": null,
            "grid_auto_columns": null,
            "grid_auto_flow": null,
            "grid_auto_rows": null,
            "grid_column": null,
            "grid_gap": null,
            "grid_row": null,
            "grid_template_areas": null,
            "grid_template_columns": null,
            "grid_template_rows": null,
            "height": null,
            "justify_content": null,
            "justify_items": null,
            "left": null,
            "margin": null,
            "max_height": null,
            "max_width": null,
            "min_height": null,
            "min_width": null,
            "object_fit": null,
            "object_position": null,
            "order": null,
            "overflow": null,
            "overflow_x": null,
            "overflow_y": null,
            "padding": null,
            "right": null,
            "top": null,
            "visibility": null,
            "width": null
          }
        },
        "bd8ca1f953f24d75b34e469995d02084": {
          "model_module": "@jupyter-widgets/controls",
          "model_name": "DescriptionStyleModel",
          "model_module_version": "1.5.0",
          "state": {
            "_model_module": "@jupyter-widgets/controls",
            "_model_module_version": "1.5.0",
            "_model_name": "DescriptionStyleModel",
            "_view_count": null,
            "_view_module": "@jupyter-widgets/base",
            "_view_module_version": "1.2.0",
            "_view_name": "StyleView",
            "description_width": ""
          }
        },
        "3258ce035d8d4efa8af0a0592818f67e": {
          "model_module": "@jupyter-widgets/base",
          "model_name": "LayoutModel",
          "model_module_version": "1.2.0",
          "state": {
            "_model_module": "@jupyter-widgets/base",
            "_model_module_version": "1.2.0",
            "_model_name": "LayoutModel",
            "_view_count": null,
            "_view_module": "@jupyter-widgets/base",
            "_view_module_version": "1.2.0",
            "_view_name": "LayoutView",
            "align_content": null,
            "align_items": null,
            "align_self": null,
            "border": null,
            "bottom": null,
            "display": null,
            "flex": null,
            "flex_flow": null,
            "grid_area": null,
            "grid_auto_columns": null,
            "grid_auto_flow": null,
            "grid_auto_rows": null,
            "grid_column": null,
            "grid_gap": null,
            "grid_row": null,
            "grid_template_areas": null,
            "grid_template_columns": null,
            "grid_template_rows": null,
            "height": null,
            "justify_content": null,
            "justify_items": null,
            "left": null,
            "margin": null,
            "max_height": null,
            "max_width": null,
            "min_height": null,
            "min_width": null,
            "object_fit": null,
            "object_position": null,
            "order": null,
            "overflow": null,
            "overflow_x": null,
            "overflow_y": null,
            "padding": null,
            "right": null,
            "top": null,
            "visibility": null,
            "width": null
          }
        },
        "8801dd4c54b74ed594fae4b2ee4e2fd8": {
          "model_module": "@jupyter-widgets/controls",
          "model_name": "ProgressStyleModel",
          "model_module_version": "1.5.0",
          "state": {
            "_model_module": "@jupyter-widgets/controls",
            "_model_module_version": "1.5.0",
            "_model_name": "ProgressStyleModel",
            "_view_count": null,
            "_view_module": "@jupyter-widgets/base",
            "_view_module_version": "1.2.0",
            "_view_name": "StyleView",
            "bar_color": null,
            "description_width": ""
          }
        },
        "70b84938016749bebd41f48db6182778": {
          "model_module": "@jupyter-widgets/base",
          "model_name": "LayoutModel",
          "model_module_version": "1.2.0",
          "state": {
            "_model_module": "@jupyter-widgets/base",
            "_model_module_version": "1.2.0",
            "_model_name": "LayoutModel",
            "_view_count": null,
            "_view_module": "@jupyter-widgets/base",
            "_view_module_version": "1.2.0",
            "_view_name": "LayoutView",
            "align_content": null,
            "align_items": null,
            "align_self": null,
            "border": null,
            "bottom": null,
            "display": null,
            "flex": null,
            "flex_flow": null,
            "grid_area": null,
            "grid_auto_columns": null,
            "grid_auto_flow": null,
            "grid_auto_rows": null,
            "grid_column": null,
            "grid_gap": null,
            "grid_row": null,
            "grid_template_areas": null,
            "grid_template_columns": null,
            "grid_template_rows": null,
            "height": null,
            "justify_content": null,
            "justify_items": null,
            "left": null,
            "margin": null,
            "max_height": null,
            "max_width": null,
            "min_height": null,
            "min_width": null,
            "object_fit": null,
            "object_position": null,
            "order": null,
            "overflow": null,
            "overflow_x": null,
            "overflow_y": null,
            "padding": null,
            "right": null,
            "top": null,
            "visibility": null,
            "width": null
          }
        },
        "5a343d9a46d9480f891b3776235fb71b": {
          "model_module": "@jupyter-widgets/controls",
          "model_name": "DescriptionStyleModel",
          "model_module_version": "1.5.0",
          "state": {
            "_model_module": "@jupyter-widgets/controls",
            "_model_module_version": "1.5.0",
            "_model_name": "DescriptionStyleModel",
            "_view_count": null,
            "_view_module": "@jupyter-widgets/base",
            "_view_module_version": "1.2.0",
            "_view_name": "StyleView",
            "description_width": ""
          }
        },
        "6040c4b1d34e465e9d6781cb68cc246d": {
          "model_module": "@jupyter-widgets/controls",
          "model_name": "HBoxModel",
          "model_module_version": "1.5.0",
          "state": {
            "_dom_classes": [],
            "_model_module": "@jupyter-widgets/controls",
            "_model_module_version": "1.5.0",
            "_model_name": "HBoxModel",
            "_view_count": null,
            "_view_module": "@jupyter-widgets/controls",
            "_view_module_version": "1.5.0",
            "_view_name": "HBoxView",
            "box_style": "",
            "children": [
              "IPY_MODEL_e6aaa3d4412e4684a52c1c86b7101d64",
              "IPY_MODEL_89795b63b682437dba7fb915ad568dc4",
              "IPY_MODEL_37815f23d8264a8e8560cce38138d378"
            ],
            "layout": "IPY_MODEL_1a2aa55580114bc7a35af233dbe9ad0c"
          }
        },
        "e6aaa3d4412e4684a52c1c86b7101d64": {
          "model_module": "@jupyter-widgets/controls",
          "model_name": "HTMLModel",
          "model_module_version": "1.5.0",
          "state": {
            "_dom_classes": [],
            "_model_module": "@jupyter-widgets/controls",
            "_model_module_version": "1.5.0",
            "_model_name": "HTMLModel",
            "_view_count": null,
            "_view_module": "@jupyter-widgets/controls",
            "_view_module_version": "1.5.0",
            "_view_name": "HTMLView",
            "description": "",
            "description_tooltip": null,
            "layout": "IPY_MODEL_e957343e0ee24a438b3dab45b6d21f05",
            "placeholder": "​",
            "style": "IPY_MODEL_bcc21ae43ce04ad7be880eea0f17a735",
            "value": "Downloading (…)okenizer_config.json: 100%"
          }
        },
        "89795b63b682437dba7fb915ad568dc4": {
          "model_module": "@jupyter-widgets/controls",
          "model_name": "FloatProgressModel",
          "model_module_version": "1.5.0",
          "state": {
            "_dom_classes": [],
            "_model_module": "@jupyter-widgets/controls",
            "_model_module_version": "1.5.0",
            "_model_name": "FloatProgressModel",
            "_view_count": null,
            "_view_module": "@jupyter-widgets/controls",
            "_view_module_version": "1.5.0",
            "_view_name": "ProgressView",
            "bar_style": "success",
            "description": "",
            "description_tooltip": null,
            "layout": "IPY_MODEL_481ef3ffe1fa4589a4a60ea5b80748c6",
            "max": 28,
            "min": 0,
            "orientation": "horizontal",
            "style": "IPY_MODEL_e07917a45e3d47c38870ee20d65c868b",
            "value": 28
          }
        },
        "37815f23d8264a8e8560cce38138d378": {
          "model_module": "@jupyter-widgets/controls",
          "model_name": "HTMLModel",
          "model_module_version": "1.5.0",
          "state": {
            "_dom_classes": [],
            "_model_module": "@jupyter-widgets/controls",
            "_model_module_version": "1.5.0",
            "_model_name": "HTMLModel",
            "_view_count": null,
            "_view_module": "@jupyter-widgets/controls",
            "_view_module_version": "1.5.0",
            "_view_name": "HTMLView",
            "description": "",
            "description_tooltip": null,
            "layout": "IPY_MODEL_986f535800294e3682cad8e6555f4d58",
            "placeholder": "​",
            "style": "IPY_MODEL_bde5ddc9e89c4f5db51dceb697dd8706",
            "value": " 28.0/28.0 [00:00&lt;00:00, 1.83kB/s]"
          }
        },
        "1a2aa55580114bc7a35af233dbe9ad0c": {
          "model_module": "@jupyter-widgets/base",
          "model_name": "LayoutModel",
          "model_module_version": "1.2.0",
          "state": {
            "_model_module": "@jupyter-widgets/base",
            "_model_module_version": "1.2.0",
            "_model_name": "LayoutModel",
            "_view_count": null,
            "_view_module": "@jupyter-widgets/base",
            "_view_module_version": "1.2.0",
            "_view_name": "LayoutView",
            "align_content": null,
            "align_items": null,
            "align_self": null,
            "border": null,
            "bottom": null,
            "display": null,
            "flex": null,
            "flex_flow": null,
            "grid_area": null,
            "grid_auto_columns": null,
            "grid_auto_flow": null,
            "grid_auto_rows": null,
            "grid_column": null,
            "grid_gap": null,
            "grid_row": null,
            "grid_template_areas": null,
            "grid_template_columns": null,
            "grid_template_rows": null,
            "height": null,
            "justify_content": null,
            "justify_items": null,
            "left": null,
            "margin": null,
            "max_height": null,
            "max_width": null,
            "min_height": null,
            "min_width": null,
            "object_fit": null,
            "object_position": null,
            "order": null,
            "overflow": null,
            "overflow_x": null,
            "overflow_y": null,
            "padding": null,
            "right": null,
            "top": null,
            "visibility": null,
            "width": null
          }
        },
        "e957343e0ee24a438b3dab45b6d21f05": {
          "model_module": "@jupyter-widgets/base",
          "model_name": "LayoutModel",
          "model_module_version": "1.2.0",
          "state": {
            "_model_module": "@jupyter-widgets/base",
            "_model_module_version": "1.2.0",
            "_model_name": "LayoutModel",
            "_view_count": null,
            "_view_module": "@jupyter-widgets/base",
            "_view_module_version": "1.2.0",
            "_view_name": "LayoutView",
            "align_content": null,
            "align_items": null,
            "align_self": null,
            "border": null,
            "bottom": null,
            "display": null,
            "flex": null,
            "flex_flow": null,
            "grid_area": null,
            "grid_auto_columns": null,
            "grid_auto_flow": null,
            "grid_auto_rows": null,
            "grid_column": null,
            "grid_gap": null,
            "grid_row": null,
            "grid_template_areas": null,
            "grid_template_columns": null,
            "grid_template_rows": null,
            "height": null,
            "justify_content": null,
            "justify_items": null,
            "left": null,
            "margin": null,
            "max_height": null,
            "max_width": null,
            "min_height": null,
            "min_width": null,
            "object_fit": null,
            "object_position": null,
            "order": null,
            "overflow": null,
            "overflow_x": null,
            "overflow_y": null,
            "padding": null,
            "right": null,
            "top": null,
            "visibility": null,
            "width": null
          }
        },
        "bcc21ae43ce04ad7be880eea0f17a735": {
          "model_module": "@jupyter-widgets/controls",
          "model_name": "DescriptionStyleModel",
          "model_module_version": "1.5.0",
          "state": {
            "_model_module": "@jupyter-widgets/controls",
            "_model_module_version": "1.5.0",
            "_model_name": "DescriptionStyleModel",
            "_view_count": null,
            "_view_module": "@jupyter-widgets/base",
            "_view_module_version": "1.2.0",
            "_view_name": "StyleView",
            "description_width": ""
          }
        },
        "481ef3ffe1fa4589a4a60ea5b80748c6": {
          "model_module": "@jupyter-widgets/base",
          "model_name": "LayoutModel",
          "model_module_version": "1.2.0",
          "state": {
            "_model_module": "@jupyter-widgets/base",
            "_model_module_version": "1.2.0",
            "_model_name": "LayoutModel",
            "_view_count": null,
            "_view_module": "@jupyter-widgets/base",
            "_view_module_version": "1.2.0",
            "_view_name": "LayoutView",
            "align_content": null,
            "align_items": null,
            "align_self": null,
            "border": null,
            "bottom": null,
            "display": null,
            "flex": null,
            "flex_flow": null,
            "grid_area": null,
            "grid_auto_columns": null,
            "grid_auto_flow": null,
            "grid_auto_rows": null,
            "grid_column": null,
            "grid_gap": null,
            "grid_row": null,
            "grid_template_areas": null,
            "grid_template_columns": null,
            "grid_template_rows": null,
            "height": null,
            "justify_content": null,
            "justify_items": null,
            "left": null,
            "margin": null,
            "max_height": null,
            "max_width": null,
            "min_height": null,
            "min_width": null,
            "object_fit": null,
            "object_position": null,
            "order": null,
            "overflow": null,
            "overflow_x": null,
            "overflow_y": null,
            "padding": null,
            "right": null,
            "top": null,
            "visibility": null,
            "width": null
          }
        },
        "e07917a45e3d47c38870ee20d65c868b": {
          "model_module": "@jupyter-widgets/controls",
          "model_name": "ProgressStyleModel",
          "model_module_version": "1.5.0",
          "state": {
            "_model_module": "@jupyter-widgets/controls",
            "_model_module_version": "1.5.0",
            "_model_name": "ProgressStyleModel",
            "_view_count": null,
            "_view_module": "@jupyter-widgets/base",
            "_view_module_version": "1.2.0",
            "_view_name": "StyleView",
            "bar_color": null,
            "description_width": ""
          }
        },
        "986f535800294e3682cad8e6555f4d58": {
          "model_module": "@jupyter-widgets/base",
          "model_name": "LayoutModel",
          "model_module_version": "1.2.0",
          "state": {
            "_model_module": "@jupyter-widgets/base",
            "_model_module_version": "1.2.0",
            "_model_name": "LayoutModel",
            "_view_count": null,
            "_view_module": "@jupyter-widgets/base",
            "_view_module_version": "1.2.0",
            "_view_name": "LayoutView",
            "align_content": null,
            "align_items": null,
            "align_self": null,
            "border": null,
            "bottom": null,
            "display": null,
            "flex": null,
            "flex_flow": null,
            "grid_area": null,
            "grid_auto_columns": null,
            "grid_auto_flow": null,
            "grid_auto_rows": null,
            "grid_column": null,
            "grid_gap": null,
            "grid_row": null,
            "grid_template_areas": null,
            "grid_template_columns": null,
            "grid_template_rows": null,
            "height": null,
            "justify_content": null,
            "justify_items": null,
            "left": null,
            "margin": null,
            "max_height": null,
            "max_width": null,
            "min_height": null,
            "min_width": null,
            "object_fit": null,
            "object_position": null,
            "order": null,
            "overflow": null,
            "overflow_x": null,
            "overflow_y": null,
            "padding": null,
            "right": null,
            "top": null,
            "visibility": null,
            "width": null
          }
        },
        "bde5ddc9e89c4f5db51dceb697dd8706": {
          "model_module": "@jupyter-widgets/controls",
          "model_name": "DescriptionStyleModel",
          "model_module_version": "1.5.0",
          "state": {
            "_model_module": "@jupyter-widgets/controls",
            "_model_module_version": "1.5.0",
            "_model_name": "DescriptionStyleModel",
            "_view_count": null,
            "_view_module": "@jupyter-widgets/base",
            "_view_module_version": "1.2.0",
            "_view_name": "StyleView",
            "description_width": ""
          }
        },
        "2678919cde8f4af48806da00114ccb1a": {
          "model_module": "@jupyter-widgets/controls",
          "model_name": "HBoxModel",
          "model_module_version": "1.5.0",
          "state": {
            "_dom_classes": [],
            "_model_module": "@jupyter-widgets/controls",
            "_model_module_version": "1.5.0",
            "_model_name": "HBoxModel",
            "_view_count": null,
            "_view_module": "@jupyter-widgets/controls",
            "_view_module_version": "1.5.0",
            "_view_name": "HBoxView",
            "box_style": "",
            "children": [
              "IPY_MODEL_a90a2ee7f4774f04a6dfed4ee23e1a06",
              "IPY_MODEL_cd1e17891dbd45819688dd6955df5255",
              "IPY_MODEL_9651772c85d44420a3f003f3991305ce"
            ],
            "layout": "IPY_MODEL_2fbf905d04cb4339b9b982e9ea5cc950"
          }
        },
        "a90a2ee7f4774f04a6dfed4ee23e1a06": {
          "model_module": "@jupyter-widgets/controls",
          "model_name": "HTMLModel",
          "model_module_version": "1.5.0",
          "state": {
            "_dom_classes": [],
            "_model_module": "@jupyter-widgets/controls",
            "_model_module_version": "1.5.0",
            "_model_name": "HTMLModel",
            "_view_count": null,
            "_view_module": "@jupyter-widgets/controls",
            "_view_module_version": "1.5.0",
            "_view_name": "HTMLView",
            "description": "",
            "description_tooltip": null,
            "layout": "IPY_MODEL_9b7a4bb98b1c42ea9c83c27e6859469f",
            "placeholder": "​",
            "style": "IPY_MODEL_dadcb8fb4c724f7cac9a21175cbcaf92",
            "value": "Downloading (…)lve/main/config.json: 100%"
          }
        },
        "cd1e17891dbd45819688dd6955df5255": {
          "model_module": "@jupyter-widgets/controls",
          "model_name": "FloatProgressModel",
          "model_module_version": "1.5.0",
          "state": {
            "_dom_classes": [],
            "_model_module": "@jupyter-widgets/controls",
            "_model_module_version": "1.5.0",
            "_model_name": "FloatProgressModel",
            "_view_count": null,
            "_view_module": "@jupyter-widgets/controls",
            "_view_module_version": "1.5.0",
            "_view_name": "ProgressView",
            "bar_style": "success",
            "description": "",
            "description_tooltip": null,
            "layout": "IPY_MODEL_7df5e34f195a46cc847cbc3bb86067b3",
            "max": 570,
            "min": 0,
            "orientation": "horizontal",
            "style": "IPY_MODEL_997bbd41f2a241689235e90b8203eef7",
            "value": 570
          }
        },
        "9651772c85d44420a3f003f3991305ce": {
          "model_module": "@jupyter-widgets/controls",
          "model_name": "HTMLModel",
          "model_module_version": "1.5.0",
          "state": {
            "_dom_classes": [],
            "_model_module": "@jupyter-widgets/controls",
            "_model_module_version": "1.5.0",
            "_model_name": "HTMLModel",
            "_view_count": null,
            "_view_module": "@jupyter-widgets/controls",
            "_view_module_version": "1.5.0",
            "_view_name": "HTMLView",
            "description": "",
            "description_tooltip": null,
            "layout": "IPY_MODEL_33c8a643bd3f47f0a7bab61adcf2627d",
            "placeholder": "​",
            "style": "IPY_MODEL_c36f84fa409e44ffb525e81417ccbb4d",
            "value": " 570/570 [00:00&lt;00:00, 30.3kB/s]"
          }
        },
        "2fbf905d04cb4339b9b982e9ea5cc950": {
          "model_module": "@jupyter-widgets/base",
          "model_name": "LayoutModel",
          "model_module_version": "1.2.0",
          "state": {
            "_model_module": "@jupyter-widgets/base",
            "_model_module_version": "1.2.0",
            "_model_name": "LayoutModel",
            "_view_count": null,
            "_view_module": "@jupyter-widgets/base",
            "_view_module_version": "1.2.0",
            "_view_name": "LayoutView",
            "align_content": null,
            "align_items": null,
            "align_self": null,
            "border": null,
            "bottom": null,
            "display": null,
            "flex": null,
            "flex_flow": null,
            "grid_area": null,
            "grid_auto_columns": null,
            "grid_auto_flow": null,
            "grid_auto_rows": null,
            "grid_column": null,
            "grid_gap": null,
            "grid_row": null,
            "grid_template_areas": null,
            "grid_template_columns": null,
            "grid_template_rows": null,
            "height": null,
            "justify_content": null,
            "justify_items": null,
            "left": null,
            "margin": null,
            "max_height": null,
            "max_width": null,
            "min_height": null,
            "min_width": null,
            "object_fit": null,
            "object_position": null,
            "order": null,
            "overflow": null,
            "overflow_x": null,
            "overflow_y": null,
            "padding": null,
            "right": null,
            "top": null,
            "visibility": null,
            "width": null
          }
        },
        "9b7a4bb98b1c42ea9c83c27e6859469f": {
          "model_module": "@jupyter-widgets/base",
          "model_name": "LayoutModel",
          "model_module_version": "1.2.0",
          "state": {
            "_model_module": "@jupyter-widgets/base",
            "_model_module_version": "1.2.0",
            "_model_name": "LayoutModel",
            "_view_count": null,
            "_view_module": "@jupyter-widgets/base",
            "_view_module_version": "1.2.0",
            "_view_name": "LayoutView",
            "align_content": null,
            "align_items": null,
            "align_self": null,
            "border": null,
            "bottom": null,
            "display": null,
            "flex": null,
            "flex_flow": null,
            "grid_area": null,
            "grid_auto_columns": null,
            "grid_auto_flow": null,
            "grid_auto_rows": null,
            "grid_column": null,
            "grid_gap": null,
            "grid_row": null,
            "grid_template_areas": null,
            "grid_template_columns": null,
            "grid_template_rows": null,
            "height": null,
            "justify_content": null,
            "justify_items": null,
            "left": null,
            "margin": null,
            "max_height": null,
            "max_width": null,
            "min_height": null,
            "min_width": null,
            "object_fit": null,
            "object_position": null,
            "order": null,
            "overflow": null,
            "overflow_x": null,
            "overflow_y": null,
            "padding": null,
            "right": null,
            "top": null,
            "visibility": null,
            "width": null
          }
        },
        "dadcb8fb4c724f7cac9a21175cbcaf92": {
          "model_module": "@jupyter-widgets/controls",
          "model_name": "DescriptionStyleModel",
          "model_module_version": "1.5.0",
          "state": {
            "_model_module": "@jupyter-widgets/controls",
            "_model_module_version": "1.5.0",
            "_model_name": "DescriptionStyleModel",
            "_view_count": null,
            "_view_module": "@jupyter-widgets/base",
            "_view_module_version": "1.2.0",
            "_view_name": "StyleView",
            "description_width": ""
          }
        },
        "7df5e34f195a46cc847cbc3bb86067b3": {
          "model_module": "@jupyter-widgets/base",
          "model_name": "LayoutModel",
          "model_module_version": "1.2.0",
          "state": {
            "_model_module": "@jupyter-widgets/base",
            "_model_module_version": "1.2.0",
            "_model_name": "LayoutModel",
            "_view_count": null,
            "_view_module": "@jupyter-widgets/base",
            "_view_module_version": "1.2.0",
            "_view_name": "LayoutView",
            "align_content": null,
            "align_items": null,
            "align_self": null,
            "border": null,
            "bottom": null,
            "display": null,
            "flex": null,
            "flex_flow": null,
            "grid_area": null,
            "grid_auto_columns": null,
            "grid_auto_flow": null,
            "grid_auto_rows": null,
            "grid_column": null,
            "grid_gap": null,
            "grid_row": null,
            "grid_template_areas": null,
            "grid_template_columns": null,
            "grid_template_rows": null,
            "height": null,
            "justify_content": null,
            "justify_items": null,
            "left": null,
            "margin": null,
            "max_height": null,
            "max_width": null,
            "min_height": null,
            "min_width": null,
            "object_fit": null,
            "object_position": null,
            "order": null,
            "overflow": null,
            "overflow_x": null,
            "overflow_y": null,
            "padding": null,
            "right": null,
            "top": null,
            "visibility": null,
            "width": null
          }
        },
        "997bbd41f2a241689235e90b8203eef7": {
          "model_module": "@jupyter-widgets/controls",
          "model_name": "ProgressStyleModel",
          "model_module_version": "1.5.0",
          "state": {
            "_model_module": "@jupyter-widgets/controls",
            "_model_module_version": "1.5.0",
            "_model_name": "ProgressStyleModel",
            "_view_count": null,
            "_view_module": "@jupyter-widgets/base",
            "_view_module_version": "1.2.0",
            "_view_name": "StyleView",
            "bar_color": null,
            "description_width": ""
          }
        },
        "33c8a643bd3f47f0a7bab61adcf2627d": {
          "model_module": "@jupyter-widgets/base",
          "model_name": "LayoutModel",
          "model_module_version": "1.2.0",
          "state": {
            "_model_module": "@jupyter-widgets/base",
            "_model_module_version": "1.2.0",
            "_model_name": "LayoutModel",
            "_view_count": null,
            "_view_module": "@jupyter-widgets/base",
            "_view_module_version": "1.2.0",
            "_view_name": "LayoutView",
            "align_content": null,
            "align_items": null,
            "align_self": null,
            "border": null,
            "bottom": null,
            "display": null,
            "flex": null,
            "flex_flow": null,
            "grid_area": null,
            "grid_auto_columns": null,
            "grid_auto_flow": null,
            "grid_auto_rows": null,
            "grid_column": null,
            "grid_gap": null,
            "grid_row": null,
            "grid_template_areas": null,
            "grid_template_columns": null,
            "grid_template_rows": null,
            "height": null,
            "justify_content": null,
            "justify_items": null,
            "left": null,
            "margin": null,
            "max_height": null,
            "max_width": null,
            "min_height": null,
            "min_width": null,
            "object_fit": null,
            "object_position": null,
            "order": null,
            "overflow": null,
            "overflow_x": null,
            "overflow_y": null,
            "padding": null,
            "right": null,
            "top": null,
            "visibility": null,
            "width": null
          }
        },
        "c36f84fa409e44ffb525e81417ccbb4d": {
          "model_module": "@jupyter-widgets/controls",
          "model_name": "DescriptionStyleModel",
          "model_module_version": "1.5.0",
          "state": {
            "_model_module": "@jupyter-widgets/controls",
            "_model_module_version": "1.5.0",
            "_model_name": "DescriptionStyleModel",
            "_view_count": null,
            "_view_module": "@jupyter-widgets/base",
            "_view_module_version": "1.2.0",
            "_view_name": "StyleView",
            "description_width": ""
          }
        },
        "10fcc7ed0d494899a65b8e29aad10c93": {
          "model_module": "@jupyter-widgets/controls",
          "model_name": "HBoxModel",
          "model_module_version": "1.5.0",
          "state": {
            "_dom_classes": [],
            "_model_module": "@jupyter-widgets/controls",
            "_model_module_version": "1.5.0",
            "_model_name": "HBoxModel",
            "_view_count": null,
            "_view_module": "@jupyter-widgets/controls",
            "_view_module_version": "1.5.0",
            "_view_name": "HBoxView",
            "box_style": "",
            "children": [
              "IPY_MODEL_12db2e1d896a4b32a33d8b11d0a33cc8",
              "IPY_MODEL_af07bc001f0b46f2b3e6c608095532fa",
              "IPY_MODEL_110fda9d636a47b1830bd5a8a9f302dc"
            ],
            "layout": "IPY_MODEL_bac794bd452d452086699be9cf3ef26a"
          }
        },
        "12db2e1d896a4b32a33d8b11d0a33cc8": {
          "model_module": "@jupyter-widgets/controls",
          "model_name": "HTMLModel",
          "model_module_version": "1.5.0",
          "state": {
            "_dom_classes": [],
            "_model_module": "@jupyter-widgets/controls",
            "_model_module_version": "1.5.0",
            "_model_name": "HTMLModel",
            "_view_count": null,
            "_view_module": "@jupyter-widgets/controls",
            "_view_module_version": "1.5.0",
            "_view_name": "HTMLView",
            "description": "",
            "description_tooltip": null,
            "layout": "IPY_MODEL_b30bd21fdc2b4dc782a9268aa0f8226c",
            "placeholder": "​",
            "style": "IPY_MODEL_36df664fbf634cd2849450ce5d9288c5",
            "value": "Downloading tf_model.h5: 100%"
          }
        },
        "af07bc001f0b46f2b3e6c608095532fa": {
          "model_module": "@jupyter-widgets/controls",
          "model_name": "FloatProgressModel",
          "model_module_version": "1.5.0",
          "state": {
            "_dom_classes": [],
            "_model_module": "@jupyter-widgets/controls",
            "_model_module_version": "1.5.0",
            "_model_name": "FloatProgressModel",
            "_view_count": null,
            "_view_module": "@jupyter-widgets/controls",
            "_view_module_version": "1.5.0",
            "_view_name": "ProgressView",
            "bar_style": "success",
            "description": "",
            "description_tooltip": null,
            "layout": "IPY_MODEL_495cd0d5886447da9c95b59c2768697e",
            "max": 536063208,
            "min": 0,
            "orientation": "horizontal",
            "style": "IPY_MODEL_fd474f79816f4dd79e6caa1fdda5e43a",
            "value": 536063208
          }
        },
        "110fda9d636a47b1830bd5a8a9f302dc": {
          "model_module": "@jupyter-widgets/controls",
          "model_name": "HTMLModel",
          "model_module_version": "1.5.0",
          "state": {
            "_dom_classes": [],
            "_model_module": "@jupyter-widgets/controls",
            "_model_module_version": "1.5.0",
            "_model_name": "HTMLModel",
            "_view_count": null,
            "_view_module": "@jupyter-widgets/controls",
            "_view_module_version": "1.5.0",
            "_view_name": "HTMLView",
            "description": "",
            "description_tooltip": null,
            "layout": "IPY_MODEL_d9529545142a412f81162507d7016a1d",
            "placeholder": "​",
            "style": "IPY_MODEL_5482fc0394f64053b8d3854f6e35050b",
            "value": " 536M/536M [00:01&lt;00:00, 258MB/s]"
          }
        },
        "bac794bd452d452086699be9cf3ef26a": {
          "model_module": "@jupyter-widgets/base",
          "model_name": "LayoutModel",
          "model_module_version": "1.2.0",
          "state": {
            "_model_module": "@jupyter-widgets/base",
            "_model_module_version": "1.2.0",
            "_model_name": "LayoutModel",
            "_view_count": null,
            "_view_module": "@jupyter-widgets/base",
            "_view_module_version": "1.2.0",
            "_view_name": "LayoutView",
            "align_content": null,
            "align_items": null,
            "align_self": null,
            "border": null,
            "bottom": null,
            "display": null,
            "flex": null,
            "flex_flow": null,
            "grid_area": null,
            "grid_auto_columns": null,
            "grid_auto_flow": null,
            "grid_auto_rows": null,
            "grid_column": null,
            "grid_gap": null,
            "grid_row": null,
            "grid_template_areas": null,
            "grid_template_columns": null,
            "grid_template_rows": null,
            "height": null,
            "justify_content": null,
            "justify_items": null,
            "left": null,
            "margin": null,
            "max_height": null,
            "max_width": null,
            "min_height": null,
            "min_width": null,
            "object_fit": null,
            "object_position": null,
            "order": null,
            "overflow": null,
            "overflow_x": null,
            "overflow_y": null,
            "padding": null,
            "right": null,
            "top": null,
            "visibility": null,
            "width": null
          }
        },
        "b30bd21fdc2b4dc782a9268aa0f8226c": {
          "model_module": "@jupyter-widgets/base",
          "model_name": "LayoutModel",
          "model_module_version": "1.2.0",
          "state": {
            "_model_module": "@jupyter-widgets/base",
            "_model_module_version": "1.2.0",
            "_model_name": "LayoutModel",
            "_view_count": null,
            "_view_module": "@jupyter-widgets/base",
            "_view_module_version": "1.2.0",
            "_view_name": "LayoutView",
            "align_content": null,
            "align_items": null,
            "align_self": null,
            "border": null,
            "bottom": null,
            "display": null,
            "flex": null,
            "flex_flow": null,
            "grid_area": null,
            "grid_auto_columns": null,
            "grid_auto_flow": null,
            "grid_auto_rows": null,
            "grid_column": null,
            "grid_gap": null,
            "grid_row": null,
            "grid_template_areas": null,
            "grid_template_columns": null,
            "grid_template_rows": null,
            "height": null,
            "justify_content": null,
            "justify_items": null,
            "left": null,
            "margin": null,
            "max_height": null,
            "max_width": null,
            "min_height": null,
            "min_width": null,
            "object_fit": null,
            "object_position": null,
            "order": null,
            "overflow": null,
            "overflow_x": null,
            "overflow_y": null,
            "padding": null,
            "right": null,
            "top": null,
            "visibility": null,
            "width": null
          }
        },
        "36df664fbf634cd2849450ce5d9288c5": {
          "model_module": "@jupyter-widgets/controls",
          "model_name": "DescriptionStyleModel",
          "model_module_version": "1.5.0",
          "state": {
            "_model_module": "@jupyter-widgets/controls",
            "_model_module_version": "1.5.0",
            "_model_name": "DescriptionStyleModel",
            "_view_count": null,
            "_view_module": "@jupyter-widgets/base",
            "_view_module_version": "1.2.0",
            "_view_name": "StyleView",
            "description_width": ""
          }
        },
        "495cd0d5886447da9c95b59c2768697e": {
          "model_module": "@jupyter-widgets/base",
          "model_name": "LayoutModel",
          "model_module_version": "1.2.0",
          "state": {
            "_model_module": "@jupyter-widgets/base",
            "_model_module_version": "1.2.0",
            "_model_name": "LayoutModel",
            "_view_count": null,
            "_view_module": "@jupyter-widgets/base",
            "_view_module_version": "1.2.0",
            "_view_name": "LayoutView",
            "align_content": null,
            "align_items": null,
            "align_self": null,
            "border": null,
            "bottom": null,
            "display": null,
            "flex": null,
            "flex_flow": null,
            "grid_area": null,
            "grid_auto_columns": null,
            "grid_auto_flow": null,
            "grid_auto_rows": null,
            "grid_column": null,
            "grid_gap": null,
            "grid_row": null,
            "grid_template_areas": null,
            "grid_template_columns": null,
            "grid_template_rows": null,
            "height": null,
            "justify_content": null,
            "justify_items": null,
            "left": null,
            "margin": null,
            "max_height": null,
            "max_width": null,
            "min_height": null,
            "min_width": null,
            "object_fit": null,
            "object_position": null,
            "order": null,
            "overflow": null,
            "overflow_x": null,
            "overflow_y": null,
            "padding": null,
            "right": null,
            "top": null,
            "visibility": null,
            "width": null
          }
        },
        "fd474f79816f4dd79e6caa1fdda5e43a": {
          "model_module": "@jupyter-widgets/controls",
          "model_name": "ProgressStyleModel",
          "model_module_version": "1.5.0",
          "state": {
            "_model_module": "@jupyter-widgets/controls",
            "_model_module_version": "1.5.0",
            "_model_name": "ProgressStyleModel",
            "_view_count": null,
            "_view_module": "@jupyter-widgets/base",
            "_view_module_version": "1.2.0",
            "_view_name": "StyleView",
            "bar_color": null,
            "description_width": ""
          }
        },
        "d9529545142a412f81162507d7016a1d": {
          "model_module": "@jupyter-widgets/base",
          "model_name": "LayoutModel",
          "model_module_version": "1.2.0",
          "state": {
            "_model_module": "@jupyter-widgets/base",
            "_model_module_version": "1.2.0",
            "_model_name": "LayoutModel",
            "_view_count": null,
            "_view_module": "@jupyter-widgets/base",
            "_view_module_version": "1.2.0",
            "_view_name": "LayoutView",
            "align_content": null,
            "align_items": null,
            "align_self": null,
            "border": null,
            "bottom": null,
            "display": null,
            "flex": null,
            "flex_flow": null,
            "grid_area": null,
            "grid_auto_columns": null,
            "grid_auto_flow": null,
            "grid_auto_rows": null,
            "grid_column": null,
            "grid_gap": null,
            "grid_row": null,
            "grid_template_areas": null,
            "grid_template_columns": null,
            "grid_template_rows": null,
            "height": null,
            "justify_content": null,
            "justify_items": null,
            "left": null,
            "margin": null,
            "max_height": null,
            "max_width": null,
            "min_height": null,
            "min_width": null,
            "object_fit": null,
            "object_position": null,
            "order": null,
            "overflow": null,
            "overflow_x": null,
            "overflow_y": null,
            "padding": null,
            "right": null,
            "top": null,
            "visibility": null,
            "width": null
          }
        },
        "5482fc0394f64053b8d3854f6e35050b": {
          "model_module": "@jupyter-widgets/controls",
          "model_name": "DescriptionStyleModel",
          "model_module_version": "1.5.0",
          "state": {
            "_model_module": "@jupyter-widgets/controls",
            "_model_module_version": "1.5.0",
            "_model_name": "DescriptionStyleModel",
            "_view_count": null,
            "_view_module": "@jupyter-widgets/base",
            "_view_module_version": "1.2.0",
            "_view_name": "StyleView",
            "description_width": ""
          }
        }
      }
    }
  },
  "nbformat": 4,
  "nbformat_minor": 0
}
