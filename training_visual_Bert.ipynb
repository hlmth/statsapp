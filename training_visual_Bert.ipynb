{
  "cells": [
    {
      "cell_type": "code",
      "execution_count": null,
      "metadata": {
        "id": "Zw520vWukDFq"
      },
      "outputs": [],
      "source": [
        "import torch\n",
        "import torch.nn as nn\n",
        "import torch.optim as optim\n",
        "from torch.utils.data import DataLoader, Dataset\n",
        "from transformers import VisualBertForPreTraining, BertTokenizer, VisualBertModel\n",
        "from transformers import VisualBertConfig\n",
        "\n",
        "import pickle\n",
        "import pandas as pd\n"
      ]
    },
    {
      "cell_type": "code",
      "execution_count": null,
      "metadata": {
        "id": "SlqKVZieqdAP"
      },
      "outputs": [],
      "source": []
    },
    {
      "cell_type": "code",
      "execution_count": null,
      "metadata": {
        "id": "FOp6T7jckDFr"
      },
      "outputs": [],
      "source": [
        "class Model(nn.Module):\n",
        "    def __init__(self, config):\n",
        "        super().__init__()\n",
        "        self.config = config\n",
        "        self.visual_bert = VisualBertModel(config)\n",
        "        self.dropout = nn.Dropout(config.hidden_dropout_prob)\n",
        "        self.linear = nn.Linear(config.hidden_size, 1)\n",
        "        \n",
        "    def forward(\n",
        "        self,\n",
        "        input_ids=None,\n",
        "        attention_mask=None,\n",
        "        token_type_ids=None,\n",
        "        visual_embeds=None,\n",
        "        visual_attention_mask=None,\n",
        "        visual_token_type_ids=None,\n",
        "    ):\n",
        "        outputs = self.visual_bert(\n",
        "            input_ids=input_ids,\n",
        "            attention_mask=attention_mask,\n",
        "            token_type_ids=token_type_ids,\n",
        "            visual_embeds=visual_embeds,\n",
        "            visual_attention_mask=visual_attention_mask,\n",
        "            visual_token_type_ids=visual_token_type_ids,\n",
        "        )\n",
        "        pooled_output = self.dropout(outputs[1])\n",
        "        linear_output = self.linear(pooled_output)\n",
        "        output=torch.sigmoid(linear_output)\n",
        "        return output\n"
      ]
    },
    {
      "cell_type": "code",
      "execution_count": null,
      "metadata": {
        "id": "gTnWeyMYkDFs"
      },
      "outputs": [],
      "source": [
        "# Define the training dataset\n",
        "class MyDataset(Dataset):\n",
        "    def __init__(self, data):\n",
        "        self.data = data\n",
        "        self.indices = list(range(len(data)))  # set indices attribute\n",
        "        print(self.data.keys())  \n",
        "        print(f\"Number of indices: {len(self.indices)}\")\n",
        "\n",
        "\n",
        "    def __getitem__(self, index):\n",
        "        index = self.indices[index]  # get the actual index from self.indices\n",
        "        text = self.data['text'][index]\n",
        "        label = self.data['label'][index]\n",
        "        embedded = self.data['embedded'][index]\n",
        "        \n",
        "        return text, label, embedded\n",
        "\n",
        "    def __len__(self):\n",
        "        return len(self.data)\n",
        "\n"
      ]
    },
    {
      "cell_type": "code",
      "execution_count": null,
      "metadata": {
        "id": "nzceoJ_okDFt"
      },
      "outputs": [],
      "source": [
        "# Define the pre-trained Visual-Bert model\n",
        "\n",
        "config= VisualBertConfig.from_pretrained('uclanlp/visualbert-nlvr2-coco-pre')\n",
        "model = Model(config)\n",
        "tokenizer = BertTokenizer.from_pretrained('bert-base-uncased')"
      ]
    },
    {
      "cell_type": "code",
      "execution_count": null,
      "metadata": {
        "id": "WjOChudAkDFu"
      },
      "outputs": [],
      "source": [
        "device = torch.device('cuda' if torch.cuda.is_available() else 'cpu')\n"
      ]
    },
    {
      "cell_type": "code",
      "execution_count": null,
      "metadata": {
        "id": "-3sDnaUxkDFu"
      },
      "outputs": [],
      "source": [
        "# Define the training loop\n",
        "\n",
        "def train(model, tokenizer, train_dataset, optimizer, criterion, device, batch_size, epochs):\n",
        "    model.to(device)\n",
        "    train_loader = DataLoader(train_dataset, batch_size=batch_size, shuffle=False, drop_last=False)\n",
        "    for epoch in range(epochs):\n",
        "        running_loss = 0.0\n",
        "        running_accuracy = 0.0\n",
        "        for batch in train_loader:\n",
        "            try : \n",
        "              text, label, embedded = batch\n",
        "              optimizer.zero_grad()\n",
        "              text_encoded = tokenizer(text, return_tensors='pt', padding=True, truncation=True)\n",
        "              text_encoded = {k: v.to(device) for k, v in text_encoded.items()}\n",
        "              label = label.float().unsqueeze(1).to(device)\n",
        "              inputs_ids=text_encoded['input_ids'].to(device)\n",
        "              visual_embeds = embedded.to(device)\n",
        "              attention_mask = text_encoded['attention_mask'].to(device)\n",
        "              outputs = model(input_ids=inputs_ids, attention_mask=attention_mask, visual_embeds=visual_embeds)\n",
        "              loss = criterion(outputs, label)\n",
        "              loss.backward()\n",
        "              optimizer.step()\n",
        "              pred_labels = torch.round(outputs) # round the probabilities to obtain predicted labels\n",
        "              correct_preds = (pred_labels == label).sum().item() # count the number of correct predictions\n",
        "              accuracy = correct_preds / batch_size # calculate accuracy\n",
        "              running_loss += loss.item()\n",
        "              running_accuracy += accuracy\n",
        "            except :\n",
        "              continue\n",
        "           \n",
        "          \n",
        "\n",
        "        #except: \n",
        "          #print('error')\n",
        "          #continue\n",
        "            \n",
        "        epoch_loss = running_loss / len(train_loader)\n",
        "        epoch_accuracy = running_accuracy / len(train_loader)\n",
        "        print('Epoch [%d] - loss: %.4f - accuracy: %.4f' % (epoch+1, epoch_loss, epoch_accuracy))\n",
        "            \n",
        "\n"
      ]
    },
    {
      "cell_type": "code",
      "execution_count": null,
      "metadata": {
        "id": "BVCrGwW_kDFv"
      },
      "outputs": [],
      "source": [
        "\n",
        "# Define the optimizer and loss function\n",
        "optimizer = optim.AdamW(model.parameters(), lr=0.001)\n",
        "criterion = nn.BCELoss()\n"
      ]
    },
    {
      "cell_type": "code",
      "execution_count": null,
      "metadata": {
        "colab": {
          "base_uri": "https://localhost:8080/"
        },
        "id": "bc2dXuXGAivX",
        "outputId": "c6bc1809-b487-4de0-e912-12f3454c5085"
      },
      "outputs": [
        {
          "name": "stdout",
          "output_type": "stream",
          "text": [
            "Drive already mounted at /content/drive; to attempt to forcibly remount, call drive.mount(\"/content/drive\", force_remount=True).\n"
          ]
        }
      ],
      "source": [
        "from google.colab import drive\n",
        "drive.mount('/content/drive')"
      ]
    },
    {
      "cell_type": "code",
      "execution_count": null,
      "metadata": {
        "id": "q8EqAgkFkDFv"
      },
      "outputs": [],
      "source": [
        "df=pd.read_json(\"/content/drive/MyDrive/ENSAE/Informatique/Statapp/data/train.jsonl\",lines=True)\n",
        "\n",
        "l = []\n",
        "\n",
        "with open(r\"/content/drive/MyDrive/ENSAE/Informatique/Statapp/data/file.pkl\",\"rb\") as f:\n",
        "    l = pickle.load(f)\n",
        "f.close()\n",
        "df.loc[:, 'embedded'] = l"
      ]
    },
    {
      "cell_type": "code",
      "execution_count": null,
      "metadata": {
        "colab": {
          "base_uri": "https://localhost:8080/"
        },
        "id": "eY67Z40BptdM",
        "outputId": "e4cce8bc-1783-4955-fcf3-a32d22cb76d5"
      },
      "outputs": [
        {
          "name": "stdout",
          "output_type": "stream",
          "text": [
            "8464\n"
          ]
        }
      ],
      "source": [
        "mask = pd.to_numeric(df['embedded'], errors='coerce').isna()\n",
        "df = df[mask]\n",
        "print(len(df))"
      ]
    },
    {
      "cell_type": "code",
      "execution_count": null,
      "metadata": {
        "id": "fCNhI-3r2eaS"
      },
      "outputs": [],
      "source": [
        "df = df.reset_index(drop=True)\n"
      ]
    },
    {
      "cell_type": "code",
      "execution_count": null,
      "metadata": {
        "colab": {
          "base_uri": "https://localhost:8080/"
        },
        "id": "alHqGqRLkDFw",
        "outputId": "a58ac7fc-d4a3-46ff-84d3-ea744e96ed38"
      },
      "outputs": [
        {
          "name": "stdout",
          "output_type": "stream",
          "text": [
            "Index(['id', 'img', 'label', 'text', 'embedded'], dtype='object')\n",
            "Number of indices: 8464\n",
            "8464\n"
          ]
        }
      ],
      "source": [
        "train_dataset = MyDataset(df)\n",
        "print(len(train_dataset))  # should print the length of your train data"
      ]
    },
    {
      "cell_type": "code",
      "execution_count": null,
      "metadata": {
        "colab": {
          "base_uri": "https://localhost:8080/"
        },
        "id": "kEVoXxzqkDFx",
        "outputId": "8ae757a8-537d-4174-e3ea-21673df16382"
      },
      "outputs": [
        {
          "name": "stdout",
          "output_type": "stream",
          "text": [
            "Epoch [1] - loss: 0.6856 - accuracy: 0.6231\n",
            "Epoch [2] - loss: 0.7033 - accuracy: 0.6265\n",
            "Epoch [3] - loss: 0.7121 - accuracy: 0.6243\n",
            "Epoch [4] - loss: 0.7070 - accuracy: 0.6257\n",
            "Epoch [5] - loss: 0.7092 - accuracy: 0.6259\n",
            "Epoch [6] - loss: 0.7079 - accuracy: 0.6272\n",
            "Epoch [7] - loss: 0.7075 - accuracy: 0.6282\n",
            "Epoch [8] - loss: 0.7062 - accuracy: 0.6268\n",
            "Epoch [9] - loss: 0.7113 - accuracy: 0.6256\n",
            "Epoch [10] - loss: 0.7094 - accuracy: 0.6257\n"
          ]
        }
      ],
      "source": [
        "train(model, tokenizer, train_dataset, optimizer, criterion, device, batch_size=8, epochs=10)"
      ]
    },
    {
      "cell_type": "markdown",
      "metadata": {
        "id": "ddGvzE5W_sP2"
      },
      "source": [
        "Epoch [1] - loss: 0.6736 - accuracy: 0.6287\n",
        "Epoch [2] - loss: 0.6910 - accuracy: 0.6282\n",
        "Epoch [3] - loss: 0.6976 - accuracy: 0.6298\n",
        "Epoch [4] - loss: 0.6989 - accuracy: 0.6325\n",
        "Epoch [5] - loss: 0.6991 - accuracy: 0.6285\n",
        "Epoch [6] - loss: 0.6977 - accuracy: 0.6298\n",
        "Epoch [7] - loss: 0.6991 - accuracy: 0.6320\n",
        "Epoch [8] - loss: 0.6973 - accuracy: 0.6323\n",
        "Epoch [9] - loss: 0.6972 - accuracy: 0.6263\n",
        "Epoch [10] - loss: 0.6978 - accuracy: 0.6278"
      ]
    }
  ],
  "metadata": {
    "accelerator": "GPU",
    "colab": {
      "provenance": []
    },
    "gpuClass": "standard",
    "kernelspec": {
      "display_name": "Python 3",
      "language": "python",
      "name": "python3"
    },
    "language_info": {
      "codemirror_mode": {
        "name": "ipython",
        "version": 3
      },
      "file_extension": ".py",
      "mimetype": "text/x-python",
      "name": "python",
      "nbconvert_exporter": "python",
      "pygments_lexer": "ipython3",
      "version": "3.10.0"
    },
    "orig_nbformat": 4,
    "vscode": {
      "interpreter": {
        "hash": "ee4c60ed9f2d143d855c3de7cdf8e81ef9399a07140d5084c19be7d5d534dff2"
      }
    }
  },
  "nbformat": 4,
  "nbformat_minor": 0
}
