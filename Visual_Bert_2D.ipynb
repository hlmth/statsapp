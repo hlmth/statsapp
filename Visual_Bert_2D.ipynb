{
  "cells": [
    {
      "cell_type": "code",
      "execution_count": 1,
      "metadata": {
        "colab": {
          "base_uri": "https://localhost:8080/"
        },
        "id": "P0pCxo9EjB7b",
        "outputId": "401b6878-385e-4d3b-e044-6f961151fedd"
      },
      "outputs": [
        {
          "name": "stdout",
          "output_type": "stream",
          "text": [
            "Looking in indexes: https://pypi.org/simple, https://us-python.pkg.dev/colab-wheels/public/simple/\n",
            "Requirement already satisfied: transformers in /usr/local/lib/python3.10/dist-packages (4.28.1)\n",
            "Requirement already satisfied: filelock in /usr/local/lib/python3.10/dist-packages (from transformers) (3.12.0)\n",
            "Requirement already satisfied: huggingface-hub<1.0,>=0.11.0 in /usr/local/lib/python3.10/dist-packages (from transformers) (0.14.1)\n",
            "Requirement already satisfied: numpy>=1.17 in /usr/local/lib/python3.10/dist-packages (from transformers) (1.22.4)\n",
            "Requirement already satisfied: packaging>=20.0 in /usr/local/lib/python3.10/dist-packages (from transformers) (23.1)\n",
            "Requirement already satisfied: pyyaml>=5.1 in /usr/local/lib/python3.10/dist-packages (from transformers) (6.0)\n",
            "Requirement already satisfied: regex!=2019.12.17 in /usr/local/lib/python3.10/dist-packages (from transformers) (2022.10.31)\n",
            "Requirement already satisfied: requests in /usr/local/lib/python3.10/dist-packages (from transformers) (2.27.1)\n",
            "Requirement already satisfied: tokenizers!=0.11.3,<0.14,>=0.11.1 in /usr/local/lib/python3.10/dist-packages (from transformers) (0.13.3)\n",
            "Requirement already satisfied: tqdm>=4.27 in /usr/local/lib/python3.10/dist-packages (from transformers) (4.65.0)\n",
            "Requirement already satisfied: fsspec in /usr/local/lib/python3.10/dist-packages (from huggingface-hub<1.0,>=0.11.0->transformers) (2023.4.0)\n",
            "Requirement already satisfied: typing-extensions>=3.7.4.3 in /usr/local/lib/python3.10/dist-packages (from huggingface-hub<1.0,>=0.11.0->transformers) (4.5.0)\n",
            "Requirement already satisfied: urllib3<1.27,>=1.21.1 in /usr/local/lib/python3.10/dist-packages (from requests->transformers) (1.26.15)\n",
            "Requirement already satisfied: certifi>=2017.4.17 in /usr/local/lib/python3.10/dist-packages (from requests->transformers) (2022.12.7)\n",
            "Requirement already satisfied: charset-normalizer~=2.0.0 in /usr/local/lib/python3.10/dist-packages (from requests->transformers) (2.0.12)\n",
            "Requirement already satisfied: idna<4,>=2.5 in /usr/local/lib/python3.10/dist-packages (from requests->transformers) (3.4)\n"
          ]
        }
      ],
      "source": [
        "pip install transformers"
      ]
    },
    {
      "cell_type": "code",
      "execution_count": 2,
      "metadata": {
        "id": "qJ6G6wLjJ-tM"
      },
      "outputs": [],
      "source": [
        "def set_parameter_requires_grad(model, feature_extracting):\n",
        "    if feature_extracting:\n",
        "        for param in model.parameters():\n",
        "            param.requires_grad = False\n",
        "    else : \n",
        "        for param in model.parameters():\n",
        "            param.requires_grad = True"
      ]
    },
    {
      "cell_type": "code",
      "execution_count": 3,
      "metadata": {
        "id": "Zw520vWukDFq"
      },
      "outputs": [],
      "source": [
        "import torch\n",
        "import torch.nn as nn\n",
        "import torch.optim as optim\n",
        "from torch.utils.data import DataLoader, Dataset\n",
        "from transformers import VisualBertForPreTraining, BertTokenizer, VisualBertModel, VisualBertForVisualReasoning\n",
        "from transformers import VisualBertConfig\n",
        "\n",
        "import numpy as np\n",
        "import pickle\n",
        "import pandas as pd\n"
      ]
    },
    {
      "cell_type": "code",
      "execution_count": 4,
      "metadata": {
        "id": "o_eGA-pE-ghv"
      },
      "outputs": [],
      "source": [
        "import os\n",
        "os.environ['CUDA_LAUNCH_BLOCKING'] = '1'\n"
      ]
    },
    {
      "attachments": {},
      "cell_type": "markdown",
      "metadata": {
        "id": "m8iZmOtrtaGw"
      },
      "source": [
        "Définition des classes dont on a besoin"
      ]
    },
    {
      "cell_type": "code",
      "execution_count": 5,
      "metadata": {
        "id": "FOp6T7jckDFr"
      },
      "outputs": [],
      "source": [
        "class Model(nn.Module):\n",
        "    def __init__(self, config):\n",
        "        super().__init__()\n",
        "        self.config = config\n",
        "        self.visual_bert = VisualBertModel(config=config)\n",
        "        self.dropout = nn.Dropout(0.5) #config.hidden_dropout_prob\n",
        "        self.linear1 = nn.Linear(config.hidden_size,int(config.hidden_size/4))\n",
        "        self.relu = nn.ReLU()\n",
        "        self.linear2 = nn.Linear(int(config.hidden_size/4), 2)  # Ajout de la seconde couche linéaire  \n",
        "        self.attentions = None  # Add an `attentions` attribute to the class\n",
        "        self.pooler_output  = None\n",
        "        self.last_hidden_state = None\n",
        "        set_parameter_requires_grad(self.visual_bert, False) #true pour entrainer que la dernière couche\n",
        "\n",
        "        #for param in self.visual_bert.parameters():\n",
        "         #   param.requires_grad = False\n",
        "        #for param in self.dropout.parameters():\n",
        "         #   param.requires_grad = False\n",
        "        \n",
        "    def forward(\n",
        "        self,\n",
        "        input_ids=None,\n",
        "        attention_mask=None,\n",
        "        token_type_ids=None,\n",
        "        visual_embeds=None,\n",
        "        visual_attention_mask=None,\n",
        "        visual_token_type_ids=None,\n",
        "    ):\n",
        "        outputs  = self.visual_bert(\n",
        "            input_ids=input_ids,\n",
        "            attention_mask=attention_mask,\n",
        "            token_type_ids=token_type_ids,\n",
        "            visual_embeds=visual_embeds,\n",
        "            visual_attention_mask=visual_attention_mask,\n",
        "            visual_token_type_ids=visual_token_type_ids,\n",
        "            output_attentions=True\n",
        "        )\n",
        "        otp=outputs.pooler_output \n",
        "        pooled_output = self.dropout(otp)\n",
        "        linear_output1 = self.linear1(pooled_output)\n",
        "        relu_output = self.relu(linear_output1)\n",
        "        linear_output2 = self.linear2(relu_output)  # Passage par la seconde couche linéaire      \n",
        "        Soutput=torch.softmax(linear_output2, dim=-1)\n",
        "        attentions = outputs.attentions # extract attention scores from the model outputs\n",
        "        \n",
        "\n",
        "        return Soutput, attentions\n"
      ]
    },
    {
      "cell_type": "code",
      "execution_count": 6,
      "metadata": {
        "id": "gTnWeyMYkDFs"
      },
      "outputs": [],
      "source": [
        "# Define the training dataset\n",
        "class MyDataset(Dataset):\n",
        "    def __init__(self, data):\n",
        "        self.data = data\n",
        "        self.indices = list(range(len(data)))  # set indices attribute\n",
        "        print(self.data.keys())  \n",
        "        print(f\"Number of indices: {len(self.indices)}\")\n",
        "\n",
        "\n",
        "    def __getitem__(self, index):\n",
        "        index = self.indices[index]  # get the actual index from self.indices\n",
        "        text = self.data['text'][index]\n",
        "        label = self.data['label'][index]\n",
        "        embedded = self.data['embedded'][index]\n",
        "        \n",
        "        return text, label, embedded\n",
        "\n",
        "    def __len__(self):\n",
        "        return len(self.data)\n",
        "\n"
      ]
    },
    {
      "attachments": {},
      "cell_type": "markdown",
      "metadata": {
        "id": "D-MNUFTltg_x"
      },
      "source": [
        "Chargement du modèle pré entrainé et customisation du modèle"
      ]
    },
    {
      "cell_type": "code",
      "execution_count": 7,
      "metadata": {
        "colab": {
          "base_uri": "https://localhost:8080/"
        },
        "id": "nzceoJ_okDFt",
        "outputId": "0c5414e0-bb4e-4692-9519-09e0423d0b14"
      },
      "outputs": [
        {
          "name": "stderr",
          "output_type": "stream",
          "text": [
            "Some weights of the model checkpoint at uclanlp/visualbert-nlvr2-coco-pre were not used when initializing VisualBertModel: ['cls.seq_relationship.bias', 'cls.predictions.transform.LayerNorm.bias', 'cls.predictions.transform.LayerNorm.weight', 'cls.predictions.transform.dense.bias', 'cls.predictions.bias', 'cls.predictions.decoder.weight', 'cls.predictions.transform.dense.weight', 'cls.seq_relationship.weight', 'cls.predictions.decoder.bias']\n",
            "- This IS expected if you are initializing VisualBertModel from the checkpoint of a model trained on another task or with another architecture (e.g. initializing a BertForSequenceClassification model from a BertForPreTraining model).\n",
            "- This IS NOT expected if you are initializing VisualBertModel from the checkpoint of a model that you expect to be exactly identical (initializing a BertForSequenceClassification model from a BertForSequenceClassification model).\n"
          ]
        }
      ],
      "source": [
        "# Define the pre-trained Visual-Bert model\n",
        "config = VisualBertConfig.from_pretrained('uclanlp/visualbert-nlvr2-coco-pre', output_attentions=True)\n",
        "model=  VisualBertModel.from_pretrained('uclanlp/visualbert-nlvr2-coco-pre', config=config)\n",
        "model = Model(config)\n",
        "tokenizer = BertTokenizer.from_pretrained('bert-base-uncased')\n"
      ]
    },
    {
      "cell_type": "code",
      "execution_count": 8,
      "metadata": {
        "id": "gisg0ePpsbUY"
      },
      "outputs": [],
      "source": [
        "#for layer in model.children():\n",
        " #   if hasattr(layer, 'reset_parameters'):\n",
        "  #      layer.reset_parameters()"
      ]
    },
    {
      "cell_type": "code",
      "execution_count": 9,
      "metadata": {
        "id": "WjOChudAkDFu"
      },
      "outputs": [],
      "source": [
        "device = torch.device('cuda' if torch.cuda.is_available() else 'cpu')\n"
      ]
    },
    {
      "cell_type": "code",
      "execution_count": 10,
      "metadata": {
        "colab": {
          "base_uri": "https://localhost:8080/"
        },
        "id": "I6z0ZN9tSjTv",
        "outputId": "382dde01-4edf-47b0-c15e-8af053bb2979"
      },
      "outputs": [
        {
          "name": "stdout",
          "output_type": "stream",
          "text": [
            "Params to learn:\n",
            "\t visual_bert.embeddings.word_embeddings.weight\n",
            "\t visual_bert.embeddings.position_embeddings.weight\n",
            "\t visual_bert.embeddings.token_type_embeddings.weight\n",
            "\t visual_bert.embeddings.LayerNorm.weight\n",
            "\t visual_bert.embeddings.LayerNorm.bias\n",
            "\t visual_bert.embeddings.visual_token_type_embeddings.weight\n",
            "\t visual_bert.embeddings.visual_position_embeddings.weight\n",
            "\t visual_bert.embeddings.visual_projection.weight\n",
            "\t visual_bert.embeddings.visual_projection.bias\n",
            "\t visual_bert.encoder.layer.0.attention.self.query.weight\n",
            "\t visual_bert.encoder.layer.0.attention.self.query.bias\n",
            "\t visual_bert.encoder.layer.0.attention.self.key.weight\n",
            "\t visual_bert.encoder.layer.0.attention.self.key.bias\n",
            "\t visual_bert.encoder.layer.0.attention.self.value.weight\n",
            "\t visual_bert.encoder.layer.0.attention.self.value.bias\n",
            "\t visual_bert.encoder.layer.0.attention.output.dense.weight\n",
            "\t visual_bert.encoder.layer.0.attention.output.dense.bias\n",
            "\t visual_bert.encoder.layer.0.attention.output.LayerNorm.weight\n",
            "\t visual_bert.encoder.layer.0.attention.output.LayerNorm.bias\n",
            "\t visual_bert.encoder.layer.0.intermediate.dense.weight\n",
            "\t visual_bert.encoder.layer.0.intermediate.dense.bias\n",
            "\t visual_bert.encoder.layer.0.output.dense.weight\n",
            "\t visual_bert.encoder.layer.0.output.dense.bias\n",
            "\t visual_bert.encoder.layer.0.output.LayerNorm.weight\n",
            "\t visual_bert.encoder.layer.0.output.LayerNorm.bias\n",
            "\t visual_bert.encoder.layer.1.attention.self.query.weight\n",
            "\t visual_bert.encoder.layer.1.attention.self.query.bias\n",
            "\t visual_bert.encoder.layer.1.attention.self.key.weight\n",
            "\t visual_bert.encoder.layer.1.attention.self.key.bias\n",
            "\t visual_bert.encoder.layer.1.attention.self.value.weight\n",
            "\t visual_bert.encoder.layer.1.attention.self.value.bias\n",
            "\t visual_bert.encoder.layer.1.attention.output.dense.weight\n",
            "\t visual_bert.encoder.layer.1.attention.output.dense.bias\n",
            "\t visual_bert.encoder.layer.1.attention.output.LayerNorm.weight\n",
            "\t visual_bert.encoder.layer.1.attention.output.LayerNorm.bias\n",
            "\t visual_bert.encoder.layer.1.intermediate.dense.weight\n",
            "\t visual_bert.encoder.layer.1.intermediate.dense.bias\n",
            "\t visual_bert.encoder.layer.1.output.dense.weight\n",
            "\t visual_bert.encoder.layer.1.output.dense.bias\n",
            "\t visual_bert.encoder.layer.1.output.LayerNorm.weight\n",
            "\t visual_bert.encoder.layer.1.output.LayerNorm.bias\n",
            "\t visual_bert.encoder.layer.2.attention.self.query.weight\n",
            "\t visual_bert.encoder.layer.2.attention.self.query.bias\n",
            "\t visual_bert.encoder.layer.2.attention.self.key.weight\n",
            "\t visual_bert.encoder.layer.2.attention.self.key.bias\n",
            "\t visual_bert.encoder.layer.2.attention.self.value.weight\n",
            "\t visual_bert.encoder.layer.2.attention.self.value.bias\n",
            "\t visual_bert.encoder.layer.2.attention.output.dense.weight\n",
            "\t visual_bert.encoder.layer.2.attention.output.dense.bias\n",
            "\t visual_bert.encoder.layer.2.attention.output.LayerNorm.weight\n",
            "\t visual_bert.encoder.layer.2.attention.output.LayerNorm.bias\n",
            "\t visual_bert.encoder.layer.2.intermediate.dense.weight\n",
            "\t visual_bert.encoder.layer.2.intermediate.dense.bias\n",
            "\t visual_bert.encoder.layer.2.output.dense.weight\n",
            "\t visual_bert.encoder.layer.2.output.dense.bias\n",
            "\t visual_bert.encoder.layer.2.output.LayerNorm.weight\n",
            "\t visual_bert.encoder.layer.2.output.LayerNorm.bias\n",
            "\t visual_bert.encoder.layer.3.attention.self.query.weight\n",
            "\t visual_bert.encoder.layer.3.attention.self.query.bias\n",
            "\t visual_bert.encoder.layer.3.attention.self.key.weight\n",
            "\t visual_bert.encoder.layer.3.attention.self.key.bias\n",
            "\t visual_bert.encoder.layer.3.attention.self.value.weight\n",
            "\t visual_bert.encoder.layer.3.attention.self.value.bias\n",
            "\t visual_bert.encoder.layer.3.attention.output.dense.weight\n",
            "\t visual_bert.encoder.layer.3.attention.output.dense.bias\n",
            "\t visual_bert.encoder.layer.3.attention.output.LayerNorm.weight\n",
            "\t visual_bert.encoder.layer.3.attention.output.LayerNorm.bias\n",
            "\t visual_bert.encoder.layer.3.intermediate.dense.weight\n",
            "\t visual_bert.encoder.layer.3.intermediate.dense.bias\n",
            "\t visual_bert.encoder.layer.3.output.dense.weight\n",
            "\t visual_bert.encoder.layer.3.output.dense.bias\n",
            "\t visual_bert.encoder.layer.3.output.LayerNorm.weight\n",
            "\t visual_bert.encoder.layer.3.output.LayerNorm.bias\n",
            "\t visual_bert.encoder.layer.4.attention.self.query.weight\n",
            "\t visual_bert.encoder.layer.4.attention.self.query.bias\n",
            "\t visual_bert.encoder.layer.4.attention.self.key.weight\n",
            "\t visual_bert.encoder.layer.4.attention.self.key.bias\n",
            "\t visual_bert.encoder.layer.4.attention.self.value.weight\n",
            "\t visual_bert.encoder.layer.4.attention.self.value.bias\n",
            "\t visual_bert.encoder.layer.4.attention.output.dense.weight\n",
            "\t visual_bert.encoder.layer.4.attention.output.dense.bias\n",
            "\t visual_bert.encoder.layer.4.attention.output.LayerNorm.weight\n",
            "\t visual_bert.encoder.layer.4.attention.output.LayerNorm.bias\n",
            "\t visual_bert.encoder.layer.4.intermediate.dense.weight\n",
            "\t visual_bert.encoder.layer.4.intermediate.dense.bias\n",
            "\t visual_bert.encoder.layer.4.output.dense.weight\n",
            "\t visual_bert.encoder.layer.4.output.dense.bias\n",
            "\t visual_bert.encoder.layer.4.output.LayerNorm.weight\n",
            "\t visual_bert.encoder.layer.4.output.LayerNorm.bias\n",
            "\t visual_bert.encoder.layer.5.attention.self.query.weight\n",
            "\t visual_bert.encoder.layer.5.attention.self.query.bias\n",
            "\t visual_bert.encoder.layer.5.attention.self.key.weight\n",
            "\t visual_bert.encoder.layer.5.attention.self.key.bias\n",
            "\t visual_bert.encoder.layer.5.attention.self.value.weight\n",
            "\t visual_bert.encoder.layer.5.attention.self.value.bias\n",
            "\t visual_bert.encoder.layer.5.attention.output.dense.weight\n",
            "\t visual_bert.encoder.layer.5.attention.output.dense.bias\n",
            "\t visual_bert.encoder.layer.5.attention.output.LayerNorm.weight\n",
            "\t visual_bert.encoder.layer.5.attention.output.LayerNorm.bias\n",
            "\t visual_bert.encoder.layer.5.intermediate.dense.weight\n",
            "\t visual_bert.encoder.layer.5.intermediate.dense.bias\n",
            "\t visual_bert.encoder.layer.5.output.dense.weight\n",
            "\t visual_bert.encoder.layer.5.output.dense.bias\n",
            "\t visual_bert.encoder.layer.5.output.LayerNorm.weight\n",
            "\t visual_bert.encoder.layer.5.output.LayerNorm.bias\n",
            "\t visual_bert.encoder.layer.6.attention.self.query.weight\n",
            "\t visual_bert.encoder.layer.6.attention.self.query.bias\n",
            "\t visual_bert.encoder.layer.6.attention.self.key.weight\n",
            "\t visual_bert.encoder.layer.6.attention.self.key.bias\n",
            "\t visual_bert.encoder.layer.6.attention.self.value.weight\n",
            "\t visual_bert.encoder.layer.6.attention.self.value.bias\n",
            "\t visual_bert.encoder.layer.6.attention.output.dense.weight\n",
            "\t visual_bert.encoder.layer.6.attention.output.dense.bias\n",
            "\t visual_bert.encoder.layer.6.attention.output.LayerNorm.weight\n",
            "\t visual_bert.encoder.layer.6.attention.output.LayerNorm.bias\n",
            "\t visual_bert.encoder.layer.6.intermediate.dense.weight\n",
            "\t visual_bert.encoder.layer.6.intermediate.dense.bias\n",
            "\t visual_bert.encoder.layer.6.output.dense.weight\n",
            "\t visual_bert.encoder.layer.6.output.dense.bias\n",
            "\t visual_bert.encoder.layer.6.output.LayerNorm.weight\n",
            "\t visual_bert.encoder.layer.6.output.LayerNorm.bias\n",
            "\t visual_bert.encoder.layer.7.attention.self.query.weight\n",
            "\t visual_bert.encoder.layer.7.attention.self.query.bias\n",
            "\t visual_bert.encoder.layer.7.attention.self.key.weight\n",
            "\t visual_bert.encoder.layer.7.attention.self.key.bias\n",
            "\t visual_bert.encoder.layer.7.attention.self.value.weight\n",
            "\t visual_bert.encoder.layer.7.attention.self.value.bias\n",
            "\t visual_bert.encoder.layer.7.attention.output.dense.weight\n",
            "\t visual_bert.encoder.layer.7.attention.output.dense.bias\n",
            "\t visual_bert.encoder.layer.7.attention.output.LayerNorm.weight\n",
            "\t visual_bert.encoder.layer.7.attention.output.LayerNorm.bias\n",
            "\t visual_bert.encoder.layer.7.intermediate.dense.weight\n",
            "\t visual_bert.encoder.layer.7.intermediate.dense.bias\n",
            "\t visual_bert.encoder.layer.7.output.dense.weight\n",
            "\t visual_bert.encoder.layer.7.output.dense.bias\n",
            "\t visual_bert.encoder.layer.7.output.LayerNorm.weight\n",
            "\t visual_bert.encoder.layer.7.output.LayerNorm.bias\n",
            "\t visual_bert.encoder.layer.8.attention.self.query.weight\n",
            "\t visual_bert.encoder.layer.8.attention.self.query.bias\n",
            "\t visual_bert.encoder.layer.8.attention.self.key.weight\n",
            "\t visual_bert.encoder.layer.8.attention.self.key.bias\n",
            "\t visual_bert.encoder.layer.8.attention.self.value.weight\n",
            "\t visual_bert.encoder.layer.8.attention.self.value.bias\n",
            "\t visual_bert.encoder.layer.8.attention.output.dense.weight\n",
            "\t visual_bert.encoder.layer.8.attention.output.dense.bias\n",
            "\t visual_bert.encoder.layer.8.attention.output.LayerNorm.weight\n",
            "\t visual_bert.encoder.layer.8.attention.output.LayerNorm.bias\n",
            "\t visual_bert.encoder.layer.8.intermediate.dense.weight\n",
            "\t visual_bert.encoder.layer.8.intermediate.dense.bias\n",
            "\t visual_bert.encoder.layer.8.output.dense.weight\n",
            "\t visual_bert.encoder.layer.8.output.dense.bias\n",
            "\t visual_bert.encoder.layer.8.output.LayerNorm.weight\n",
            "\t visual_bert.encoder.layer.8.output.LayerNorm.bias\n",
            "\t visual_bert.encoder.layer.9.attention.self.query.weight\n",
            "\t visual_bert.encoder.layer.9.attention.self.query.bias\n",
            "\t visual_bert.encoder.layer.9.attention.self.key.weight\n",
            "\t visual_bert.encoder.layer.9.attention.self.key.bias\n",
            "\t visual_bert.encoder.layer.9.attention.self.value.weight\n",
            "\t visual_bert.encoder.layer.9.attention.self.value.bias\n",
            "\t visual_bert.encoder.layer.9.attention.output.dense.weight\n",
            "\t visual_bert.encoder.layer.9.attention.output.dense.bias\n",
            "\t visual_bert.encoder.layer.9.attention.output.LayerNorm.weight\n",
            "\t visual_bert.encoder.layer.9.attention.output.LayerNorm.bias\n",
            "\t visual_bert.encoder.layer.9.intermediate.dense.weight\n",
            "\t visual_bert.encoder.layer.9.intermediate.dense.bias\n",
            "\t visual_bert.encoder.layer.9.output.dense.weight\n",
            "\t visual_bert.encoder.layer.9.output.dense.bias\n",
            "\t visual_bert.encoder.layer.9.output.LayerNorm.weight\n",
            "\t visual_bert.encoder.layer.9.output.LayerNorm.bias\n",
            "\t visual_bert.encoder.layer.10.attention.self.query.weight\n",
            "\t visual_bert.encoder.layer.10.attention.self.query.bias\n",
            "\t visual_bert.encoder.layer.10.attention.self.key.weight\n",
            "\t visual_bert.encoder.layer.10.attention.self.key.bias\n",
            "\t visual_bert.encoder.layer.10.attention.self.value.weight\n",
            "\t visual_bert.encoder.layer.10.attention.self.value.bias\n",
            "\t visual_bert.encoder.layer.10.attention.output.dense.weight\n",
            "\t visual_bert.encoder.layer.10.attention.output.dense.bias\n",
            "\t visual_bert.encoder.layer.10.attention.output.LayerNorm.weight\n",
            "\t visual_bert.encoder.layer.10.attention.output.LayerNorm.bias\n",
            "\t visual_bert.encoder.layer.10.intermediate.dense.weight\n",
            "\t visual_bert.encoder.layer.10.intermediate.dense.bias\n",
            "\t visual_bert.encoder.layer.10.output.dense.weight\n",
            "\t visual_bert.encoder.layer.10.output.dense.bias\n",
            "\t visual_bert.encoder.layer.10.output.LayerNorm.weight\n",
            "\t visual_bert.encoder.layer.10.output.LayerNorm.bias\n",
            "\t visual_bert.encoder.layer.11.attention.self.query.weight\n",
            "\t visual_bert.encoder.layer.11.attention.self.query.bias\n",
            "\t visual_bert.encoder.layer.11.attention.self.key.weight\n",
            "\t visual_bert.encoder.layer.11.attention.self.key.bias\n",
            "\t visual_bert.encoder.layer.11.attention.self.value.weight\n",
            "\t visual_bert.encoder.layer.11.attention.self.value.bias\n",
            "\t visual_bert.encoder.layer.11.attention.output.dense.weight\n",
            "\t visual_bert.encoder.layer.11.attention.output.dense.bias\n",
            "\t visual_bert.encoder.layer.11.attention.output.LayerNorm.weight\n",
            "\t visual_bert.encoder.layer.11.attention.output.LayerNorm.bias\n",
            "\t visual_bert.encoder.layer.11.intermediate.dense.weight\n",
            "\t visual_bert.encoder.layer.11.intermediate.dense.bias\n",
            "\t visual_bert.encoder.layer.11.output.dense.weight\n",
            "\t visual_bert.encoder.layer.11.output.dense.bias\n",
            "\t visual_bert.encoder.layer.11.output.LayerNorm.weight\n",
            "\t visual_bert.encoder.layer.11.output.LayerNorm.bias\n",
            "\t visual_bert.pooler.dense.weight\n",
            "\t visual_bert.pooler.dense.bias\n",
            "\t linear1.weight\n",
            "\t linear1.bias\n",
            "\t linear2.weight\n",
            "\t linear2.bias\n"
          ]
        }
      ],
      "source": [
        "model = model.to(device)\n",
        "\n",
        "\n",
        "print(\"Params to learn:\")\n",
        "params_to_update = []\n",
        "for name,param in model.named_parameters():\n",
        "    if param.requires_grad == True:\n",
        "        params_to_update.append(param)\n",
        "        print(\"\\t\",name)\n",
        "\n",
        "\n",
        "# Observe that all parameters are being optimized"
      ]
    },
    {
      "attachments": {},
      "cell_type": "markdown",
      "metadata": {
        "id": "-cOyIBXStlzi"
      },
      "source": [
        "Définition des fonctions d'entrainement et de test"
      ]
    },
    {
      "cell_type": "code",
      "execution_count": 22,
      "metadata": {
        "id": "-3sDnaUxkDFu"
      },
      "outputs": [],
      "source": [
        "# Define the training loop\n",
        "def train(model, tokenizer, train_dataset, dev_dataset, optimizer, criterion, device, batch_size, epochs, patience):\n",
        "    model.to(device)\n",
        "    train_loader = DataLoader(train_dataset, batch_size=batch_size, shuffle=True, drop_last=True)\n",
        "    dev_loader = DataLoader(dev_dataset, batch_size=batch_size, shuffle=True, drop_last=True)\n",
        "    patience_count = 0\n",
        "    for epoch in range(epochs):\n",
        "        model.train()\n",
        "        running_loss = 0.0\n",
        "        running_accuracy = 0.0\n",
        "        running_TP = 0.0\n",
        "        running_FP = 0.0\n",
        "        running_TN = 0.0\n",
        "        running_FN = 0.0\n",
        "        for batch in train_loader:\n",
        "            pred_labels=[0]*batch_size\n",
        "            pred_prob=[0]*batch_size\n",
        "            text, label, embedded = batch\n",
        "            optimizer.zero_grad()\n",
        "            text_encoded = tokenizer(text, return_tensors='pt', padding=True, truncation=True)\n",
        "            text_encoded = {k: v.to(device) for k, v in text_encoded.items()}\n",
        "            label = label.float().to(device)\n",
        "            inputs_ids=text_encoded['input_ids'].to(device)\n",
        "            visual_embeds = embedded.to(device)\n",
        "            attention_mask = text_encoded['attention_mask'].to(device)\n",
        "            outputs, attentions = model(input_ids=inputs_ids, attention_mask=attention_mask, visual_embeds=visual_embeds)\n",
        "            for j in range(len(outputs[:])) :\n",
        "              if outputs[j][0].item()>outputs[j][1].item() :\n",
        "                pred_labels[j] = 0\n",
        "                pred_prob[j] = outputs[j][0].item()\n",
        "              else : \n",
        "                pred_labels[j]=1\n",
        "                pred_prob[j] = outputs[j][1].item()\n",
        "            loss = criterion(torch.tensor(pred_prob,  requires_grad=True).to(device), label)\n",
        "            loss.backward()\n",
        "            optimizer.step()\n",
        "            scheduler.step()\n",
        "            correct_preds = 0\n",
        "            TP=FP=TN=FN=0\n",
        "            for i in range(len(pred_labels)) :\n",
        "              if pred_labels[i]==label[i] :\n",
        "                correct_preds += 1\n",
        "       \n",
        "            accuracy = correct_preds / batch_size # calculate accuracy\n",
        "            running_loss += loss.item()\n",
        "            running_accuracy += accuracy\n",
        "\n",
        "            for i in range(len(pred_labels)) :\n",
        "                if pred_labels[i]== 1 and label[i]==1 : TP+=1\n",
        "                elif pred_labels[i]== 1 and label[i]==0 : FP+=1\n",
        "                elif pred_labels[i]== 0 and label[i]==0 : TN+=1\n",
        "                elif pred_labels[i]== 0 and label[i]==1 : FN+=1\n",
        "\n",
        "\n",
        "                \n",
        "            # Calculate TP, FP, TN, FN\n",
        "          # TP = ((pred_labels == 1) & (label == 1)).sum().item()\n",
        "           #FP = ((pred_labels == 1) & (label == 0)).sum().item()\n",
        "            #TN = ((pred_labels == 0) & (label == 0)).sum().item()\n",
        "            #FN = ((pred_labels == 0) & (label == 1)).sum().item()\n",
        "            running_TP += TP\n",
        "            running_FP += FP\n",
        "            running_TN += TN\n",
        "            running_FN += FN\n",
        "       \n",
        "          \n",
        "        epoch_loss = running_loss / len(train_loader)\n",
        "        epoch_accuracy = running_accuracy / len(train_loader)\n",
        "        epoch_recall = running_TP / (running_TP + running_FN) # recall\n",
        "        epoch_specificity = running_TN / (running_TN + running_FP) # specificity\n",
        "        print('Epoch [%d] - loss: %.4f - accuracy: %.4f - recall: %.4f - specificity: %.4f' % (epoch+1, epoch_loss, epoch_accuracy, epoch_recall, epoch_specificity))\n",
        "\n",
        "        # Evaluate on dev_dataset\n",
        "        model.eval()\n",
        "        dev_running_loss = 0.0\n",
        "        dev_running_accuracy = 0.0\n",
        "        dev_running_TP = 0.0\n",
        "        dev_running_FP = 0.0\n",
        "        dev_running_TN = 0.0\n",
        "        dev_running_FN = 0.0\n",
        "\n",
        "        with torch.no_grad():\n",
        "            for dev_batch in dev_loader:\n",
        "                dev_pred_labels = [0] * batch_size\n",
        "                dev_pred_prob = [0] * batch_size\n",
        "                dev_text, dev_label, dev_embedded = dev_batch\n",
        "                dev_text_encoded = tokenizer(dev_text, return_tensors='pt', padding=True, truncation=True)\n",
        "                dev_text_encoded = {k: v.to(device) for k, v in dev_text_encoded.items()}\n",
        "                dev_label = dev_label.float().to(device)\n",
        "                dev_inputs_ids = dev_text_encoded['input_ids'].to(device)\n",
        "                dev_visual_embeds = dev_embedded.to(device)\n",
        "                dev_attention_mask = dev_text_encoded['attention_mask'].to(device)\n",
        "                dev_outputs, dev_attentions = model(input_ids=dev_inputs_ids, attention_mask=dev_attention_mask, visual_embeds=dev_visual_embeds)\n",
        "                for j in range(len(dev_outputs[:])):\n",
        "                    if dev_outputs[j][0].item() > dev_outputs[j][1].item():\n",
        "                        dev_pred_labels[j] = 0\n",
        "                        dev_pred_prob[j] = dev_outputs[j][0].item()\n",
        "                    else:\n",
        "                        dev_pred_labels[j] = 1\n",
        "                        dev_pred_prob[j] = dev_outputs[j][1].item()\n",
        "                dev_loss = criterion(torch.tensor(dev_pred_prob, requires_grad=True).to(device), dev_label)\n",
        "                loss = criterion(torch.tensor(pred_prob,  requires_grad=True).to(device), label)\n",
        "\n",
        "                dev_correct_preds = 0\n",
        "                dev_TP = dev_FP = dev_TN = dev_FN = 0\n",
        "\n",
        "                for i in range(len(dev_pred_labels)):\n",
        "                    if dev_pred_labels[i] == dev_label[i]:\n",
        "                        dev_correct_preds += 1\n",
        "\n",
        "                dev_accuracy = dev_correct_preds / batch_size\n",
        "                dev_running_loss += dev_loss.item()\n",
        "                dev_running_accuracy += dev_accuracy\n",
        "\n",
        "                for i in range(len(dev_pred_labels)):\n",
        "                    if dev_pred_labels[i] == 1 and dev_label[i] == 1:\n",
        "                        dev_TP += 1\n",
        "                    elif dev_pred_labels[i] == 1 and dev_label[i] == 0:\n",
        "                        dev_FP += 1\n",
        "                    elif dev_pred_labels[i] == 0 and dev_label[i] == 0:\n",
        "                        dev_TN += 1\n",
        "                    elif dev_pred_labels[i] == 0 and dev_label[i] == 1:\n",
        "                        dev_FN += 1\n",
        "\n",
        "                dev_running_TP += dev_TP\n",
        "                dev_running_FP += dev_FP\n",
        "                dev_running_TN += dev_TN\n",
        "                dev_running_FN += dev_FN\n",
        "\n",
        "        dev_epoch_loss = dev_running_loss / len(dev_loader)\n",
        "        dev_epoch_accuracy = dev_running_accuracy / len(dev_loader)\n",
        "        dev_epoch_recall = dev_running_TP / (dev_running_TP + dev_running_FN)\n",
        "        dev_epoch_specificity = dev_running_TN / (dev_running_TN + dev_running_FP)\n",
        "        print('Epoch [%d] - Dev - loss: %.4f - accuracy: %.4f - recall: %.4f - specificity: %.4f' % (\n",
        "            epoch + 1, dev_epoch_loss, dev_epoch_accuracy, dev_epoch_recall, dev_epoch_specificity))\n",
        "\n",
        "     "
      ]
    },
    {
      "cell_type": "code",
      "execution_count": 12,
      "metadata": {
        "id": "h4f0Mmtj2Ep-"
      },
      "outputs": [],
      "source": [
        "\n",
        "def test(model, tokenizer, test_dataset, criterion, device, batch_size):\n",
        "    model.eval()\n",
        "    model.to(device)\n",
        "    test_loader = DataLoader(test_dataset, batch_size=batch_size, shuffle=True, drop_last=True)\n",
        "    running_loss = 0.0\n",
        "    running_accuracy = 0.0\n",
        "    running_TP = 0.0\n",
        "    running_FP = 0.0\n",
        "    running_TN = 0.0\n",
        "    running_FN = 0.0\n",
        "    with torch.no_grad():\n",
        "        for batch in test_loader:\n",
        "            pred_labels=[0]*batch_size\n",
        "            pred_prob=[0]*batch_size\n",
        "            text, label, embedded = batch\n",
        "            text_encoded = tokenizer(text, return_tensors='pt', padding=True, truncation=True)\n",
        "            text_encoded = {k: v.to(device) for k, v in text_encoded.items()}\n",
        "            label = label.float().to(device)\n",
        "            inputs_ids=text_encoded['input_ids'].to(device)\n",
        "            visual_embeds = embedded.to(device)\n",
        "            attention_mask = text_encoded['attention_mask'].to(device)\n",
        "            outputs , attentions = model(input_ids=inputs_ids, attention_mask=attention_mask, visual_embeds=visual_embeds)\n",
        "            for j in range(len(outputs[:])) :\n",
        "                if outputs[j][0].item()>outputs[j][1].item() :\n",
        "                  pred_labels[j] = 0\n",
        "                  pred_prob[j] = outputs[j][0].item()\n",
        "                else : \n",
        "                  pred_labels[j]=1\n",
        "                  pred_prob[j] = outputs[j][1].item()\n",
        "            loss = criterion(torch.tensor(pred_prob,  requires_grad=True).to(device), label)\n",
        "            correct_preds = 0\n",
        "            TP=FP=TN=FN=0\n",
        "            for i in range(len(pred_labels)) :\n",
        "                if pred_labels[i]==label[i] :\n",
        "                  correct_preds += 1\n",
        "\n",
        "            for i in range(len(pred_labels)) :\n",
        "                if pred_labels[i]== 1 and label[i]==1 : TP+=1\n",
        "                elif pred_labels[i]== 1 and label[i]==0 : FP+=1\n",
        "                elif pred_labels[i]== 0 and label[i]==0 : TN+=1\n",
        "                elif pred_labels[i]== 0 and label[i]==1 : FN+=1\n",
        "\n",
        "      # Calculate TP, FP, TN, FN\n",
        "            \n",
        "            running_TP += TP\n",
        "            running_FP += FP\n",
        "            running_TN += TN\n",
        "            running_FN += FN\n",
        "\n",
        "            accuracy = correct_preds / batch_size # calculate accuracy\n",
        "            running_loss += loss.item()\n",
        "            running_accuracy += accuracy\n",
        "\n",
        "              \n",
        "                \n",
        "         \n",
        "    test_loss = running_loss / len(test_loader)\n",
        "    test_accuracy = running_accuracy / len(test_loader)\n",
        "    test_recall = running_TP/ (running_TP + running_FN) # recall\n",
        "    test_specificity = running_TN / (running_TN + running_FP) # specificity\n",
        "    print('Test loss: %.4f - Test accuracy: %.4f- recall: %.4f - specificity: %.4f' % (test_loss, test_accuracy,test_recall,test_specificity))\n"
      ]
    },
    {
      "cell_type": "code",
      "execution_count": 13,
      "metadata": {
        "id": "BVCrGwW_kDFv"
      },
      "outputs": [],
      "source": [
        "\n",
        "# Define the optimizer and loss function\n",
        "optimizer = optim.Adam(model.parameters(), lr=0.00005) #, weight_decay=0.1\n",
        "criterion = nn.BCEWithLogitsLoss()\n",
        "scheduler = torch.optim.lr_scheduler.CosineAnnealingLR(optimizer, 2000)\n",
        "\n",
        "\n"
      ]
    },
    {
      "cell_type": "code",
      "execution_count": 14,
      "metadata": {
        "colab": {
          "base_uri": "https://localhost:8080/"
        },
        "id": "bc2dXuXGAivX",
        "outputId": "a24e0194-779c-40ef-9db8-f55681b06750"
      },
      "outputs": [
        {
          "name": "stdout",
          "output_type": "stream",
          "text": [
            "Drive already mounted at /content/drive; to attempt to forcibly remount, call drive.mount(\"/content/drive\", force_remount=True).\n"
          ]
        }
      ],
      "source": [
        "from google.colab import drive\n",
        "drive.mount('/content/drive')"
      ]
    },
    {
      "cell_type": "code",
      "execution_count": 15,
      "metadata": {
        "id": "q8EqAgkFkDFv"
      },
      "outputs": [],
      "source": [
        "df_test=pd.read_json(\"/content/drive/MyDrive/data/dev.jsonl\",lines=True)\n",
        "\n",
        "m = []\n",
        "\n",
        "with open(r\"/content/drive/MyDrive/data/file_val.pkl\",\"rb\") as g:\n",
        "    m = pickle.load(g)\n",
        "g.close()\n",
        "df_test.loc[:, 'embedded'] = m"
      ]
    },
    {
      "cell_type": "code",
      "execution_count": 16,
      "metadata": {
        "id": "n2VKr5Ja2cD2"
      },
      "outputs": [],
      "source": [
        "df_train=pd.read_json(\"/content/drive/MyDrive/data/train.jsonl\",lines=True)\n",
        "\n",
        "l = []\n",
        "\n",
        "with open(r\"/content/drive/MyDrive/data/file.pkl\",\"rb\") as f:\n",
        "    l = pickle.load(f)\n",
        "f.close()\n",
        "df_train.loc[:, 'embedded'] = l"
      ]
    },
    {
      "cell_type": "code",
      "execution_count": 17,
      "metadata": {
        "colab": {
          "base_uri": "https://localhost:8080/"
        },
        "id": "eY67Z40BptdM",
        "outputId": "a8955044-c6e7-4c77-f786-8170d4d68570"
      },
      "outputs": [
        {
          "name": "stdout",
          "output_type": "stream",
          "text": [
            "8464\n"
          ]
        }
      ],
      "source": [
        "mask_train = pd.to_numeric(df_train['embedded'], errors='coerce').isna()\n",
        "df_train = df_train[mask_train]\n",
        "print(len(df_train))"
      ]
    },
    {
      "cell_type": "code",
      "execution_count": 18,
      "metadata": {
        "colab": {
          "base_uri": "https://localhost:8080/"
        },
        "id": "hR-_vNsObJFn",
        "outputId": "50b47e30-3806-4bfa-b536-246b1be28c9d"
      },
      "outputs": [
        {
          "name": "stdout",
          "output_type": "stream",
          "text": [
            "Train dataset size: 7464\n",
            "Validation dataset size: 1000\n"
          ]
        }
      ],
      "source": [
        "from sklearn.model_selection import train_test_split\n",
        "\n",
        "train_df, dev_df = train_test_split(df_train, test_size=1000, random_state=42)\n",
        "\n",
        "# Verify the sizes of the datasets\n",
        "print(f'Train dataset size: {len(train_df)}')\n",
        "print(f'Validation dataset size: {len(dev_df)}')"
      ]
    },
    {
      "cell_type": "code",
      "execution_count": 19,
      "metadata": {
        "id": "TSdGjfjIgeJa"
      },
      "outputs": [],
      "source": [
        "train_df = train_df.reset_index(drop=True)\n",
        "dev_df = dev_df.reset_index(drop=True)\n"
      ]
    },
    {
      "cell_type": "code",
      "execution_count": 20,
      "metadata": {
        "colab": {
          "base_uri": "https://localhost:8080/"
        },
        "id": "alHqGqRLkDFw",
        "outputId": "a71d874f-510b-4d25-95c7-a58c851c4891"
      },
      "outputs": [
        {
          "name": "stdout",
          "output_type": "stream",
          "text": [
            "Index(['id', 'img', 'label', 'text', 'embedded'], dtype='object')\n",
            "Number of indices: 7464\n",
            "7464\n",
            "Index(['id', 'img', 'label', 'text', 'embedded'], dtype='object')\n",
            "Number of indices: 1000\n",
            "1000\n"
          ]
        }
      ],
      "source": [
        "train_dataset = MyDataset(train_df)\n",
        "print(len(train_dataset))\n",
        "dev_dataset = MyDataset(dev_df)\n",
        "print(len(dev_dataset))"
      ]
    },
    {
      "cell_type": "code",
      "execution_count": 23,
      "metadata": {
        "colab": {
          "base_uri": "https://localhost:8080/"
        },
        "id": "kEVoXxzqkDFx",
        "outputId": "b44aa7b6-e4eb-4696-cc79-93a78cc68dab"
      },
      "outputs": [
        {
          "name": "stdout",
          "output_type": "stream",
          "text": [
            "Epoch [1] - loss: 0.8077 - accuracy: 0.4072 - recall: 0.8447 - specificity: 0.1645\n",
            "Epoch [1] - Dev - loss: 0.7997 - accuracy: 0.3730 - recall: 1.0000 - specificity: 0.0000\n",
            "Epoch [2] - loss: 0.8075 - accuracy: 0.3998 - recall: 0.8350 - specificity: 0.1583\n",
            "Epoch [2] - Dev - loss: 0.7997 - accuracy: 0.3730 - recall: 1.0000 - specificity: 0.0000\n",
            "Epoch [3] - loss: 0.8081 - accuracy: 0.4084 - recall: 0.8378 - specificity: 0.1707\n",
            "Epoch [3] - Dev - loss: 0.7986 - accuracy: 0.3750 - recall: 1.0000 - specificity: 0.0000\n",
            "Epoch [4] - loss: 0.8081 - accuracy: 0.4087 - recall: 0.8454 - specificity: 0.1667\n",
            "Epoch [4] - Dev - loss: 0.7991 - accuracy: 0.3740 - recall: 1.0000 - specificity: 0.0000\n",
            "Epoch [5] - loss: 0.8078 - accuracy: 0.4014 - recall: 0.8378 - specificity: 0.1596\n",
            "Epoch [5] - Dev - loss: 0.7986 - accuracy: 0.3750 - recall: 1.0000 - specificity: 0.0000\n",
            "Epoch [6] - loss: 0.8078 - accuracy: 0.4068 - recall: 0.8458 - specificity: 0.1634\n",
            "Epoch [6] - Dev - loss: 0.8003 - accuracy: 0.3720 - recall: 1.0000 - specificity: 0.0000\n",
            "Epoch [7] - loss: 0.8081 - accuracy: 0.3969 - recall: 0.8335 - specificity: 0.1547\n",
            "Epoch [7] - Dev - loss: 0.7992 - accuracy: 0.3740 - recall: 1.0000 - specificity: 0.0000\n",
            "Epoch [8] - loss: 0.8079 - accuracy: 0.4101 - recall: 0.8380 - specificity: 0.1729\n",
            "Epoch [8] - Dev - loss: 0.7992 - accuracy: 0.3740 - recall: 1.0000 - specificity: 0.0000\n",
            "Epoch [9] - loss: 0.8076 - accuracy: 0.4100 - recall: 0.8403 - specificity: 0.1712\n",
            "Epoch [9] - Dev - loss: 0.7992 - accuracy: 0.3740 - recall: 1.0000 - specificity: 0.0000\n",
            "Epoch [10] - loss: 0.8079 - accuracy: 0.4025 - recall: 0.8278 - specificity: 0.1666\n",
            "Epoch [10] - Dev - loss: 0.7991 - accuracy: 0.3740 - recall: 1.0000 - specificity: 0.0000\n"
          ]
        }
      ],
      "source": [
        "train(model, tokenizer, train_dataset, dev_dataset, optimizer, criterion, device, batch_size=16, epochs=10, patience=5)"
      ]
    },
    {
      "attachments": {},
      "cell_type": "markdown",
      "metadata": {
        "id": "ucNwHXW8fzk0"
      },
      "source": []
    },
    {
      "cell_type": "code",
      "execution_count": null,
      "metadata": {
        "id": "BcnrYQ62YVlx"
      },
      "outputs": [],
      "source": [
        "mask_test = pd.to_numeric(df_test['embedded'], errors='coerce').isna()\n",
        "df_test = df_test[mask_test]\n",
        "print(len(df_test))"
      ]
    },
    {
      "cell_type": "code",
      "execution_count": null,
      "metadata": {
        "id": "e4cZ2S58Z0TJ"
      },
      "outputs": [],
      "source": [
        "df_test = df_test.reset_index(drop=True)\n"
      ]
    },
    {
      "cell_type": "code",
      "execution_count": null,
      "metadata": {
        "id": "GASWgEJvYBa9"
      },
      "outputs": [],
      "source": [
        "test_dataset = MyDataset(df_test)\n",
        "print(len(test_dataset))  # should print the length of your train data"
      ]
    },
    {
      "cell_type": "code",
      "execution_count": null,
      "metadata": {
        "id": "IUI81o0XX6Ff"
      },
      "outputs": [],
      "source": [
        "test(model, tokenizer, test_dataset, criterion, device, batch_size=32)"
      ]
    },
    {
      "cell_type": "code",
      "execution_count": null,
      "metadata": {
        "id": "Mfu_By2RcQpM"
      },
      "outputs": [],
      "source": [
        "import numpy as np\n",
        "import torch\n",
        "import matplotlib.pyplot as plt\n",
        "from sklearn.metrics import roc_curve, auc, roc_auc_score\n",
        "\n",
        "\n",
        "test_loader = DataLoader(test_dataset, batch_size=32, shuffle=False, drop_last=False)\n",
        "\n",
        "model.eval()\n",
        "with torch.no_grad():\n",
        "    y_pred = []\n",
        "    y_true = []\n",
        "   \n",
        "    for batch in test_loader:\n",
        "          text, label, embedded = batch\n",
        "          text_encoded = tokenizer(text, return_tensors='pt', padding=True, truncation=True)\n",
        "          text_encoded = {k: v.to(device) for k, v in text_encoded.items()}\n",
        "          label = label.float().unsqueeze(1).to(device)\n",
        "          inputs_ids=text_encoded['input_ids'].to(device)\n",
        "          visual_embeds = embedded.to(device)\n",
        "          attention_mask = text_encoded['attention_mask'].to(device)\n",
        "          outputs, attentions = model(input_ids=inputs_ids, attention_mask=attention_mask, visual_embeds=visual_embeds)\n",
        "          outputs_cpu=outputs[0:].cpu()\n",
        "          label_cpu=label[0:].cpu()\n",
        "          #print(outputs[0:])\n",
        "          y_pred.extend(outputs_cpu.numpy())\n",
        "          y_true.extend(label_cpu.numpy())\n",
        "          pred_labels = torch.round(outputs[0]) # round the probabilities to obtain predicted labels\n",
        "          correct_preds = (pred_labels == label).sum().item() # count the number of correct predictions\n",
        "\n",
        "\n",
        "print(len(y_pred))\n",
        "print(len(y_true))\n",
        "# Calculer l'AUC-ROC\n",
        "\n",
        "auc_roc = roc_auc_score(y_true, y_pred)\n",
        "print(\"AUC-ROC : {:.4f}\".format(auc_roc))\n",
        "\n",
        "# Calculer la courbe ROC\n",
        "fpr, tpr, _ = roc_curve(y_true, y_pred)\n",
        "roc_auc = auc(fpr, tpr)\n",
        "\n",
        "# Tracer la courbe ROC\n",
        "plt.figure(figsize=(4,4))\n",
        "plt.plot(fpr, tpr, color='darkorange', lw=2, label='ROC curve (area = %0.4f)' % roc_auc)\n",
        "plt.plot([0, 1], [0, 1], color='navy', lw=2, linestyle='--')\n",
        "plt.xlim([0.0, 1.0])\n",
        "plt.ylim([0.0, 1.05])\n",
        "plt.xlabel('False Positive Rate')\n",
        "plt.ylabel('True Positive Rate')\n",
        "plt.title('Receiver operating characteristic curve')\n",
        "plt.legend(loc=\"lower right\")\n",
        "plt.show()"
      ]
    },
    {
      "cell_type": "code",
      "execution_count": null,
      "metadata": {
        "id": "Rb_93mOchybd"
      },
      "outputs": [],
      "source": [
        "  model.to(device)\n",
        "  with torch.no_grad():\n",
        "  \n",
        "    for batch in test_loader:\n",
        "    \n",
        "              text, label, embedded = batch\n",
        "              text_encoded = tokenizer(text, return_tensors='pt', padding=True, truncation=True)\n",
        "              text_encoded = {k: v.to(device) for k, v in text_encoded.items()}\n",
        "              label = label.float().unsqueeze(1).to(device)\n",
        "              inputs_ids=text_encoded['input_ids'].to(device)\n",
        "              visual_embeds = embedded.to(device)\n",
        "              attention_mask = text_encoded['attention_mask'].to(device)\n",
        "              outputs, attentions = model(input_ids=inputs_ids, attention_mask=attention_mask, visual_embeds=visual_embeds)\n",
        "     \n",
        "\n",
        "              # Extraire les scores d'attention par couche\n",
        "              #attentions = outputs.attentions\n",
        "              for layer, attention in enumerate(attentions):\n",
        "                print(f\"Layer {layer+1} attention shape: {attention.shape}\")\n",
        "              # Extraire les scores d'attention par tête et par couche\n",
        "              #multi_head_attention = outputs.multi_head_attention_outputs\n",
        "              #for layer, attention_layer in enumerate(multi_head_attention):\n",
        "                 #print(f\"Layer {layer+1} attention shape: {[attention.shape for attention in attention_layer]}\")\n",
        "              \n",
        "\n"
      ]
    },
    {
      "cell_type": "code",
      "execution_count": null,
      "metadata": {
        "id": "wGNk2pUulf0e"
      },
      "outputs": [],
      "source": [
        "import matplotlib.pyplot as plt\n",
        "import numpy as np\n",
        "import cv2\n",
        "\n",
        "\n",
        "test_loader = DataLoader(test_dataset, batch_size=1, shuffle=False, drop_last=False)\n",
        "for batch in test_loader  : \n",
        "\n",
        "  # Load the image\n",
        "\n",
        "\n",
        "    text, label, embedded = batch\n",
        "    text_encoded = tokenizer(text, return_tensors='pt', padding=True, truncation=True)\n",
        "    text_encoded = {k: v.to(device) for k, v in text_encoded.items()}\n",
        "    label = label.float().unsqueeze(1).to(device)\n",
        "    inputs_ids=text_encoded['input_ids'].to(device)\n",
        "    visual_embeds = embedded.to(device)\n",
        "    attention_mask = text_encoded['attention_mask'].to(device)\n",
        "    outputs, attentions = model(input_ids=inputs_ids, attention_mask=attention_mask, visual_embeds=visual_embeds)\n",
        "    break\n",
        "  #Resize the image to match the input size of the model\n",
        "  #img = cv2.resize(img, (224, 224))\n",
        "  #img = cv2.cvtColor(img, cv2.COLOR_BGR2RGB)\n",
        "\n",
        "img_path = df_test['img'][1]\n",
        "path='/content/drive/MyDrive/data/'+img_path\n",
        "#img = cv2.imread('/content/drive/MyDrive/data/'+img_path)\n",
        "img= cv2.imread('/content/drive/MyDrive/data/img/01235.png')\n",
        "# Get the attention scores for the image\n",
        "attention_scores = attentions[0][0][0].detach().cpu().numpy()\n",
        "\n",
        "attention_scores = cv2.resize(attention_scores, (img.shape[1], img.shape[0]))\n",
        "attention_scores = (attention_scores - attention_scores.min()) / (attention_scores.max() - attention_scores.min())\n",
        "heatmap = cv2.applyColorMap(np.uint8(255*attention_scores), cv2.COLORMAP_JET)\n",
        "\n",
        "result = cv2.addWeighted(img, 0.6, heatmap, 0.4, 0)\n",
        "\n",
        "plt.imshow(result)\n",
        "plt.axis('off')\n",
        "plt.show()\n"
      ]
    },
    {
      "cell_type": "code",
      "execution_count": null,
      "metadata": {
        "id": "7YhaiukCozwz"
      },
      "outputs": [],
      "source": [
        "  valid_loader = DataLoader(valid_dataset, batch_size=batch_size, shuffle=True, drop_last=True)\n",
        "    best_valid_loss = float('inf')  \n",
        "  \n",
        "  valid_loss = 0.0\n",
        "        valid_accuracy = 0.0\n",
        "\n",
        "\n",
        "        for batch in valid_loader:\n",
        "            pred_labels=[0]*batch_size\n",
        "            pred_prob=[0]*batch_size\n",
        "            text, label, embedded = batch\n",
        "            text_encoded = tokenizer(text, return_tensors='pt', padding=True, truncation=True)\n",
        "            text_encoded = {k: v.to(device) for k, v in text_encoded.items()}\n",
        "            label = label.float().unsqueeze(1).to(device)\n",
        "            inputs_ids = text_encoded['input_ids'].to(device)\n",
        "            visual_embeds = embedded.to(device)\n",
        "            attention_mask = text_encoded['attention_mask'].to(device)\n",
        "            outputs, attentions = model(input_ids=inputs_ids, attention_mask=attention_mask, visual_embeds=visual_embeds)\n",
        "            for j in range(len(outputs[:])) :\n",
        "              if outputs[j][0].item()>outputs[j][1].item() :\n",
        "                pred_labels[j] = 0\n",
        "                pred_prob[j] = outputs[j][0].item()\n",
        "              else : \n",
        "                pred_labels[j]=1\n",
        "                pred_prob[j] = outputs[j][1].item()\n",
        "      \n",
        "            loss = criterion(torch.tensor(pred_prob,  requires_grad=True).unsqueeze(1).to(device), label)\n",
        "          \n",
        "            correct_preds = 0\n",
        "            TP=FP=TN=FN=0\n",
        "            for i in range(len(pred_labels)) :\n",
        "              if pred_labels[i]==label[i] :\n",
        "                correct_preds += 1\n",
        "\n",
        "            for i in range(len(pred_labels)) :\n",
        "                if pred_labels[i]== 1 and label[i]==1 : TP+=1\n",
        "                elif pred_labels[i]== 1 and label[i]==0 : FP+=1\n",
        "                elif pred_labels[i]== 0 and label[i]==0 : TN+=1\n",
        "                elif pred_labels[i]== 0 and label[i]==1 : FN+=1\n",
        "\n",
        "    \n",
        "            valid_loss += loss.item()\n",
        "            valid_accuracy += accuracy\n",
        "          \n",
        "        valid_loss /= len(valid_loader)\n",
        "        valid_accuracy /= len(valid_loader)\n",
        "\n",
        "\n",
        "           if valid_loss < best_valid_loss:\n",
        "            best_valid_loss = valid_loss\n",
        "            patience_count = 0\n",
        "        else:\n",
        "            patience_count += 1\n",
        "            if patience_count >= patience:\n",
        "                print(\"Validation loss did not improve for %d epochs. Training stopped early.\" % patience)\n",
        "                break\n",
        "\n",
        "\n"
      ]
    }
  ],
  "metadata": {
    "accelerator": "GPU",
    "colab": {
      "provenance": []
    },
    "gpuClass": "standard",
    "kernelspec": {
      "display_name": "Python 3",
      "language": "python",
      "name": "python3"
    },
    "language_info": {
      "codemirror_mode": {
        "name": "ipython",
        "version": 3
      },
      "file_extension": ".py",
      "mimetype": "text/x-python",
      "name": "python",
      "nbconvert_exporter": "python",
      "pygments_lexer": "ipython3",
      "version": "3.10.0"
    },
    "vscode": {
      "interpreter": {
        "hash": "ee4c60ed9f2d143d855c3de7cdf8e81ef9399a07140d5084c19be7d5d534dff2"
      }
    }
  },
  "nbformat": 4,
  "nbformat_minor": 0
}
