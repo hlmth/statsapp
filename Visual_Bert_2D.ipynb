{
  "cells": [
    {
      "cell_type": "code",
      "execution_count": 127,
      "metadata": {
        "colab": {
          "base_uri": "https://localhost:8080/"
        },
        "id": "P0pCxo9EjB7b",
        "outputId": "e98cf575-2743-4739-ad69-ffbb463efbfe"
      },
      "outputs": [
        {
          "name": "stdout",
          "output_type": "stream",
          "text": [
            "Looking in indexes: https://pypi.org/simple, https://us-python.pkg.dev/colab-wheels/public/simple/\n",
            "Requirement already satisfied: transformers in /usr/local/lib/python3.10/dist-packages (4.28.1)\n",
            "Requirement already satisfied: packaging>=20.0 in /usr/local/lib/python3.10/dist-packages (from transformers) (23.1)\n",
            "Requirement already satisfied: tokenizers!=0.11.3,<0.14,>=0.11.1 in /usr/local/lib/python3.10/dist-packages (from transformers) (0.13.3)\n",
            "Requirement already satisfied: huggingface-hub<1.0,>=0.11.0 in /usr/local/lib/python3.10/dist-packages (from transformers) (0.14.1)\n",
            "Requirement already satisfied: tqdm>=4.27 in /usr/local/lib/python3.10/dist-packages (from transformers) (4.65.0)\n",
            "Requirement already satisfied: requests in /usr/local/lib/python3.10/dist-packages (from transformers) (2.27.1)\n",
            "Requirement already satisfied: pyyaml>=5.1 in /usr/local/lib/python3.10/dist-packages (from transformers) (6.0)\n",
            "Requirement already satisfied: regex!=2019.12.17 in /usr/local/lib/python3.10/dist-packages (from transformers) (2022.10.31)\n",
            "Requirement already satisfied: numpy>=1.17 in /usr/local/lib/python3.10/dist-packages (from transformers) (1.22.4)\n",
            "Requirement already satisfied: filelock in /usr/local/lib/python3.10/dist-packages (from transformers) (3.12.0)\n",
            "Requirement already satisfied: typing-extensions>=3.7.4.3 in /usr/local/lib/python3.10/dist-packages (from huggingface-hub<1.0,>=0.11.0->transformers) (4.5.0)\n",
            "Requirement already satisfied: fsspec in /usr/local/lib/python3.10/dist-packages (from huggingface-hub<1.0,>=0.11.0->transformers) (2023.4.0)\n",
            "Requirement already satisfied: certifi>=2017.4.17 in /usr/local/lib/python3.10/dist-packages (from requests->transformers) (2022.12.7)\n",
            "Requirement already satisfied: idna<4,>=2.5 in /usr/local/lib/python3.10/dist-packages (from requests->transformers) (3.4)\n",
            "Requirement already satisfied: urllib3<1.27,>=1.21.1 in /usr/local/lib/python3.10/dist-packages (from requests->transformers) (1.26.15)\n",
            "Requirement already satisfied: charset-normalizer~=2.0.0 in /usr/local/lib/python3.10/dist-packages (from requests->transformers) (2.0.12)\n"
          ]
        }
      ],
      "source": [
        "pip install transformers"
      ]
    },
    {
      "cell_type": "code",
      "execution_count": 128,
      "metadata": {
        "id": "qJ6G6wLjJ-tM"
      },
      "outputs": [],
      "source": [
        "def set_parameter_requires_grad(model, feature_extracting):\n",
        "    if feature_extracting:\n",
        "        for param in model.parameters():\n",
        "            param.requires_grad = False\n",
        "    else : \n",
        "        for param in model.parameters():\n",
        "            param.requires_grad = True"
      ]
    },
    {
      "cell_type": "code",
      "execution_count": 129,
      "metadata": {
        "id": "Zw520vWukDFq"
      },
      "outputs": [],
      "source": [
        "import torch\n",
        "import torch.nn as nn\n",
        "import torch.optim as optim\n",
        "from torch.utils.data import DataLoader, Dataset\n",
        "from transformers import VisualBertForPreTraining, BertTokenizer, VisualBertModel, VisualBertForVisualReasoning\n",
        "from transformers import VisualBertConfig\n",
        "\n",
        "import numpy as np\n",
        "import pickle\n",
        "import pandas as pd\n"
      ]
    },
    {
      "cell_type": "code",
      "execution_count": 130,
      "metadata": {
        "id": "o_eGA-pE-ghv"
      },
      "outputs": [],
      "source": [
        "import os\n",
        "os.environ['CUDA_LAUNCH_BLOCKING'] = '1'\n"
      ]
    },
    {
      "attachments": {},
      "cell_type": "markdown",
      "metadata": {
        "id": "m8iZmOtrtaGw"
      },
      "source": [
        "Définition des classes dont on a besoin"
      ]
    },
    {
      "cell_type": "code",
      "execution_count": 131,
      "metadata": {
        "id": "FOp6T7jckDFr"
      },
      "outputs": [],
      "source": [
        "class Model(nn.Module):\n",
        "    def __init__(self, config):\n",
        "        super().__init__()\n",
        "        self.config = config\n",
        "        self.visual_bert = VisualBertModel(config=config)\n",
        "        self.dropout = nn.Dropout(config.hidden_dropout_prob)\n",
        "        self.linear = nn.Linear(config.hidden_size, 2)\n",
        "        self.attentions = None  # Add an `attentions` attribute to the class\n",
        "        self.pooler_output  = None\n",
        "        self.last_hidden_state = None\n",
        "        set_parameter_requires_grad(self.visual_bert, False) #true pour entrainer que la dernière couche\n",
        "\n",
        "        #for param in self.visual_bert.parameters():\n",
        "         #   param.requires_grad = False\n",
        "        #for param in self.dropout.parameters():\n",
        "         #   param.requires_grad = False\n",
        "        \n",
        "    def forward(\n",
        "        self,\n",
        "        input_ids=None,\n",
        "        attention_mask=None,\n",
        "        token_type_ids=None,\n",
        "        visual_embeds=None,\n",
        "        visual_attention_mask=None,\n",
        "        visual_token_type_ids=None,\n",
        "    ):\n",
        "        outputs  = self.visual_bert(\n",
        "            input_ids=input_ids,\n",
        "            attention_mask=attention_mask,\n",
        "            token_type_ids=token_type_ids,\n",
        "            visual_embeds=visual_embeds,\n",
        "            visual_attention_mask=visual_attention_mask,\n",
        "            visual_token_type_ids=visual_token_type_ids,\n",
        "            output_attentions=True\n",
        "        )\n",
        "        otp=outputs.pooler_output \n",
        "        pooled_output = self.dropout(otp)\n",
        "        linear_output = self.linear(pooled_output)\n",
        "        #output=torch.sigmoid(linear_output)\n",
        "        attentions = outputs.attentions # extract attention scores from the model outputs\n",
        "        \n",
        "\n",
        "        return linear_output, attentions\n"
      ]
    },
    {
      "cell_type": "code",
      "execution_count": 132,
      "metadata": {
        "id": "gTnWeyMYkDFs"
      },
      "outputs": [],
      "source": [
        "# Define the training dataset\n",
        "class MyDataset(Dataset):\n",
        "    def __init__(self, data):\n",
        "        self.data = data\n",
        "        self.indices = list(range(len(data)))  # set indices attribute\n",
        "        print(self.data.keys())  \n",
        "        print(f\"Number of indices: {len(self.indices)}\")\n",
        "\n",
        "\n",
        "    def __getitem__(self, index):\n",
        "        index = self.indices[index]  # get the actual index from self.indices\n",
        "        text = self.data['text'][index]\n",
        "        label = self.data['label'][index]\n",
        "        embedded = self.data['embedded'][index]\n",
        "        \n",
        "        return text, label, embedded\n",
        "\n",
        "    def __len__(self):\n",
        "        return len(self.data)\n",
        "\n"
      ]
    },
    {
      "attachments": {},
      "cell_type": "markdown",
      "metadata": {
        "id": "D-MNUFTltg_x"
      },
      "source": [
        "Chargement du modèle pré entrainé et customisation du modèle"
      ]
    },
    {
      "cell_type": "code",
      "execution_count": 133,
      "metadata": {
        "colab": {
          "base_uri": "https://localhost:8080/"
        },
        "id": "nzceoJ_okDFt",
        "outputId": "4d6df7eb-e4d6-4fbe-c620-ef413e61753b"
      },
      "outputs": [
        {
          "name": "stderr",
          "output_type": "stream",
          "text": [
            "Some weights of the model checkpoint at uclanlp/visualbert-nlvr2-coco-pre were not used when initializing VisualBertModel: ['cls.predictions.transform.LayerNorm.bias', 'cls.seq_relationship.bias', 'cls.predictions.transform.dense.bias', 'cls.predictions.decoder.bias', 'cls.seq_relationship.weight', 'cls.predictions.transform.LayerNorm.weight', 'cls.predictions.transform.dense.weight', 'cls.predictions.bias', 'cls.predictions.decoder.weight']\n",
            "- This IS expected if you are initializing VisualBertModel from the checkpoint of a model trained on another task or with another architecture (e.g. initializing a BertForSequenceClassification model from a BertForPreTraining model).\n",
            "- This IS NOT expected if you are initializing VisualBertModel from the checkpoint of a model that you expect to be exactly identical (initializing a BertForSequenceClassification model from a BertForSequenceClassification model).\n"
          ]
        }
      ],
      "source": [
        "# Define the pre-trained Visual-Bert model\n",
        "config = VisualBertConfig.from_pretrained('uclanlp/visualbert-nlvr2-coco-pre', output_attentions=True)\n",
        "model=  VisualBertModel.from_pretrained('uclanlp/visualbert-nlvr2-coco-pre', config=config)\n",
        "model = Model(config)\n",
        "tokenizer = BertTokenizer.from_pretrained('bert-base-uncased')\n"
      ]
    },
    {
      "cell_type": "code",
      "execution_count": 134,
      "metadata": {
        "id": "gisg0ePpsbUY"
      },
      "outputs": [],
      "source": [
        "#for layer in model.children():\n",
        " #   if hasattr(layer, 'reset_parameters'):\n",
        "  #      layer.reset_parameters()"
      ]
    },
    {
      "cell_type": "code",
      "execution_count": 135,
      "metadata": {
        "id": "WjOChudAkDFu"
      },
      "outputs": [],
      "source": [
        "device = torch.device('cuda' if torch.cuda.is_available() else 'cpu')\n"
      ]
    },
    {
      "cell_type": "code",
      "execution_count": 136,
      "metadata": {
        "colab": {
          "base_uri": "https://localhost:8080/"
        },
        "id": "I6z0ZN9tSjTv",
        "outputId": "a092f98b-0779-46ff-c070-a549a3584507"
      },
      "outputs": [
        {
          "name": "stdout",
          "output_type": "stream",
          "text": [
            "Params to learn:\n",
            "\t visual_bert.embeddings.word_embeddings.weight\n",
            "\t visual_bert.embeddings.position_embeddings.weight\n",
            "\t visual_bert.embeddings.token_type_embeddings.weight\n",
            "\t visual_bert.embeddings.LayerNorm.weight\n",
            "\t visual_bert.embeddings.LayerNorm.bias\n",
            "\t visual_bert.embeddings.visual_token_type_embeddings.weight\n",
            "\t visual_bert.embeddings.visual_position_embeddings.weight\n",
            "\t visual_bert.embeddings.visual_projection.weight\n",
            "\t visual_bert.embeddings.visual_projection.bias\n",
            "\t visual_bert.encoder.layer.0.attention.self.query.weight\n",
            "\t visual_bert.encoder.layer.0.attention.self.query.bias\n",
            "\t visual_bert.encoder.layer.0.attention.self.key.weight\n",
            "\t visual_bert.encoder.layer.0.attention.self.key.bias\n",
            "\t visual_bert.encoder.layer.0.attention.self.value.weight\n",
            "\t visual_bert.encoder.layer.0.attention.self.value.bias\n",
            "\t visual_bert.encoder.layer.0.attention.output.dense.weight\n",
            "\t visual_bert.encoder.layer.0.attention.output.dense.bias\n",
            "\t visual_bert.encoder.layer.0.attention.output.LayerNorm.weight\n",
            "\t visual_bert.encoder.layer.0.attention.output.LayerNorm.bias\n",
            "\t visual_bert.encoder.layer.0.intermediate.dense.weight\n",
            "\t visual_bert.encoder.layer.0.intermediate.dense.bias\n",
            "\t visual_bert.encoder.layer.0.output.dense.weight\n",
            "\t visual_bert.encoder.layer.0.output.dense.bias\n",
            "\t visual_bert.encoder.layer.0.output.LayerNorm.weight\n",
            "\t visual_bert.encoder.layer.0.output.LayerNorm.bias\n",
            "\t visual_bert.encoder.layer.1.attention.self.query.weight\n",
            "\t visual_bert.encoder.layer.1.attention.self.query.bias\n",
            "\t visual_bert.encoder.layer.1.attention.self.key.weight\n",
            "\t visual_bert.encoder.layer.1.attention.self.key.bias\n",
            "\t visual_bert.encoder.layer.1.attention.self.value.weight\n",
            "\t visual_bert.encoder.layer.1.attention.self.value.bias\n",
            "\t visual_bert.encoder.layer.1.attention.output.dense.weight\n",
            "\t visual_bert.encoder.layer.1.attention.output.dense.bias\n",
            "\t visual_bert.encoder.layer.1.attention.output.LayerNorm.weight\n",
            "\t visual_bert.encoder.layer.1.attention.output.LayerNorm.bias\n",
            "\t visual_bert.encoder.layer.1.intermediate.dense.weight\n",
            "\t visual_bert.encoder.layer.1.intermediate.dense.bias\n",
            "\t visual_bert.encoder.layer.1.output.dense.weight\n",
            "\t visual_bert.encoder.layer.1.output.dense.bias\n",
            "\t visual_bert.encoder.layer.1.output.LayerNorm.weight\n",
            "\t visual_bert.encoder.layer.1.output.LayerNorm.bias\n",
            "\t visual_bert.encoder.layer.2.attention.self.query.weight\n",
            "\t visual_bert.encoder.layer.2.attention.self.query.bias\n",
            "\t visual_bert.encoder.layer.2.attention.self.key.weight\n",
            "\t visual_bert.encoder.layer.2.attention.self.key.bias\n",
            "\t visual_bert.encoder.layer.2.attention.self.value.weight\n",
            "\t visual_bert.encoder.layer.2.attention.self.value.bias\n",
            "\t visual_bert.encoder.layer.2.attention.output.dense.weight\n",
            "\t visual_bert.encoder.layer.2.attention.output.dense.bias\n",
            "\t visual_bert.encoder.layer.2.attention.output.LayerNorm.weight\n",
            "\t visual_bert.encoder.layer.2.attention.output.LayerNorm.bias\n",
            "\t visual_bert.encoder.layer.2.intermediate.dense.weight\n",
            "\t visual_bert.encoder.layer.2.intermediate.dense.bias\n",
            "\t visual_bert.encoder.layer.2.output.dense.weight\n",
            "\t visual_bert.encoder.layer.2.output.dense.bias\n",
            "\t visual_bert.encoder.layer.2.output.LayerNorm.weight\n",
            "\t visual_bert.encoder.layer.2.output.LayerNorm.bias\n",
            "\t visual_bert.encoder.layer.3.attention.self.query.weight\n",
            "\t visual_bert.encoder.layer.3.attention.self.query.bias\n",
            "\t visual_bert.encoder.layer.3.attention.self.key.weight\n",
            "\t visual_bert.encoder.layer.3.attention.self.key.bias\n",
            "\t visual_bert.encoder.layer.3.attention.self.value.weight\n",
            "\t visual_bert.encoder.layer.3.attention.self.value.bias\n",
            "\t visual_bert.encoder.layer.3.attention.output.dense.weight\n",
            "\t visual_bert.encoder.layer.3.attention.output.dense.bias\n",
            "\t visual_bert.encoder.layer.3.attention.output.LayerNorm.weight\n",
            "\t visual_bert.encoder.layer.3.attention.output.LayerNorm.bias\n",
            "\t visual_bert.encoder.layer.3.intermediate.dense.weight\n",
            "\t visual_bert.encoder.layer.3.intermediate.dense.bias\n",
            "\t visual_bert.encoder.layer.3.output.dense.weight\n",
            "\t visual_bert.encoder.layer.3.output.dense.bias\n",
            "\t visual_bert.encoder.layer.3.output.LayerNorm.weight\n",
            "\t visual_bert.encoder.layer.3.output.LayerNorm.bias\n",
            "\t visual_bert.encoder.layer.4.attention.self.query.weight\n",
            "\t visual_bert.encoder.layer.4.attention.self.query.bias\n",
            "\t visual_bert.encoder.layer.4.attention.self.key.weight\n",
            "\t visual_bert.encoder.layer.4.attention.self.key.bias\n",
            "\t visual_bert.encoder.layer.4.attention.self.value.weight\n",
            "\t visual_bert.encoder.layer.4.attention.self.value.bias\n",
            "\t visual_bert.encoder.layer.4.attention.output.dense.weight\n",
            "\t visual_bert.encoder.layer.4.attention.output.dense.bias\n",
            "\t visual_bert.encoder.layer.4.attention.output.LayerNorm.weight\n",
            "\t visual_bert.encoder.layer.4.attention.output.LayerNorm.bias\n",
            "\t visual_bert.encoder.layer.4.intermediate.dense.weight\n",
            "\t visual_bert.encoder.layer.4.intermediate.dense.bias\n",
            "\t visual_bert.encoder.layer.4.output.dense.weight\n",
            "\t visual_bert.encoder.layer.4.output.dense.bias\n",
            "\t visual_bert.encoder.layer.4.output.LayerNorm.weight\n",
            "\t visual_bert.encoder.layer.4.output.LayerNorm.bias\n",
            "\t visual_bert.encoder.layer.5.attention.self.query.weight\n",
            "\t visual_bert.encoder.layer.5.attention.self.query.bias\n",
            "\t visual_bert.encoder.layer.5.attention.self.key.weight\n",
            "\t visual_bert.encoder.layer.5.attention.self.key.bias\n",
            "\t visual_bert.encoder.layer.5.attention.self.value.weight\n",
            "\t visual_bert.encoder.layer.5.attention.self.value.bias\n",
            "\t visual_bert.encoder.layer.5.attention.output.dense.weight\n",
            "\t visual_bert.encoder.layer.5.attention.output.dense.bias\n",
            "\t visual_bert.encoder.layer.5.attention.output.LayerNorm.weight\n",
            "\t visual_bert.encoder.layer.5.attention.output.LayerNorm.bias\n",
            "\t visual_bert.encoder.layer.5.intermediate.dense.weight\n",
            "\t visual_bert.encoder.layer.5.intermediate.dense.bias\n",
            "\t visual_bert.encoder.layer.5.output.dense.weight\n",
            "\t visual_bert.encoder.layer.5.output.dense.bias\n",
            "\t visual_bert.encoder.layer.5.output.LayerNorm.weight\n",
            "\t visual_bert.encoder.layer.5.output.LayerNorm.bias\n",
            "\t visual_bert.encoder.layer.6.attention.self.query.weight\n",
            "\t visual_bert.encoder.layer.6.attention.self.query.bias\n",
            "\t visual_bert.encoder.layer.6.attention.self.key.weight\n",
            "\t visual_bert.encoder.layer.6.attention.self.key.bias\n",
            "\t visual_bert.encoder.layer.6.attention.self.value.weight\n",
            "\t visual_bert.encoder.layer.6.attention.self.value.bias\n",
            "\t visual_bert.encoder.layer.6.attention.output.dense.weight\n",
            "\t visual_bert.encoder.layer.6.attention.output.dense.bias\n",
            "\t visual_bert.encoder.layer.6.attention.output.LayerNorm.weight\n",
            "\t visual_bert.encoder.layer.6.attention.output.LayerNorm.bias\n",
            "\t visual_bert.encoder.layer.6.intermediate.dense.weight\n",
            "\t visual_bert.encoder.layer.6.intermediate.dense.bias\n",
            "\t visual_bert.encoder.layer.6.output.dense.weight\n",
            "\t visual_bert.encoder.layer.6.output.dense.bias\n",
            "\t visual_bert.encoder.layer.6.output.LayerNorm.weight\n",
            "\t visual_bert.encoder.layer.6.output.LayerNorm.bias\n",
            "\t visual_bert.encoder.layer.7.attention.self.query.weight\n",
            "\t visual_bert.encoder.layer.7.attention.self.query.bias\n",
            "\t visual_bert.encoder.layer.7.attention.self.key.weight\n",
            "\t visual_bert.encoder.layer.7.attention.self.key.bias\n",
            "\t visual_bert.encoder.layer.7.attention.self.value.weight\n",
            "\t visual_bert.encoder.layer.7.attention.self.value.bias\n",
            "\t visual_bert.encoder.layer.7.attention.output.dense.weight\n",
            "\t visual_bert.encoder.layer.7.attention.output.dense.bias\n",
            "\t visual_bert.encoder.layer.7.attention.output.LayerNorm.weight\n",
            "\t visual_bert.encoder.layer.7.attention.output.LayerNorm.bias\n",
            "\t visual_bert.encoder.layer.7.intermediate.dense.weight\n",
            "\t visual_bert.encoder.layer.7.intermediate.dense.bias\n",
            "\t visual_bert.encoder.layer.7.output.dense.weight\n",
            "\t visual_bert.encoder.layer.7.output.dense.bias\n",
            "\t visual_bert.encoder.layer.7.output.LayerNorm.weight\n",
            "\t visual_bert.encoder.layer.7.output.LayerNorm.bias\n",
            "\t visual_bert.encoder.layer.8.attention.self.query.weight\n",
            "\t visual_bert.encoder.layer.8.attention.self.query.bias\n",
            "\t visual_bert.encoder.layer.8.attention.self.key.weight\n",
            "\t visual_bert.encoder.layer.8.attention.self.key.bias\n",
            "\t visual_bert.encoder.layer.8.attention.self.value.weight\n",
            "\t visual_bert.encoder.layer.8.attention.self.value.bias\n",
            "\t visual_bert.encoder.layer.8.attention.output.dense.weight\n",
            "\t visual_bert.encoder.layer.8.attention.output.dense.bias\n",
            "\t visual_bert.encoder.layer.8.attention.output.LayerNorm.weight\n",
            "\t visual_bert.encoder.layer.8.attention.output.LayerNorm.bias\n",
            "\t visual_bert.encoder.layer.8.intermediate.dense.weight\n",
            "\t visual_bert.encoder.layer.8.intermediate.dense.bias\n",
            "\t visual_bert.encoder.layer.8.output.dense.weight\n",
            "\t visual_bert.encoder.layer.8.output.dense.bias\n",
            "\t visual_bert.encoder.layer.8.output.LayerNorm.weight\n",
            "\t visual_bert.encoder.layer.8.output.LayerNorm.bias\n",
            "\t visual_bert.encoder.layer.9.attention.self.query.weight\n",
            "\t visual_bert.encoder.layer.9.attention.self.query.bias\n",
            "\t visual_bert.encoder.layer.9.attention.self.key.weight\n",
            "\t visual_bert.encoder.layer.9.attention.self.key.bias\n",
            "\t visual_bert.encoder.layer.9.attention.self.value.weight\n",
            "\t visual_bert.encoder.layer.9.attention.self.value.bias\n",
            "\t visual_bert.encoder.layer.9.attention.output.dense.weight\n",
            "\t visual_bert.encoder.layer.9.attention.output.dense.bias\n",
            "\t visual_bert.encoder.layer.9.attention.output.LayerNorm.weight\n",
            "\t visual_bert.encoder.layer.9.attention.output.LayerNorm.bias\n",
            "\t visual_bert.encoder.layer.9.intermediate.dense.weight\n",
            "\t visual_bert.encoder.layer.9.intermediate.dense.bias\n",
            "\t visual_bert.encoder.layer.9.output.dense.weight\n",
            "\t visual_bert.encoder.layer.9.output.dense.bias\n",
            "\t visual_bert.encoder.layer.9.output.LayerNorm.weight\n",
            "\t visual_bert.encoder.layer.9.output.LayerNorm.bias\n",
            "\t visual_bert.encoder.layer.10.attention.self.query.weight\n",
            "\t visual_bert.encoder.layer.10.attention.self.query.bias\n",
            "\t visual_bert.encoder.layer.10.attention.self.key.weight\n",
            "\t visual_bert.encoder.layer.10.attention.self.key.bias\n",
            "\t visual_bert.encoder.layer.10.attention.self.value.weight\n",
            "\t visual_bert.encoder.layer.10.attention.self.value.bias\n",
            "\t visual_bert.encoder.layer.10.attention.output.dense.weight\n",
            "\t visual_bert.encoder.layer.10.attention.output.dense.bias\n",
            "\t visual_bert.encoder.layer.10.attention.output.LayerNorm.weight\n",
            "\t visual_bert.encoder.layer.10.attention.output.LayerNorm.bias\n",
            "\t visual_bert.encoder.layer.10.intermediate.dense.weight\n",
            "\t visual_bert.encoder.layer.10.intermediate.dense.bias\n",
            "\t visual_bert.encoder.layer.10.output.dense.weight\n",
            "\t visual_bert.encoder.layer.10.output.dense.bias\n",
            "\t visual_bert.encoder.layer.10.output.LayerNorm.weight\n",
            "\t visual_bert.encoder.layer.10.output.LayerNorm.bias\n",
            "\t visual_bert.encoder.layer.11.attention.self.query.weight\n",
            "\t visual_bert.encoder.layer.11.attention.self.query.bias\n",
            "\t visual_bert.encoder.layer.11.attention.self.key.weight\n",
            "\t visual_bert.encoder.layer.11.attention.self.key.bias\n",
            "\t visual_bert.encoder.layer.11.attention.self.value.weight\n",
            "\t visual_bert.encoder.layer.11.attention.self.value.bias\n",
            "\t visual_bert.encoder.layer.11.attention.output.dense.weight\n",
            "\t visual_bert.encoder.layer.11.attention.output.dense.bias\n",
            "\t visual_bert.encoder.layer.11.attention.output.LayerNorm.weight\n",
            "\t visual_bert.encoder.layer.11.attention.output.LayerNorm.bias\n",
            "\t visual_bert.encoder.layer.11.intermediate.dense.weight\n",
            "\t visual_bert.encoder.layer.11.intermediate.dense.bias\n",
            "\t visual_bert.encoder.layer.11.output.dense.weight\n",
            "\t visual_bert.encoder.layer.11.output.dense.bias\n",
            "\t visual_bert.encoder.layer.11.output.LayerNorm.weight\n",
            "\t visual_bert.encoder.layer.11.output.LayerNorm.bias\n",
            "\t visual_bert.pooler.dense.weight\n",
            "\t visual_bert.pooler.dense.bias\n",
            "\t linear.weight\n",
            "\t linear.bias\n"
          ]
        }
      ],
      "source": [
        "model = model.to(device)\n",
        "\n",
        "\n",
        "print(\"Params to learn:\")\n",
        "params_to_update = []\n",
        "for name,param in model.named_parameters():\n",
        "    if param.requires_grad == True:\n",
        "        params_to_update.append(param)\n",
        "        print(\"\\t\",name)\n",
        "\n",
        "\n",
        "# Observe that all parameters are being optimized"
      ]
    },
    {
      "attachments": {},
      "cell_type": "markdown",
      "metadata": {
        "id": "-cOyIBXStlzi"
      },
      "source": [
        "Définition des fonctions d'entrainement et de test"
      ]
    },
    {
      "cell_type": "code",
      "execution_count": 137,
      "metadata": {
        "id": "-3sDnaUxkDFu"
      },
      "outputs": [],
      "source": [
        "# Define the training loop\n",
        "def train(model, tokenizer, train_dataset, optimizer, criterion, device, batch_size, epochs, patience):\n",
        "    model.train()\n",
        "    model.to(device)\n",
        "    train_loader = DataLoader(train_dataset, batch_size=batch_size, shuffle=True, drop_last=True)\n",
        "    patience_count = 0\n",
        "    for epoch in range(epochs):\n",
        "        running_loss = 0.0\n",
        "        running_accuracy = 0.0\n",
        "        running_TP = 0.0\n",
        "        running_FP = 0.0\n",
        "        running_TN = 0.0\n",
        "        running_FN = 0.0\n",
        "        for batch in train_loader:\n",
        "            pred_labels=[0]*batch_size\n",
        "            pred_prob=[0]*batch_size\n",
        "            text, label, embedded = batch\n",
        "            optimizer.zero_grad()\n",
        "            text_encoded = tokenizer(text, return_tensors='pt', padding=True, truncation=True)\n",
        "            text_encoded = {k: v.to(device) for k, v in text_encoded.items()}\n",
        "            label = label.float().to(device)\n",
        "            inputs_ids=text_encoded['input_ids'].to(device)\n",
        "            visual_embeds = embedded.to(device)\n",
        "            attention_mask = text_encoded['attention_mask'].to(device)\n",
        "            outputs, attentions = model(input_ids=inputs_ids, attention_mask=attention_mask, visual_embeds=visual_embeds)\n",
        "            for j in range(len(outputs[:])) :\n",
        "              if outputs[j][0].item()>outputs[j][1].item() :\n",
        "                pred_labels[j] = 0\n",
        "                pred_prob[j] = outputs[j][0].item()\n",
        "              else : \n",
        "                pred_labels[j]=1\n",
        "                pred_prob[j] = outputs[j][1].item()\n",
        "            loss = criterion(torch.tensor(pred_prob,  requires_grad=True).to(device), label)\n",
        "            loss.backward()\n",
        "            optimizer.step()\n",
        "            correct_preds = 0\n",
        "            TP=FP=TN=FN=0\n",
        "\n",
        "            for i in range(len(pred_labels)) :\n",
        "              if pred_labels[i]==label[i] :\n",
        "                correct_preds += 1\n",
        "       \n",
        "            accuracy = correct_preds / batch_size # calculate accuracy\n",
        "            running_loss += loss.item()\n",
        "            running_accuracy += accuracy\n",
        "\n",
        "            for i in range(len(pred_labels)) :\n",
        "                if pred_labels[i]== 1 and label[i]==1 : TP+=1\n",
        "                elif pred_labels[i]== 1 and label[i]==0 : FP+=1\n",
        "                elif pred_labels[i]== 0 and label[i]==0 : TN+=1\n",
        "                elif pred_labels[i]== 0 and label[i]==1 : FN+=1\n",
        "\n",
        "\n",
        "                \n",
        "            # Calculate TP, FP, TN, FN\n",
        "          # TP = ((pred_labels == 1) & (label == 1)).sum().item()\n",
        "           #FP = ((pred_labels == 1) & (label == 0)).sum().item()\n",
        "            #TN = ((pred_labels == 0) & (label == 0)).sum().item()\n",
        "            #FN = ((pred_labels == 0) & (label == 1)).sum().item()\n",
        "            running_TP += TP\n",
        "            running_FP += FP\n",
        "            running_TN += TN\n",
        "            running_FN += FN\n",
        "       \n",
        "          \n",
        "        epoch_loss = running_loss / len(train_loader)\n",
        "        epoch_accuracy = running_accuracy / len(train_loader)\n",
        "        epoch_recall = running_TP / (running_TP + running_FN) # recall\n",
        "        epoch_specificity = running_TN / (running_TN + running_FP) # specificity\n",
        "        print('Epoch [%d] - loss: %.4f - accuracy: %.4f - recall: %.4f - specificity: %.4f' % (epoch+1, epoch_loss, epoch_accuracy, epoch_recall, epoch_specificity))\n",
        "\n",
        "     "
      ]
    },
    {
      "cell_type": "code",
      "execution_count": 138,
      "metadata": {
        "id": "h4f0Mmtj2Ep-"
      },
      "outputs": [],
      "source": [
        "\n",
        "def test(model, tokenizer, test_dataset, criterion, device, batch_size):\n",
        "    model.eval()\n",
        "    model.to(device)\n",
        "    test_loader = DataLoader(test_dataset, batch_size=batch_size, shuffle=True, drop_last=True)\n",
        "    running_loss = 0.0\n",
        "    running_accuracy = 0.0\n",
        "    running_TP = 0.0\n",
        "    running_FP = 0.0\n",
        "    running_TN = 0.0\n",
        "    running_FN = 0.0\n",
        "    with torch.no_grad():\n",
        "        for batch in test_loader:\n",
        "            pred_labels=[0]*batch_size\n",
        "            pred_prob=[0]*batch_size\n",
        "            text, label, embedded = batch\n",
        "            text_encoded = tokenizer(text, return_tensors='pt', padding=True, truncation=True)\n",
        "            text_encoded = {k: v.to(device) for k, v in text_encoded.items()}\n",
        "            label = label.float().to(device)\n",
        "            inputs_ids=text_encoded['input_ids'].to(device)\n",
        "            visual_embeds = embedded.to(device)\n",
        "            attention_mask = text_encoded['attention_mask'].to(device)\n",
        "            outputs , attentions = model(input_ids=inputs_ids, attention_mask=attention_mask, visual_embeds=visual_embeds)\n",
        "            for j in range(len(outputs[:])) :\n",
        "                if outputs[j][0].item()>outputs[j][1].item() :\n",
        "                  pred_labels[j] = 0\n",
        "                  pred_prob[j] = outputs[j][0].item()\n",
        "                else : \n",
        "                  pred_labels[j]=1\n",
        "                  pred_prob[j] = outputs[j][1].item()\n",
        "            loss = criterion(torch.tensor(pred_prob,  requires_grad=True).to(device), label)\n",
        "            correct_preds = 0\n",
        "            TP=FP=TN=FN=0\n",
        "            for i in range(len(pred_labels)) :\n",
        "                if pred_labels[i]==label[i] :\n",
        "                  correct_preds += 1\n",
        "\n",
        "            for i in range(len(pred_labels)) :\n",
        "                if pred_labels[i]== 1 and label[i]==1 : TP+=1\n",
        "                elif pred_labels[i]== 1 and label[i]==0 : FP+=1\n",
        "                elif pred_labels[i]== 0 and label[i]==0 : TN+=1\n",
        "                elif pred_labels[i]== 0 and label[i]==1 : FN+=1\n",
        "\n",
        "      # Calculate TP, FP, TN, FN\n",
        "            \n",
        "            running_TP += TP\n",
        "            running_FP += FP\n",
        "            running_TN += TN\n",
        "            running_FN += FN\n",
        "\n",
        "            accuracy = correct_preds / batch_size # calculate accuracy\n",
        "            running_loss += loss.item()\n",
        "            running_accuracy += accuracy\n",
        "\n",
        "              \n",
        "                \n",
        "         \n",
        "    test_loss = running_loss / len(test_loader)\n",
        "    test_accuracy = running_accuracy / len(test_loader)\n",
        "    test_recall = running_TP/ (running_TP + running_FN) # recall\n",
        "    test_specificity = running_TN / (running_TN + running_FP) # specificity\n",
        "    print('Test loss: %.4f - Test accuracy: %.4f- recall: %.4f - specificity: %.4f' % (test_loss, test_accuracy,test_recall,test_specificity))\n"
      ]
    },
    {
      "cell_type": "code",
      "execution_count": 153,
      "metadata": {
        "id": "BVCrGwW_kDFv"
      },
      "outputs": [],
      "source": [
        "\n",
        "# Define the optimizer and loss function\n",
        "optimizer = optim.AdamW(model.parameters(), lr=0.00000001, weight_decay=0.01)\n",
        "criterion = nn.BCEWithLogitsLoss()\n"
      ]
    },
    {
      "cell_type": "code",
      "execution_count": 140,
      "metadata": {
        "colab": {
          "base_uri": "https://localhost:8080/"
        },
        "id": "bc2dXuXGAivX",
        "outputId": "74e3b4d9-2bf9-49fc-dad5-a36709b0ba0e"
      },
      "outputs": [
        {
          "name": "stdout",
          "output_type": "stream",
          "text": [
            "Drive already mounted at /content/drive; to attempt to forcibly remount, call drive.mount(\"/content/drive\", force_remount=True).\n"
          ]
        }
      ],
      "source": [
        "from google.colab import drive\n",
        "drive.mount('/content/drive')"
      ]
    },
    {
      "cell_type": "code",
      "execution_count": 141,
      "metadata": {
        "id": "q8EqAgkFkDFv"
      },
      "outputs": [],
      "source": [
        "df_test=pd.read_json(\"/content/drive/MyDrive/data/dev.jsonl\",lines=True)\n",
        "\n",
        "m = []\n",
        "\n",
        "with open(r\"/content/drive/MyDrive/data/file_val.pkl\",\"rb\") as g:\n",
        "    m = pickle.load(g)\n",
        "g.close()\n",
        "df_test.loc[:, 'embedded'] = m"
      ]
    },
    {
      "cell_type": "code",
      "execution_count": 142,
      "metadata": {
        "id": "n2VKr5Ja2cD2"
      },
      "outputs": [],
      "source": [
        "df_train=pd.read_json(\"/content/drive/MyDrive/data/train.jsonl\",lines=True)\n",
        "\n",
        "l = []\n",
        "\n",
        "with open(r\"/content/drive/MyDrive/data/file.pkl\",\"rb\") as f:\n",
        "    l = pickle.load(f)\n",
        "f.close()\n",
        "df_train.loc[:, 'embedded'] = l"
      ]
    },
    {
      "cell_type": "code",
      "execution_count": 143,
      "metadata": {
        "colab": {
          "base_uri": "https://localhost:8080/"
        },
        "id": "eY67Z40BptdM",
        "outputId": "a4e24612-2b8e-4434-99cc-f0b6a09c90c4"
      },
      "outputs": [
        {
          "name": "stdout",
          "output_type": "stream",
          "text": [
            "8464\n"
          ]
        }
      ],
      "source": [
        "mask_train = pd.to_numeric(df_train['embedded'], errors='coerce').isna()\n",
        "df_train = df_train[mask_train]\n",
        "print(len(df_train))"
      ]
    },
    {
      "cell_type": "code",
      "execution_count": 144,
      "metadata": {
        "colab": {
          "base_uri": "https://localhost:8080/"
        },
        "id": "hR-_vNsObJFn",
        "outputId": "971be5d5-5d8e-4755-addb-4f291b4b0ef8"
      },
      "outputs": [
        {
          "name": "stdout",
          "output_type": "stream",
          "text": [
            "Train dataset size: 8463\n",
            "Validation dataset size: 1\n"
          ]
        }
      ],
      "source": [
        "from sklearn.model_selection import train_test_split\n",
        "\n",
        "train_df, valid_df = train_test_split(df_train, test_size=1, random_state=42)\n",
        "\n",
        "# Verify the sizes of the datasets\n",
        "print(f'Train dataset size: {len(train_df)}')\n",
        "print(f'Validation dataset size: {len(valid_df)}')"
      ]
    },
    {
      "cell_type": "code",
      "execution_count": 145,
      "metadata": {
        "id": "TSdGjfjIgeJa"
      },
      "outputs": [],
      "source": [
        "train_df = train_df.reset_index(drop=True)\n",
        "valid_df = valid_df.reset_index(drop=True)\n"
      ]
    },
    {
      "cell_type": "code",
      "execution_count": 146,
      "metadata": {
        "colab": {
          "base_uri": "https://localhost:8080/"
        },
        "id": "alHqGqRLkDFw",
        "outputId": "374cb016-0d2d-4542-d7aa-b83049ce281a"
      },
      "outputs": [
        {
          "name": "stdout",
          "output_type": "stream",
          "text": [
            "Index(['id', 'img', 'label', 'text', 'embedded'], dtype='object')\n",
            "Number of indices: 8463\n",
            "8463\n",
            "Index(['id', 'img', 'label', 'text', 'embedded'], dtype='object')\n",
            "Number of indices: 1\n",
            "1\n"
          ]
        }
      ],
      "source": [
        "train_dataset = MyDataset(train_df)\n",
        "print(len(train_dataset))\n",
        "valid_dataset = MyDataset(valid_df)\n",
        "print(len(valid_dataset))"
      ]
    },
    {
      "cell_type": "code",
      "execution_count": 154,
      "metadata": {
        "colab": {
          "base_uri": "https://localhost:8080/"
        },
        "id": "kEVoXxzqkDFx",
        "outputId": "b2438b81-21a2-4beb-8d00-76277dd3d3e4"
      },
      "outputs": [
        {
          "name": "stdout",
          "output_type": "stream",
          "text": [
            "Epoch [1] - loss: 0.7113 - accuracy: 0.5392 - recall: 0.3576 - specificity: 0.6408\n",
            "Epoch [2] - loss: 0.7102 - accuracy: 0.5412 - recall: 0.3801 - specificity: 0.6312\n",
            "Epoch [3] - loss: 0.7111 - accuracy: 0.5463 - recall: 0.3895 - specificity: 0.6340\n",
            "Epoch [4] - loss: 0.7115 - accuracy: 0.5386 - recall: 0.3673 - specificity: 0.6345\n",
            "Epoch [5] - loss: 0.7113 - accuracy: 0.5438 - recall: 0.3789 - specificity: 0.6359\n",
            "Epoch [6] - loss: 0.7121 - accuracy: 0.5445 - recall: 0.3747 - specificity: 0.6396\n",
            "Epoch [7] - loss: 0.7102 - accuracy: 0.5333 - recall: 0.3570 - specificity: 0.6316\n",
            "Epoch [8] - loss: 0.7111 - accuracy: 0.5388 - recall: 0.3768 - specificity: 0.6295\n",
            "Epoch [9] - loss: 0.7105 - accuracy: 0.5430 - recall: 0.3713 - specificity: 0.6390\n",
            "Epoch [10] - loss: 0.7098 - accuracy: 0.5445 - recall: 0.3614 - specificity: 0.6469\n"
          ]
        }
      ],
      "source": [
        "train(model, tokenizer, train_dataset, optimizer, criterion, device, batch_size=16, epochs=10, patience=5)"
      ]
    },
    {
      "attachments": {},
      "cell_type": "markdown",
      "metadata": {
        "id": "ucNwHXW8fzk0"
      },
      "source": []
    },
    {
      "cell_type": "code",
      "execution_count": 148,
      "metadata": {
        "colab": {
          "base_uri": "https://localhost:8080/"
        },
        "id": "BcnrYQ62YVlx",
        "outputId": "8b9cfd3f-770a-4d76-fd55-9bb5667687c1"
      },
      "outputs": [
        {
          "name": "stdout",
          "output_type": "stream",
          "text": [
            "498\n"
          ]
        }
      ],
      "source": [
        "mask_test = pd.to_numeric(df_test['embedded'], errors='coerce').isna()\n",
        "df_test = df_test[mask_test]\n",
        "print(len(df_test))"
      ]
    },
    {
      "cell_type": "code",
      "execution_count": 149,
      "metadata": {
        "id": "e4cZ2S58Z0TJ"
      },
      "outputs": [],
      "source": [
        "df_test = df_test.reset_index(drop=True)\n"
      ]
    },
    {
      "cell_type": "code",
      "execution_count": 150,
      "metadata": {
        "colab": {
          "base_uri": "https://localhost:8080/"
        },
        "id": "GASWgEJvYBa9",
        "outputId": "41ec21fa-9b2d-4639-d819-9e9afe87b58f"
      },
      "outputs": [
        {
          "name": "stdout",
          "output_type": "stream",
          "text": [
            "Index(['id', 'img', 'label', 'text', 'embedded'], dtype='object')\n",
            "Number of indices: 498\n",
            "498\n"
          ]
        }
      ],
      "source": [
        "test_dataset = MyDataset(df_test)\n",
        "print(len(test_dataset))  # should print the length of your train data"
      ]
    },
    {
      "cell_type": "code",
      "execution_count": 155,
      "metadata": {
        "colab": {
          "base_uri": "https://localhost:8080/"
        },
        "id": "IUI81o0XX6Ff",
        "outputId": "80c44ce1-7ad3-490f-ebd0-1b5c28c39e5a"
      },
      "outputs": [
        {
          "name": "stdout",
          "output_type": "stream",
          "text": [
            "Test loss: 0.6930 - Test accuracy: 0.5000- recall: 0.0165 - specificity: 0.9958\n"
          ]
        }
      ],
      "source": [
        "test(model, tokenizer, test_dataset, criterion, device, batch_size=32)"
      ]
    },
    {
      "cell_type": "code",
      "execution_count": 152,
      "metadata": {
        "colab": {
          "base_uri": "https://localhost:8080/",
          "height": 415
        },
        "id": "Mfu_By2RcQpM",
        "outputId": "e2a353d0-2b5a-41ea-ca07-36b78b3c595c"
      },
      "outputs": [
        {
          "name": "stdout",
          "output_type": "stream",
          "text": [
            "498\n",
            "498\n"
          ]
        },
        {
          "ename": "ValueError",
          "evalue": "ignored",
          "output_type": "error",
          "traceback": [
            "\u001b[0;31m---------------------------------------------------------------------------\u001b[0m",
            "\u001b[0;31mValueError\u001b[0m                                Traceback (most recent call last)",
            "\u001b[0;32m<ipython-input-152-8d715785d472>\u001b[0m in \u001b[0;36m<cell line: 36>\u001b[0;34m()\u001b[0m\n\u001b[1;32m     34\u001b[0m \u001b[0;31m# Calculer l'AUC-ROC\u001b[0m\u001b[0;34m\u001b[0m\u001b[0;34m\u001b[0m\u001b[0m\n\u001b[1;32m     35\u001b[0m \u001b[0;34m\u001b[0m\u001b[0m\n\u001b[0;32m---> 36\u001b[0;31m \u001b[0mauc_roc\u001b[0m \u001b[0;34m=\u001b[0m \u001b[0mroc_auc_score\u001b[0m\u001b[0;34m(\u001b[0m\u001b[0my_true\u001b[0m\u001b[0;34m,\u001b[0m \u001b[0my_pred\u001b[0m\u001b[0;34m)\u001b[0m\u001b[0;34m\u001b[0m\u001b[0;34m\u001b[0m\u001b[0m\n\u001b[0m\u001b[1;32m     37\u001b[0m \u001b[0mprint\u001b[0m\u001b[0;34m(\u001b[0m\u001b[0;34m\"AUC-ROC : {:.4f}\"\u001b[0m\u001b[0;34m.\u001b[0m\u001b[0mformat\u001b[0m\u001b[0;34m(\u001b[0m\u001b[0mauc_roc\u001b[0m\u001b[0;34m)\u001b[0m\u001b[0;34m)\u001b[0m\u001b[0;34m\u001b[0m\u001b[0;34m\u001b[0m\u001b[0m\n\u001b[1;32m     38\u001b[0m \u001b[0;34m\u001b[0m\u001b[0m\n",
            "\u001b[0;32m/usr/local/lib/python3.10/dist-packages/sklearn/metrics/_ranking.py\u001b[0m in \u001b[0;36mroc_auc_score\u001b[0;34m(y_true, y_score, average, sample_weight, max_fpr, multi_class, labels)\u001b[0m\n\u001b[1;32m    570\u001b[0m         \u001b[0mlabels\u001b[0m \u001b[0;34m=\u001b[0m \u001b[0mnp\u001b[0m\u001b[0;34m.\u001b[0m\u001b[0munique\u001b[0m\u001b[0;34m(\u001b[0m\u001b[0my_true\u001b[0m\u001b[0;34m)\u001b[0m\u001b[0;34m\u001b[0m\u001b[0;34m\u001b[0m\u001b[0m\n\u001b[1;32m    571\u001b[0m         \u001b[0my_true\u001b[0m \u001b[0;34m=\u001b[0m \u001b[0mlabel_binarize\u001b[0m\u001b[0;34m(\u001b[0m\u001b[0my_true\u001b[0m\u001b[0;34m,\u001b[0m \u001b[0mclasses\u001b[0m\u001b[0;34m=\u001b[0m\u001b[0mlabels\u001b[0m\u001b[0;34m)\u001b[0m\u001b[0;34m[\u001b[0m\u001b[0;34m:\u001b[0m\u001b[0;34m,\u001b[0m \u001b[0;36m0\u001b[0m\u001b[0;34m]\u001b[0m\u001b[0;34m\u001b[0m\u001b[0;34m\u001b[0m\u001b[0m\n\u001b[0;32m--> 572\u001b[0;31m         return _average_binary_score(\n\u001b[0m\u001b[1;32m    573\u001b[0m             \u001b[0mpartial\u001b[0m\u001b[0;34m(\u001b[0m\u001b[0m_binary_roc_auc_score\u001b[0m\u001b[0;34m,\u001b[0m \u001b[0mmax_fpr\u001b[0m\u001b[0;34m=\u001b[0m\u001b[0mmax_fpr\u001b[0m\u001b[0;34m)\u001b[0m\u001b[0;34m,\u001b[0m\u001b[0;34m\u001b[0m\u001b[0;34m\u001b[0m\u001b[0m\n\u001b[1;32m    574\u001b[0m             \u001b[0my_true\u001b[0m\u001b[0;34m,\u001b[0m\u001b[0;34m\u001b[0m\u001b[0;34m\u001b[0m\u001b[0m\n",
            "\u001b[0;32m/usr/local/lib/python3.10/dist-packages/sklearn/metrics/_base.py\u001b[0m in \u001b[0;36m_average_binary_score\u001b[0;34m(binary_metric, y_true, y_score, average, sample_weight)\u001b[0m\n\u001b[1;32m     73\u001b[0m \u001b[0;34m\u001b[0m\u001b[0m\n\u001b[1;32m     74\u001b[0m     \u001b[0;32mif\u001b[0m \u001b[0my_type\u001b[0m \u001b[0;34m==\u001b[0m \u001b[0;34m\"binary\"\u001b[0m\u001b[0;34m:\u001b[0m\u001b[0;34m\u001b[0m\u001b[0;34m\u001b[0m\u001b[0m\n\u001b[0;32m---> 75\u001b[0;31m         \u001b[0;32mreturn\u001b[0m \u001b[0mbinary_metric\u001b[0m\u001b[0;34m(\u001b[0m\u001b[0my_true\u001b[0m\u001b[0;34m,\u001b[0m \u001b[0my_score\u001b[0m\u001b[0;34m,\u001b[0m \u001b[0msample_weight\u001b[0m\u001b[0;34m=\u001b[0m\u001b[0msample_weight\u001b[0m\u001b[0;34m)\u001b[0m\u001b[0;34m\u001b[0m\u001b[0;34m\u001b[0m\u001b[0m\n\u001b[0m\u001b[1;32m     76\u001b[0m \u001b[0;34m\u001b[0m\u001b[0m\n\u001b[1;32m     77\u001b[0m     \u001b[0mcheck_consistent_length\u001b[0m\u001b[0;34m(\u001b[0m\u001b[0my_true\u001b[0m\u001b[0;34m,\u001b[0m \u001b[0my_score\u001b[0m\u001b[0;34m,\u001b[0m \u001b[0msample_weight\u001b[0m\u001b[0;34m)\u001b[0m\u001b[0;34m\u001b[0m\u001b[0;34m\u001b[0m\u001b[0m\n",
            "\u001b[0;32m/usr/local/lib/python3.10/dist-packages/sklearn/metrics/_ranking.py\u001b[0m in \u001b[0;36m_binary_roc_auc_score\u001b[0;34m(y_true, y_score, sample_weight, max_fpr)\u001b[0m\n\u001b[1;32m    342\u001b[0m         )\n\u001b[1;32m    343\u001b[0m \u001b[0;34m\u001b[0m\u001b[0m\n\u001b[0;32m--> 344\u001b[0;31m     \u001b[0mfpr\u001b[0m\u001b[0;34m,\u001b[0m \u001b[0mtpr\u001b[0m\u001b[0;34m,\u001b[0m \u001b[0m_\u001b[0m \u001b[0;34m=\u001b[0m \u001b[0mroc_curve\u001b[0m\u001b[0;34m(\u001b[0m\u001b[0my_true\u001b[0m\u001b[0;34m,\u001b[0m \u001b[0my_score\u001b[0m\u001b[0;34m,\u001b[0m \u001b[0msample_weight\u001b[0m\u001b[0;34m=\u001b[0m\u001b[0msample_weight\u001b[0m\u001b[0;34m)\u001b[0m\u001b[0;34m\u001b[0m\u001b[0;34m\u001b[0m\u001b[0m\n\u001b[0m\u001b[1;32m    345\u001b[0m     \u001b[0;32mif\u001b[0m \u001b[0mmax_fpr\u001b[0m \u001b[0;32mis\u001b[0m \u001b[0;32mNone\u001b[0m \u001b[0;32mor\u001b[0m \u001b[0mmax_fpr\u001b[0m \u001b[0;34m==\u001b[0m \u001b[0;36m1\u001b[0m\u001b[0;34m:\u001b[0m\u001b[0;34m\u001b[0m\u001b[0;34m\u001b[0m\u001b[0m\n\u001b[1;32m    346\u001b[0m         \u001b[0;32mreturn\u001b[0m \u001b[0mauc\u001b[0m\u001b[0;34m(\u001b[0m\u001b[0mfpr\u001b[0m\u001b[0;34m,\u001b[0m \u001b[0mtpr\u001b[0m\u001b[0;34m)\u001b[0m\u001b[0;34m\u001b[0m\u001b[0;34m\u001b[0m\u001b[0m\n",
            "\u001b[0;32m/usr/local/lib/python3.10/dist-packages/sklearn/metrics/_ranking.py\u001b[0m in \u001b[0;36mroc_curve\u001b[0;34m(y_true, y_score, pos_label, sample_weight, drop_intermediate)\u001b[0m\n\u001b[1;32m    990\u001b[0m     \u001b[0marray\u001b[0m\u001b[0;34m(\u001b[0m\u001b[0;34m[\u001b[0m\u001b[0;36m1.8\u001b[0m \u001b[0;34m,\u001b[0m \u001b[0;36m0.8\u001b[0m \u001b[0;34m,\u001b[0m \u001b[0;36m0.4\u001b[0m \u001b[0;34m,\u001b[0m \u001b[0;36m0.35\u001b[0m\u001b[0;34m,\u001b[0m \u001b[0;36m0.1\u001b[0m \u001b[0;34m]\u001b[0m\u001b[0;34m)\u001b[0m\u001b[0;34m\u001b[0m\u001b[0;34m\u001b[0m\u001b[0m\n\u001b[1;32m    991\u001b[0m     \"\"\"\n\u001b[0;32m--> 992\u001b[0;31m     fps, tps, thresholds = _binary_clf_curve(\n\u001b[0m\u001b[1;32m    993\u001b[0m         \u001b[0my_true\u001b[0m\u001b[0;34m,\u001b[0m \u001b[0my_score\u001b[0m\u001b[0;34m,\u001b[0m \u001b[0mpos_label\u001b[0m\u001b[0;34m=\u001b[0m\u001b[0mpos_label\u001b[0m\u001b[0;34m,\u001b[0m \u001b[0msample_weight\u001b[0m\u001b[0;34m=\u001b[0m\u001b[0msample_weight\u001b[0m\u001b[0;34m\u001b[0m\u001b[0;34m\u001b[0m\u001b[0m\n\u001b[1;32m    994\u001b[0m     )\n",
            "\u001b[0;32m/usr/local/lib/python3.10/dist-packages/sklearn/metrics/_ranking.py\u001b[0m in \u001b[0;36m_binary_clf_curve\u001b[0;34m(y_true, y_score, pos_label, sample_weight)\u001b[0m\n\u001b[1;32m    751\u001b[0m     \u001b[0mcheck_consistent_length\u001b[0m\u001b[0;34m(\u001b[0m\u001b[0my_true\u001b[0m\u001b[0;34m,\u001b[0m \u001b[0my_score\u001b[0m\u001b[0;34m,\u001b[0m \u001b[0msample_weight\u001b[0m\u001b[0;34m)\u001b[0m\u001b[0;34m\u001b[0m\u001b[0;34m\u001b[0m\u001b[0m\n\u001b[1;32m    752\u001b[0m     \u001b[0my_true\u001b[0m \u001b[0;34m=\u001b[0m \u001b[0mcolumn_or_1d\u001b[0m\u001b[0;34m(\u001b[0m\u001b[0my_true\u001b[0m\u001b[0;34m)\u001b[0m\u001b[0;34m\u001b[0m\u001b[0;34m\u001b[0m\u001b[0m\n\u001b[0;32m--> 753\u001b[0;31m     \u001b[0my_score\u001b[0m \u001b[0;34m=\u001b[0m \u001b[0mcolumn_or_1d\u001b[0m\u001b[0;34m(\u001b[0m\u001b[0my_score\u001b[0m\u001b[0;34m)\u001b[0m\u001b[0;34m\u001b[0m\u001b[0;34m\u001b[0m\u001b[0m\n\u001b[0m\u001b[1;32m    754\u001b[0m     \u001b[0massert_all_finite\u001b[0m\u001b[0;34m(\u001b[0m\u001b[0my_true\u001b[0m\u001b[0;34m)\u001b[0m\u001b[0;34m\u001b[0m\u001b[0;34m\u001b[0m\u001b[0m\n\u001b[1;32m    755\u001b[0m     \u001b[0massert_all_finite\u001b[0m\u001b[0;34m(\u001b[0m\u001b[0my_score\u001b[0m\u001b[0;34m)\u001b[0m\u001b[0;34m\u001b[0m\u001b[0;34m\u001b[0m\u001b[0m\n",
            "\u001b[0;32m/usr/local/lib/python3.10/dist-packages/sklearn/utils/validation.py\u001b[0m in \u001b[0;36mcolumn_or_1d\u001b[0;34m(y, dtype, warn)\u001b[0m\n\u001b[1;32m   1200\u001b[0m         \u001b[0;32mreturn\u001b[0m \u001b[0m_asarray_with_order\u001b[0m\u001b[0;34m(\u001b[0m\u001b[0mxp\u001b[0m\u001b[0;34m.\u001b[0m\u001b[0mreshape\u001b[0m\u001b[0;34m(\u001b[0m\u001b[0my\u001b[0m\u001b[0;34m,\u001b[0m \u001b[0;34m-\u001b[0m\u001b[0;36m1\u001b[0m\u001b[0;34m)\u001b[0m\u001b[0;34m,\u001b[0m \u001b[0morder\u001b[0m\u001b[0;34m=\u001b[0m\u001b[0;34m\"C\"\u001b[0m\u001b[0;34m,\u001b[0m \u001b[0mxp\u001b[0m\u001b[0;34m=\u001b[0m\u001b[0mxp\u001b[0m\u001b[0;34m)\u001b[0m\u001b[0;34m\u001b[0m\u001b[0;34m\u001b[0m\u001b[0m\n\u001b[1;32m   1201\u001b[0m \u001b[0;34m\u001b[0m\u001b[0m\n\u001b[0;32m-> 1202\u001b[0;31m     raise ValueError(\n\u001b[0m\u001b[1;32m   1203\u001b[0m         \u001b[0;34m\"y should be a 1d array, got an array of shape {} instead.\"\u001b[0m\u001b[0;34m.\u001b[0m\u001b[0mformat\u001b[0m\u001b[0;34m(\u001b[0m\u001b[0mshape\u001b[0m\u001b[0;34m)\u001b[0m\u001b[0;34m\u001b[0m\u001b[0;34m\u001b[0m\u001b[0m\n\u001b[1;32m   1204\u001b[0m     )\n",
            "\u001b[0;31mValueError\u001b[0m: y should be a 1d array, got an array of shape (498, 2) instead."
          ]
        }
      ],
      "source": [
        "import numpy as np\n",
        "import torch\n",
        "import matplotlib.pyplot as plt\n",
        "from sklearn.metrics import roc_curve, auc, roc_auc_score\n",
        "\n",
        "\n",
        "test_loader = DataLoader(test_dataset, batch_size=32, shuffle=False, drop_last=False)\n",
        "\n",
        "model.eval()\n",
        "with torch.no_grad():\n",
        "    y_pred = []\n",
        "    y_true = []\n",
        "   \n",
        "    for batch in test_loader:\n",
        "          text, label, embedded = batch\n",
        "          text_encoded = tokenizer(text, return_tensors='pt', padding=True, truncation=True)\n",
        "          text_encoded = {k: v.to(device) for k, v in text_encoded.items()}\n",
        "          label = label.float().unsqueeze(1).to(device)\n",
        "          inputs_ids=text_encoded['input_ids'].to(device)\n",
        "          visual_embeds = embedded.to(device)\n",
        "          attention_mask = text_encoded['attention_mask'].to(device)\n",
        "          outputs, attentions = model(input_ids=inputs_ids, attention_mask=attention_mask, visual_embeds=visual_embeds)\n",
        "          outputs_cpu=outputs[0:].cpu()\n",
        "          label_cpu=label[0:].cpu()\n",
        "          #print(outputs[0:])\n",
        "          y_pred.extend(outputs_cpu.numpy())\n",
        "          y_true.extend(label_cpu.numpy())\n",
        "          pred_labels = torch.round(outputs[0]) # round the probabilities to obtain predicted labels\n",
        "          correct_preds = (pred_labels == label).sum().item() # count the number of correct predictions\n",
        "\n",
        "\n",
        "print(len(y_pred))\n",
        "print(len(y_true))\n",
        "# Calculer l'AUC-ROC\n",
        "\n",
        "auc_roc = roc_auc_score(y_true, y_pred)\n",
        "print(\"AUC-ROC : {:.4f}\".format(auc_roc))\n",
        "\n",
        "# Calculer la courbe ROC\n",
        "fpr, tpr, _ = roc_curve(y_true, y_pred)\n",
        "roc_auc = auc(fpr, tpr)\n",
        "\n",
        "# Tracer la courbe ROC\n",
        "plt.figure(figsize=(4,4))\n",
        "plt.plot(fpr, tpr, color='darkorange', lw=2, label='ROC curve (area = %0.4f)' % roc_auc)\n",
        "plt.plot([0, 1], [0, 1], color='navy', lw=2, linestyle='--')\n",
        "plt.xlim([0.0, 1.0])\n",
        "plt.ylim([0.0, 1.05])\n",
        "plt.xlabel('False Positive Rate')\n",
        "plt.ylabel('True Positive Rate')\n",
        "plt.title('Receiver operating characteristic curve')\n",
        "plt.legend(loc=\"lower right\")\n",
        "plt.show()"
      ]
    },
    {
      "cell_type": "code",
      "execution_count": null,
      "metadata": {
        "id": "Rb_93mOchybd"
      },
      "outputs": [],
      "source": [
        "  model.to(device)\n",
        "  with torch.no_grad():\n",
        "  \n",
        "    for batch in test_loader:\n",
        "    \n",
        "              text, label, embedded = batch\n",
        "              text_encoded = tokenizer(text, return_tensors='pt', padding=True, truncation=True)\n",
        "              text_encoded = {k: v.to(device) for k, v in text_encoded.items()}\n",
        "              label = label.float().unsqueeze(1).to(device)\n",
        "              inputs_ids=text_encoded['input_ids'].to(device)\n",
        "              visual_embeds = embedded.to(device)\n",
        "              attention_mask = text_encoded['attention_mask'].to(device)\n",
        "              outputs, attentions = model(input_ids=inputs_ids, attention_mask=attention_mask, visual_embeds=visual_embeds)\n",
        "     \n",
        "\n",
        "              # Extraire les scores d'attention par couche\n",
        "              #attentions = outputs.attentions\n",
        "              for layer, attention in enumerate(attentions):\n",
        "                print(f\"Layer {layer+1} attention shape: {attention.shape}\")\n",
        "              # Extraire les scores d'attention par tête et par couche\n",
        "              #multi_head_attention = outputs.multi_head_attention_outputs\n",
        "              #for layer, attention_layer in enumerate(multi_head_attention):\n",
        "                 #print(f\"Layer {layer+1} attention shape: {[attention.shape for attention in attention_layer]}\")\n",
        "              \n",
        "\n"
      ]
    },
    {
      "cell_type": "code",
      "execution_count": null,
      "metadata": {
        "id": "wGNk2pUulf0e"
      },
      "outputs": [],
      "source": [
        "import matplotlib.pyplot as plt\n",
        "import numpy as np\n",
        "import cv2\n",
        "\n",
        "\n",
        "test_loader = DataLoader(test_dataset, batch_size=1, shuffle=False, drop_last=False)\n",
        "for batch in test_loader  : \n",
        "\n",
        "  # Load the image\n",
        "\n",
        "\n",
        "    text, label, embedded = batch\n",
        "    text_encoded = tokenizer(text, return_tensors='pt', padding=True, truncation=True)\n",
        "    text_encoded = {k: v.to(device) for k, v in text_encoded.items()}\n",
        "    label = label.float().unsqueeze(1).to(device)\n",
        "    inputs_ids=text_encoded['input_ids'].to(device)\n",
        "    visual_embeds = embedded.to(device)\n",
        "    attention_mask = text_encoded['attention_mask'].to(device)\n",
        "    outputs, attentions = model(input_ids=inputs_ids, attention_mask=attention_mask, visual_embeds=visual_embeds)\n",
        "    break\n",
        "  #Resize the image to match the input size of the model\n",
        "  #img = cv2.resize(img, (224, 224))\n",
        "  #img = cv2.cvtColor(img, cv2.COLOR_BGR2RGB)\n",
        "\n",
        "img_path = df_test['img'][1]\n",
        "path='/content/drive/MyDrive/data/'+img_path\n",
        "#img = cv2.imread('/content/drive/MyDrive/data/'+img_path)\n",
        "img= cv2.imread('/content/drive/MyDrive/data/img/01235.png')\n",
        "# Get the attention scores for the image\n",
        "attention_scores = attentions[0][0][0].detach().cpu().numpy()\n",
        "\n",
        "attention_scores = cv2.resize(attention_scores, (img.shape[1], img.shape[0]))\n",
        "attention_scores = (attention_scores - attention_scores.min()) / (attention_scores.max() - attention_scores.min())\n",
        "heatmap = cv2.applyColorMap(np.uint8(255*attention_scores), cv2.COLORMAP_JET)\n",
        "\n",
        "result = cv2.addWeighted(img, 0.6, heatmap, 0.4, 0)\n",
        "\n",
        "plt.imshow(result)\n",
        "plt.axis('off')\n",
        "plt.show()\n"
      ]
    },
    {
      "cell_type": "code",
      "execution_count": null,
      "metadata": {
        "id": "7YhaiukCozwz"
      },
      "outputs": [],
      "source": [
        "  valid_loader = DataLoader(valid_dataset, batch_size=batch_size, shuffle=True, drop_last=True)\n",
        "    best_valid_loss = float('inf')  \n",
        "  \n",
        "  valid_loss = 0.0\n",
        "        valid_accuracy = 0.0\n",
        "\n",
        "\n",
        "        for batch in valid_loader:\n",
        "            pred_labels=[0]*batch_size\n",
        "            pred_prob=[0]*batch_size\n",
        "            text, label, embedded = batch\n",
        "            text_encoded = tokenizer(text, return_tensors='pt', padding=True, truncation=True)\n",
        "            text_encoded = {k: v.to(device) for k, v in text_encoded.items()}\n",
        "            label = label.float().unsqueeze(1).to(device)\n",
        "            inputs_ids = text_encoded['input_ids'].to(device)\n",
        "            visual_embeds = embedded.to(device)\n",
        "            attention_mask = text_encoded['attention_mask'].to(device)\n",
        "            outputs, attentions = model(input_ids=inputs_ids, attention_mask=attention_mask, visual_embeds=visual_embeds)\n",
        "            for j in range(len(outputs[:])) :\n",
        "              if outputs[j][0].item()>outputs[j][1].item() :\n",
        "                pred_labels[j] = 0\n",
        "                pred_prob[j] = outputs[j][0].item()\n",
        "              else : \n",
        "                pred_labels[j]=1\n",
        "                pred_prob[j] = outputs[j][1].item()\n",
        "      \n",
        "            loss = criterion(torch.tensor(pred_prob,  requires_grad=True).unsqueeze(1).to(device), label)\n",
        "          \n",
        "            correct_preds = 0\n",
        "            TP=FP=TN=FN=0\n",
        "            for i in range(len(pred_labels)) :\n",
        "              if pred_labels[i]==label[i] :\n",
        "                correct_preds += 1\n",
        "\n",
        "            for i in range(len(pred_labels)) :\n",
        "                if pred_labels[i]== 1 and label[i]==1 : TP+=1\n",
        "                elif pred_labels[i]== 1 and label[i]==0 : FP+=1\n",
        "                elif pred_labels[i]== 0 and label[i]==0 : TN+=1\n",
        "                elif pred_labels[i]== 0 and label[i]==1 : FN+=1\n",
        "\n",
        "    \n",
        "            valid_loss += loss.item()\n",
        "            valid_accuracy += accuracy\n",
        "          \n",
        "        valid_loss /= len(valid_loader)\n",
        "        valid_accuracy /= len(valid_loader)\n",
        "\n",
        "\n",
        "           if valid_loss < best_valid_loss:\n",
        "            best_valid_loss = valid_loss\n",
        "            patience_count = 0\n",
        "        else:\n",
        "            patience_count += 1\n",
        "            if patience_count >= patience:\n",
        "                print(\"Validation loss did not improve for %d epochs. Training stopped early.\" % patience)\n",
        "                break\n",
        "\n",
        "\n"
      ]
    }
  ],
  "metadata": {
    "accelerator": "GPU",
    "colab": {
      "provenance": []
    },
    "gpuClass": "standard",
    "kernelspec": {
      "display_name": "Python 3",
      "language": "python",
      "name": "python3"
    },
    "language_info": {
      "codemirror_mode": {
        "name": "ipython",
        "version": 3
      },
      "file_extension": ".py",
      "mimetype": "text/x-python",
      "name": "python",
      "nbconvert_exporter": "python",
      "pygments_lexer": "ipython3",
      "version": "3.10.0"
    },
    "vscode": {
      "interpreter": {
        "hash": "ee4c60ed9f2d143d855c3de7cdf8e81ef9399a07140d5084c19be7d5d534dff2"
      }
    }
  },
  "nbformat": 4,
  "nbformat_minor": 0
}
