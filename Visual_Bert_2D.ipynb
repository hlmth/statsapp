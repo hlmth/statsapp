{
  "cells": [
    {
      "cell_type": "code",
      "execution_count": 1,
      "metadata": {
        "colab": {
          "base_uri": "https://localhost:8080/"
        },
        "id": "P0pCxo9EjB7b",
        "outputId": "71f8d8ea-96c2-4566-8a16-092ab3a85156"
      },
      "outputs": [
        {
          "name": "stdout",
          "output_type": "stream",
          "text": [
            "Looking in indexes: https://pypi.org/simple, https://us-python.pkg.dev/colab-wheels/public/simple/\n",
            "Requirement already satisfied: transformers in /usr/local/lib/python3.10/dist-packages (4.28.1)\n",
            "Requirement already satisfied: huggingface-hub<1.0,>=0.11.0 in /usr/local/lib/python3.10/dist-packages (from transformers) (0.14.1)\n",
            "Requirement already satisfied: tqdm>=4.27 in /usr/local/lib/python3.10/dist-packages (from transformers) (4.65.0)\n",
            "Requirement already satisfied: regex!=2019.12.17 in /usr/local/lib/python3.10/dist-packages (from transformers) (2022.10.31)\n",
            "Requirement already satisfied: pyyaml>=5.1 in /usr/local/lib/python3.10/dist-packages (from transformers) (6.0)\n",
            "Requirement already satisfied: requests in /usr/local/lib/python3.10/dist-packages (from transformers) (2.27.1)\n",
            "Requirement already satisfied: tokenizers!=0.11.3,<0.14,>=0.11.1 in /usr/local/lib/python3.10/dist-packages (from transformers) (0.13.3)\n",
            "Requirement already satisfied: packaging>=20.0 in /usr/local/lib/python3.10/dist-packages (from transformers) (23.1)\n",
            "Requirement already satisfied: numpy>=1.17 in /usr/local/lib/python3.10/dist-packages (from transformers) (1.22.4)\n",
            "Requirement already satisfied: filelock in /usr/local/lib/python3.10/dist-packages (from transformers) (3.12.0)\n",
            "Requirement already satisfied: typing-extensions>=3.7.4.3 in /usr/local/lib/python3.10/dist-packages (from huggingface-hub<1.0,>=0.11.0->transformers) (4.5.0)\n",
            "Requirement already satisfied: fsspec in /usr/local/lib/python3.10/dist-packages (from huggingface-hub<1.0,>=0.11.0->transformers) (2023.4.0)\n",
            "Requirement already satisfied: idna<4,>=2.5 in /usr/local/lib/python3.10/dist-packages (from requests->transformers) (3.4)\n",
            "Requirement already satisfied: urllib3<1.27,>=1.21.1 in /usr/local/lib/python3.10/dist-packages (from requests->transformers) (1.26.15)\n",
            "Requirement already satisfied: certifi>=2017.4.17 in /usr/local/lib/python3.10/dist-packages (from requests->transformers) (2022.12.7)\n",
            "Requirement already satisfied: charset-normalizer~=2.0.0 in /usr/local/lib/python3.10/dist-packages (from requests->transformers) (2.0.12)\n"
          ]
        }
      ],
      "source": [
        "pip install transformers"
      ]
    },
    {
      "cell_type": "code",
      "execution_count": 2,
      "metadata": {
        "id": "qJ6G6wLjJ-tM"
      },
      "outputs": [],
      "source": [
        "def set_parameter_requires_grad(model, feature_extracting):\n",
        "    if feature_extracting:\n",
        "        for param in model.parameters():\n",
        "            param.requires_grad = False\n",
        "    else : \n",
        "        for param in model.parameters():\n",
        "            param.requires_grad = True"
      ]
    },
    {
      "cell_type": "code",
      "execution_count": 3,
      "metadata": {
        "id": "Zw520vWukDFq"
      },
      "outputs": [],
      "source": [
        "import torch\n",
        "import torch.nn as nn\n",
        "import torch.optim as optim\n",
        "from torch.utils.data import DataLoader, Dataset\n",
        "from transformers import VisualBertForPreTraining, BertTokenizer, VisualBertModel, VisualBertForVisualReasoning\n",
        "from transformers import VisualBertConfig\n",
        "\n",
        "import numpy as np\n",
        "import pickle\n",
        "import pandas as pd\n"
      ]
    },
    {
      "cell_type": "code",
      "execution_count": 4,
      "metadata": {
        "id": "o_eGA-pE-ghv"
      },
      "outputs": [],
      "source": [
        "import os\n",
        "os.environ['CUDA_LAUNCH_BLOCKING'] = '1'\n"
      ]
    },
    {
      "cell_type": "markdown",
      "metadata": {
        "id": "m8iZmOtrtaGw"
      },
      "source": [
        "Définition des classes dont on a besoin"
      ]
    },
    {
      "cell_type": "code",
      "execution_count": 5,
      "metadata": {
        "id": "FOp6T7jckDFr"
      },
      "outputs": [],
      "source": [
        "class Model(nn.Module):\n",
        "    def __init__(self, config):\n",
        "        super().__init__()\n",
        "        self.config = config\n",
        "        self.visual_bert = VisualBertModel(config)\n",
        "        self.dropout = nn.Dropout(config.hidden_dropout_prob)\n",
        "        self.linear = nn.Linear(config.hidden_size, 2)\n",
        "        self.attentions = None  # Add an `attentions` attribute to the class\n",
        "        self.pooler_output  = None\n",
        "        self.last_hidden_state = None\n",
        "        set_parameter_requires_grad(self.visual_bert, True) #on entraine que la dernière couche linéaire\n",
        "\n",
        "        #for param in self.visual_bert.parameters():\n",
        "         #   param.requires_grad = False\n",
        "        #for param in self.dropout.parameters():\n",
        "         #   param.requires_grad = False\n",
        "        \n",
        "    def forward(\n",
        "        self,\n",
        "        input_ids=None,\n",
        "        attention_mask=None,\n",
        "        token_type_ids=None,\n",
        "        visual_embeds=None,\n",
        "        visual_attention_mask=None,\n",
        "        visual_token_type_ids=None,\n",
        "    ):\n",
        "        outputs  = self.visual_bert(\n",
        "            input_ids=input_ids,\n",
        "            attention_mask=attention_mask,\n",
        "            token_type_ids=token_type_ids,\n",
        "            visual_embeds=visual_embeds,\n",
        "            visual_attention_mask=visual_attention_mask,\n",
        "            visual_token_type_ids=visual_token_type_ids,\n",
        "            output_attentions=True\n",
        "        )\n",
        "        otp=outputs.pooler_output \n",
        "        pooled_output = self.dropout(otp)\n",
        "        linear_output = self.linear(pooled_output)\n",
        "        output=torch.sigmoid(linear_output)\n",
        "        attentions = outputs.attentions # extract attention scores from the model outputs\n",
        "        \n",
        "\n",
        "        return output, attentions\n"
      ]
    },
    {
      "cell_type": "code",
      "execution_count": 6,
      "metadata": {
        "id": "gTnWeyMYkDFs"
      },
      "outputs": [],
      "source": [
        "# Define the training dataset\n",
        "class MyDataset(Dataset):\n",
        "    def __init__(self, data):\n",
        "        self.data = data\n",
        "        self.indices = list(range(len(data)))  # set indices attribute\n",
        "        print(self.data.keys())  \n",
        "        print(f\"Number of indices: {len(self.indices)}\")\n",
        "\n",
        "\n",
        "    def __getitem__(self, index):\n",
        "        index = self.indices[index]  # get the actual index from self.indices\n",
        "        text = self.data['text'][index]\n",
        "        label = self.data['label'][index]\n",
        "        embedded = self.data['embedded'][index]\n",
        "        \n",
        "        return text, label, embedded\n",
        "\n",
        "    def __len__(self):\n",
        "        return len(self.data)\n",
        "\n"
      ]
    },
    {
      "cell_type": "markdown",
      "metadata": {
        "id": "D-MNUFTltg_x"
      },
      "source": [
        "Chargement du modèle pré entrainé et customisation du modèle"
      ]
    },
    {
      "cell_type": "code",
      "execution_count": 7,
      "metadata": {
        "id": "nzceoJ_okDFt"
      },
      "outputs": [],
      "source": [
        "# Define the pre-trained Visual-Bert model\n",
        "config = VisualBertConfig.from_pretrained('uclanlp/visualbert-nlvr2-coco-pre')\n",
        "model = Model(config)\n",
        "tokenizer = BertTokenizer.from_pretrained('bert-base-uncased')\n"
      ]
    },
    {
      "cell_type": "code",
      "execution_count": 8,
      "metadata": {
        "id": "gisg0ePpsbUY"
      },
      "outputs": [],
      "source": [
        "for layer in model.children():\n",
        "    if hasattr(layer, 'reset_parameters'):\n",
        "        layer.reset_parameters()"
      ]
    },
    {
      "cell_type": "code",
      "execution_count": 9,
      "metadata": {
        "id": "WjOChudAkDFu"
      },
      "outputs": [],
      "source": [
        "device = torch.device('cuda' if torch.cuda.is_available() else 'cpu')\n"
      ]
    },
    {
      "cell_type": "code",
      "execution_count": 10,
      "metadata": {
        "colab": {
          "base_uri": "https://localhost:8080/"
        },
        "id": "I6z0ZN9tSjTv",
        "outputId": "efd0efee-b3ff-475c-ddd4-280ee78acc09"
      },
      "outputs": [
        {
          "name": "stdout",
          "output_type": "stream",
          "text": [
            "Params to learn:\n",
            "\t linear.weight\n",
            "\t linear.bias\n"
          ]
        }
      ],
      "source": [
        "model = model.to(device)\n",
        "\n",
        "\n",
        "print(\"Params to learn:\")\n",
        "params_to_update = []\n",
        "for name,param in model.named_parameters():\n",
        "    if param.requires_grad == True:\n",
        "        params_to_update.append(param)\n",
        "        print(\"\\t\",name)\n",
        "\n",
        "\n",
        "# Observe that all parameters are being optimized"
      ]
    },
    {
      "cell_type": "markdown",
      "metadata": {
        "id": "-cOyIBXStlzi"
      },
      "source": [
        "Définition des fonctions d'entrainement et de test"
      ]
    },
    {
      "cell_type": "code",
      "execution_count": 11,
      "metadata": {
        "id": "-3sDnaUxkDFu"
      },
      "outputs": [],
      "source": [
        "# Define the training loop\n",
        "def train(model, tokenizer, train_dataset, valid_dataset, optimizer, criterion, device, batch_size, epochs, patience):\n",
        "    model.train()\n",
        "    model.to(device)\n",
        "    train_loader = DataLoader(train_dataset, batch_size=batch_size, shuffle=True, drop_last=True)\n",
        "    valid_loader = DataLoader(valid_dataset, batch_size=batch_size, shuffle=True, drop_last=True)\n",
        "    best_valid_loss = float('inf')\n",
        "    patience_count = 0\n",
        "    for epoch in range(epochs):\n",
        "        running_loss = 0.0\n",
        "        running_accuracy = 0.0\n",
        "        running_TP = 0.0\n",
        "        running_FP = 0.0\n",
        "        running_TN = 0.0\n",
        "        running_FN = 0.0\n",
        "        for batch in train_loader:\n",
        "            pred_labels=[0]*batch_size\n",
        "            pred_prob=[0]*batch_size\n",
        "            text, label, embedded = batch\n",
        "            optimizer.zero_grad()\n",
        "            text_encoded = tokenizer(text, return_tensors='pt', padding=True, truncation=True)\n",
        "            text_encoded = {k: v.to(device) for k, v in text_encoded.items()}\n",
        "            label = label.float().unsqueeze(1).to(device)\n",
        "            inputs_ids=text_encoded['input_ids'].to(device)\n",
        "            visual_embeds = embedded.to(device)\n",
        "            attention_mask = text_encoded['attention_mask'].to(device)\n",
        "            outputs, attentions = model(input_ids=inputs_ids, attention_mask=attention_mask, visual_embeds=visual_embeds)\n",
        "            for j in range(len(outputs[:])) :\n",
        "              if outputs[j][0].item()>outputs[j][1].item() :\n",
        "                pred_labels[j] = 0\n",
        "                pred_prob[j] = outputs[j][0].item()\n",
        "              else : \n",
        "                pred_labels[j]=1\n",
        "                pred_prob[j] = outputs[j][1].item()\n",
        "            loss = criterion(torch.tensor(pred_prob,  requires_grad=True).unsqueeze(1).to(device), label)\n",
        "            #loss.backward()\n",
        "            optimizer.step()\n",
        "            \n",
        "            correct_preds = 0\n",
        "            TP=FP=TN=FN=0\n",
        "\n",
        "            for i in range(len(pred_labels)) :\n",
        "              if pred_labels[i]==label[i] :\n",
        "                correct_preds += 1\n",
        "\n",
        "            accuracy = correct_preds / batch_size # calculate accuracy\n",
        "            running_loss += loss.item()\n",
        "            running_accuracy += accuracy\n",
        "\n",
        "            for i in range(len(pred_labels)) :\n",
        "                if pred_labels[i]== 1 and label[i]==1 : TP+=1\n",
        "                elif pred_labels[i]== 1 and label[i]==0 : FP+=1\n",
        "                elif pred_labels[i]== 0 and label[i]==0 : TN+=1\n",
        "                elif pred_labels[i]== 0 and label[i]==1 : FN+=1\n",
        "\n",
        "\n",
        "                \n",
        "            # Calculate TP, FP, TN, FN\n",
        "          #  TP = ((pred_labels == 1) & (label == 1)).sum().item()\n",
        "           # FP = ((pred_labels == 1) & (label == 0)).sum().item()\n",
        "            #TN = ((pred_labels == 0) & (label == 0)).sum().item()\n",
        "            #FN = ((pred_labels == 0) & (label == 1)).sum().item()\n",
        "            running_TP += TP\n",
        "            running_FP += FP\n",
        "            running_TN += TN\n",
        "            running_FN += FN\n",
        "       \n",
        "          \n",
        "        epoch_loss = running_loss / len(train_loader)\n",
        "        epoch_accuracy = running_accuracy / len(train_loader)\n",
        "        epoch_recall = running_TP / (running_TP + running_FN) # recall\n",
        "        epoch_specificity = running_TN / (running_TN + running_FP) # specificity\n",
        "        valid_loss = 0.0\n",
        "        valid_accuracy = 0.0\n",
        "\n",
        "\n",
        "        for batch in valid_loader:\n",
        "            pred_labels=[0]*batch_size\n",
        "            pred_prob=[0]*batch_size\n",
        "            text, label, embedded = batch\n",
        "            text_encoded = tokenizer(text, return_tensors='pt', padding=True, truncation=True)\n",
        "            text_encoded = {k: v.to(device) for k, v in text_encoded.items()}\n",
        "            label = label.float().unsqueeze(1).to(device)\n",
        "            inputs_ids = text_encoded['input_ids'].to(device)\n",
        "            visual_embeds = embedded.to(device)\n",
        "            attention_mask = text_encoded['attention_mask'].to(device)\n",
        "            outputs, attentions = model(input_ids=inputs_ids, attention_mask=attention_mask, visual_embeds=visual_embeds)\n",
        "            for j in range(len(outputs[:])) :\n",
        "              if outputs[j][0].item()>outputs[j][1].item() :\n",
        "                pred_labels[j] = 0\n",
        "                pred_prob[j] = outputs[j][0].item()\n",
        "              else : \n",
        "                pred_labels[j]=1\n",
        "                pred_prob[j] = outputs[j][1].item()\n",
        "      \n",
        "            loss = criterion(torch.tensor(pred_prob,  requires_grad=True).unsqueeze(1).to(device), label)\n",
        "            correct_preds = 0\n",
        "            TP=FP=TN=FN=0\n",
        "            for i in range(len(pred_labels)) :\n",
        "              if pred_labels[i]==label[i] :\n",
        "                correct_preds += 1\n",
        "\n",
        "            for i in range(len(pred_labels)) :\n",
        "                if pred_labels[i]== 1 and label[i]==1 : TP+=1\n",
        "                elif pred_labels[i]== 1 and label[i]==0 : FP+=1\n",
        "                elif pred_labels[i]== 0 and label[i]==0 : TN+=1\n",
        "                elif pred_labels[i]== 0 and label[i]==1 : FN+=1\n",
        "\n",
        "    \n",
        "            valid_loss += loss.item()\n",
        "            valid_accuracy += accuracy\n",
        "          \n",
        "        valid_loss /= len(valid_loader)\n",
        "        valid_accuracy /= len(valid_loader)\n",
        "\n",
        "        print('Epoch [%d] - loss: %.4f - accuracy: %.4f - recall: %.4f - specificity: %.4f - val_loss: %.4f ' % (epoch+1, epoch_loss, epoch_accuracy, epoch_recall, epoch_specificity,  valid_loss))\n",
        "\n",
        "        if valid_loss < best_valid_loss:\n",
        "            best_valid_loss = valid_loss\n",
        "            patience_count = 0\n",
        "        else:\n",
        "            patience_count += 1\n",
        "            if patience_count >= patience:\n",
        "                print(\"Validation loss did not improve for %d epochs. Training stopped early.\" % patience)\n",
        "                break\n"
      ]
    },
    {
      "cell_type": "code",
      "execution_count": 29,
      "metadata": {
        "id": "h4f0Mmtj2Ep-"
      },
      "outputs": [],
      "source": [
        "\n",
        "def test(model, tokenizer, test_dataset, criterion, device, batch_size):\n",
        "    model.eval()\n",
        "    model.to(device)\n",
        "    test_loader = DataLoader(test_dataset, batch_size=batch_size, shuffle=True, drop_last=True)\n",
        "    running_loss = 0.0\n",
        "    running_accuracy = 0.0\n",
        "    running_TP = 0.0\n",
        "    running_FP = 0.0\n",
        "    running_TN = 0.0\n",
        "    running_FN = 0.0\n",
        "    with torch.no_grad():\n",
        "        for batch in test_loader:\n",
        "              pred_labels=[0]*batch_size\n",
        "              pred_prob=[0]*batch_size\n",
        "              text, label, embedded = batch\n",
        "              text_encoded = tokenizer(text, return_tensors='pt', padding=True, truncation=True)\n",
        "              text_encoded = {k: v.to(device) for k, v in text_encoded.items()}\n",
        "              label = label.float().unsqueeze(1).to(device)\n",
        "              inputs_ids=text_encoded['input_ids'].to(device)\n",
        "              visual_embeds = embedded.to(device)\n",
        "              attention_mask = text_encoded['attention_mask'].to(device)\n",
        "              outputs , attentions = model(input_ids=inputs_ids, attention_mask=attention_mask, visual_embeds=visual_embeds)\n",
        "              for j in range(len(outputs[:])) :\n",
        "                  if outputs[j][0].item()>outputs[j][1].item() :\n",
        "                    pred_labels[j] = 0\n",
        "                    pred_prob[j] = outputs[j][0].item()\n",
        "                  else : \n",
        "                    pred_labels[j]=1\n",
        "                    pred_prob[j] = outputs[j][1].item()\n",
        "              loss = criterion(torch.tensor(pred_prob,  requires_grad=True).unsqueeze(1).to(device), label)\n",
        "              correct_preds = 0\n",
        "              TP=FP=TN=FN=0\n",
        "              for i in range(len(pred_labels)) :\n",
        "                 if pred_labels[i]==label[i] :\n",
        "                    correct_preds += 1\n",
        "\n",
        "              for i in range(len(pred_labels)) :\n",
        "                  if pred_labels[i]== 1 and label[i]==1 : TP+=1\n",
        "                  elif pred_labels[i]== 1 and label[i]==0 : FP+=1\n",
        "                  elif pred_labels[i]== 0 and label[i]==0 : TN+=1\n",
        "                  elif pred_labels[i]== 0 and label[i]==1 : FN+=1\n",
        "\n",
        "       # Calculate TP, FP, TN, FN\n",
        "             \n",
        "              running_TP += TP\n",
        "              running_FP += FP\n",
        "              running_TN += TN\n",
        "              running_FN += FN\n",
        "\n",
        "              accuracy = correct_preds / batch_size # calculate accuracy\n",
        "              running_loss += loss.item()\n",
        "              running_accuracy += accuracy\n",
        "\n",
        "               \n",
        "                \n",
        "         \n",
        "    test_loss = running_loss / len(test_loader)\n",
        "    test_accuracy = running_accuracy / len(test_loader)\n",
        "    test_recall = running_TP/ (running_TP + running_FN) # recall\n",
        "    test_specificity = running_TN / (running_TN + running_FP) # specificity\n",
        "    print('Test loss: %.4f - Test accuracy: %.4f- recall: %.4f - specificity: %.4f' % (test_loss, test_accuracy,test_recall,test_specificity))\n"
      ]
    },
    {
      "cell_type": "code",
      "execution_count": 13,
      "metadata": {
        "id": "BVCrGwW_kDFv"
      },
      "outputs": [],
      "source": [
        "\n",
        "# Define the optimizer and loss function\n",
        "optimizer = optim.AdamW(model.parameters(), lr=0.0001, weight_decay=0.001)\n",
        "criterion = nn.BCELoss()\n"
      ]
    },
    {
      "cell_type": "code",
      "execution_count": 14,
      "metadata": {
        "colab": {
          "base_uri": "https://localhost:8080/"
        },
        "id": "bc2dXuXGAivX",
        "outputId": "07d2c01f-b6fe-4dfd-80b0-3843e44882fb"
      },
      "outputs": [
        {
          "name": "stdout",
          "output_type": "stream",
          "text": [
            "Drive already mounted at /content/drive; to attempt to forcibly remount, call drive.mount(\"/content/drive\", force_remount=True).\n"
          ]
        }
      ],
      "source": [
        "from google.colab import drive\n",
        "drive.mount('/content/drive')"
      ]
    },
    {
      "cell_type": "code",
      "execution_count": 15,
      "metadata": {
        "id": "q8EqAgkFkDFv"
      },
      "outputs": [],
      "source": [
        "df_test=pd.read_json(\"/content/drive/MyDrive/ENSAE/Informatique/Statapp/data/dev.jsonl\",lines=True)\n",
        "\n",
        "m = []\n",
        "\n",
        "with open(r\"/content/drive/MyDrive/ENSAE/Informatique/Statapp/data/file_val.pkl\",\"rb\") as g:\n",
        "    m = pickle.load(g)\n",
        "g.close()\n",
        "df_test.loc[:, 'embedded'] = m"
      ]
    },
    {
      "cell_type": "code",
      "execution_count": 16,
      "metadata": {
        "id": "n2VKr5Ja2cD2"
      },
      "outputs": [],
      "source": [
        "df_train=pd.read_json(\"/content/drive/MyDrive/ENSAE/Informatique/Statapp/data/train.jsonl\",lines=True)\n",
        "\n",
        "l = []\n",
        "\n",
        "with open(r\"/content/drive/MyDrive/ENSAE/Informatique/Statapp/data/file.pkl\",\"rb\") as f:\n",
        "    l = pickle.load(f)\n",
        "f.close()\n",
        "df_train.loc[:, 'embedded'] = l"
      ]
    },
    {
      "cell_type": "code",
      "execution_count": 17,
      "metadata": {
        "colab": {
          "base_uri": "https://localhost:8080/"
        },
        "id": "eY67Z40BptdM",
        "outputId": "4efaadf0-0daa-4d07-8fb1-aa20b1d69ab6"
      },
      "outputs": [
        {
          "name": "stdout",
          "output_type": "stream",
          "text": [
            "8464\n"
          ]
        }
      ],
      "source": [
        "mask_train = pd.to_numeric(df_train['embedded'], errors='coerce').isna()\n",
        "df_train = df_train[mask_train]\n",
        "print(len(df_train))"
      ]
    },
    {
      "cell_type": "code",
      "execution_count": 18,
      "metadata": {
        "colab": {
          "base_uri": "https://localhost:8080/"
        },
        "id": "hR-_vNsObJFn",
        "outputId": "5fa5a5ea-883c-434f-cd45-8e6cbd40292b"
      },
      "outputs": [
        {
          "name": "stdout",
          "output_type": "stream",
          "text": [
            "Train dataset size: 7464\n",
            "Validation dataset size: 1000\n"
          ]
        }
      ],
      "source": [
        "from sklearn.model_selection import train_test_split\n",
        "\n",
        "train_df, valid_df = train_test_split(df_train, test_size=1000, random_state=42)\n",
        "\n",
        "# Verify the sizes of the datasets\n",
        "print(f'Train dataset size: {len(train_df)}')\n",
        "print(f'Validation dataset size: {len(valid_df)}')"
      ]
    },
    {
      "cell_type": "code",
      "execution_count": 19,
      "metadata": {
        "id": "TSdGjfjIgeJa"
      },
      "outputs": [],
      "source": [
        "train_df = train_df.reset_index(drop=True)\n",
        "valid_df = valid_df.reset_index(drop=True)\n"
      ]
    },
    {
      "cell_type": "code",
      "execution_count": 20,
      "metadata": {
        "colab": {
          "base_uri": "https://localhost:8080/"
        },
        "id": "alHqGqRLkDFw",
        "outputId": "3d6a4ee5-ff45-46f8-8ee7-8799e2c501ec"
      },
      "outputs": [
        {
          "name": "stdout",
          "output_type": "stream",
          "text": [
            "Index(['id', 'img', 'label', 'text', 'embedded'], dtype='object')\n",
            "Number of indices: 7464\n",
            "7464\n",
            "Index(['id', 'img', 'label', 'text', 'embedded'], dtype='object')\n",
            "Number of indices: 1000\n",
            "1000\n"
          ]
        }
      ],
      "source": [
        "train_dataset = MyDataset(train_df)\n",
        "print(len(train_dataset))\n",
        "valid_dataset = MyDataset(valid_df)\n",
        "print(len(valid_dataset))"
      ]
    },
    {
      "cell_type": "code",
      "execution_count": 21,
      "metadata": {
        "colab": {
          "base_uri": "https://localhost:8080/"
        },
        "id": "kEVoXxzqkDFx",
        "outputId": "e4b4e50f-e37c-416c-9760-5b5e95b54ab0"
      },
      "outputs": [
        {
          "name": "stdout",
          "output_type": "stream",
          "text": [
            "Epoch [1] - loss: 0.7012 - accuracy: 0.4206 - recall: 0.8027 - specificity: 0.2086 - val_loss: 0.6983 \n",
            "Epoch [2] - loss: 0.7003 - accuracy: 0.4089 - recall: 0.7988 - specificity: 0.1928 - val_loss: 0.6998 \n",
            "Epoch [3] - loss: 0.7001 - accuracy: 0.4178 - recall: 0.8017 - specificity: 0.2053 - val_loss: 0.6982 \n",
            "Epoch [4] - loss: 0.7001 - accuracy: 0.4206 - recall: 0.8121 - specificity: 0.2033 - val_loss: 0.7004 \n",
            "Epoch [5] - loss: 0.6996 - accuracy: 0.4083 - recall: 0.7913 - specificity: 0.1960 - val_loss: 0.7013 \n",
            "Epoch [6] - loss: 0.7002 - accuracy: 0.4135 - recall: 0.7940 - specificity: 0.2025 - val_loss: 0.6981 \n",
            "Epoch [7] - loss: 0.7019 - accuracy: 0.4152 - recall: 0.8026 - specificity: 0.2004 - val_loss: 0.7017 \n",
            "Epoch [8] - loss: 0.7002 - accuracy: 0.4122 - recall: 0.7976 - specificity: 0.1986 - val_loss: 0.6988 \n",
            "Epoch [9] - loss: 0.7007 - accuracy: 0.4116 - recall: 0.7992 - specificity: 0.1968 - val_loss: 0.6988 \n",
            "Epoch [10] - loss: 0.7007 - accuracy: 0.4139 - recall: 0.8195 - specificity: 0.1889 - val_loss: 0.7003 \n"
          ]
        }
      ],
      "source": [
        "train(model, tokenizer, train_dataset, valid_dataset, optimizer, criterion, device, batch_size=16, epochs=10, patience=5)"
      ]
    },
    {
      "cell_type": "markdown",
      "metadata": {
        "id": "ucNwHXW8fzk0"
      },
      "source": []
    },
    {
      "cell_type": "code",
      "execution_count": 22,
      "metadata": {
        "colab": {
          "base_uri": "https://localhost:8080/"
        },
        "id": "BcnrYQ62YVlx",
        "outputId": "025a0ffa-ddb8-42fd-ee66-d3f465cb97d2"
      },
      "outputs": [
        {
          "name": "stdout",
          "output_type": "stream",
          "text": [
            "498\n"
          ]
        }
      ],
      "source": [
        "mask_test = pd.to_numeric(df_test['embedded'], errors='coerce').isna()\n",
        "df_test = df_test[mask_test]\n",
        "print(len(df_test))"
      ]
    },
    {
      "cell_type": "code",
      "execution_count": 23,
      "metadata": {
        "id": "e4cZ2S58Z0TJ"
      },
      "outputs": [],
      "source": [
        "df_test = df_test.reset_index(drop=True)\n"
      ]
    },
    {
      "cell_type": "code",
      "execution_count": 24,
      "metadata": {
        "colab": {
          "base_uri": "https://localhost:8080/"
        },
        "id": "GASWgEJvYBa9",
        "outputId": "865501d7-a76d-44e4-9e92-915ffc243d17"
      },
      "outputs": [
        {
          "name": "stdout",
          "output_type": "stream",
          "text": [
            "Index(['id', 'img', 'label', 'text', 'embedded'], dtype='object')\n",
            "Number of indices: 498\n",
            "498\n"
          ]
        }
      ],
      "source": [
        "test_dataset = MyDataset(df_test)\n",
        "print(len(test_dataset))  # should print the length of your train data"
      ]
    },
    {
      "cell_type": "code",
      "execution_count": 30,
      "metadata": {
        "colab": {
          "base_uri": "https://localhost:8080/"
        },
        "id": "IUI81o0XX6Ff",
        "outputId": "b85ce422-4d49-4f9f-c8de-7cce30e628c3"
      },
      "outputs": [
        {
          "name": "stdout",
          "output_type": "stream",
          "text": [
            "Test loss: 0.6933 - Test accuracy: 0.5020- recall: 1.0000 - specificity: 0.0000\n"
          ]
        }
      ],
      "source": [
        "test(model, tokenizer, test_dataset, criterion, device, batch_size=16)"
      ]
    },
    {
      "cell_type": "code",
      "execution_count": null,
      "metadata": {
        "id": "Mfu_By2RcQpM"
      },
      "outputs": [],
      "source": [
        "import numpy as np\n",
        "import torch\n",
        "import matplotlib.pyplot as plt\n",
        "from sklearn.metrics import roc_curve, auc, roc_auc_score\n",
        "\n",
        "\n",
        "test_loader = DataLoader(test_dataset, batch_size=32, shuffle=False, drop_last=False)\n",
        "\n",
        "model.eval()\n",
        "with torch.no_grad():\n",
        "    y_pred = []\n",
        "    y_true = []\n",
        "   \n",
        "    for batch in test_loader:\n",
        "          text, label, embedded = batch\n",
        "          text_encoded = tokenizer(text, return_tensors='pt', padding=True, truncation=True)\n",
        "          text_encoded = {k: v.to(device) for k, v in text_encoded.items()}\n",
        "          label = label.float().unsqueeze(1).to(device)\n",
        "          inputs_ids=text_encoded['input_ids'].to(device)\n",
        "          visual_embeds = embedded.to(device)\n",
        "          attention_mask = text_encoded['attention_mask'].to(device)\n",
        "          outputs, attentions = model(input_ids=inputs_ids, attention_mask=attention_mask, visual_embeds=visual_embeds)\n",
        "          outputs_cpu=outputs[0:].cpu()\n",
        "          label_cpu=label[0:].cpu()\n",
        "          #print(outputs[0:])\n",
        "          y_pred.extend(outputs_cpu.numpy())\n",
        "          y_true.extend(label_cpu.numpy())\n",
        "          pred_labels = torch.round(outputs[0]) # round the probabilities to obtain predicted labels\n",
        "          correct_preds = (pred_labels == label).sum().item() # count the number of correct predictions\n",
        "\n",
        "\n",
        "print(len(y_pred))\n",
        "print(len(y_true))\n",
        "# Calculer l'AUC-ROC\n",
        "\n",
        "auc_roc = roc_auc_score(y_true, y_pred)\n",
        "print(\"AUC-ROC : {:.4f}\".format(auc_roc))\n",
        "\n",
        "# Calculer la courbe ROC\n",
        "fpr, tpr, _ = roc_curve(y_true, y_pred)\n",
        "roc_auc = auc(fpr, tpr)\n",
        "\n",
        "# Tracer la courbe ROC\n",
        "plt.figure(figsize=(4,4))\n",
        "plt.plot(fpr, tpr, color='darkorange', lw=2, label='ROC curve (area = %0.4f)' % roc_auc)\n",
        "plt.plot([0, 1], [0, 1], color='navy', lw=2, linestyle='--')\n",
        "plt.xlim([0.0, 1.0])\n",
        "plt.ylim([0.0, 1.05])\n",
        "plt.xlabel('False Positive Rate')\n",
        "plt.ylabel('True Positive Rate')\n",
        "plt.title('Receiver operating characteristic curve')\n",
        "plt.legend(loc=\"lower right\")\n",
        "plt.show()"
      ]
    },
    {
      "cell_type": "code",
      "execution_count": null,
      "metadata": {
        "id": "Rb_93mOchybd"
      },
      "outputs": [],
      "source": [
        "  model.to(device)\n",
        "  with torch.no_grad():\n",
        "  \n",
        "    for batch in test_loader:\n",
        "    \n",
        "              text, label, embedded = batch\n",
        "              text_encoded = tokenizer(text, return_tensors='pt', padding=True, truncation=True)\n",
        "              text_encoded = {k: v.to(device) for k, v in text_encoded.items()}\n",
        "              label = label.float().unsqueeze(1).to(device)\n",
        "              inputs_ids=text_encoded['input_ids'].to(device)\n",
        "              visual_embeds = embedded.to(device)\n",
        "              attention_mask = text_encoded['attention_mask'].to(device)\n",
        "              outputs, attentions = model(input_ids=inputs_ids, attention_mask=attention_mask, visual_embeds=visual_embeds)\n",
        "     \n",
        "\n",
        "              # Extraire les scores d'attention par couche\n",
        "              #attentions = outputs.attentions\n",
        "              for layer, attention in enumerate(attentions):\n",
        "                print(f\"Layer {layer+1} attention shape: {attention.shape}\")\n",
        "              # Extraire les scores d'attention par tête et par couche\n",
        "              #multi_head_attention = outputs.multi_head_attention_outputs\n",
        "              #for layer, attention_layer in enumerate(multi_head_attention):\n",
        "                 #print(f\"Layer {layer+1} attention shape: {[attention.shape for attention in attention_layer]}\")\n",
        "              \n",
        "\n"
      ]
    },
    {
      "cell_type": "code",
      "execution_count": null,
      "metadata": {
        "id": "wGNk2pUulf0e"
      },
      "outputs": [],
      "source": [
        "import matplotlib.pyplot as plt\n",
        "import numpy as np\n",
        "import cv2\n",
        "\n",
        "\n",
        "test_loader = DataLoader(test_dataset, batch_size=1, shuffle=False, drop_last=False)\n",
        "for batch in test_loader  : \n",
        "\n",
        "  # Load the image\n",
        "\n",
        "\n",
        "    text, label, embedded = batch\n",
        "    text_encoded = tokenizer(text, return_tensors='pt', padding=True, truncation=True)\n",
        "    text_encoded = {k: v.to(device) for k, v in text_encoded.items()}\n",
        "    label = label.float().unsqueeze(1).to(device)\n",
        "    inputs_ids=text_encoded['input_ids'].to(device)\n",
        "    visual_embeds = embedded.to(device)\n",
        "    attention_mask = text_encoded['attention_mask'].to(device)\n",
        "    outputs, attentions = model(input_ids=inputs_ids, attention_mask=attention_mask, visual_embeds=visual_embeds)\n",
        "    break\n",
        "  #Resize the image to match the input size of the model\n",
        "  #img = cv2.resize(img, (224, 224))\n",
        "  #img = cv2.cvtColor(img, cv2.COLOR_BGR2RGB)\n",
        "\n",
        "img_path = df_test['img'][1]\n",
        "path='/content/drive/MyDrive/data/'+img_path\n",
        "#img = cv2.imread('/content/drive/MyDrive/data/'+img_path)\n",
        "img= cv2.imread('/content/drive/MyDrive/data/img/01235.png')\n",
        "# Get the attention scores for the image\n",
        "attention_scores = attentions[0][0][0].detach().cpu().numpy()\n",
        "\n",
        "attention_scores = cv2.resize(attention_scores, (img.shape[1], img.shape[0]))\n",
        "attention_scores = (attention_scores - attention_scores.min()) / (attention_scores.max() - attention_scores.min())\n",
        "heatmap = cv2.applyColorMap(np.uint8(255*attention_scores), cv2.COLORMAP_JET)\n",
        "\n",
        "result = cv2.addWeighted(img, 0.6, heatmap, 0.4, 0)\n",
        "\n",
        "plt.imshow(result)\n",
        "plt.axis('off')\n",
        "plt.show()\n"
      ]
    }
  ],
  "metadata": {
    "accelerator": "GPU",
    "colab": {
      "provenance": []
    },
    "gpuClass": "standard",
    "kernelspec": {
      "display_name": "Python 3",
      "language": "python",
      "name": "python3"
    },
    "language_info": {
      "codemirror_mode": {
        "name": "ipython",
        "version": 3
      },
      "file_extension": ".py",
      "mimetype": "text/x-python",
      "name": "python",
      "nbconvert_exporter": "python",
      "pygments_lexer": "ipython3",
      "version": "3.10.0"
    },
    "vscode": {
      "interpreter": {
        "hash": "ee4c60ed9f2d143d855c3de7cdf8e81ef9399a07140d5084c19be7d5d534dff2"
      }
    }
  },
  "nbformat": 4,
  "nbformat_minor": 0
}
